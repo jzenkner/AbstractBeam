{
 "cells": [
  {
   "cell_type": "code",
   "execution_count": 4,
   "metadata": {},
   "outputs": [],
   "source": [
    "import sys \n",
    "sys.path.append(\"../../\")\n",
    "\n",
    "from crossbeam.abstraction.dreamcoder2lambdabeam import *\n",
    "from crossbeam.abstraction.lambdabeam2dreamcoder import *\n",
    "import torch\n",
    "import re\n",
    "from crossbeam.abstraction.utils import *\n",
    "from collections import OrderedDict\n",
    "from crossbeam.dsl.deepcoder_utils import run_program\n"
   ]
  },
  {
   "cell_type": "code",
   "execution_count": 1,
   "metadata": {},
   "outputs": [],
   "source": [
    "a = {'Add': 0, 'Subtract': 1, 'Multiply': 2, 'IntDivide': 3, 'Square': 4, 'Min': 5, 'Max': 6, 'Greater': 7, 'Less': 8, 'Equal': 9, 'IsEven': 10, 'IsOdd': 11, 'If': 12, 'Head': 13, 'Last': 14, 'Take': 15, 'Drop': 16, 'Access': 17, 'Minimum': 18, 'Maximum': 19, 'Reverse': 20, 'Sort': 21, 'Sum': 22, 'Map': 23, 'Filter': 24, 'Count': 25, 'ZipWith': 26, 'Scanl1': 27}"
   ]
  },
  {
   "cell_type": "code",
   "execution_count": 2,
   "metadata": {},
   "outputs": [
    {
     "data": {
      "text/plain": [
       "28"
      ]
     },
     "execution_count": 2,
     "metadata": {},
     "output_type": "execute_result"
    }
   ],
   "source": [
    "len(a)"
   ]
  },
  {
   "cell_type": "code",
   "execution_count": 5,
   "metadata": {},
   "outputs": [],
   "source": [
    "import torch\n",
    "with open(\"/work/ldierkes/repos/new/LambdaBeam/outputs/abstractbeam/model-best-valid.ckpt\", \"rb\") as f:\n",
    "    ckpt = torch.load(f)\n",
    "base_function_dict = ckpt[\"base_function_dict\"]\n",
    "higher_order_functions = ckpt[\"higher_order_functions\"]"
   ]
  },
  {
   "cell_type": "code",
   "execution_count": 40,
   "metadata": {},
   "outputs": [
    {
     "name": "stdout",
     "output_type": "stream",
     "text": [
      "Cons(Car(x1), x2)\n"
     ]
    },
    {
     "data": {
      "text/plain": [
       "('Cons(Car(x1), x2)',\n",
       " OrderedDict([('x1', [0, ['Car']]), ('x2', [0, ['Cons']])]))"
      ]
     },
     "execution_count": 40,
     "metadata": {},
     "output_type": "execute_result"
    }
   ],
   "source": [
    "parse_abstraction(\"(lam (Cons (Car (#0 $0))))\", base_function_dict, higher_order_functions = {\"Map\": [1,0], \"Fold\": [2,0,0]})"
   ]
  },
  {
   "cell_type": "code",
   "execution_count": 39,
   "metadata": {},
   "outputs": [
    {
     "name": "stdout",
     "output_type": "stream",
     "text": [
      "Cons(Car(x1), x2)\n"
     ]
    },
    {
     "data": {
      "text/plain": [
       "('Cons(Car(x1), x2)',\n",
       " OrderedDict([('x1', [0, ['Car']]), ('x2', [0, ['Cons']])]))"
      ]
     },
     "execution_count": 39,
     "metadata": {},
     "output_type": "execute_result"
    }
   ],
   "source": [
    "import re\n",
    "from collections import OrderedDict\n",
    "parse_abstraction(\"(Cons (Car #1))\", base_function_dict, higher_order_functions = {\"Map\": [1,0], \"Fold\": [2,0,0]})"
   ]
  },
  {
   "cell_type": "code",
   "execution_count": 37,
   "metadata": {},
   "outputs": [
    {
     "name": "stdout",
     "output_type": "stream",
     "text": [
      "fn_12 Cons(Car(x2), x3)\n",
      "fn_35 fn_3(x2, Cons(Car(Cdr(x2)), x3))\n"
     ]
    }
   ],
   "source": [
    "for inv in ckpt[\"inventions\"]:\n",
    "    if \"x1\" not in inv.program:\n",
    "        print(inv.name, inv.program)"
   ]
  },
  {
   "cell_type": "code",
   "execution_count": 14,
   "metadata": {},
   "outputs": [],
   "source": [
    "def parse_abstraction(abstraction, base_function_dict, higher_order_functions = {\"Map\": [1,0], \"Fold\": [2,0,0]}):\n",
    "    tokens = [token for token in re.findall(r'-?\\b\\w+\\b|\\#\\d||\\$\\d|[():+-]', abstraction) if token.strip()]\n",
    "    local_vars = [\"v\", \"u\", \"p\", \"q\", \"r\", \"s\", \"t\", \"w\", \"y\", \"z\"]\n",
    "    local_var_counter = -1\n",
    "    open_parentheses_count = 0\n",
    "    local_var_parentheses = []\n",
    "    bound_variables_dict = OrderedDict()\n",
    "    max_hashtag_var = find_max_global_var(abstraction, pattern='#(\\d+)')\n",
    "    result_string = \"\"\n",
    "    arguments_counter = OrderedDict()\n",
    "    if tokens[0] == \"(\" and tokens[1] == \"lam\":\n",
    "        tokens = tokens[2:-1]\n",
    "    for i, token in enumerate(tokens):\n",
    "        if token == \"(\":\n",
    "            open_parentheses_count += 1\n",
    "\n",
    "            result_string += token\n",
    "\n",
    "        elif token == \")\":\n",
    "            if len(local_var_parentheses) > 0 and local_var_parentheses[-1] == open_parentheses_count:\n",
    "                local_var_parentheses.pop()\n",
    "                local_var_counter -= 1\n",
    "            open_parentheses_count -= 1\n",
    "            \n",
    "            result_string += token\n",
    "            if i != len(tokens)-1 and tokens[i+1] != \")\" and tokens[i+1] != \",\" and tokens[i-1] != \"(\":\n",
    "                result_string += \",\"\n",
    "\n",
    "            \n",
    "        elif token in base_function_dict.keys():\n",
    "            result_string = result_string[:-1] + token + result_string[-1]\n",
    "            if len(arguments_counter) > 0:\n",
    "                arguments_counter[list(arguments_counter.items())[-1][0]] -= 1\n",
    "            if len(arguments_counter) > 0 and arguments_counter[list(arguments_counter.items())[-1][0]] == 0:\n",
    "                arguments_counter.popitem()\n",
    "            arguments_counter[token] = base_function_dict[token]\n",
    "\n",
    "        elif token == \"lam\" or token == \"lambda\":\n",
    "            local_var_counter += 1\n",
    "            local_var_parentheses.append(open_parentheses_count)\n",
    "\n",
    "            result_string += f\"lambda {local_vars[local_var_counter]}1: \"\n",
    "            \n",
    "        # replace variables\n",
    "        elif (token[0] == \"$\" or token[0] == \"#\") and token[1:].isdigit():\n",
    "\n",
    "            # var is a function\n",
    "            if tokens[i-1] == \"(\":\n",
    "                func_name = \"x\" + str(int(token[1:]) + 1) if token[0] == \"#\" else \"x\" + str(int(token[1:]) + 2 + max_hashtag_var)\n",
    "                result_string = result_string[:-1] + func_name + result_string[-1]\n",
    "                if len(arguments_counter) > 0:\n",
    "                    arguments_counter[list(arguments_counter.items())[-1][0]] -= 1\n",
    "\n",
    "                # add arguments to arguments_counter\n",
    "                arguments_counter[func_name] = count_arity(tokens, i-1, base_function_dict)[0] - 1\n",
    "                \n",
    "\n",
    "            elif token[0] == \"#\":\n",
    "               result_string += \"x\" + str(int(token[1:]) + 1)\n",
    "               \n",
    "            elif token[0] == \"$\":\n",
    "                if int(token[1:]) <= local_var_counter:\n",
    "                    result_string += str(local_vars[local_var_counter - int(token[1:])]) + \"1\"\n",
    "                else:\n",
    "                    result_string += \"x\" + str(int(token[1:]) - local_var_counter - 1 + max_hashtag_var + 2)\n",
    "            \n",
    "            if i != len(tokens)-1 and tokens[i+1] != \")\" and tokens[i+1] != \",\" and tokens[i-1] != \"(\":\n",
    "                result_string += \",\"\n",
    "            \n",
    "            if len(arguments_counter) > 0:\n",
    "                arguments_counter[list(arguments_counter.items())[-1][0]] -= 1\n",
    "        elif token.isdigit() or (token[0] == \"-\" and token[1:].isdigit()) or token == \"empty\":\n",
    "            if token == \"empty\":\n",
    "                result_string += \"[]\"\n",
    "            else:\n",
    "                result_string += token\n",
    "            if len(arguments_counter) > 0:\n",
    "                arguments_counter[list(arguments_counter.items())[-1][0]] -= 1\n",
    "            \n",
    "            if i != len(tokens)-1 and tokens[i+1] != \")\" and tokens[i+1] != \",\" and tokens[i-1] != \"(\":\n",
    "                result_string += \",\"\n",
    "    \n",
    "    \n",
    "    # add missing arguments     \n",
    "    result_string = add_missing_args(result_string, base_function_dict)\n",
    "    # remove precedings lambdas \n",
    "    result_string = remove_lambdas(result_string, base_function_dict)\n",
    "    # add necessary spaces \n",
    "    result_string = result_string.replace(\"lambda\", \"lambda \")\n",
    "    result_string = result_string.replace(\":\", \": \")\n",
    "    result_string = result_string.replace(\",\", \", \")\n",
    "    # remove outer x functions\n",
    "    result_string = remove_outer_x_functions(result_string)\n",
    "\n",
    "    # remove unnecessary x functions\n",
    "    result_string = remove_unnecessary_x_functions(result_string)\n",
    "\n",
    "    # check variable ordering\n",
    "    result_string = check_variable_ordering(result_string)\n",
    "\n",
    "    # calculate bound variables\n",
    "    bound_variables_dict = calculate_bound_variables_dict(result_string, base_function_dict, higher_order_functions)\n",
    "    # correct double lambdas\n",
    "    result_string = correct_double_lam(result_string)\n",
    "    \n",
    "\n",
    "    return result_string, bound_variables_dict"
   ]
  },
  {
   "cell_type": "code",
   "execution_count": 7,
   "metadata": {},
   "outputs": [],
   "source": [
    "import torch\n",
    "with open(\"/work/ldierkes/repos/new/LambdaBeam/outputs/beamstract/all_inventions/model-best-valid.ckpt\", \"rb\") as f:\n",
    "    ckpt_1 = torch.load(f)"
   ]
  },
  {
   "cell_type": "code",
   "execution_count": 89,
   "metadata": {},
   "outputs": [
    {
     "name": "stdout",
     "output_type": "stream",
     "text": [
      "fn_0 Cdr(Cdr(x1))\n",
      "fn_2 x1(Cdr(Cdr(x2)))\n",
      "fn_3 Cons(Car(x1), x2)\n",
      "fn_6 fn_0(Cdr(x1))\n",
      "fn_9 Map((lambda v1: Mod(v1, x1)), x2)\n",
      "fn_10 Cons(Car(x1(x2)), x3)\n",
      "fn_11 Map((lambda v1: x1(1, v1)), x2)\n",
      "fn_12 Cons(Car(x2), x3)\n",
      "fn_15 Index(Add(1, 1), x1)\n",
      "fn_17 x1(fn_0(Cdr(x2)))\n",
      "fn_18 Add(1, x1)\n",
      "fn_21 fn_9(Add(1, x2), fn_11(x1, x3))\n",
      "fn_22 Cons(fn_15(x1), x2)\n",
      "fn_23 x1(x3, x2(Cdr(x3), x1(fn_0(x3), [])))\n",
      "fn_29 Map((lambda v1: x2(Cdr(x1))), x1)\n",
      "fn_30 Subtract(1, x1)\n",
      "fn_32 Cons(Car(Cdr(x1)), x2)\n",
      "fn_33 fn_9(x2, Map((lambda v1: x1(v1)), x3))\n",
      "fn_35 fn_3(x2, Cons(Car(Cdr(x2)), x3))\n",
      "fn_38 fn_9(x2, fn_11(x1, x3))\n",
      "fn_41 Cons(Car(x1), [])\n",
      "fn_45 Add(2, x1)\n",
      "fn_52 If(x1, 1, 0)\n",
      "fn_55 fn_9(3, fn_11((lambda u1, v1: (())), x1))\n",
      "fn_56 fn_32(x2, fn_22(x2, x1))\n",
      "fn_57 Map((lambda v1: 0), x1)\n",
      "fn_59 fn_3(x3, fn_56(x2(x1(x3)), x3))\n",
      "fn_61 Cons(fn_15(fn_0(x1)), fn_41(fn_6(fn_0(x1))))\n",
      "fn_63 If(Greater(fn_9(2, x1), x2(x1)), x4, x3)\n",
      "fn_67 fn_11((lambda u1, v1: (fn_52(Greater(v1, x1)))), x2)\n",
      "fn_77 fn_67(x1, x2)\n",
      "fn_79 fn_9(3, x1)\n",
      "fn_80 fn_9(x1, Map((lambda v1: fn_18(v1)), x2))\n",
      "fn_84 fn_11((lambda u1, v1: (fn_52(Equal(x1, v1)))), x2)\n",
      "fn_89 fn_79(fn_11((lambda u1, v1: (Add(x1, v1))), x2))\n",
      "fn_90 Greater(fn_9(2, x1), x2(x1))\n",
      "fn_94 x1(3, x2)\n",
      "fn_98 x1(4, x2)\n",
      "fn_102 fn_84(0, x1(x2))\n",
      "fn_103 fn_9(x2, Map(x1, x3))\n",
      "fn_104 Cons(fn_15(x2), fn_61(x1))\n",
      "fn_109 fn_79(fn_11((lambda u1, v1: (Subtract(v1, x1))), x2))\n",
      "fn_114 If(fn_90(x2, (lambda v1: x1(x2))), 1, 0)\n",
      "fn_115 x2(Map((lambda v1: Add(v1, x1)), x3))\n",
      "fn_119 fn_56(fn_104(x1(x3), x2(x3)), x1(x3))\n",
      "fn_121 fn_56(fn_104(x1, x2), x1)\n",
      "fn_134 fn_84(0, x1)\n",
      "fn_145 fn_104(x1, Cdr(x1))\n"
     ]
    }
   ],
   "source": [
    "for inv in ckpt[\"inventions\"]:\n",
    "    print(inv.name, inv.program)"
   ]
  },
  {
   "cell_type": "code",
   "execution_count": null,
   "metadata": {},
   "outputs": [],
   "source": []
  },
  {
   "cell_type": "code",
   "execution_count": 2,
   "metadata": {},
   "outputs": [],
   "source": [
    "programs = ['(lam (map (lam (+ 1 $0)) $0))',\n",
    " '(lam (map (lam (+ 1 (+ 1 (+ 1 $0)))) $0))',\n",
    " '(lam (map (lam (+ 1 (+ 1 (+ 1 $0)))) $0))',\n",
    " '(lam (fold $0 (cons (car (cdr $0)) empty) (lam (lam (cons $1 $0)))))',\n",
    " '(lam (fold $0 (cons (car (cdr (cdr $0))) empty) (lam (lam (cons $1 $0)))))',\n",
    " '(lam (fold (cons (car (cdr (cdr (cdr $0)))) empty) $0 (lambda (lambda (cons $1 $0)))))',\n",
    " '(lam (fold $0 (cons 0 empty) (lam (lam (cons $1 $0)))))',\n",
    " '(lambda (fold (cons (+ 1 (+ 1 1)) empty) $0 (lambda (lambda (cons $1 $0)))))',\n",
    " '(lam (fold $0 (cons (+ 1 (+ 1 (+ 1 1))) empty) (lam (lam (cons $1 $0)))))',\n",
    " '(lam (fold (cons $0 empty) (+ 1 (+ 1 (+ 1 (+ 1 1)))) (lambda (lambda (cons $1 $0)))))',\n",
    " '(lam (map (lam (gt? (+ 1 $0) 0)) $0))',\n",
    " '(lam (map (lam (gt? $0 0)) $0))',\n",
    " '(lam (map (lam (gt? $0 (+ 1 (+ 1 $0 )))) $0))',\n",
    " '(lam (map (lam (gt? 1 (mod $0 (+ 1 (+ 1 1))))) $0))',\n",
    " '(lam (map (lam (gt? 1 (mod $0 (+ 1 (+ 1 (+ 1 1)))))) $0))',\n",
    " '(lam (map (lam (eq? $0 (+ 1 (+ 1 1)))) $0))',\n",
    " '(lam (map (lam (eq? $0 (+ 1 (+ 1 (+ 1 1))))) $0))',\n",
    " '(lam (map (lam (- 1 $0)) $0))',\n",
    " '(lam (map (lam (mod (+ 1 $0) (+ 1 (+ 1 1)))) $0))',\n",
    " '(lam (map (lam (mod (+ 1 $0) (+ 1 (+ 1 (+ 1 (+ 1 1)))))) $0))',\n",
    " '(lam (map (lam (mod (+ 1 (+ 1 (+ 1 $0))) (+ 1 (+ 1 (+ 1 1))))) $0))',\n",
    " '(lam (map (lam (if (is-prime $0) 0 (+ 1 $0))) $0))',\n",
    " '(lam (map (lam (- 1 $0)) $0))',\n",
    " '(lam (map (lam (index $0 (cons (+ 1 1) (cons 0 (cons 1 empty))))) $0))',\n",
    " '(lam (map (lam (if (is-prime (- $0 1)) 0 (+ $0 1))) $0))',\n",
    " '(lam (fold (cdr $0) 0 (lam (lam (if (eq? $1 (car $2)) (+ 1 $0) $0)))))',\n",
    " '(lam (fold $0 0 (lambda (lambda (cons $1 $0)))))',\n",
    " '(lam (fold $0 (+ 1 (+ 1 1)) (lambda (lambda (cons $1 $0)))))',\n",
    " '(lam (fold $0 0 (lam (lam (if (eq? $1 (+ 1 (+ 1 (+ 1 (+ 1 1))))) (+ 1 $0) $0)))))',\n",
    " '(lam (cdr (cdr (cdr $0))))',\n",
    " '(lam (cdr (cdr (cdr (cdr (cdr $0))))))',\n",
    " '(lam (empty? $0))',\n",
    " '(lam (fold $0 empty (lambda (lambda (if (eq? (mod $1 (+ 1 1)) 0) (cons $1 $0) $0)))))',\n",
    " '(lam (is-square (+ 1 (mod (car $0) (index (length (cdr (cdr $0))) $0)))))',\n",
    " '(lam (gt? 1 (fold $0 1 (lam (lam (* $0 $1))))))',\n",
    " '(lam (gt? (fold $0 (+ 1 (+ 1 1)) (lambda (lambda (cons $1 $0)))) 0))',\n",
    " '(lam (eq? (+ 1 (+ 1 (+ 1 (+ 1 1)))) (index (length $0) (cons 1 $0))))',\n",
    " '(lam (car $0))',\n",
    " '(lam (car $0))',\n",
    " '(lam (index 1 (cdr $0)))',\n",
    " '(lam (car (cdr (cdr (cdr (cdr $0))))))',\n",
    " '(lam (fold $0 empty (lambda (lambda (if (is-prime (+ (+ 1 (+ 1 (+ 1 1))) $1)) (cons $1 $0) $0)))))',\n",
    " '(lam (eq? (fold (map (lam (mod (+ 1 $0) (+ 1 (+ 1 1)))) $0) 1 (lambda (lambda (* $0 $1)))) 1))',\n",
    " '(lam (fold $0 (empty? empty) (lam (lam (if $0 (is-prime $1) $0)))))',\n",
    " '(lam (fold $0 empty (lambda (lambda (if (empty? (fold $1 empty (lambda (lambda (if (gt? $0 $1) (cons $1 $0) $0))))) (cons $1 $0) $0)))))',\n",
    " '(lam (index (length (cdr $0)) $0))',\n",
    " '(lam (length $0))',\n",
    " '(lam (map (lam 0) $0))',\n",
    " '(lam (map (lam (mod $0 (+ 1 1))) $0))',\n",
    " '(lam (map (lam (mod $0 (+ (+ 1 1) 1))) $0))',\n",
    " '(lam (map (lam (mod $0 (+ 1 (+ 1 (+ 1 1))))) $0))',\n",
    " '(lam (map (lam (mod $0 (+ 1 (+ 1 (+ 1 (+ 1 1)))))) $0))',\n",
    " '(lam (map (lam 0) $0))',\n",
    " '(lam (map (lam (+ $0 $0)) $0))',\n",
    " '(lam (map (lam (+ $0 (+ $0 $0))) $0))',\n",
    " '(lam (map (lam (* $0 (+ 1 (+ 1 (+ 1 (+ 1 1)))))) $0))',\n",
    " '(lam (fold $0 empty (lambda (lambda (if (lam (gt? (mod $1 (+ 1 1)) 0)) (cons $1 $0) $0)))))',\n",
    " '(lam (cons (car $0) $0))',\n",
    " '(lam (cons (car (cdr $0))$0))',\n",
    " '(lam (cons (car (cdr (cdr (cdr $0)))) $0))',\n",
    " '(lam (cons 0 $0))',\n",
    " '(lam (fold $0 1 (lam (lam (* $0 $1)))))',\n",
    " '(lam (cons (car $0) (cdr (cdr $0))))',\n",
    " '(lam (cons (car $0) (cons (car (cdr $0)) (cons (car (cdr (cdr $0))) (cdr (cdr (cdr (cdr $0))))))))',\n",
    " '(lam (fold $0 empty (lambda (lambda (if (lam (is-prime (mod (+ $1 $1) (+ 1 (+ 1 (+ 1 1)))))) (cons $1 $0) $0)))))',\n",
    " '(lam (fold $0 empty (lam (lam (if (is-square (mod (+ 1 (+ 1 $1)) (+ 1 (+ 1 1)))) (cons $1 $0) $0)))))',\n",
    " '(lam (fold $0 $0 (lam (lam (cons $1 $0)))))',\n",
    " '(lam (map (lam (car $1)) $0))',\n",
    " '(lam (map (lam (car (cdr (cdr (cdr $1))))) $0))',\n",
    " '(lam (fold $0 empty (lam (lam (fold $0 (cons $1 empty) (lambda (lambda (cons $1 $0))))))))',\n",
    " '(lam (cons (car $0) empty))',\n",
    " '(lam (cons (car $0) (cons (car (cdr $0)) (cons (car (cdr (cdr $0))) (cons (car (cdr (cdr (cdr $0)))) empty)))))',\n",
    " '(lam (cons (car (cdr $0)) (cons (car (cdr (cdr $0))) empty)))',\n",
    " '(lam (cons (car (cdr $0)) (cons (car (cdr (cdr $0))) (cons (car (cdr (cdr (cdr $0)))) empty))))',\n",
    " '(lam (cons (car (cdr $0)) (cons (car (cdr (cdr $0))) (cons (car (cdr (cdr (cdr $0)))) (cons (car (cdr (cdr (cdr (cdr $0))))) (cons (car (cdr (cdr (cdr (cdr (cdr $0))))))empty))))))',\n",
    " '(lam (cons (car (cdr (cdr $0)))(cons (car (cdr (cdr (cdr $0)))) (cons (car (cdr (cdr (cdr (cdr $0))))) empty))))',\n",
    " '(lam (cons (car (cdr (cdr $0))) (cons (car (cdr (cdr (cdr $0)))) (cons (car (cdr (cdr (cdr (cdr $0))))) (cons (car (cdr (cdr (cdr (cdr (cdr $0)))))) empty)))))',\n",
    " '(lam (fold (cdr (cdr $0)) $0 (lam (lam (cons $1 (cons (car $0) (cons (car (cdr $0)) (cons (car (cdr (cdr $0))) (cons (car (cdr (cdr (cdr $0))))empty)))))))))',\n",
    " '(lam (cons (car (cdr (cdr (cdr $0)))) empty))',\n",
    " '(lam (cons (car (cdr (cdr (cdr $0))))(cons (car (cdr (cdr (cdr (cdr $0))))) (cons (car (cdr (cdr (cdr (cdr (cdr $0)))))) empty))))',\n",
    " '(lam (cons (car (cdr (cdr (cdr $0))))(cons (car (cdr (cdr (cdr (cdr $0))))) (cons (car (cdr (cdr (cdr (cdr (cdr $0)))))) (cons (car (cdr (cdr (cdr (cdr (cdr (cdr $0))))))) (cons (car (cdr (cdr (cdr (cdr (cdr (cdr (cdr $0))))))))empty))))))',\n",
    " '(lam (cons (car (cdr (cdr (cdr (cdr $0))))) (cons (car (cdr (cdr (cdr (cdr (cdr $0)))))) empty)))',\n",
    " '(lam (cons (car (cdr (cdr (cdr (cdr $0))))) (cons (car (cdr (cdr (cdr (cdr (cdr $0)))))) (cons (car (cdr (cdr (cdr (cdr (cdr (cdr $0))))))) (cons (car (cdr (cdr (cdr (cdr (cdr (cdr (cdr $0))))))))empty)))))',\n",
    " '(lam (cdr $0))',\n",
    " '(lam (cons (car $0) empty))',\n",
    " '(lam (cons (car $0) (cons (car (cdr $0)) empty)))',\n",
    " '(lam (cons (car $0) (cons (car (cdr $0)) (cons (car (cdr (cdr $0))) empty))))',\n",
    " '(lam (cons (car $0) (cons (car (cdr $0)) (cons (car (cdr (cdr $0))) (cons (car (cdr (cdr (cdr $0))))empty)))))',\n",
    " '(lam (+ 1 (fold $0 1 (lam (lam (if (gt? $0 $1) $0 $1))))))',\n",
    " '(lam (fold $0 empty (lambda (lambda (if (is-square $1) (cons $1 $0) $0)))))',\n",
    " '(lam (fold $0 empty (lam (lam (if (is-prime $1) (cons $1 $0) $0)))))',\n",
    " '(lam (fold $0 empty (lambda (lambda (if (gt? $1 0) (cons $1 $0) $0)))))',\n",
    " '(lam (fold $0 $0 (lam (lam (if (eq? $1 0) $0 (cdr (map (lam 0) $0)))))))',\n",
    " '(lam (fold $0 $0 (lam (lam (if (eq? $1 1) $0 (cdr (map (lam 1) $0)))))))',\n",
    " '(lam (fold $0 empty (lam (lam (if (gt? $1 1) (cons $1 $0) $0)))))',\n",
    " '(lam (fold $0 empty (lambda (lambda (if (gt? (+ 1 (+ 1 1)) $1) (cons $1 $0) $0)))))',\n",
    " '(lam (fold $0 empty (lambda (lambda (if (gt? $1 (+ 1 (+ 1 1))) (cons $1 $0) $0)))))']"
   ]
  },
  {
   "cell_type": "code",
   "execution_count": 7,
   "metadata": {},
   "outputs": [],
   "source": [
    "t = {'+': \"Add\",\n",
    " '-': \"Subtract\",\n",
    " '*': \"Multiply\",\n",
    " 'gt?': \"Greater\",\n",
    " 'eq?': \"Equal\",\n",
    " 'if': \"If\",\n",
    " 'fold': \"Fold\",\n",
    " 'map': \"Map\",\n",
    " 'is-empty': \"IsEmpty\",\n",
    " 'cons': \"Cons\",\n",
    " 'car': \"Car\",\n",
    " 'cdr': \"Cdr\",\n",
    " 'is-square': \"IsSquare\",\n",
    " 'is-prime': \"IsPrime\",\n",
    " 'length': \"Length\",\n",
    " 'index': \"Index\",\n",
    " 'mod': \"Mod\"}\n"
   ]
  },
  {
   "cell_type": "code",
   "execution_count": null,
   "metadata": {},
   "outputs": [],
   "source": [
    "# pickle programs\n",
    "import pickle\n",
    "with open(\"base_programs.pkl\", \"wb\") as f:\n",
    "    pickle.dump(programs, f)"
   ]
  },
  {
   "cell_type": "code",
   "execution_count": 3,
   "metadata": {},
   "outputs": [],
   "source": [
    "from stitch_core import *\n",
    "res = compress(programs, iterations=1000, max_arity=3)"
   ]
  },
  {
   "cell_type": "code",
   "execution_count": 10,
   "metadata": {},
   "outputs": [],
   "source": [
    "for abs in res.abstractions:\n",
    "    for func in t.keys():\n",
    "        abs.body = abs.body.replace(func, t[func])"
   ]
  },
  {
   "cell_type": "code",
   "execution_count": null,
   "metadata": {},
   "outputs": [],
   "source": [
    "(fn_7 (lam (lam (if (#0 $0) (cons $0 $0) $0))))\n",
    "(lam (fold $0 empty (lam (lam (if (#0 $0) (cons $0 $0) $0)))))"
   ]
  },
  {
   "cell_type": "code",
   "execution_count": 1,
   "metadata": {},
   "outputs": [
    {
     "ename": "NameError",
     "evalue": "name 'res' is not defined",
     "output_type": "error",
     "traceback": [
      "\u001b[0;31m---------------------------------------------------------------------------\u001b[0m",
      "\u001b[0;31mNameError\u001b[0m                                 Traceback (most recent call last)",
      "Cell \u001b[0;32mIn[1], line 1\u001b[0m\n\u001b[0;32m----> 1\u001b[0m \u001b[43mres\u001b[49m\u001b[38;5;241m.\u001b[39mabstractions\n",
      "\u001b[0;31mNameError\u001b[0m: name 'res' is not defined"
     ]
    }
   ],
   "source": [
    "res.abstractions"
   ]
  },
  {
   "cell_type": "code",
   "execution_count": 11,
   "metadata": {},
   "outputs": [],
   "source": [
    "from crossbeam.abstraction.dreamcoder2lambdabeam import *\n",
    "a = rewrite_abstractions(res.abstractions, get_function_dict())"
   ]
  },
  {
   "cell_type": "code",
   "execution_count": 12,
   "metadata": {},
   "outputs": [
    {
     "data": {
      "text/plain": [
       "[fn_0(#0) := (cons (car #0) (cons (car (cdr #0)) (cons (car (cdr (cdr #0))) empty))),\n",
       " fn_1(#0) := (+ 1 (+ 1 #0)),\n",
       " fn_2(#0,#1) := (cons (car #0) (#1 (cdr #0))),\n",
       " fn_3(#0,#1) := (fold #1 #0 (lam (lam (cons $1 $0)))),\n",
       " fn_4(#0,#1) := (lam (if #1 (cons #0 $0) $0)),\n",
       " fn_5(#0) := (lam (map #0 $0)),\n",
       " fn_6(#0) := (cdr (cdr #0)),\n",
       " fn_7(#0) := (lam (fold $0 empty #0)),\n",
       " fn_8() := (+ 1),\n",
       " fn_9() := (+ 1 (+ 1 1)),\n",
       " fn_10(#0) := (cons (car (cdr #0))),\n",
       " fn_11(#0) := (lam (fold $0 $0 (lam (lam (if (eq? $1 #0) $0 (cdr (map (lam #0) $0))))))),\n",
       " fn_12(#0) := (cons #0 empty),\n",
       " fn_13(#0,#1) := (cons (car #1) (cons (car (cdr #1)))),\n",
       " fn_14(#0,#1) := (lam (map (lam (#1 $0 #0)) $0)),\n",
       " fn_15(#0) := (fold #0 1 (lam (lam (* $0 $1)))),\n",
       " fn_16(#0) := (lam (fold $0 empty (lam (lam (if (gt? $0 #0) (cons $0 $0) $0))))),\n",
       " fn_17(#0,#1) := (fold #1 0 (lam (lam (if (eq? $1 #0) (+ 1 $0) $0)))),\n",
       " fn_18(#0) := (lam (fold $0 empty (lam (lam (if (#0 $0) (cons $0 $0) $0))))),\n",
       " fn_19() := (+ 1 (+ 1 (+ 1 1))),\n",
       " fn_20(#0) := (cons (car #0) (#1 (cdr #0))),\n",
       " fn_21(#0) := (lam (#0 (cdr (cdr (cdr (cdr $0)))))),\n",
       " fn_22() := (+ 1 (+ 1 #0)),\n",
       " fn_23(#0) := (cons (car (cdr #0))),\n",
       " fn_24(#0) := (lam (fold $0 #0 (lam (lam (cons $1 $0))))),\n",
       " fn_25(#0) := (lam (mod (+ 1 $0) #0)),\n",
       " fn_26() := (+ 1 1),\n",
       " fn_27(#0) := (lam (map (lam (gt? 1 (mod $0 #0))) $0)),\n",
       " fn_28(#0) := (lam (#0 (cdr (cdr $0)))),\n",
       " fn_29() := (lam (map (lam (+ 1 (+ 1 (+ 1 $0)))) $0)),\n",
       " fn_30() := (lam (map (lam (- 1 $0)) $0)),\n",
       " fn_31(#0) := (cons (car #0) empty),\n",
       " fn_32(#0) := (lam (map (lam (#1 $0 #0)) $0)),\n",
       " fn_33(#0) := (+ #0 #0),\n",
       " fn_34(#0,#1) := (index (length (#1 #0)) #0),\n",
       " fn_35(#0) := (lam (gt? (#0 $0) 0)),\n",
       " fn_36(#0) := (cons (car (cdr (cdr (cdr #0))))),\n",
       " fn_37(#0) := (lam (#0 $0 $0)),\n",
       " fn_38(#0) := (lam (fold $0 (cons #0 empty) (lam (lam (cons $1 $0))))),\n",
       " fn_39(#0,#1) := (lam (map (lam (#1 $0 (#0 $0))) $0)),\n",
       " fn_40(#0) := (if (is-prime #0) 0),\n",
       " fn_41(#0,#1) := (#1 (mod #0 (+ 1 1)) 0),\n",
       " fn_42() := (lam (car $0)),\n",
       " fn_43() := (lam (map (lam 0) $0)),\n",
       " fn_44() := (lam (cons (car $0) empty)),\n",
       " fn_45() := (lam (cons (car $0) (#1 (cdr $0)))),\n",
       " fn_46() := (lam (mod (+ 1 $0) #0)),\n",
       " fn_47() := (cons 0),\n",
       " fn_48() := (cons (car #1) (cons (car (cdr #1)))),\n",
       " fn_49(#0) := (lam (#0 (cdr $0))),\n",
       " fn_50(#0) := (lam (map (lam (#0 $0)) $0)),\n",
       " fn_51(#0) := (map (lam (car #0))),\n",
       " fn_52(#0,#1) := (lam (#1 (#0 (cdr (cdr $0))) $0)),\n",
       " fn_53(#0) := (lam (#0 $0 cdr))]"
      ]
     },
     "execution_count": 12,
     "metadata": {},
     "output_type": "execute_result"
    }
   ],
   "source": [
    "a"
   ]
  },
  {
   "cell_type": "code",
   "execution_count": 1,
   "metadata": {},
   "outputs": [],
   "source": [
    "import torch\n",
    "from crossbeam.abstraction.dreamcoder2lambdabeam import *\n",
    "with open(\"/work/ldierkes/repos/new/LambdaBeam/outputs/beamstract/top_and_avg_2/model-latest.ckpt\", \"rb\") as f:\n",
    "    ckpt = torch.load(f)\n",
    "base_function_dict = ckpt[\"base_function_dict\"]\n",
    "higher_order_functions = ckpt[\"higher_order_functions\"]\n",
    "model = ckpt[\"model\"]\n",
    "optimizer = ckpt[\"optimizer\"]\n",
    "domain = ckpt[\"domain\"]\n",
    "# get device\n",
    "device = torch.device(\"cuda\" if torch.cuda.is_available() else \"cpu\")"
   ]
  },
  {
   "cell_type": "code",
   "execution_count": 2,
   "metadata": {},
   "outputs": [
    {
     "data": {
      "text/plain": [
       "[0, 1, []]"
      ]
     },
     "execution_count": 2,
     "metadata": {},
     "output_type": "execute_result"
    }
   ],
   "source": [
    "domain.constants"
   ]
  },
  {
   "cell_type": "code",
   "execution_count": 2,
   "metadata": {},
   "outputs": [
    {
     "data": {
      "text/plain": [
       "[1]"
      ]
     },
     "execution_count": 2,
     "metadata": {},
     "output_type": "execute_result"
    }
   ],
   "source": [
    "import random\n",
    "from crossbeam.dsl.deepcoder_utils import run_program\n",
    "\n",
    "\n",
    "gram(\"x1(Mod(x2, Add(1, 1)), 0)\", {\"x1\": [lambda x,y: x +y], \"x2\": [3]})"
   ]
  },
  {
   "cell_type": "code",
   "execution_count": 8,
   "metadata": {},
   "outputs": [
    {
     "data": {
      "text/plain": [
       "True"
      ]
     },
     "execution_count": 8,
     "metadata": {},
     "output_type": "execute_result"
    }
   ],
   "source": [
    "[1,2,3] < [4]"
   ]
  },
  {
   "cell_type": "code",
   "execution_count": 3,
   "metadata": {},
   "outputs": [],
   "source": [
    " \n",
    "lambdabeam_programs = [\n",
    "    [\"Cons(Car(x1), Cons(Car(Cdr(x1)), Cons(Car(Cdr(Cdr(x1))), [])))\", [0]],\n",
    "    [\"Cons(Car(x2), x1(Cdr(x2)))\",[1, 0]],\n",
    "    [\"If(x2, Cons(x1, x3), x3)\",[0, 0, 0]],\n",
    "    [\"Cons(Car(Cdr(x1)), x2)\",[0, 0]],\n",
    "    [\"Cdr(Cdr(x1))\", [0]],\n",
    "    [\"Cons(Car(Cdr(x1)), x2)\", [0, 0]],\n",
    "    [\"Cons(x1, [])\", [0]],\n",
    "    [\"Add(1, Add(1, x1))\", [0]],\n",
    "    [\"Add(1, x1)\", [0]],\n",
    "    [\"Cons(Car(x1), Cons(Car(Cdr(x1)), x2))\", [0, 0]],\n",
    "    [\"Fold((lambda u1, u2: Cons(u2, u1)), x2, x1)\", [0, 0]], # Extend \n",
    "    [\"Fold(x1, [], x2)\", [2, 0]],\n",
    "    [\"Fold((lambda u1, u2: If(Equal(u2, x2), u1, Cdr(Map((lambda v1: x2), u1)))), x1, x1)\", [0, 0]], # Filter Equal ?\n",
    "    [\"Fold((lambda u1, u2: If(Equal(u2, x2), Add(1, u1), u1)), 0, x1)\", [0, 0]],  # COUNT\n",
    "    [\"Fold((lambda u1, u2: If(Greater(u2, x2), Cons(u2, u1), u1)), [], x1)\", [0, 0]], # Filter Smaller\n",
    "    [\"Fold((lambda u1, u2: Multiply(u1, u2)), 1, x1)\", [0]], # PRODUCT\n",
    "    [\"Fold((lambda u1, u2: If(x2(u1), Cons(u2, u1), u1)), [], x1)\", [0, 1]], # FILTER\n",
    "    [\"Fold((lambda u1, u2: Cons(u2, u1)), Cons(x2, []), x1)\", [0, 0]], # Append\n",
    "    [\"Cons(Car(x1), x2(Cdr(x1)))\", [0, 1]], \n",
    "    [\"Cdr(Cdr(Cdr(Cdr(x1))))\", [0]],\n",
    "    [\"Add(1, Add(1, x1))\", [0]],\n",
    "    [\"Mod(Add(1, x1), x2)\", [0, 0]],\n",
    "    [\"Map((lambda u1: Greater(1, Mod(u1, x2))), x1)\", [0, 0]],\n",
    "    [\"Map((lambda u1: Add(1, Add(1, Add(1, u1)))), x1)\", [0]],\n",
    "    [\"Map((lambda u1: Subtract(1, u1)), x1)\", [0]],\n",
    "    [\"Cons(Car(x1), [])\", [0]],\n",
    "    [\"Index(Length(x1(x2)), x2)\", [1, 0]],\n",
    "    [\"Greater(0, x1)\", [0]],\n",
    "    [\"Cons(Car(Cdr(Cdr(Cdr(x1)))), x2)\", [0, 0]],\n",
    "    [\"If(IsPrime(x1), 0, x2)\", [0,0]],\n",
    "    [\"x1(Mod(x2, Add(1, 1)), 0)\", [2, 0]],\n",
    "    [\"Map((lambda u1: 0), x1)\", [0]],\n",
    "    [\"Mod(Add(1, x1), x2)\", [0, 0]],\n",
    "    [\"Cons(0, x1)\", [0]],\n",
    "    [\"Cons(Car(x1), Cons(Car(Cdr(x1)), x2))\", [0, 0]], \n",
    "    [\"Map((lambda u1: Car(x1)), x2)\", [0, 0]]\n",
    "]\n",
    "\n",
    "        \n",
    "inventions = []\n",
    "for i, program in enumerate(lambdabeam_programs):\n",
    "    if sum(program[1]) > 0:\n",
    "        higher_order_functions[f\"fn_{i}\"] = program[1]\n",
    "    base_function_dict[f\"fn_{i}\"] = len(program[1])\n",
    "    #inventiona = Inventiona(f\"fn_{i}\", program[0])\n",
    "    new_op = Invented(len(program[1]), program[0], invention=f\"fn_{i}\", bound_variables = program[1], dc_prims = True, inventions= [])\n",
    "    outer_op = get_outer_op(program[0], base_function_dict)\n",
    "    model.add_invention(f\"fn_{i}\", outer_op, func_for_args = [], device = device, initialization_method = \"top\")\n",
    "    inventions.append(new_op)\n",
    "    domain.operations.append(new_op)\n",
    "\n",
    "optimizer = torch.optim.Adam(model.parameters(), lr=5e-3)\n"
   ]
  },
  {
   "cell_type": "code",
   "execution_count": 27,
   "metadata": {},
   "outputs": [
    {
     "data": {
      "text/plain": [
       "'(lambda (Fold (lambda (lambda (If (Equal $1 $3)$0 (Cdr (Map (lambda $4)$0)))))$0 $0))'"
      ]
     },
     "execution_count": 27,
     "metadata": {},
     "output_type": "execute_result"
    }
   ],
   "source": [
    "convert(\"Fold((lambda u1, u2: If(Equal(u2, x2), u1, Cdr(Map((lambda v1: x2), u1)))), x1, x1)\", get_function_dict(), {\"Map\": [1,0], \"Fold\": [2,0,0]})"
   ]
  },
  {
   "cell_type": "code",
   "execution_count": 28,
   "metadata": {},
   "outputs": [
    {
     "data": {
      "text/plain": [
       "('Fold((lambda u1, v1: (If(Equal(v1, x2), u1, Cdr(Map((lambda p1: x2), u1))))), x1, x1)',\n",
       " OrderedDict([('x2', [0, ['Equal', 'Map']]), ('x1', [0, ['Fold', 'Fold']])]))"
      ]
     },
     "execution_count": 28,
     "metadata": {},
     "output_type": "execute_result"
    }
   ],
   "source": [
    "parse_abstraction('(lam (Fold (lambda (lambda (If (Equal $1 $3)$0 (Cdr (Map (lambda $4)$0)))))$0 $0))'\n",
    ", get_function_dict())"
   ]
  },
  {
   "cell_type": "code",
   "execution_count": 14,
   "metadata": {},
   "outputs": [],
   "source": [
    "# pickle invention list\n",
    "import pickle\n",
    "with open(\"all_inventions.pkl\", \"wb\") as f:\n",
    "    pickle.dump(inventions, f)\n"
   ]
  },
  {
   "cell_type": "code",
   "execution_count": null,
   "metadata": {},
   "outputs": [],
   "source": [
    "class Inventiona:\n",
    "    def __init__(self, name, program):\n",
    "        self.name = name\n",
    "        self.program = program\n",
    "    "
   ]
  },
  {
   "cell_type": "code",
   "execution_count": 2,
   "metadata": {},
   "outputs": [],
   "source": [
    "domain.constants.append(2)\n",
    "domain.constants.append(3)"
   ]
  },
  {
   "cell_type": "code",
   "execution_count": 12,
   "metadata": {},
   "outputs": [
    {
     "data": {
      "text/plain": [
       "2"
      ]
     },
     "execution_count": 12,
     "metadata": {},
     "output_type": "execute_result"
    }
   ],
   "source": [
    "domain.operations[-6].arity"
   ]
  },
  {
   "cell_type": "code",
   "execution_count": 3,
   "metadata": {},
   "outputs": [
    {
     "data": {
      "text/plain": [
       "True"
      ]
     },
     "execution_count": 3,
     "metadata": {},
     "output_type": "execute_result"
    }
   ],
   "source": [
    "isinstance(False, int) is True"
   ]
  },
  {
   "cell_type": "code",
   "execution_count": 114,
   "metadata": {},
   "outputs": [],
   "source": [
    "domain.operations[-20].program = 'Fold((lambda u1, u2: If(x2(u2), Cons(u2, u1), u1)), [], x1)'"
   ]
  },
  {
   "cell_type": "code",
   "execution_count": 3,
   "metadata": {},
   "outputs": [],
   "source": [
    "checkpoint = {\n",
    "    'step': ckpt[\"step\"],\n",
    "    'model': ckpt[\"model\"],\n",
    "    'optimizer': ckpt[\"optimizer\"],\n",
    "    'inventions': ckpt[\"inventions\"],\n",
    "    \"higher_order_functions\": ckpt[\"higher_order_functions\"],\n",
    "    \"base_function_dict\": ckpt[\"base_function_dict\"],\n",
    "    \"dc_abstractions\": ckpt[\"dc_abstractions\"],\n",
    "    \"domain\": domain,\n",
    "    \"frontiers\": ckpt[\"frontiers\"]\n",
    "}"
   ]
  },
  {
   "cell_type": "code",
   "execution_count": 4,
   "metadata": {},
   "outputs": [],
   "source": [
    "torch.save(checkpoint, \"/work/ldierkes/repos/new/LambdaBeam/outputs/beamstract/top_and_avg_2/model-latest.ckpt\")"
   ]
  },
  {
   "cell_type": "code",
   "execution_count": 7,
   "metadata": {},
   "outputs": [
    {
     "data": {
      "text/plain": [
       "[[0, 0],\n",
       " [0, -13],\n",
       " [1, 5],\n",
       " [2, 3],\n",
       " [3, -1],\n",
       " [4, 1],\n",
       " [6, 0],\n",
       " [12, 12],\n",
       " [41, 4],\n",
       " [-1, 2],\n",
       " [-200, -26],\n",
       " [[], [1]],\n",
       " [[2], []],\n",
       " [[], [0]],\n",
       " [[1], [5]],\n",
       " [[14, 12, 12], [51, 31, 21]],\n",
       " [[1, 2, 3], [2]],\n",
       " [[], [1, 2, 3, 4]],\n",
       " [[1, 2, 3, 4], []],\n",
       " [[1, 2, 3, 4], [1, 2, 3, 4]],\n",
       " [0, [1, 2, 3, 4]],\n",
       " [5, [3, 45, 9, 10]],\n",
       " [[1, 2, 3, 4], 2]]"
      ]
     },
     "execution_count": 7,
     "metadata": {},
     "output_type": "execute_result"
    }
   ],
   "source": [
    "[[0, 0], [0, -13], [1, 5], [2, 3], [3, -1], [4, 1], [6, 0], [12, 12], [41, 4], [-1, 2], [-200, -26]] + [[[], [1]], [[2], []], [[], [0]], [[1], [5]], [[14, 12, 12], [51, 31, 21]], [[1, 2, 3], [2]], [[], [1, 2, 3, 4]], [[1, 2, 3, 4], []], [[1, 2, 3, 4], [1, 2, 3, 4]], [0, [1, 2, 3, 4]], [5, [3, 45, 9, 10]], [[1, 2, 3, 4], 2]]"
   ]
  },
  {
   "cell_type": "markdown",
   "metadata": {},
   "source": [
    "#### Handwritten abstractions\n",
    "Constants: [-1, 0, 1, 2, 3, 4, 5]\n",
    "\n",
    "Functions:\n",
    "- Fold((lambda u1, v1: (Cons(v1, u1))), x2, x1)\n",
    "- Cons(Car(x1), Cons(Car(Cdr(x1)), Cons(Car(Cdr(Cdr(x1))), [])))\n",
    "- Cons(Car(x1), x2(Cdr(x1)))\n",
    "- If(x2, Cons(x1, x3), x3)\n",
    "- Cons(Car(Cdr(x1)), x2)\n",
    "- Fold(x2, [], x1)\n",
    "- Cdr(Cdr(x1))\n",
    "- Cons(Car(Cdr(x1)), x2)\n",
    "- Cons(x1, [])"
   ]
  },
  {
   "cell_type": "code",
   "execution_count": null,
   "metadata": {},
   "outputs": [],
   "source": [
    "parse_abstraction(\"(Cons #0 empty)\", get_function_dict(), {\"Map\": [1,0], \"Fold\": [2,0,0]})"
   ]
  },
  {
   "cell_type": "code",
   "execution_count": 60,
   "metadata": {},
   "outputs": [
    {
     "data": {
      "text/plain": [
       "[Add,\n",
       " Subtract,\n",
       " Multiply,\n",
       " Greater,\n",
       " Mod,\n",
       " Equal,\n",
       " IsEmpty,\n",
       " IsSquare,\n",
       " IsPrime,\n",
       " If,\n",
       " Cdr,\n",
       " Car,\n",
       " Length,\n",
       " Cons,\n",
       " Index,\n",
       " Map,\n",
       " Fold,\n",
       " fn_0,\n",
       " fn_6,\n",
       " fn_15,\n",
       " fn_16,\n",
       " fn_17,\n",
       " fn_20,\n",
       " fn_36,\n",
       " fn_37,\n",
       " fn_49,\n",
       " fn_53]"
      ]
     },
     "execution_count": 60,
     "metadata": {},
     "output_type": "execute_result"
    }
   ],
   "source": [
    "ckpt[\"domain\"].operations"
   ]
  },
  {
   "cell_type": "code",
   "execution_count": 1,
   "metadata": {},
   "outputs": [],
   "source": [
    "import torch\n",
    "with open(\"/work/ldierkes/repos/new/LambdaBeam/outputs/beamstract/top_and_avg_2/model-best-valid.ckpt\", \"rb\") as f:\n",
    "    ckpt = torch.load(f)\n",
    "\n",
    "invention_names = [inv.name for inv in ckpt[\"inventions\"]]"
   ]
  },
  {
   "cell_type": "code",
   "execution_count": 2,
   "metadata": {},
   "outputs": [
    {
     "name": "stdout",
     "output_type": "stream",
     "text": [
      "fn_0 Cdr(Cdr(x1))\n",
      "fn_2 x1(Cdr(Cdr(x2)))\n",
      "fn_3 Cons(Car(x1), x2)\n",
      "fn_6 fn_0(Cdr(x1))\n",
      "fn_9 Map((lambda v1: Mod(v1, x1)), x2)\n",
      "fn_10 Cons(Car(x1(x2)), x3)\n",
      "fn_11 Map((lambda v1: x1(1, v1)), x2)\n",
      "fn_12 Cons(Car(x2), x3)\n",
      "fn_15 Index(Add(1, 1), x1)\n",
      "fn_17 x1(fn_0(Cdr(x2)))\n",
      "fn_18 Add(1, x1)\n",
      "fn_21 fn_9(Add(1, x2), fn_11(x1, x3))\n",
      "fn_22 Cons(fn_15(x1), x2)\n",
      "fn_23 x1(x3, x2(Cdr(x3), x1(fn_0(x3), [])))\n",
      "fn_29 Map((lambda v1: x2(Cdr(x1))), x1)\n",
      "fn_30 Subtract(1, x1)\n",
      "fn_32 Cons(Car(Cdr(x1)), x2)\n",
      "fn_33 fn_9(x2, Map((lambda v1: x1(v1)), x3))\n",
      "fn_35 fn_3(x2, Cons(Car(Cdr(x2)), x3))\n",
      "fn_38 fn_9(x2, fn_11(x1, x3))\n",
      "fn_41 Cons(Car(x1), [])\n",
      "fn_45 Add(2, x1)\n",
      "fn_52 If(x1, 1, 0)\n",
      "fn_55 fn_9(3, fn_11((lambda u1, v1: (())), x1))\n",
      "fn_56 fn_32(x2, fn_22(x2, x1))\n",
      "fn_57 Map((lambda v1: 0), x1)\n",
      "fn_59 fn_3(x3, fn_56(x2(x1(x3)), x3))\n",
      "fn_61 Cons(fn_15(fn_0(x1)), fn_41(fn_6(fn_0(x1))))\n",
      "fn_63 If(Greater(fn_9(2, x1), x2(x1)), x4, x3)\n",
      "fn_67 fn_11((lambda u1, v1: (fn_52(Greater(v1, x1)))), x2)\n",
      "fn_77 fn_67(x1, x2)\n",
      "fn_79 fn_9(3, x1)\n",
      "fn_80 fn_9(x1, Map((lambda v1: fn_18(v1)), x2))\n",
      "fn_84 fn_11((lambda u1, v1: (fn_52(Equal(x1, v1)))), x2)\n",
      "fn_89 fn_79(fn_11((lambda u1, v1: (Add(x1, v1))), x2))\n",
      "fn_90 Greater(fn_9(2, x1), x2(x1))\n",
      "fn_94 x1(3, x2)\n",
      "fn_98 x1(4, x2)\n",
      "fn_102 fn_84(0, x1(x2))\n",
      "fn_103 fn_9(x2, Map(x1, x3))\n",
      "fn_104 Cons(fn_15(x2), fn_61(x1))\n",
      "fn_109 fn_79(fn_11((lambda u1, v1: (Subtract(v1, x1))), x2))\n",
      "fn_114 If(fn_90(x2, (lambda v1: x1(x2))), 1, 0)\n",
      "fn_115 x2(Map((lambda v1: Add(v1, x1)), x3))\n",
      "fn_119 fn_56(fn_104(x1(x3), x2(x3)), x1(x3))\n",
      "fn_121 fn_56(fn_104(x1, x2), x1)\n",
      "fn_134 fn_84(0, x1)\n",
      "fn_145 fn_104(x1, Cdr(x1))\n"
     ]
    }
   ],
   "source": [
    "for inv in ckpt[\"inventions\"]:\n",
    "    print(inv.name, inv.program)"
   ]
  },
  {
   "cell_type": "code",
   "execution_count": null,
   "metadata": {},
   "outputs": [],
   "source": [
    "fn_11((lambda u1, v1: If(Greater(v1, 1), 1, 0)), x1)"
   ]
  },
  {
   "cell_type": "code",
   "execution_count": 2,
   "metadata": {},
   "outputs": [
    {
     "data": {
      "text/plain": [
       "[0, 1, [], 2, 3, 5, 4]"
      ]
     },
     "execution_count": 2,
     "metadata": {},
     "output_type": "execute_result"
    }
   ],
   "source": [
    "Map((lambda v1: If(Greater(v1, 1), 1, 0)), x1)"
   ]
  },
  {
   "cell_type": "code",
   "execution_count": 7,
   "metadata": {},
   "outputs": [
    {
     "data": {
      "text/plain": [
       "['a', 'b']"
      ]
     },
     "execution_count": 7,
     "metadata": {},
     "output_type": "execute_result"
    }
   ],
   "source": [
    "list({\"a\": 1, \"b\": 2})"
   ]
  },
  {
   "cell_type": "code",
   "execution_count": 2,
   "metadata": {},
   "outputs": [
    {
     "ename": "NameError",
     "evalue": "name 'ckpt' is not defined",
     "output_type": "error",
     "traceback": [
      "\u001b[0;31m---------------------------------------------------------------------------\u001b[0m",
      "\u001b[0;31mNameError\u001b[0m                                 Traceback (most recent call last)",
      "Cell \u001b[0;32mIn[2], line 1\u001b[0m\n\u001b[0;32m----> 1\u001b[0m \u001b[38;5;28;01mfor\u001b[39;00m op \u001b[38;5;129;01min\u001b[39;00m \u001b[43mckpt\u001b[49m[\u001b[38;5;124m\"\u001b[39m\u001b[38;5;124mdomain\u001b[39m\u001b[38;5;124m\"\u001b[39m]\u001b[38;5;241m.\u001b[39moperations:\n\u001b[1;32m      2\u001b[0m     \u001b[38;5;28;01mtry\u001b[39;00m:\n\u001b[1;32m      3\u001b[0m         \u001b[38;5;28mprint\u001b[39m(op\u001b[38;5;241m.\u001b[39mname, op\u001b[38;5;241m.\u001b[39mprogram)\n",
      "\u001b[0;31mNameError\u001b[0m: name 'ckpt' is not defined"
     ]
    }
   ],
   "source": [
    "for op in ckpt[\"domain\"].operations:\n",
    "    try:\n",
    "        print(op.name, op.program)\n",
    "    except:\n",
    "        pass"
   ]
  },
  {
   "cell_type": "code",
   "execution_count": 4,
   "metadata": {},
   "outputs": [
    {
     "name": "stdout",
     "output_type": "stream",
     "text": [
      "Cons(0, x1)\n"
     ]
    }
   ],
   "source": [
    "print(ckpt[\"domain\"].operations[-4].program)\n",
    "\n",
    "ckpt[\"domain\"].operations[-4].apply_single([0])\n"
   ]
  },
  {
   "cell_type": "code",
   "execution_count": null,
   "metadata": {},
   "outputs": [],
   "source": [
    "{'fn_0',\n",
    " 'fn_15',\n",
    " 'fn_16',\n",
    " 'fn_17',\n",
    " 'fn_20',\n",
    " 'fn_36',\n",
    " 'fn_37',\n",
    " 'fn_49',\n",
    " 'fn_53',\n",
    " 'fn_6'}"
   ]
  },
  {
   "cell_type": "code",
   "execution_count": null,
   "metadata": {},
   "outputs": [],
   "source": [
    "ckpt[]"
   ]
  },
  {
   "cell_type": "code",
   "execution_count": 55,
   "metadata": {},
   "outputs": [],
   "source": [
    "used_invs = {\n",
    "    'fn_0',\n",
    "    'fn_15',\n",
    "    'fn_16',\n",
    "    'fn_17',\n",
    "    'fn_20',\n",
    "    'fn_36',\n",
    "    'fn_37',\n",
    "    'fn_49',\n",
    "    'fn_53',\n",
    "    'fn_6'\n",
    "}\n",
    "ma_ops = []\n",
    "for op in ckpt[\"domain\"].operations:\n",
    "    if \"fn\" in op.name and op.name not in used_invs:\n",
    "        ma_ops.append(op)"
   ]
  },
  {
   "cell_type": "code",
   "execution_count": 56,
   "metadata": {},
   "outputs": [
    {
     "data": {
      "text/plain": [
       "[fn_1,\n",
       " fn_3,\n",
       " fn_7,\n",
       " fn_11,\n",
       " fn_12,\n",
       " fn_19,\n",
       " fn_23,\n",
       " fn_24,\n",
       " fn_25,\n",
       " fn_26,\n",
       " fn_28,\n",
       " fn_32,\n",
       " fn_34,\n",
       " fn_38,\n",
       " fn_46,\n",
       " fn_56,\n",
       " fn_61,\n",
       " fn_65]"
      ]
     },
     "execution_count": 56,
     "metadata": {},
     "output_type": "execute_result"
    }
   ],
   "source": [
    "ma_ops"
   ]
  },
  {
   "cell_type": "code",
   "execution_count": 57,
   "metadata": {},
   "outputs": [],
   "source": [
    "for op in ma_ops:\n",
    "    ckpt[\"domain\"].operations.remove(op)"
   ]
  },
  {
   "cell_type": "code",
   "execution_count": 61,
   "metadata": {},
   "outputs": [],
   "source": [
    "torch.save(ckpt, \"/work/ldierkes/repos/new/LambdaBeam/outputs/beamstract/top/model-best-valid.ckpt\")"
   ]
  },
  {
   "cell_type": "code",
   "execution_count": 22,
   "metadata": {},
   "outputs": [
    {
     "name": "stdout",
     "output_type": "stream",
     "text": [
      "fn_0 Cdr(Cdr(x1))\n",
      "fn_1 Map((lambda v1: 0), x1)\n",
      "fn_3 x1(Cdr(Cdr(x2)))\n",
      "fn_6 Map((lambda v1: Subtract(1, v1)), x1)\n",
      "fn_7 fn_0(Cdr(x1))\n",
      "fn_11 Map((lambda v1: Car(x1)), x2)\n",
      "fn_12 Map((lambda v1: x3(v1, Add(x2, x1))), x4)\n",
      "fn_15 Mod(x2, Add(2, x1))\n",
      "fn_16 Cons(Car(x1), x2)\n",
      "fn_17 Map((lambda v1: Mod(x1(v1, 2), Add(1, 2))), x2)\n",
      "fn_19 Map((lambda v1: x3(v1, Add(2, x1))), x4)\n",
      "fn_20 Add(1, x1)\n",
      "fn_23 Map((lambda v1: x3(v1, Add(1, 2))), x4)\n",
      "fn_24 Mod(x1(x2), Add(2, 2))\n",
      "fn_25 Cons(Car(x1(x2)), x3)\n",
      "fn_26 fn_0(fn_0(x1))\n",
      "fn_28 Map((lambda v1: fn_15(x1, Subtract(2, v1))), fn_6(x2))\n",
      "fn_32 fn_0(fn_0(Cdr(x1)))\n",
      "fn_34 fn_17((lambda v1: x1(v1, v2)), x2)\n",
      "fn_36 If(x1, 1, 0)\n",
      "fn_37 Map((lambda v1: Mod(v1, x1)), x2)\n",
      "fn_38 Cons(Car(x2), fn_0(x1))\n",
      "fn_46 fn_17((lambda v1: (lambda u1: fn_36(Equal(x1, u1)))), x2)\n",
      "fn_49 Map((lambda v1: x1(3, v1)), x2)\n",
      "fn_53 Cons(0, x1)\n",
      "fn_56 fn_37(x2, Map((lambda v1: x1(v1)), x3))\n",
      "fn_61 fn_37(x1, x2)\n",
      "fn_65 fn_36(Greater(x2, x1))\n"
     ]
    }
   ],
   "source": [
    "for inv in ckpt[\"inventions\"]:\n",
    "    print(inv.name, inv.program)"
   ]
  },
  {
   "cell_type": "code",
   "execution_count": 43,
   "metadata": {},
   "outputs": [
    {
     "data": {
      "text/plain": [
       "28"
      ]
     },
     "execution_count": 43,
     "metadata": {},
     "output_type": "execute_result"
    }
   ],
   "source": [
    "len(ckpt[\"inventions\"])"
   ]
  },
  {
   "cell_type": "code",
   "execution_count": 10,
   "metadata": {},
   "outputs": [],
   "source": [
    "# open json\n",
    "import json\n",
    "with open(\"/work/ldierkes/repos/new/LambdaBeam/outputs/beamstract/top_and_avg_2/results_1.json\", \"r\") as f:\n",
    "    data = json.load(f)[\"results\"]"
   ]
  },
  {
   "cell_type": "code",
   "execution_count": 11,
   "metadata": {},
   "outputs": [],
   "source": [
    "used_invs = set()\n",
    "for result in data:\n",
    "    if result[\"success\"]:\n",
    "        for inv in ckpt[\"inventions\"]:\n",
    "            if inv.name in result[\"solution\"]:\n",
    "                used_invs.add(inv.name)\n",
    "\n"
   ]
  },
  {
   "cell_type": "code",
   "execution_count": 14,
   "metadata": {},
   "outputs": [
    {
     "data": {
      "text/plain": [
       "{'fn_0',\n",
       " 'fn_11',\n",
       " 'fn_12',\n",
       " 'fn_121',\n",
       " 'fn_134',\n",
       " 'fn_145',\n",
       " 'fn_15',\n",
       " 'fn_2',\n",
       " 'fn_22',\n",
       " 'fn_3',\n",
       " 'fn_32',\n",
       " 'fn_45',\n",
       " 'fn_52',\n",
       " 'fn_56',\n",
       " 'fn_57',\n",
       " 'fn_6',\n",
       " 'fn_63',\n",
       " 'fn_67',\n",
       " 'fn_80',\n",
       " 'fn_84',\n",
       " 'fn_89',\n",
       " 'fn_9',\n",
       " 'fn_90'}"
      ]
     },
     "execution_count": 14,
     "metadata": {},
     "output_type": "execute_result"
    }
   ],
   "source": [
    "used_invs"
   ]
  },
  {
   "cell_type": "code",
   "execution_count": 6,
   "metadata": {},
   "outputs": [],
   "source": [
    "used_invs = []\n",
    "import re\n",
    "for d in data:\n",
    "    if d[\"solution\"] and \"fn_\" in d[\"solution\"]:\n",
    "        # get all invented functions\n",
    "        invs = re.findall(r'fn_\\d+', d[\"solution\"])\n",
    "        used_invs.extend(invs)"
   ]
  },
  {
   "cell_type": "code",
   "execution_count": 7,
   "metadata": {},
   "outputs": [
    {
     "data": {
      "text/plain": [
       "{'fn_0',\n",
       " 'fn_10',\n",
       " 'fn_102',\n",
       " 'fn_104',\n",
       " 'fn_11',\n",
       " 'fn_15',\n",
       " 'fn_17',\n",
       " 'fn_22',\n",
       " 'fn_3',\n",
       " 'fn_30',\n",
       " 'fn_32',\n",
       " 'fn_41',\n",
       " 'fn_56',\n",
       " 'fn_57',\n",
       " 'fn_6',\n",
       " 'fn_61',\n",
       " 'fn_67',\n",
       " 'fn_79',\n",
       " 'fn_80',\n",
       " 'fn_84',\n",
       " 'fn_9',\n",
       " 'fn_90'}"
      ]
     },
     "execution_count": 7,
     "metadata": {},
     "output_type": "execute_result"
    }
   ],
   "source": [
    "set(used_invs)"
   ]
  },
  {
   "cell_type": "code",
   "execution_count": 14,
   "metadata": {},
   "outputs": [],
   "source": [
    "import pickle\n",
    "with open(\"/work/ldierkes/repos/new/LambdaBeam/crossbeam/data/dreamcoder_test_tasks.pkl\", 'rb') as file:\n",
    "    original_tasks = pickle.load(file)"
   ]
  },
  {
   "cell_type": "code",
   "execution_count": 15,
   "metadata": {},
   "outputs": [
    {
     "data": {
      "text/plain": [
       "104"
      ]
     },
     "execution_count": 15,
     "metadata": {},
     "output_type": "execute_result"
    }
   ],
   "source": [
    "len(original_tasks)"
   ]
  },
  {
   "cell_type": "code",
   "execution_count": 26,
   "metadata": {},
   "outputs": [
    {
     "data": {
      "image/png": "[encoded data removed]",
      "text/plain": [
       "<Figure size 640x480 with 1 Axes>"
      ]
     },
     "metadata": {},
     "output_type": "display_data"
    }
   ],
   "source": [
    "import networkx as nx\n",
    "import matplotlib.pyplot as plt\n",
    "\n",
    "def generate_tree(depth, max_degree):\n",
    "    G = nx.Graph()\n",
    "    node_count = 1\n",
    "\n",
    "    def add_nodes(parent, depth):\n",
    "        nonlocal node_count\n",
    "        if depth == 0:\n",
    "            return\n",
    "        for i in range(max_degree):\n",
    "            child = node_count\n",
    "            node_count += 1\n",
    "            G.add_edge(parent, child)\n",
    "            add_nodes(child, depth - 1)\n",
    "\n",
    "    add_nodes(0, depth)\n",
    "    return G\n",
    "\n",
    "depth = 3  # Specify the depth of the tree\n",
    "max_degree = 3  # Specify the maximum degree of each node\n",
    "\n",
    "tree = generate_tree(depth, max_degree)\n",
    "\n",
    "# Draw the tree\n",
    "pos = nx.spring_layout(tree)\n",
    "nx.draw(tree, pos, with_labels=True, font_weight='bold', node_size=700, node_color='skyblue', font_size=8)\n",
    "plt.show()\n"
   ]
  },
  {
   "cell_type": "code",
   "execution_count": 23,
   "metadata": {},
   "outputs": [
    {
     "name": "stdout",
     "output_type": "stream",
     "text": [
      "Task(\n",
      "    name='remove-index-k with k=1',\n",
      "    inputs_dict={'x1': [[4, 8, 11, 0, 8, 11], [14, 13, 8, 15, 8, 10, 0, 6], [8, 10, 12, 11, 8, 8], [4, 4, 12, 7, 13, 9, 1], [13, 4, 11, 10, 5], [12, 14, 15, 4, 8, 1, 0, 10], [0, 10, 4, 11, 14], [13], [10], [2, 8, 12], [1], [12, 15, 10, 10, 3, 8, 1], [6, 10, 8, 14, 2, 12], [6, 0], [16]]},\n",
      "    outputs=[[8, 11, 0, 8, 11], [13, 8, 15, 8, 10, 0, 6], [10, 12, 11, 8, 8], [4, 12, 7, 13, 9, 1], [4, 11, 10, 5], [14, 15, 4, 8, 1, 0, 10], [10, 4, 11, 14], [], [], [8, 12], [], [15, 10, 10, 3, 8, 1], [10, 8, 14, 2, 12], [0], []],\n",
      "    solution=None\n",
      ")\n"
     ]
    }
   ],
   "source": [
    "print(original_tasks[-6])"
   ]
  },
  {
   "cell_type": "code",
   "execution_count": 19,
   "metadata": {},
   "outputs": [
    {
     "name": "stdout",
     "output_type": "stream",
     "text": [
      "Fold((lambda u1, u2: ((lambda v1: Multiply(v1, v1)))(u2)), Length(x1), Cdr(Cdr(Cdr(x1))))\n",
      "Cons(Fold((lambda u1, u2: ((lambda v1: Subtract(1, v1)))(u1)), Add(1, 1), x1), [])\n",
      "Fold((lambda u1, u2: ((lambda v1: Fold((lambda u1, u2: []), Cons(0, x1), v1)))(u1)), x1, Cdr(x1))\n",
      "Cdr(Fold((lambda u1, u2: ((lambda v1: Cons(1, v1)))(u1)), Cons(Length(x1), x1), x1))\n",
      "Mod(Car(x1), Fold((lambda u1, u2: ((lambda v1, v2: Subtract(v1, v2)))(u1, u2)), 1, x1))\n",
      "Cons(0, Fold((lambda u1, u2: ((lambda v1: Cons(0, v1)))(u1)), Cdr(Cdr(x1)), x1))\n",
      "Cons(Fold((lambda u1, u2: ((lambda v1: Subtract(v1, 1)))(u2)), 0, Cdr(Cdr(x1))), [])\n",
      "Fold((lambda u1, u2: ((lambda v1: Mod(v1, Subtract(Car(x1), 1))))(u2)), [], Cdr(x1))\n",
      "Fold((lambda u1, u2: ((lambda v1: Subtract(v1, Add(1, Length(x1)))))(u2)), 1, Cdr(x1))\n",
      "Fold((lambda u1, u2: ((lambda v1: Cons(v1, Cdr(Map((lambda u1: 1), x1)))))(u2)), 1, Cdr(x1))\n",
      "Fold((lambda u1, u2: ((lambda v1: Subtract(Length(Cdr(x1)), v1)))(u1)), 1, Cdr(Cdr(x1)))\n",
      "Fold((lambda u1, u2: ((lambda v1: Mod(Car(x1), v1)))(u2)), Cons(1, x1), Cdr(x1))\n",
      "Fold((lambda u1, u2: Map((lambda u1: ((lambda v1: Subtract(1, v1)))(u1)), x1)), 0, Cdr(Cdr(x1)))\n",
      "Fold((lambda u1, u2: ((lambda v1, v2: Cons(v1, v2)))(u2, u1)), x1, Cdr(Cdr(Cdr(x1))))\n",
      "Fold((lambda u1, u2: 1), Map((lambda u1: ((lambda v1: Add(v1, v1)))(u1)), x1), Cdr(Cdr(x1)))\n",
      "Fold((lambda u1, u2: ((lambda v1: If(((lambda v1: IsPrime(v1)))(v1), 0, 1)))(u2)), [], Cdr(x1))\n",
      "Fold((lambda u1, u2: ((lambda v1: Fold((lambda u1, u2: []), Cons(1, Cdr(x1)), v1)))(u1)), x1, x1)\n",
      "Cons(Fold((lambda u1, u2: ((lambda v1: Add(v1, Car(x1))))(u2)), 0, Cdr(x1)), x1)\n",
      "Subtract(1, Fold((lambda u1, u2: ((lambda v1: Subtract(Length(x1), v1)))(u1)), Car(x1), x1))\n",
      "Subtract(Length(x1), Fold((lambda u1, u2: ((lambda v1: Add(v1, v1)))(u1)), Car(x1), x1))\n",
      "Cdr(Fold((lambda u1, u2: ((lambda v1: Cons(1, v1)))(u1)), Cons(Length(x1), []), x1))\n",
      "Map((lambda u1: Fold((lambda u1, u2: ((lambda v1: Subtract(v1, 0)))(u2)), 1, Cdr(Cdr(x1)))), x1)\n",
      "Cons(Fold((lambda u1, u2: ((lambda v1, v2: Subtract(v1, v2)))(u2, u1)), 0, Cdr(x1)), x1)\n",
      "Fold((lambda u1, u2: ((lambda v1: Subtract(v1, Length(Cdr(x1)))))(u2)), 1, Cdr(Cdr(x1)))\n",
      "Cdr(Fold((lambda u1, u2: ((lambda v1: Cons(0, v1)))(u1)), x1, Cdr(Cdr(Cdr(x1)))))\n",
      "Fold((lambda u1, u2: ((lambda v1: If(((lambda v1: IsPrime(v1)))(v1), 0, v1)))(u2)), 0, Cdr(x1))\n",
      "Cons(Fold((lambda u1, u2: ((lambda v1: Subtract(0, v1)))(u1)), 1, x1), Cons(0, x1))\n",
      "Fold((lambda u1, u2: ((lambda v1: Cons(Car(x1), ((lambda v1: Cons(0, v1)))(v1))))(u1)), x1, x1)\n",
      "Fold((lambda u1, u2: 1), Mod(1, Subtract(1, Car(x1))), Cdr(Cdr(x1)))\n",
      "Fold((lambda u1, u2: ((lambda v1: Mod(v1, Length(Cdr(x1)))))(u2)), 0, Cdr(Cdr(x1)))\n",
      "Subtract(1, Fold((lambda u1, u2: ((lambda v1, v2: Subtract(v1, v2)))(u2, u1)), Length(x1), x1))\n",
      "Multiply(Length(x1), Fold((lambda u1, u2: ((lambda v1: Mod(1, v1)))(u2)), 1, Cdr(x1)))\n",
      "Fold((lambda u1, u2: ((lambda v1: Add(v1, Add(1, 1))))(u2)), x1, Cdr(Cdr(x1)))\n",
      "Fold((lambda u1, u2: ((lambda v1: Cons(0, ((lambda v1: Cons(1, v1)))(v1))))(u1)), Cdr(x1), x1)\n",
      "Cons(0, Fold((lambda u1, u2: Cdr(x1)), Cons(1, []), Cdr(Cdr(x1))))\n",
      "Add(Car(x1), Fold((lambda u1, u2: ((lambda v1, v2: Subtract(v1, v2)))(u2, u1)), 1, x1))\n",
      "Subtract(Fold((lambda u1, u2: ((lambda v1: Subtract(0, v1)))(u1)), 1, x1), Add(1, 1))\n",
      "Fold((lambda u1, u2: ((lambda v1: Subtract(Length(Cdr(x1)), v1)))(u2)), 1, Cdr(Cdr(x1)))\n",
      "Cdr(Cdr(Cdr(Cdr(Fold((lambda u1, u2: ((lambda v1: Cons(1, v1)))(u1)), x1, x1)))))\n",
      "Fold((lambda u1, u2: ((lambda v1: Subtract(Length(x1), ((lambda v1: Add(v1, v1)))(v1))))(u1)), 0, x1)\n",
      "Fold((lambda u1, u2: ((lambda v1: Add(1, v1)))(u2)), Cons(1, []), Cdr(Cdr(x1)))\n",
      "Fold((lambda u1, u2: []), Cons(Length(x1), Cons(0, [])), Cdr(Cdr(x1)))\n",
      "Fold((lambda u1, u2: ((lambda v1: Fold((lambda u1, u2: Cdr(Cdr(Cdr(x1)))), x1, v1)))(u1)), [], x1)\n",
      "Map((lambda u1: Fold((lambda u1, u2: ((lambda v1: Subtract(v1, 1)))(u2)), 0, Cdr(Cdr(x1)))), x1)\n",
      "Fold((lambda u1, u2: ((lambda v1: If(IsPrime(Length(x1)), v1, x1)))(u2)), 1, Cdr(x1))\n",
      "Fold((lambda u1, u2: ((lambda v1: Cons(((lambda v1: Mod(1, v1)))(v1), x1)))(u2)), 0, Cdr(x1))\n",
      "Fold((lambda u1, u2: ((lambda v1: Cons(v1, x1)))(u2)), Subtract(0, 1), Cdr(Cdr(x1)))\n",
      "Cdr(Fold((lambda u1, u2: ((lambda v1: Cons(1, v1)))(u1)), x1, Cdr(Cdr(Cdr(x1)))))\n",
      "Cons(Fold((lambda u1, u2: ((lambda v1: Subtract(0, v1)))(u1)), Length(x1), Cdr(x1)), [])\n",
      "Fold((lambda u1, u2: ((lambda v1: Subtract(1, v1)))(u2)), Cons(0, []), Cdr(Cdr(x1)))\n",
      "Fold((lambda u1, u2: ((lambda v1: If(((lambda v1: IsPrime(v1)))(v1), 1, x1)))(u2)), 0, Cdr(x1))\n",
      "Map((lambda u1: Subtract(1, Fold((lambda u1, u2: ((lambda v1: Subtract(0, v1)))(u1)), 1, x1))), x1)\n",
      "Fold((lambda u1, u2: Cdr(Map((lambda u1: ((lambda v1: Subtract(v1, 1)))(u1)), x1))), 0, Cdr(x1))\n",
      "Fold((lambda u1, u2: ((lambda v1: Cons(v1, Cons(Length(x1), x1))))(u2)), 0, Cdr(x1))\n",
      "Cons(Subtract(1, Fold((lambda u1, u2: ((lambda v1: Subtract(0, v1)))(u1)), 1, x1)), x1)\n",
      "Fold((lambda u1, u2: Cdr(Map((lambda u1: ((lambda v1: Subtract(0, v1)))(u1)), x1))), 0, Cdr(x1))\n",
      "Fold((lambda u1, u2: ((lambda v1: Subtract(v1, Length(x1))))(u2)), Add(1, 1), Cdr(x1))\n",
      "Fold((lambda u1, u2: ((lambda v1: IsSquare(v1)))(u2)), Add(1, Car(x1)), Cdr(Cdr(x1)))\n",
      "Map((lambda u1: ((lambda v1: Add(1, v1)))(u1)), Fold((lambda u1, u2: x1), [], Cdr(Cdr(x1))))\n",
      "Fold((lambda u1, u2: IsPrime(Index(Length(Cdr(Cdr(x1))), x1))), x1, Cdr(x1))\n",
      "Subtract(Car(x1), Fold((lambda u1, u2: ((lambda v1: Subtract(1, v1)))(u1)), Length(x1), x1))\n",
      "Subtract(Fold((lambda u1, u2: ((lambda v1: Subtract(1, v1)))(u1)), Car(x1), x1), Length(x1))\n",
      "Fold((lambda u1, u2: ((lambda v1: IsSquare(v1)))(u2)), Cons(Length(x1), []), Cdr(Cdr(x1)))\n",
      "Fold((lambda u1, u2: ((lambda v1: Subtract(0, v1)))(u1)), Add(1, Length(x1)), Cdr(x1))\n",
      "Fold((lambda u1, u2: ((lambda v1: Cons(Length(Cdr(x1)), v1)))(u1)), Map((lambda u1: 0), x1), x1)\n",
      "Fold((lambda u1, u2: ((lambda v1: IsPrime(((lambda v1: Subtract(v1, 1)))(v1))))(u2)), 0, Cdr(Cdr(x1)))\n",
      "Fold((lambda u1, u2: ((lambda v1: Mod(v1, ((lambda v1: Multiply(v1, v1)))(v1))))(u2)), 1, Cdr(x1))\n",
      "Fold((lambda u1, u2: ((lambda v1: Add(v1, Car(x1))))(u2)), Cdr(x1), Cdr(Cdr(x1)))\n",
      "Fold((lambda u1, u2: ((lambda v1: Cons(1, v1)))(u1)), Cdr(Map((lambda u1: Length(x1)), x1)), x1)\n",
      "Fold((lambda u1, u2: ((lambda v1: Cons(((lambda v1: Length(v1)))(v1), v1)))(u1)), Map((lambda u1: 1), x1), x1)\n",
      "Fold((lambda u1, u2: ((lambda v1: Subtract(1, v1)))(u1)), Add(Length(x1), Length(x1)), x1)\n",
      "Fold((lambda u1, u2: ((lambda v1: Cons(0, ((lambda v1: Cons(v1, x1)))(v1))))(u2)), [], Cdr(x1))\n",
      "Add(Car(x1), Fold((lambda u1, u2: ((lambda v1: Mod(1, v1)))(u2)), 1, Cdr(x1)))\n",
      "Fold((lambda u1, u2: ((lambda v1: Cons(((lambda v1: Length(((lambda v1: Cdr(v1)))(v1))))(v1), v1)))(u1)), [], x1)\n",
      "Fold((lambda u1, u2: ((lambda v1: Cdr(v1)))(u1)), Cons(0, Cons(1, [])), Cdr(x1))\n",
      "Cons(Add(1, Fold((lambda u1, u2: ((lambda v1: Subtract(0, v1)))(u1)), 1, x1)), x1)\n",
      "Fold((lambda u1, u2: ((lambda v1: If(((lambda v1: IsPrime(v1)))(v1), [], v1)))(u2)), 1, Cdr(x1))\n",
      "Fold((lambda u1, u2: ((lambda v1: Subtract(Length(x1), v1)))(u1)), Add(1, 1), Cdr(x1))\n",
      "Multiply(Car(x1), Fold((lambda u1, u2: ((lambda v1: Subtract(1, v1)))(u1)), Length(x1), x1))\n",
      "Fold((lambda u1, u2: ((lambda v1: Cons(v1, Cons(1, []))))(u2)), [], Cdr(Cdr(x1)))\n",
      "Fold((lambda u1, u2: ((lambda v1: Cons(((lambda v1: Length(v1)))(v1), v1)))(u1)), x1, Cdr(Cdr(x1)))\n",
      "Subtract(0, Fold((lambda u1, u2: ((lambda v1: Mod(Car(x1), v1)))(u2)), 1, Cdr(x1)))\n",
      "Fold((lambda u1, u2: ((lambda v1: IsPrime(v1)))(u2)), Map((lambda u1: Length(x1)), x1), Cdr(Cdr(x1)))\n",
      "Cons(Length(x1), Fold((lambda u1, u2: ((lambda v1: Fold((lambda u1, u2: []), x1, v1)))(u1)), [], x1))\n",
      "Cons(0, Fold((lambda u1, u2: ((lambda v1: Cdr(v1)))(u1)), x1, Cdr(Cdr(Cdr(x1)))))\n",
      "Fold((lambda u1, u2: ((lambda v1: Subtract(Length(Cdr(Cdr(x1))), v1)))(u1)), Car(x1), x1)\n",
      "Subtract(Fold((lambda u1, u2: ((lambda v1: Subtract(Length(x1), v1)))(u1)), 0, Cdr(x1)), 1)\n",
      "Subtract(1, Fold((lambda u1, u2: ((lambda v1: Add(v1, v1)))(u1)), 1, Cons(0, x1)))\n",
      "Fold((lambda u1, u2: Map((lambda u1: ((lambda v1: Subtract(Car(x1), v1)))(u1)), x1)), 0, Cdr(x1))\n",
      "Cons(Fold((lambda u1, u2: ((lambda v1: Add(v1, Car(x1))))(u2)), 1, Cdr(x1)), [])\n",
      "Fold((lambda u1, u2: ((lambda v1: Subtract(Multiply(Car(x1), Length(x1)), v1)))(u1)), 1, x1)\n",
      "Fold((lambda u1, u2: ((lambda v1: Cons(((lambda v1: Add(v1, v1)))(v1), x1)))(u2)), 1, Cdr(x1))\n",
      "Subtract(1, Fold((lambda u1, u2: ((lambda v1, v2: Subtract(v1, v2)))(u2, u1)), 0, Cdr(x1)))\n",
      "Fold((lambda u1, u2: Map((lambda u1: Length(x1)), x1)), Cons(0, []), Cdr(Cdr(x1)))\n",
      "Fold((lambda u1, u2: ((lambda v1: Multiply(v1, Subtract(Car(x1), 1))))(u2)), x1, Cdr(x1))\n",
      "Fold((lambda u1, u2: ((lambda v1: Cons(v1, ((lambda v1: Cons(v1, x1)))(v1))))(u2)), 1, Cdr(x1))\n",
      "Fold((lambda u1, u2: ((lambda v1: Mod(v1, Length(x1))))(u2)), Cons(0, x1), Cdr(x1))\n",
      "Cdr(Fold((lambda u1, u2: ((lambda v1: Cons(Car(x1), v1)))(u1)), Cons(1, []), x1))\n",
      "Fold((lambda u1, u2: ((lambda v1: Mod(Add(1, Length(x1)), v1)))(u2)), [], Cdr(x1))\n",
      "Fold((lambda u1, u2: ((lambda v1: If(((lambda v1: IsPrime(v1)))(v1), v1, [])))(u2)), 0, Cdr(x1))\n",
      "Fold((lambda u1, u2: Cons(1, Cons(0, Cdr(x1)))), 0, Cdr(Cdr(x1)))\n",
      "Fold((lambda u1, u2: ((lambda v1: Cons(Length(x1), v1)))(u1)), Cdr(x1), Cons(0, x1))\n",
      "Fold((lambda u1, u2: ((lambda v1: Subtract(Subtract(0, Length(x1)), v1)))(u2)), 1, Cdr(x1))\n",
      "Fold((lambda u1, u2: ((lambda v1: Cons(Subtract(0, 1), v1)))(u1)), Cons(0, []), x1)\n",
      "Fold((lambda u1, u2: ((lambda v1: Fold((lambda u1, u2: []), Cons(0, Cdr(x1)), v1)))(u1)), [], x1)\n",
      "Subtract(Fold((lambda u1, u2: ((lambda v1: Subtract(1, v1)))(u2)), 0, Cdr(x1)), Length(x1))\n",
      "Fold((lambda u1, u2: ((lambda v1: If(IsPrime(Length(x1)), v1, x1)))(u2)), [], Cdr(x1))\n",
      "Fold((lambda u1, u2: Map((lambda u1: ((lambda v1: Subtract(v1, 1)))(u1)), x1)), 1, Cdr(Cdr(x1)))\n",
      "Fold((lambda u1, u2: ((lambda v1: Subtract(0, v1)))(u2)), Add(1, 1), Cdr(Cdr(x1)))\n",
      "Fold((lambda u1, u2: ((lambda v1: Cdr(v1)))(u1)), Fold((lambda u1, u2: x1), 1, Cdr(x1)), Cdr(x1))\n",
      "Fold((lambda u1, u2: ((lambda v1, v2: Subtract(v1, v2)))(u1, u2)), Add(1, Length(x1)), x1)\n",
      "Subtract(0, Fold((lambda u1, u2: ((lambda v1, v2: Add(v1, v2)))(u1, u2)), Car(x1), x1))\n",
      "Fold((lambda u1, u2: ((lambda v1: Cons(1, ((lambda v1: Cons(Length(x1), v1)))(v1))))(u1)), [], x1)\n",
      "Fold((lambda u1, u2: ((lambda v1: Add(1, v1)))(u2)), 1, Cdr(Cdr(Cdr(Cdr(x1)))))\n",
      "Map((lambda u1: 1), Fold((lambda u1, u2: ((lambda v1: Cdr(v1)))(u1)), x1, Cdr(Cdr(Cdr(x1)))))\n",
      "Cons(Fold((lambda u1, u2: ((lambda v1: Subtract(Car(x1), v1)))(u1)), 1, Cdr(x1)), [])\n",
      "Fold((lambda u1, u2: ((lambda v1: Subtract(1, v1)))(u1)), Mod(Car(x1), Length(x1)), x1)\n",
      "Cons(Fold((lambda u1, u2: ((lambda v1: Subtract(Length(Cdr(x1)), v1)))(u1)), 0, x1), [])\n",
      "Add(Car(x1), Fold((lambda u1, u2: ((lambda v1: Subtract(0, v1)))(u1)), Length(x1), x1))\n",
      "Fold((lambda u1, u2: ((lambda v1: Map((lambda u1: ((lambda v1: Add(v1, v1)))(v1)), x1)))(u2)), [], Cdr(x1))\n",
      "Fold((lambda u1, u2: ((lambda v1: Subtract(v1, 0)))(u2)), Map((lambda u1: 0), x1), Cdr(Cdr(x1)))\n",
      "Fold((lambda u1, u2: ((lambda v1, v2: Add(v1, v2)))(u1, u2)), 1, Cdr(Cdr(Cdr(x1))))\n",
      "Cons(1, Cons(Fold((lambda u1, u2: 1), 0, Cdr(Cdr(Cdr(x1)))), x1))\n",
      "Fold((lambda u1, u2: ((lambda v1: If(((lambda v1: IsSquare(v1)))(v1), x1, 0)))(u2)), 1, Cdr(x1))\n",
      "Map((lambda u1: Fold((lambda u1, u2: ((lambda v1, v2: Subtract(v1, v2)))(u1, u2)), 0, Cdr(x1))), x1)\n",
      "Mod(Length(x1), Fold((lambda u1, u2: ((lambda v1: Add(1, v1)))(u2)), 1, Cdr(x1)))\n",
      "Fold((lambda u1, u2: ((lambda v1: Subtract(1, v1)))(u2)), 1, Cdr(Cdr(Cdr(Cdr(x1)))))\n",
      "Fold((lambda u1, u2: ((lambda v1: IsSquare(v1)))(u2)), Cons(0, []), Cdr(Cdr(Cdr(x1))))\n",
      "Fold((lambda u1, u2: Map((lambda u1: ((lambda v1: Subtract(1, v1)))(u1)), x1)), x1, Cdr(Cdr(x1)))\n",
      "Fold((lambda u1, u2: ((lambda v1: Cons(Add(1, 1), v1)))(u1)), Cdr(Cdr(x1)), x1)\n",
      "Fold((lambda u1, u2: ((lambda v1: Cons(v1, Cons(0, Cdr(x1)))))(u2)), 1, Cdr(x1))\n",
      "Fold((lambda u1, u2: ((lambda v1: Cons(v1, Cdr(Map((lambda u1: 1), x1)))))(u2)), [], Cdr(x1))\n",
      "Map((lambda u1: Subtract(0, 1)), Fold((lambda u1, u2: x1), [], Cdr(Cdr(Cdr(x1)))))\n",
      "Map((lambda u1: 0), Fold((lambda u1, u2: x1), Cons(0, []), Cdr(Cdr(Cdr(x1)))))\n",
      "Fold((lambda u1, u2: 0), Map((lambda u1: ((lambda v1: Subtract(1, v1)))(u1)), x1), Cdr(Cdr(x1)))\n",
      "Cons(0, Cons(1, Fold((lambda u1, u2: ((lambda v1: Cons(0, v1)))(u1)), x1, x1)))\n",
      "Fold((lambda u1, u2: ((lambda v1: Subtract(1, ((lambda v1: Add(v1, v1)))(v1))))(u1)), 0, Cdr(x1))\n",
      "Fold((lambda u1, u2: ((lambda v1: Subtract(v1, 0)))(u2)), Cons(1, []), Cdr(Cdr(x1)))\n",
      "Cons(Subtract(0, Car(x1)), Fold((lambda u1, u2: x1), [], Cdr(Cdr(x1))))\n",
      "Fold((lambda u1, u2: ((lambda v1: If(IsPrime(Length(x1)), v1, 1)))(u2)), 0, Cdr(x1))\n",
      "Fold((lambda u1, u2: Subtract(0, Add(Length(x1), Length(x1)))), [], Cdr(x1))\n",
      "Fold((lambda u1, u2: ((lambda v1: Cons(Length(Cdr(x1)), v1)))(u1)), Cons(0, x1), x1)\n",
      "Fold((lambda u1, u2: ((lambda v1: If(IsPrime(Length(x1)), 0, v1)))(u2)), [], Cdr(x1))\n",
      "Subtract(Fold((lambda u1, u2: ((lambda v1: Subtract(0, v1)))(u1)), Add(1, 1), x1), 1)\n",
      "Fold((lambda u1, u2: ((lambda v1: Add(v1, v1)))(u2)), [], Cdr(Cdr(Cdr(Cdr(x1)))))\n",
      "Fold((lambda u1, u2: ((lambda v1: If(((lambda v1: IsSquare(v1)))(v1), x1, [])))(u2)), 0, Cdr(x1))\n",
      "Subtract(1, Fold((lambda u1, u2: ((lambda v1: Subtract(Length(Cdr(x1)), v1)))(u1)), 1, x1))\n",
      "Fold((lambda u1, u2: ((lambda v1: Cons(1, ((lambda v1: Cons(Car(x1), v1)))(v1))))(u1)), [], x1)\n",
      "Add(1, Fold((lambda u1, u2: ((lambda v1: Mod(Car(x1), v1)))(u2)), 0, Cdr(x1)))\n",
      "Fold((lambda u1, u2: ((lambda v1: Map((lambda u1: ((lambda v1: Mod(1, v1)))(v1)), x1)))(u2)), [], Cdr(x1))\n",
      "Fold((lambda u1, u2: Cons(Length(x1), Cons(0, Cdr(x1)))), x1, Cdr(x1))\n",
      "Fold((lambda u1, u2: ((lambda v1: Cons(((lambda v1: Length(v1)))(v1), v1)))(u1)), x1, Cons(0, x1))\n",
      "Fold((lambda u1, u2: ((lambda v1: Index(v1, x1)))(u2)), x1, Cdr(Cdr(Map((lambda u1: 1), x1))))\n",
      "Multiply(Car(x1), Fold((lambda u1, u2: ((lambda v1: Add(1, v1)))(u2)), 0, Cdr(x1)))\n",
      "Fold((lambda u1, u2: ((lambda v1, v2: Mod(v1, v2)))(u1, u2)), Length(x1), Cdr(Cdr(x1)))\n",
      "Fold((lambda u1, u2: ((lambda v1: Cons(v1, Map((lambda u1: Length(x1)), x1))))(u2)), [], Cdr(x1))\n",
      "Fold((lambda u1, u2: ((lambda v1: Cdr(v1)))(u1)), Cons(1, Cons(0, [])), Cdr(x1))\n",
      "Fold((lambda u1, u2: ((lambda v1: Add(v1, Car(x1))))(u2)), Add(1, 1), Cdr(x1))\n",
      "Map((lambda u1: ((lambda v1: Subtract(Length(x1), v1)))(u1)), Fold((lambda u1, u2: x1), [], Cdr(x1)))\n",
      "Fold((lambda u1, u2: ((lambda v1: Add(1, v1)))(u2)), Car(x1), Cdr(Cdr(Cdr(x1))))\n",
      "Fold((lambda u1, u2: ((lambda v1: Fold((lambda u1, u2: Cons(0, x1)), x1, v1)))(u1)), [], Cdr(x1))\n",
      "Fold((lambda u1, u2: ((lambda v1: Cons(0, ((lambda v1: Cons(v1, [])))(v1))))(u2)), 0, Cdr(x1))\n",
      "Cons(Fold((lambda u1, u2: ((lambda v1: Subtract(0, v1)))(u1)), 1, x1), Cons(1, []))\n",
      "Fold((lambda u1, u2: ((lambda v1: If(((lambda v1: IsPrime(v1)))(v1), x1, 0)))(u2)), x1, Cdr(x1))\n",
      "Fold((lambda u1, u2: ((lambda v1: If(((lambda v1: IsSquare(v1)))(v1), x1, v1)))(u2)), x1, Cdr(x1))\n",
      "If(Fold((lambda u1, u2: ((lambda v1: Greater(1, v1)))(u1)), 1, x1), x1, Cdr(x1))\n",
      "Cons(1, Fold((lambda u1, u2: ((lambda v1: Cons(v1, [])))(u2)), x1, Cdr(Cdr(x1))))\n",
      "Fold((lambda u1, u2: ((lambda v1: Mod(Length(Cdr(x1)), v1)))(u2)), 0, Cdr(Cdr(x1)))\n",
      "Multiply(Car(x1), Fold((lambda u1, u2: ((lambda v1, v2: Subtract(v1, v2)))(u2, u1)), 1, x1))\n",
      "Fold((lambda u1, u2: ((lambda v1: Cons(0, ((lambda v1: Cons(Length(x1), v1)))(v1))))(u1)), x1, x1)\n",
      "Fold((lambda u1, u2: 1), Map((lambda u1: ((lambda v1: Subtract(0, v1)))(u1)), x1), Cdr(Cdr(x1)))\n",
      "Fold((lambda u1, u2: ((lambda v1: IsSquare(v1)))(u2)), Cons(1, Cons(0, x1)), Cdr(x1))\n",
      "Fold((lambda u1, u2: IsSquare(0)), Cons(1, Cons(1, x1)), Cdr(Cdr(x1)))\n",
      "Fold((lambda u1, u2: ((lambda v1: If(IsPrime(Length(x1)), [], v1)))(u2)), 0, Cdr(x1))\n",
      "Fold((lambda u1, u2: ((lambda v1: Map((lambda u1: ((lambda v1: Subtract(v1, 0)))(v1)), x1)))(u2)), 1, Cdr(x1))\n",
      "Cons(0, Fold((lambda u1, u2: ((lambda v1: Cons(Length(Cdr(x1)), v1)))(u1)), x1, x1))\n",
      "Fold((lambda u1, u2: ((lambda v1: Subtract(0, v1)))(u2)), Length(x1), Cdr(Cdr(Cdr(x1))))\n",
      "Fold((lambda u1, u2: ((lambda v1: Cons(v1, x1)))(u2)), Cdr(x1), Cdr(Cdr(Cdr(x1))))\n",
      "Fold((lambda u1, u2: ((lambda v1, v2: Subtract(v1, ((lambda v1: Add(v1, v1)))(v2))))(u1, u2)), 1, x1)\n",
      "If(Fold((lambda u1, u2: ((lambda v1: Greater(1, v1)))(u1)), 1, x1), x1, Length(x1))\n",
      "Fold((lambda u1, u2: ((lambda v1: Cons(v1, Cons(1, x1))))(u2)), 1, Cdr(Cdr(x1)))\n",
      "Fold((lambda u1, u2: Car(x1)), Subtract(Length(x1), Car(x1)), Cdr(Cdr(x1)))\n",
      "Fold((lambda u1, u2: ((lambda v1: Cons(((lambda v1: Length(v1)))(v1), Cons(0, x1))))(u1)), [], x1)\n",
      "Cons(Fold((lambda u1, u2: ((lambda v1, v2: Add(v1, v2)))(u1, u2)), Car(x1), x1), [])\n",
      "Fold((lambda u1, u2: Map((lambda u1: ((lambda v1: Multiply(v1, Length(x1))))(u1)), x1)), 1, Cdr(x1))\n",
      "Map((lambda u1: ((lambda v1: Fold((lambda u1, u2: ((lambda v1: Subtract(0, v1)))(u1)), v1, Cdr(x1))))(u1)), x1)\n",
      "Cons(Fold((lambda u1, u2: ((lambda v1: Subtract(1, v1)))(u1)), Length(Cdr(x1)), x1), x1)\n",
      "Fold((lambda u1, u2: ((lambda v1, v2: If(((lambda v1: IsSquare(v1)))(v2), v1, v2)))(u1, u2)), x1, x1)\n",
      "Fold((lambda u1, u2: ((lambda v1: Cdr(v1)))(u1)), Cons(0, Cdr(x1)), Cdr(Cdr(x1)))\n",
      "Cons(1, Map((lambda u1: 0), Fold((lambda u1, u2: ((lambda v1: Cons(0, v1)))(u1)), x1, x1)))\n",
      "Subtract(Car(x1), Fold((lambda u1, u2: 0), Add(1, 1), Cdr(Cdr(x1))))\n",
      "Cons(Car(x1), Fold((lambda u1, u2: ((lambda v1: Fold((lambda u1, u2: []), x1, v1)))(u1)), [], x1))\n",
      "Fold((lambda u1, u2: ((lambda v1: If(((lambda v1: IsPrime(v1)))(v1), v1, x1)))(u2)), [], Cdr(x1))\n",
      "Cons(Fold((lambda u1, u2: ((lambda v1, v2: Add(v1, v2)))(u1, u2)), Car(x1), x1), x1)\n",
      "Fold((lambda u1, u2: ((lambda v1: If(((lambda v1: IsSquare(v1)))(v1), x1, v1)))(u2)), 0, Cdr(x1))\n",
      "Fold((lambda u1, u2: ((lambda v1: Subtract(Add(1, 1), v1)))(u2)), x1, Cdr(Cdr(x1)))\n",
      "Cons(Fold((lambda u1, u2: ((lambda v1, v2: Add(v1, v2)))(u1, u2)), 1, x1), Cdr(x1))\n",
      "Cons(1, Fold((lambda u1, u2: ((lambda v1: Cons(v1, x1)))(u2)), [], Cdr(Cdr(x1))))\n",
      "Map((lambda u1: Fold((lambda u1, u2: ((lambda v1: Subtract(0, v1)))(u1)), Length(Cdr(x1)), x1)), x1)\n",
      "Fold((lambda u1, u2: ((lambda v1: If(((lambda v1: IsSquare(v1)))(v1), 1, [])))(u2)), [], Cdr(x1))\n",
      "Fold((lambda u1, u2: ((lambda v1: Add(1, ((lambda v1: Add(v1, v1)))(v1))))(u1)), Car(x1), x1)\n",
      "Map((lambda u1: Fold((lambda u1, u2: ((lambda v1: Subtract(v1, Length(x1))))(u2)), 1, Cdr(x1))), x1)\n",
      "Fold((lambda u1, u2: ((lambda v1: Add(1, ((lambda v1: Add(v1, v1)))(v1))))(u2)), x1, Cdr(x1))\n",
      "Fold((lambda u1, u2: ((lambda v1: Subtract(0, ((lambda v1: Multiply(v1, v1)))(v1))))(u2)), [], Cdr(x1))\n",
      "Subtract(0, Fold((lambda u1, u2: ((lambda v1, v2: Subtract(v1, v2)))(u1, u2)), 1, Cdr(x1)))\n",
      "Cons(Fold((lambda u1, u2: ((lambda v1: Add(v1, v1)))(u1)), 1, Cons(0, x1)), x1)\n",
      "Fold((lambda u1, u2: ((lambda v1: Cons(Add(1, 1), v1)))(u1)), Cons(1, []), x1)\n",
      "Map((lambda u1: Subtract(Fold((lambda u1, u2: ((lambda v1: Subtract(0, v1)))(u1)), 1, x1), 1)), x1)\n",
      "Cdr(Cdr(Fold((lambda u1, u2: ((lambda v1: Cdr(v1)))(u1)), x1, Cdr(Cdr(Cdr(x1))))))\n",
      "Fold((lambda u1, u2: ((lambda v1: Cons(((lambda v1: Subtract(0, v1)))(v1), [])))(u2)), 1, Cdr(x1))\n",
      "Fold((lambda u1, u2: ((lambda v1: Cons(v1, Cdr(Cdr(x1)))))(u2)), 1, Cdr(Cdr(x1)))\n",
      "Cdr(Fold((lambda u1, u2: ((lambda v1: Cons(0, v1)))(u1)), Cons(Car(x1), []), x1))\n",
      "Subtract(Fold((lambda u1, u2: ((lambda v1: Subtract(v1, 1)))(u2)), 1, Cdr(x1)), Car(x1))\n",
      "Subtract(0, Fold((lambda u1, u2: ((lambda v1: Add(v1, v1)))(u1)), 1, Cdr(Cdr(x1))))\n",
      "Cdr(Fold((lambda u1, u2: ((lambda v1: Cons(0, v1)))(u1)), Cons(Length(x1), x1), x1))\n",
      "Add(1, Fold((lambda u1, u2: ((lambda v1: Add(1, v1)))(u2)), 1, Cdr(Cdr(x1))))\n",
      "Fold((lambda u1, u2: ((lambda v1, v2: Add(v1, v2)))(u1, u2)), 1, Cons(1, Cdr(x1)))\n",
      "Fold((lambda u1, u2: ((lambda v1: Subtract(Subtract(1, Car(x1)), v1)))(u2)), [], Cdr(x1))\n",
      "Fold((lambda u1, u2: ((lambda v1: Add(v1, v1)))(u2)), x1, Cdr(Cdr(Cdr(Cdr(x1)))))\n",
      "Fold((lambda u1, u2: Greater(Cdr(x1), x1)), Map((lambda u1: 1), x1), Cdr(Cdr(x1)))\n",
      "Fold((lambda u1, u2: ((lambda v1: Cons(Car(x1), ((lambda v1: Map((lambda u1: 0), v1)))(v1))))(u1)), x1, x1)\n",
      "Cons(Add(Length(x1), Fold((lambda u1, u2: 1), 0, Cdr(Cdr(x1)))), x1)\n",
      "Fold((lambda u1, u2: ((lambda v1: If(((lambda v1: IsPrime(v1)))(v1), x1, [])))(u2)), 1, Cdr(x1))\n",
      "Fold((lambda u1, u2: ((lambda v1: Mod(Length(Cdr(x1)), v1)))(u2)), x1, Cdr(Cdr(x1)))\n",
      "Subtract(0, Fold((lambda u1, u2: ((lambda v1: Subtract(v1, 0)))(u2)), 1, Cdr(Cdr(x1))))\n",
      "Subtract(Car(x1), Fold((lambda u1, u2: ((lambda v1: Subtract(Length(x1), v1)))(u1)), 1, x1))\n",
      "Fold((lambda u1, u2: ((lambda v1: Multiply(v1, Length(x1))))(u2)), 0, Cdr(Cdr(Cdr(x1))))\n",
      "Fold((lambda u1, u2: ((lambda v1: Cons(1, v1)))(u1)), Map((lambda u1: Length(Cdr(x1))), x1), x1)\n",
      "Fold((lambda u1, u2: ((lambda v1: Cons(1, ((lambda v1: Cons(Length(x1), v1)))(v1))))(u1)), x1, x1)\n",
      "Subtract(Car(x1), Fold((lambda u1, u2: ((lambda v1: Add(v1, v1)))(u1)), Car(x1), x1))\n",
      "Fold((lambda u1, u2: ((lambda v1: Cons(Subtract(0, Length(x1)), v1)))(u1)), Cdr(x1), x1)\n",
      "Fold((lambda u1, u2: ((lambda v1: Subtract(v1, 0)))(u2)), [], Cdr(Cdr(Cdr(Cdr(x1)))))\n",
      "Add(Car(x1), Fold((lambda u1, u2: ((lambda v1: Multiply(v1, v1)))(u2)), 1, Cdr(x1)))\n",
      "Fold((lambda u1, u2: ((lambda v1: Subtract(0, v1)))(u1)), Mod(1, Length(x1)), Cdr(x1))\n",
      "Subtract(Fold((lambda u1, u2: ((lambda v1: Add(v1, v1)))(u2)), 1, Cdr(x1)), Car(x1))\n",
      "Fold((lambda u1, u2: ((lambda v1: Multiply(v1, Subtract(0, Car(x1)))))(u2)), x1, Cdr(x1))\n",
      "Fold((lambda u1, u2: ((lambda v1: Subtract(Car(x1), v1)))(u2)), Cons(1, []), Cdr(x1))\n",
      "Fold((lambda u1, u2: ((lambda v1: Subtract(0, ((lambda v1: Add(v1, v1)))(v1))))(u2)), 1, Cdr(x1))\n",
      "Cons(0, Fold((lambda u1, u2: []), Cons(0, []), Cdr(Cdr(Cdr(x1)))))\n",
      "Fold((lambda u1, u2: ((lambda v1: Add(v1, Car(x1))))(u2)), Length(x1), Cdr(Cdr(x1)))\n",
      "Fold((lambda u1, u2: ((lambda v1: If(((lambda v1: IsPrime(v1)))(v1), [], 1)))(u2)), x1, Cdr(x1))\n",
      "Fold((lambda u1, u2: ((lambda v1: Subtract(Add(1, 1), v1)))(u1)), Car(x1), Cdr(x1))\n",
      "Cons(Fold((lambda u1, u2: ((lambda v1: Multiply(v1, v1)))(u2)), 1, Cdr(Cdr(x1))), x1)\n",
      "Fold((lambda u1, u2: 1), Map((lambda u1: ((lambda v1: Add(v1, v1)))(u1)), x1), Cdr(Cdr(x1)))\n",
      "Cons(Subtract(0, 1), Fold((lambda u1, u2: ((lambda v1: Cons(0, v1)))(u1)), x1, x1))\n",
      "Fold((lambda u1, u2: ((lambda v1: Add(v1, ((lambda v1: Mod(v1, Car(x1))))(v1))))(u1)), 1, x1)\n",
      "Map((lambda u1: Car(x1)), Fold((lambda u1, u2: ((lambda v1: Cons(0, v1)))(u1)), x1, Cdr(x1)))\n",
      "Cons(1, Fold((lambda u1, u2: ((lambda v1: Cons(0, v1)))(u1)), Cdr(x1), Cdr(x1)))\n",
      "Fold((lambda u1, u2: Length(Cdr(Cdr(x1)))), Cons(1, []), Cdr(Cdr(x1)))\n",
      "Fold((lambda u1, u2: ((lambda v1: Cons(Subtract(1, Length(Cdr(x1))), v1)))(u1)), x1, x1)\n",
      "Fold((lambda u1, u2: ((lambda v1, v2: Cons(v1, v2)))(u2, u1)), Map((lambda u1: 1), x1), Cdr(x1))\n",
      "Fold((lambda u1, u2: ((lambda v1: Subtract(v1, Car(Cdr(x1)))))(u2)), 1, Cdr(Cdr(x1)))\n",
      "Cons(Fold((lambda u1, u2: ((lambda v1: Add(v1, v1)))(u1)), 1, x1), Cons(1, []))\n",
      "Subtract(Fold((lambda u1, u2: ((lambda v1: Subtract(0, v1)))(u1)), Length(x1), Cdr(x1)), 1)\n",
      "Fold((lambda u1, u2: ((lambda v1: Cons(v1, [])))(u2)), Cons(0, []), Cdr(Cdr(x1)))\n",
      "Add(1, Fold((lambda u1, u2: ((lambda v1: Add(v1, v1)))(u2)), 1, Cdr(Cdr(x1))))\n",
      "Fold((lambda u1, u2: ((lambda v1: Subtract(v1, Length(x1))))(u2)), 1, Cdr(Cdr(Cdr(x1))))\n",
      "Fold((lambda u1, u2: ((lambda v1, v2: Cons(((lambda v1: Add(1, v1)))(v2), v1)))(u1, u2)), x1, x1)\n",
      "Fold((lambda u1, u2: ((lambda v1: Multiply(v1, v1)))(u2)), Subtract(0, 1), Cdr(Cdr(x1)))\n",
      "Fold((lambda u1, u2: ((lambda v1, v2: Subtract(v1, v2)))(u2, u1)), 0, Cons(0, Cdr(x1)))\n",
      "Cons(Fold((lambda u1, u2: ((lambda v1: Subtract(1, v1)))(u1)), Length(x1), Cdr(x1)), x1)\n",
      "Map((lambda u1: Fold((lambda u1, u2: ((lambda v1: Subtract(1, v1)))(u1)), Length(x1), x1)), Cdr(x1))\n",
      "Cdr(Cdr(Fold((lambda u1, u2: ((lambda v1: Cons(0, v1)))(u1)), x1, Cdr(Cdr(x1)))))\n",
      "Fold((lambda u1, u2: ((lambda v1: Cons(v1, Cons(0, []))))(u2)), 0, Cdr(Cdr(x1)))\n",
      "Add(Car(x1), Fold((lambda u1, u2: ((lambda v1, v2: Subtract(v1, v2)))(u2, u1)), 0, x1))\n",
      "Fold((lambda u1, u2: Cons(0, Cdr(x1))), Cons(1, []), Cdr(Cdr(x1)))\n",
      "Map((lambda u1: 0), Fold((lambda u1, u2: ((lambda v1: Cons(0, v1)))(u1)), x1, Cons(0, x1)))\n",
      "Fold((lambda u1, u2: ((lambda v1: Cons(v1, Cons(1, x1))))(u2)), 1, Cdr(Cdr(x1)))\n",
      "Cons(Length(x1), Fold((lambda u1, u2: ((lambda v1: Cons(0, v1)))(u1)), Cdr(x1), x1))\n",
      "Fold((lambda u1, u2: ((lambda v1, v2: Subtract(v1, v2)))(u2, u1)), 0, Cons(Length(x1), x1))\n",
      "Fold((lambda u1, u2: ((lambda v1: Cons(Car(x1), v1)))(u1)), Map((lambda u1: 0), x1), Cdr(x1))\n",
      "Cons(Fold((lambda u1, u2: ((lambda v1: Subtract(0, v1)))(u2)), 0, Cdr(Cdr(x1))), [])\n",
      "Fold((lambda u1, u2: ((lambda v1: Cons(1, v1)))(u1)), Cons(Car(x1), []), Cdr(x1))\n",
      "Fold((lambda u1, u2: ((lambda v1: Subtract(Car(x1), v1)))(u1)), Subtract(1, Length(x1)), x1)\n",
      "Fold((lambda u1, u2: ((lambda v1: Cons(Length(x1), ((lambda v1: Cons(1, v1)))(v1))))(u1)), x1, x1)\n",
      "Fold((lambda u1, u2: ((lambda v1: Cons(v1, x1)))(u2)), Subtract(0, 1), Cdr(Cdr(x1)))\n",
      "Fold((lambda u1, u2: ((lambda v1: Cons(Subtract(Car(Cdr(x1)), 1), v1)))(u1)), x1, x1)\n",
      "Fold((lambda u1, u2: ((lambda v1: Cons(((lambda v1: Length(v1)))(v1), v1)))(u1)), x1, Cons(0, x1))\n",
      "Fold((lambda u1, u2: ((lambda v1, v2: Add(v1, ((lambda v1: Add(v1, v1)))(v2))))(u1, u2)), 1, x1)\n",
      "Fold((lambda u1, u2: ((lambda v1: Subtract(0, v1)))(u1)), Subtract(Car(x1), Length(x1)), x1)\n",
      "Fold((lambda u1, u2: ((lambda v1: Subtract(Length(x1), v1)))(u1)), Subtract(0, Car(x1)), x1)\n",
      "Fold((lambda u1, u2: ((lambda v1: Subtract(Car(x1), v1)))(u1)), Subtract(0, Length(x1)), x1)\n",
      "Fold((lambda u1, u2: ((lambda v1: Cons(v1, [])))(u2)), Cons(0, x1), Cdr(Cdr(x1)))\n",
      "Fold((lambda u1, u2: ((lambda v1: Add(v1, v1)))(u1)), Mod(1, Length(Cdr(x1))), x1)\n",
      "Fold((lambda u1, u2: ((lambda v1: Subtract(v1, Add(1, 1))))(u2)), 1, Cdr(Cdr(x1)))\n",
      "Fold((lambda u1, u2: ((lambda v1: Add(1, v1)))(u2)), Car(x1), Cdr(Cdr(Cdr(x1))))\n",
      "Fold((lambda u1, u2: ((lambda v1: Subtract(v1, Car(x1))))(u2)), [], Cdr(Cdr(Cdr(x1))))\n",
      "Fold((lambda u1, u2: ((lambda v1: Cons(Length(Cdr(x1)), v1)))(u1)), Cons(0, []), x1)\n",
      "Map((lambda u1: Fold((lambda u1, u2: ((lambda v1: Subtract(Length(x1), v1)))(u1)), Car(x1), x1)), x1)\n",
      "Fold((lambda u1, u2: Subtract(Car(x1), Car(Cdr(x1)))), x1, Cdr(Cdr(x1)))\n",
      "Cons(Length(x1), Map((lambda u1: 1), Fold((lambda u1, u2: x1), [], Cdr(Cdr(x1)))))\n",
      "Fold((lambda u1, u2: ((lambda v1: Multiply(v1, Car(Cdr(x1)))))(u2)), x1, Cdr(Cdr(x1)))\n",
      "Fold((lambda u1, u2: ((lambda v1: Cons(Car(x1), v1)))(u1)), Cdr(Cdr(x1)), Cdr(x1))\n",
      "Cons(1, Cons(0, Fold((lambda u1, u2: ((lambda v1: Cdr(v1)))(u1)), x1, Cdr(x1))))\n",
      "Cons(0, Fold((lambda u1, u2: ((lambda v1: Cons(((lambda v1: Length(v1)))(v1), v1)))(u1)), [], x1))\n",
      "Fold((lambda u1, u2: ((lambda v1: Cons(v1, [])))(u2)), Length(x1), Cdr(Cdr(Cdr(x1))))\n",
      "Fold((lambda u1, u2: ((lambda v1: Add(v1, Car(x1))))(u2)), Cdr(x1), Cdr(Cdr(x1)))\n",
      "Fold((lambda u1, u2: ((lambda v1: Cons(v1, x1)))(u2)), IsEmpty([]), Cdr(Cdr(Cdr(x1))))\n",
      "Multiply(Length(x1), Fold((lambda u1, u2: ((lambda v1: Subtract(1, v1)))(u1)), Car(x1), x1))\n",
      "Fold((lambda u1, u2: ((lambda v1: Cons(((lambda v1: Length(v1)))(v1), v1)))(u1)), Map((lambda u1: 1), x1), x1)\n",
      "Fold((lambda u1, u2: ((lambda v1, v2: Subtract(v1, v2)))(u1, u2)), Length(Cdr(x1)), Cdr(x1))\n",
      "Fold((lambda u1, u2: ((lambda v1: Cons(0, v1)))(u1)), Map((lambda u1: Length(Cdr(x1))), x1), x1)\n",
      "Fold((lambda u1, u2: ((lambda v1: Subtract(0, v1)))(u2)), Length(x1), Cdr(Cdr(Cdr(x1))))\n",
      "Fold((lambda u1, u2: ((lambda v1: Add(v1, Add(1, 1))))(u2)), x1, Cdr(Cdr(x1)))\n",
      "Fold((lambda u1, u2: ((lambda v1: Subtract(Length(Cdr(x1)), v1)))(u2)), 0, Cdr(Cdr(x1)))\n",
      "Fold((lambda u1, u2: ((lambda v1: Cons(0, v1)))(u1)), Cons(1, Cons(0, [])), x1)\n",
      "Cons(0, Cons(1, Fold((lambda u1, u2: ((lambda v1: Cons(0, v1)))(u1)), x1, x1)))\n",
      "Fold((lambda u1, u2: ((lambda v1: Cons(Add(1, 1), v1)))(u1)), Cons(0, []), x1)\n",
      "Fold((lambda u1, u2: ((lambda v1: Mod(v1, Length(Cdr(x1)))))(u2)), x1, Cdr(Cdr(x1)))\n",
      "Map((lambda u1: Fold((lambda u1, u2: ((lambda v1: Add(1, v1)))(u2)), 1, Cdr(Cdr(x1)))), x1)\n",
      "Fold((lambda u1, u2: ((lambda v1: Add(1, v1)))(u2)), Cons(1, []), Cdr(Cdr(x1)))\n",
      "Fold((lambda u1, u2: ((lambda v1: Cons(Length(x1), v1)))(u1)), Cdr(Cdr(Cdr(x1))), x1)\n",
      "Fold((lambda u1, u2: ((lambda v1: Add(v1, v1)))(u1)), Subtract(1, Length(Cdr(x1))), x1)\n",
      "Fold((lambda u1, u2: ((lambda v1: Subtract(v1, Add(1, 1))))(u2)), [], Cdr(Cdr(x1)))\n",
      "Fold((lambda u1, u2: ((lambda v1: Cons(Mod(1, Length(Cdr(x1))), v1)))(u1)), x1, x1)\n",
      "Fold((lambda u1, u2: ((lambda v1: Subtract(0, v1)))(u2)), Cdr(x1), Cdr(Cdr(Cdr(x1))))\n",
      "Cons(1, Fold((lambda u1, u2: ((lambda v1: Cons(0, v1)))(u1)), x1, Cons(0, x1)))\n",
      "Fold((lambda u1, u2: ((lambda v1: Add(v1, Length(Cdr(x1)))))(u2)), 1, Cdr(Cdr(x1)))\n",
      "Fold((lambda u1, u2: ((lambda v1: Subtract(1, v1)))(u1)), Add(Car(x1), Length(x1)), x1)\n",
      "Subtract(Fold((lambda u1, u2: ((lambda v1: Subtract(0, v1)))(u1)), 1, x1), Car(Cdr(x1)))\n",
      "Subtract(0, Fold((lambda u1, u2: ((lambda v1: Subtract(Car(x1), v1)))(u1)), Length(x1), x1))\n",
      "Fold((lambda u1, u2: ((lambda v1: Cons(Car(x1), v1)))(u1)), Cons(0, []), Cdr(x1))\n",
      "Cons(Fold((lambda u1, u2: ((lambda v1: Add(v1, v1)))(u1)), 1, x1), Cons(1, x1))\n",
      "Fold((lambda u1, u2: ((lambda v1: Subtract(Length(x1), v1)))(u2)), 0, Cdr(Cdr(Cdr(x1))))\n",
      "Fold((lambda u1, u2: ((lambda v1: Cons(0, v1)))(u1)), Cons(Length(Cdr(x1)), []), x1)\n",
      "Map((lambda u1: Fold((lambda u1, u2: ((lambda v1, v2: Subtract(v1, v2)))(u1, u2)), 1, Cdr(x1))), x1)\n",
      "Fold((lambda u1, u2: 0), Map((lambda u1: ((lambda v1: Subtract(v1, 1)))(u1)), x1), Cdr(Cdr(x1)))\n",
      "Map((lambda u1: Fold((lambda u1, u2: ((lambda v1, v2: Subtract(v1, v2)))(u2, u1)), 0, x1)), Cdr(x1))\n",
      "Add(1, Fold((lambda u1, u2: Length(x1)), Car(Cdr(x1)), Cdr(Cdr(x1))))\n",
      "Fold((lambda u1, u2: ((lambda v1: Cons(Length(x1), v1)))(u1)), Map((lambda u1: Car(x1)), x1), x1)\n",
      "Cons(Subtract(Fold((lambda u1, u2: ((lambda v1: Add(v1, v1)))(u1)), 1, x1), 1), x1)\n",
      "Fold((lambda u1, u2: ((lambda v1: Subtract(v1, Length(Cdr(x1)))))(u2)), 1, Cdr(Cdr(x1)))\n",
      "Fold((lambda u1, u2: Add(1, Add(1, Car(x1)))), 1, Cdr(Cdr(x1)))\n",
      "Cons(Fold((lambda u1, u2: ((lambda v1: Add(v1, v1)))(u1)), 1, x1), Cons(0, x1))\n",
      "Fold((lambda u1, u2: ((lambda v1: Cdr(v1)))(u1)), Cons(1, Cdr(x1)), Cdr(Cdr(x1)))\n",
      "Fold((lambda u1, u2: ((lambda v1, v2: Cons(v1, v2)))(u2, u1)), Map((lambda u1: 1), Cdr(x1)), x1)\n",
      "Cdr(Fold((lambda u1, u2: ((lambda v1: Cons(0, ((lambda v1: Cons(1, v1)))(v1))))(u1)), [], x1))\n",
      "Cons(1, Fold((lambda u1, u2: ((lambda v1: Cons(v1, x1)))(u2)), [], Cdr(Cdr(x1))))\n",
      "Fold((lambda u1, u2: ((lambda v1: Subtract(0, v1)))(u2)), 1, Cdr(Cdr(Cdr(Cdr(x1)))))\n",
      "Cons(1, Fold((lambda u1, u2: ((lambda v1: Cons(0, v1)))(u1)), x1, Cdr(Cdr(x1))))\n",
      "Fold((lambda u1, u2: ((lambda v1: Cons(v1, [])))(u2)), Cons(1, x1), Cdr(Cdr(x1)))\n",
      "Fold((lambda u1, u2: ((lambda v1: Cons(Car(x1), ((lambda v1: Map((lambda u1: 0), v1)))(v1))))(u1)), x1, x1)\n",
      "Fold((lambda u1, u2: ((lambda v1: Cons(1, v1)))(u1)), Cons(0, Cons(0, x1)), x1)\n",
      "Cons(1, Fold((lambda u1, u2: ((lambda v1: Cons(0, v1)))(u1)), Cdr(Cdr(x1)), x1))\n",
      "Fold((lambda u1, u2: ((lambda v1, v2: Add(v1, v2)))(u1, u2)), 1, Cons(Car(x1), x1))\n",
      "Fold((lambda u1, u2: ((lambda v1: Cons(Length(Cdr(x1)), v1)))(u1)), Map((lambda u1: 1), x1), x1)\n",
      "Cons(Fold((lambda u1, u2: ((lambda v1, v2: Add(v1, v2)))(u1, u2)), 0, x1), Cdr(x1))\n",
      "Add(1, Fold((lambda u1, u2: ((lambda v1: Subtract(0, v1)))(u1)), Add(1, 1), x1))\n",
      "Fold((lambda u1, u2: ((lambda v1: Subtract(v1, 1)))(u2)), Cons(0, []), Cdr(Cdr(x1)))\n",
      "Fold((lambda u1, u2: ((lambda v1, v2: Subtract(v1, v2)))(u1, u2)), Length(Cons(0, x1)), x1)\n",
      "Fold((lambda u1, u2: ((lambda v1: Cons(0, v1)))(u1)), Cons(Subtract(0, 1), []), x1)\n",
      "Subtract(Fold((lambda u1, u2: ((lambda v1: Subtract(1, v1)))(u1)), Car(x1), x1), Length(x1))\n",
      "Fold((lambda u1, u2: ((lambda v1: Cons(Car(x1), ((lambda v1: Cons(0, v1)))(v1))))(u1)), [], x1)\n",
      "Fold((lambda u1, u2: ((lambda v1: Cons(1, ((lambda v1: Cons(Length(x1), v1)))(v1))))(u1)), [], x1)\n",
      "Fold((lambda u1, u2: 0), Map((lambda u1: ((lambda v1: Subtract(1, v1)))(u1)), x1), Cdr(Cdr(x1)))\n",
      "Map((lambda u1: Fold((lambda u1, u2: ((lambda v1, v2: Subtract(v1, v2)))(u1, u2)), 1, x1)), Cdr(x1))\n",
      "Fold((lambda u1, u2: ((lambda v1: Cdr(v1)))(u1)), Cons(Car(x1), x1), Cdr(Cdr(x1)))\n",
      "Subtract(Fold((lambda u1, u2: ((lambda v1: Add(v1, v1)))(u1)), 1, Cdr(x1)), Car(x1))\n",
      "Subtract(Car(x1), Fold((lambda u1, u2: ((lambda v1: Subtract(1, v1)))(u1)), Length(x1), x1))\n",
      "Cons(1, Fold((lambda u1, u2: ((lambda v1: Cons(Add(1, 1), v1)))(u1)), x1, x1))\n",
      "Fold((lambda u1, u2: ((lambda v1: Cons(1, v1)))(u1)), Map((lambda u1: 0), x1), Cdr(Cdr(x1)))\n",
      "Fold((lambda u1, u2: Cons(Length(Cdr(Cdr(x1))), [])), 1, Cdr(Cdr(x1)))\n",
      "Fold((lambda u1, u2: ((lambda v1: Cons(1, v1)))(u1)), Map((lambda u1: Car(x1)), x1), Cdr(x1))\n",
      "Fold((lambda u1, u2: ((lambda v1: Cons(v1, Map((lambda u1: 1), x1))))(u2)), 0, Cdr(Cdr(x1)))\n",
      "Fold((lambda u1, u2: ((lambda v1: Cons(v1, Cdr(x1))))(u2)), IsEmpty([]), Cdr(Cdr(x1)))\n",
      "Fold((lambda u1, u2: ((lambda v1: Cons(((lambda v1: Length(v1)))(v1), v1)))(u1)), Cons(1, x1), x1)\n",
      "Map((lambda u1: Fold((lambda u1, u2: ((lambda v1: Add(v1, v1)))(u1)), 1, Cons(0, x1))), x1)\n",
      "Cons(1, Fold((lambda u1, u2: ((lambda v1: Cons(((lambda v1: Length(v1)))(v1), v1)))(u1)), x1, x1))\n",
      "Cons(Fold((lambda u1, u2: ((lambda v1: Subtract(0, v1)))(u1)), Length(Cdr(x1)), x1), [])\n",
      "Fold((lambda u1, u2: ((lambda v1, v2: Cons(v1, ((lambda v1: Cons(1, v1)))(v2))))(u2, u1)), [], x1)\n",
      "Cons(Fold((lambda u1, u2: ((lambda v1: Subtract(1, v1)))(u1)), Length(Cdr(x1)), x1), x1)\n",
      "Fold((lambda u1, u2: ((lambda v1: Cons(v1, x1)))(u2)), Cons(0, x1), Cdr(Cdr(x1)))\n",
      "Fold((lambda u1, u2: ((lambda v1: Cons(Add(1, 1), v1)))(u1)), Cdr(x1), Cdr(x1))\n",
      "Cons(Length(Cons(0, x1)), Fold((lambda u1, u2: x1), [], Cdr(Cdr(x1))))\n",
      "Fold((lambda u1, u2: ((lambda v1: Cons(1, v1)))(u1)), Cons(0, Cdr(Cdr(x1))), x1)\n",
      "Fold((lambda u1, u2: ((lambda v1, v2: Subtract(v1, ((lambda v1: Add(v1, v1)))(v2))))(u1, u2)), 1, x1)\n",
      "Fold((lambda u1, u2: ((lambda v1: Subtract(1, v1)))(u1)), Subtract(Length(x1), Car(x1)), x1)\n",
      "Fold((lambda u1, u2: ((lambda v1, v2: Subtract(v1, ((lambda v1: Add(1, v1)))(v2))))(u2, u1)), 1, x1)\n",
      "Fold((lambda u1, u2: ((lambda v1: Subtract(1, v1)))(u2)), Cons(0, []), Cdr(Cdr(x1)))\n",
      "Fold((lambda u1, u2: ((lambda v1: Multiply(v1, v1)))(u2)), Cons(0, []), Cdr(Cdr(x1)))\n",
      "Fold((lambda u1, u2: ((lambda v1: Index(v1, x1)))(u2)), 1, Cdr(Cdr(Cdr(Cdr(x1)))))\n",
      "Fold((lambda u1, u2: ((lambda v1: Subtract(1, v1)))(u2)), Cons(1, x1), Cdr(Cdr(x1)))\n",
      "Fold((lambda u1, u2: ((lambda v1: Cons(0, v1)))(u1)), Cons(Car(x1), x1), Cdr(x1))\n",
      "Fold((lambda u1, u2: ((lambda v1: Subtract(Subtract(0, 1), v1)))(u2)), x1, Cdr(Cdr(x1)))\n",
      "Fold((lambda u1, u2: ((lambda v1: Add(v1, v1)))(u1)), Length(Cdr(Cdr(Cdr(x1)))), x1)\n",
      "Fold((lambda u1, u2: ((lambda v1: Subtract(v1, Add(1, 1))))(u2)), x1, Cdr(Cdr(x1)))\n",
      "Fold((lambda u1, u2: x1), Map((lambda u1: ((lambda v1: Subtract(1, v1)))(u1)), x1), Cdr(Cdr(x1)))\n",
      "Fold((lambda u1, u2: ((lambda v1: Subtract(Length(Cdr(x1)), v1)))(u1)), Car(Cdr(x1)), x1)\n",
      "Mod(Fold((lambda u1, u2: ((lambda v1: Add(v1, v1)))(u1)), 1, x1), Car(Cdr(x1)))\n",
      "Fold((lambda u1, u2: Cons(Length(x1), Cdr(x1))), Car(x1), Cdr(Cdr(x1)))\n",
      "Map((lambda u1: ((lambda v1: Fold((lambda u1, u2: ((lambda v1, v2: Subtract(v1, v2)))(u2, u1)), v1, x1)))(u1)), x1)\n",
      "Fold((lambda u1, u2: ((lambda v1: Subtract(1, v1)))(u1)), Multiply(Length(x1), Length(x1)), x1)\n",
      "Fold((lambda u1, u2: ((lambda v1: Cons(((lambda v1: Length(v1)))(v1), v1)))(u1)), Map((lambda u1: 0), x1), x1)\n",
      "Fold((lambda u1, u2: ((lambda v1: Subtract(v1, 0)))(u2)), Cons(0, []), Cdr(Cdr(x1)))\n",
      "Map((lambda u1: 1), Fold((lambda u1, u2: ((lambda v1: Cons(0, v1)))(u1)), x1, Cdr(Cdr(x1))))\n",
      "Fold((lambda u1, u2: ((lambda v1: Subtract(Length(Cdr(x1)), v1)))(u2)), x1, Cdr(Cdr(x1)))\n",
      "Add(Car(x1), Fold((lambda u1, u2: 0), Car(Cdr(x1)), Cdr(Cdr(x1))))\n",
      "Cons(Fold((lambda u1, u2: ((lambda v1, v2: Subtract(v1, v2)))(u1, u2)), 0, x1), Cdr(x1))\n",
      "Fold((lambda u1, u2: Cons(Subtract(1, Length(x1)), [])), [], Cdr(Cdr(x1)))\n",
      "Fold((lambda u1, u2: ((lambda v1: Mod(v1, Length(Cdr(x1)))))(u2)), [], Cdr(Cdr(x1)))\n",
      "Fold((lambda u1, u2: ((lambda v1: Add(v1, v1)))(u2)), Map((lambda u1: 1), x1), Cdr(Cdr(x1)))\n",
      "Fold((lambda u1, u2: ((lambda v1: Cons(Car(x1), v1)))(u1)), Cons(1, []), Cdr(x1))\n",
      "Fold((lambda u1, u2: ((lambda v1: Subtract(Length(Cdr(Cdr(x1))), v1)))(u1)), Car(x1), x1)\n",
      "Cons(0, Fold((lambda u1, u2: ((lambda v1: Cons(1, v1)))(u1)), x1, Cons(0, x1)))\n",
      "Fold((lambda u1, u2: ((lambda v1: Cons(Length(x1), v1)))(u1)), Cdr(Cdr(x1)), Cdr(x1))\n",
      "Fold((lambda u1, u2: ((lambda v1: Multiply(v1, Length(x1))))(u2)), 0, Cdr(Cdr(Cdr(x1))))\n",
      "Subtract(1, Fold((lambda u1, u2: ((lambda v1: Add(v1, v1)))(u2)), 0, Cdr(Cdr(x1))))\n",
      "Fold((lambda u1, u2: ((lambda v1: Add(v1, v1)))(u2)), Car(x1), Cdr(Cdr(Cdr(x1))))\n",
      "Fold((lambda u1, u2: ((lambda v1, v2: Subtract(v1, v2)))(u2, u1)), Length(Cdr(x1)), Cdr(x1))\n",
      "Fold((lambda u1, u2: ((lambda v1, v2: Cons(v1, v2)))(u2, u1)), Cdr(x1), Cons(1, x1))\n",
      "Map((lambda u1: Fold((lambda u1, u2: ((lambda v1: Multiply(v1, v1)))(u2)), 0, Cdr(Cdr(x1)))), x1)\n",
      "Fold((lambda u1, u2: ((lambda v1: Cons(((lambda v1: Length(((lambda v1: Cdr(v1)))(v1))))(v1), v1)))(u1)), [], x1)\n",
      "Fold((lambda u1, u2: ((lambda v1: Cons(Length(x1), ((lambda v1: Map((lambda u1: 0), v1)))(v1))))(u1)), x1, x1)\n",
      "Fold((lambda u1, u2: ((lambda v1: Add(v1, v1)))(u1)), Index(Subtract(0, 1), x1), x1)\n",
      "Fold((lambda u1, u2: ((lambda v1: Cons(1, v1)))(u1)), Cons(0, x1), Cdr(Cdr(x1)))\n",
      "Cons(1, Cons(Fold((lambda u1, u2: ((lambda v1: Add(v1, v1)))(u1)), 1, x1), []))\n",
      "Cons(Fold((lambda u1, u2: ((lambda v1: Subtract(1, v1)))(u2)), 0, Cdr(Cdr(x1))), [])\n",
      "Map((lambda u1: Fold((lambda u1, u2: Subtract(1, Car(x1))), 1, Cdr(Cdr(x1)))), x1)\n",
      "Fold((lambda u1, u2: ((lambda v1: Subtract(v1, Car(x1))))(u2)), x1, Cdr(Cdr(Cdr(x1))))\n",
      "Fold((lambda u1, u2: ((lambda v1, v2: Subtract(v1, ((lambda v1: Subtract(v1, 1)))(v2))))(u2, u1)), 1, x1)\n",
      "Add(1, Fold((lambda u1, u2: ((lambda v1, v2: Subtract(v1, v2)))(u2, u1)), Length(x1), x1))\n",
      "Fold((lambda u1, u2: ((lambda v1: Multiply(v1, Car(x1))))(u2)), 1, Cdr(Cdr(Cdr(x1))))\n",
      "Fold((lambda u1, u2: ((lambda v1, v2: Subtract(v1, v2)))(u2, u1)), Car(x1), Cons(1, x1))\n",
      "Cons(Fold((lambda u1, u2: ((lambda v1, v2: Subtract(v1, v2)))(u1, u2)), 1, x1), Cdr(x1))\n",
      "Fold((lambda u1, u2: ((lambda v1: Subtract(Car(x1), v1)))(u1)), Subtract(1, Car(x1)), x1)\n",
      "Cons(0, Fold((lambda u1, u2: ((lambda v1: Cdr(v1)))(u1)), x1, Cdr(Cdr(Cdr(x1)))))\n",
      "Fold((lambda u1, u2: ((lambda v1: Cons(Car(Cdr(x1)), v1)))(u1)), Cons(1, x1), x1)\n",
      "Fold((lambda u1, u2: ((lambda v1: Add(v1, Length(x1))))(u2)), Car(x1), Cdr(Cdr(x1)))\n",
      "Fold((lambda u1, u2: ((lambda v1: Subtract(Add(1, 1), v1)))(u2)), 0, Cdr(Cdr(x1)))\n",
      "Fold((lambda u1, u2: ((lambda v1: Cons(0, v1)))(u1)), Cdr(Cdr(Cdr(x1))), Cdr(x1))\n",
      "Cons(1, Fold((lambda u1, u2: ((lambda v1: Cons(Car(Cdr(x1)), v1)))(u1)), x1, x1))\n",
      "Cons(Fold((lambda u1, u2: ((lambda v1, v2: Subtract(v1, v2)))(u2, u1)), 0, x1), Cdr(x1))\n",
      "Fold((lambda u1, u2: ((lambda v1: Cons(0, ((lambda v1: Cons(Car(x1), v1)))(v1))))(u1)), [], x1)\n",
      "Fold((lambda u1, u2: ((lambda v1: Cons(1, ((lambda v1: Map((lambda u1: 0), v1)))(v1))))(u1)), x1, Cdr(x1))\n",
      "Cons(Fold((lambda u1, u2: ((lambda v1: Subtract(1, v1)))(u1)), Add(1, 1), x1), [])\n",
      "Fold((lambda u1, u2: ((lambda v1, v2: Cons(v1, v2)))(u2, u1)), Map((lambda u1: 0), x1), Cdr(x1))\n",
      "Cons(Fold((lambda u1, u2: ((lambda v1: Add(1, v1)))(u2)), 1, Cdr(Cdr(x1))), x1)\n",
      "Fold((lambda u1, u2: ((lambda v1, v2: Cons(v1, v2)))(u2, u1)), Cons(1, x1), Cdr(x1))\n",
      "Fold((lambda u1, u2: ((lambda v1, v2: Subtract(((lambda v1: Add(v1, v1)))(v2), v1)))(u2, u1)), 0, x1)\n",
      "Fold((lambda u1, u2: Cons(Car(x1), [])), x1, Cdr(Cdr(Cdr(Cdr(x1)))))\n",
      "Cons(Fold((lambda u1, u2: ((lambda v1, v2: Subtract(v1, v2)))(u1, u2)), Length(x1), x1), [])\n",
      "Fold((lambda u1, u2: ((lambda v1: Add(1, v1)))(u2)), Map((lambda u1: 1), x1), Cdr(Cdr(x1)))\n",
      "Cons(Add(1, 1), Fold((lambda u1, u2: ((lambda v1: Cdr(v1)))(u1)), x1, Cdr(x1)))\n",
      "Fold((lambda u1, u2: ((lambda v1: Subtract(Car(Cdr(x1)), v1)))(u2)), 0, Cdr(Cdr(x1)))\n",
      "Fold((lambda u1, u2: ((lambda v1: Cons(Subtract(0, 1), v1)))(u1)), Cdr(Cdr(x1)), x1)\n",
      "Fold((lambda u1, u2: ((lambda v1: Subtract(0, v1)))(u1)), Length(Cdr(Cdr(Cdr(x1)))), x1)\n",
      "Mod(Fold((lambda u1, u2: ((lambda v1, v2: Add(v1, v2)))(u1, u2)), 0, x1), Length(x1))\n",
      "Fold((lambda u1, u2: ((lambda v1, v2: Cons(v1, v2)))(u2, u1)), Cdr(x1), Cons(0, x1))\n",
      "Map((lambda u1: Fold((lambda u1, u2: ((lambda v1: Subtract(v1, 0)))(u2)), 1, Cdr(Cdr(x1)))), x1)\n",
      "Fold((lambda u1, u2: ((lambda v1, v2: Subtract(((lambda v1: Multiply(v1, v1)))(v2), v1)))(u1, u2)), 0, x1)\n",
      "Cons(Fold((lambda u1, u2: ((lambda v1: Subtract(Length(x1), v1)))(u1)), Car(x1), x1), [])\n",
      "Subtract(1, Subtract(Fold((lambda u1, u2: ((lambda v1: Add(v1, v1)))(u1)), 1, x1), 1))\n",
      "Cons(Length(Cdr(x1)), Fold((lambda u1, u2: ((lambda v1: Cons(1, v1)))(u1)), x1, x1))\n",
      "Fold((lambda u1, u2: Cons(0, [])), Add(1, Car(x1)), Cdr(Cdr(x1)))\n",
      "Fold((lambda u1, u2: ((lambda v1: Cons(Add(1, 1), v1)))(u1)), Cons(1, x1), x1)\n",
      "Fold((lambda u1, u2: ((lambda v1: Subtract(v1, 1)))(u2)), [], Cdr(Cdr(Cdr(Cdr(x1)))))\n",
      "Fold((lambda u1, u2: ((lambda v1: Add(1, v1)))(u2)), IsEmpty(x1), Cdr(Cdr(Cdr(x1))))\n",
      "Fold((lambda u1, u2: ((lambda v1: Cons(v1, x1)))(u2)), Cons(0, []), Cdr(Cdr(x1)))\n",
      "Fold((lambda u1, u2: 1), Cons(0, Cons(Car(x1), [])), Cdr(Cdr(x1)))\n",
      "Subtract(1, Fold((lambda u1, u2: ((lambda v1: Add(v1, v1)))(u1)), 1, Cons(0, x1)))\n",
      "Fold((lambda u1, u2: ((lambda v1: Cons(1, v1)))(u1)), x1, Cons(0, Cons(0, x1)))\n",
      "Fold((lambda u1, u2: ((lambda v1, v2: Cons(((lambda v1: Subtract(0, v1)))(v2), v1)))(u1, u2)), x1, x1)\n",
      "Fold((lambda u1, u2: ((lambda v1: Subtract(Car(x1), v1)))(u2)), Length(x1), Cdr(Cdr(x1)))\n",
      "Fold((lambda u1, u2: ((lambda v1: Subtract(Add(1, 1), v1)))(u1)), Car(Cdr(x1)), x1)\n",
      "Fold((lambda u1, u2: ((lambda v1: Cons(0, v1)))(u1)), Map((lambda u1: Subtract(0, 1)), x1), x1)\n",
      "Fold((lambda u1, u2: ((lambda v1: Cons(v1, [])))(u2)), Car(x1), Cdr(Cdr(Cdr(x1))))\n",
      "Subtract(Fold((lambda u1, u2: ((lambda v1: Subtract(0, v1)))(u1)), Length(Cdr(x1)), x1), 1)\n",
      "Fold((lambda u1, u2: ((lambda v1: Subtract(v1, Car(x1))))(u2)), Cdr(x1), Cdr(Cdr(x1)))\n",
      "Fold((lambda u1, u2: ((lambda v1, v2: Multiply(v1, v2)))(u1, u2)), 1, Cdr(Cdr(Cdr(x1))))\n",
      "Fold((lambda u1, u2: ((lambda v1: Subtract(v1, Car(x1))))(u2)), IsEmpty([]), Cdr(Cdr(x1)))\n",
      "Fold((lambda u1, u2: ((lambda v1: Subtract(v1, 1)))(u2)), Cons(1, x1), Cdr(Cdr(x1)))\n",
      "Fold((lambda u1, u2: ((lambda v1: Cons(0, v1)))(u1)), Map((lambda u1: Car(Cdr(x1))), x1), x1)\n",
      "Fold((lambda u1, u2: ((lambda v1: Cons(v1, x1)))(u2)), Car(x1), Cdr(Cdr(Cdr(x1))))\n",
      "Fold((lambda u1, u2: ((lambda v1: Cons(1, v1)))(u1)), x1, Cdr(Cdr(Cdr(Cdr(x1)))))\n",
      "Fold((lambda u1, u2: ((lambda v1, v2: Subtract(v1, v2)))(u2, u1)), 0, Cons(1, Cdr(x1)))\n",
      "Fold((lambda u1, u2: ((lambda v1: Cons(Car(x1), v1)))(u1)), x1, Cdr(Cdr(Cdr(x1))))\n"
     ]
    }
   ],
   "source": [
    "for task in original_tasks:\n",
    "    if \"Fold\" in task.solution.expression():\n",
    "        print(task.solution.expression())"
   ]
  },
  {
   "cell_type": "code",
   "execution_count": 65,
   "metadata": {},
   "outputs": [
    {
     "name": "stdout",
     "output_type": "stream",
     "text": [
      "Task(\n",
      "    name='add-k with k=5',\n",
      "    inputs_dict={'x1': [[7, 4, 11], [6, 13, 0, 2], [3, 6], [7, 7, 0], [5, 14, 10, 15, 6], [16, 12, 15, 7], [7, 6, 11], [10, 8, 4, 7], [12], [5], [16, 13, 9, 13, 0, 3, 10], [4, 5, 4, 0, 8, 9], [3, 14, 15, 0, 12, 0], [13, 8, 10], [9, 6, 5, 0, 7, 7]]},\n",
      "    outputs=[[12, 9, 16], [11, 18, 5, 7], [8, 11], [12, 12, 5], [10, 19, 15, 20, 11], [21, 17, 20, 12], [12, 11, 16], [15, 13, 9, 12], [17], [10], [21, 18, 14, 18, 5, 8, 15], [9, 10, 9, 5, 13, 14], [8, 19, 20, 5, 17, 5], [18, 13, 15], [14, 11, 10, 5, 12, 12]],\n",
      "    solution=None\n",
      ")\n",
      "Task(\n",
      "    name='append-index-k with k=1',\n",
      "    inputs_dict={'x1': [[0, 14, 6], [0, 1, 7], [7, 5, 16, 3], [10, 0, 8, 6, 4, 9, 7, 7], [12, 7, 2, 2, 9, 11, 14], [4], [11, 7, 6, 4, 9, 4, 15, 16], [3, 5, 0], [10], [15, 4, 3], [8, 10, 0, 16], [12], [16, 2, 5], [1, 4, 8, 4, 0, 16, 13], [13, 14, 9, 10, 15, 3, 9, 15]]},\n",
      "    outputs=[[0, 14, 6, 0], [0, 1, 7, 0], [7, 5, 16, 3, 7], [10, 0, 8, 6, 4, 9, 7, 7, 10], [12, 7, 2, 2, 9, 11, 14, 12], [4, 4], [11, 7, 6, 4, 9, 4, 15, 16, 11], [3, 5, 0, 3], [10, 10], [15, 4, 3, 15], [8, 10, 0, 16, 8], [12, 12], [16, 2, 5, 16], [1, 4, 8, 4, 0, 16, 13, 1], [13, 14, 9, 10, 15, 3, 9, 15, 13]],\n",
      "    solution=None\n",
      ")\n",
      "Task(\n",
      "    name='append-index-k with k=5',\n",
      "    inputs_dict={'x1': [[11, 9, 15, 7, 2, 3, 11, 7, 1, 2], [11, 9, 16, 5, 5, 16, 11, 9], [12, 12, 3, 2, 14, 15, 10, 11, 4, 11, 15, 2], [4, 6, 1, 7, 1, 13], [8, 16, 5, 13, 14, 12, 6, 0], [9, 11, 8, 0, 7, 8], [12, 4, 7, 10, 13, 3, 14, 4, 12, 4], [0, 12, 0, 0, 15, 9, 9, 9, 2], [12, 5, 6, 5, 15, 2, 10, 7, 7, 2, 13, 10], [13, 0, 16, 8, 9, 10, 16, 7], [16, 15, 7, 8, 2, 5, 14, 15, 8, 8], [7, 7, 5, 15, 2], [13, 2, 13, 16, 1, 3], [6, 4, 15, 14, 7, 12, 3, 0, 4, 16], [15, 15, 9, 4, 2, 2, 14, 13, 5, 4]]},\n",
      "    outputs=[[11, 9, 15, 7, 2, 3, 11, 7, 1, 2, 2], [11, 9, 16, 5, 5, 16, 11, 9, 5], [12, 12, 3, 2, 14, 15, 10, 11, 4, 11, 15, 2, 14], [4, 6, 1, 7, 1, 13, 1], [8, 16, 5, 13, 14, 12, 6, 0, 14], [9, 11, 8, 0, 7, 8, 7], [12, 4, 7, 10, 13, 3, 14, 4, 12, 4, 13], [0, 12, 0, 0, 15, 9, 9, 9, 2, 15], [12, 5, 6, 5, 15, 2, 10, 7, 7, 2, 13, 10, 15], [13, 0, 16, 8, 9, 10, 16, 7, 9], [16, 15, 7, 8, 2, 5, 14, 15, 8, 8, 2], [7, 7, 5, 15, 2, 2], [13, 2, 13, 16, 1, 3, 1], [6, 4, 15, 14, 7, 12, 3, 0, 4, 16, 7], [15, 15, 9, 4, 2, 2, 14, 13, 5, 4, 2]],\n",
      "    solution=None\n",
      ")\n",
      "Task(\n",
      "    name='append-k with k=1',\n",
      "    inputs_dict={'x1': [[0, 12, 5, 16, 2, 5, 12], [], [8], [0, 16], [16, 13, 14, 9, 10, 15], [9], [5, 11, 5, 15, 11, 1, 3], [4, 0, 6, 13, 5, 15, 6], [7], [8, 14, 16, 4, 12], [4, 6], [13, 11, 5, 1], [], [5, 0, 1, 16, 14, 12], [15, 5, 12, 2, 8]]},\n",
      "    outputs=[[0, 12, 5, 16, 2, 5, 12, 1], [1], [8, 1], [0, 16, 1], [16, 13, 14, 9, 10, 15, 1], [9, 1], [5, 11, 5, 15, 11, 1, 3, 1], [4, 0, 6, 13, 5, 15, 6, 1], [7, 1], [8, 14, 16, 4, 12, 1], [4, 6, 1], [13, 11, 5, 1, 1], [1], [5, 0, 1, 16, 14, 12, 1], [15, 5, 12, 2, 8, 1]],\n",
      "    solution=None\n",
      ")\n",
      "Task(\n",
      "    name='append-k with k=2',\n",
      "    inputs_dict={'x1': [[], [], [4, 13, 1, 7, 8], [1, 5, 15], [12, 7, 12], [8, 13, 11], [4, 5, 15, 0], [14, 12, 13, 12, 1], [5], [], [7, 1, 3, 1, 4, 15], [4, 11, 8, 4, 10], [4, 2, 12, 14, 9], [0], [12, 12, 9, 6, 8, 2]]},\n",
      "    outputs=[[2], [2], [4, 13, 1, 7, 8, 2], [1, 5, 15, 2], [12, 7, 12, 2], [8, 13, 11, 2], [4, 5, 15, 0, 2], [14, 12, 13, 12, 1, 2], [5, 2], [2], [7, 1, 3, 1, 4, 15, 2], [4, 11, 8, 4, 10, 2], [4, 2, 12, 14, 9, 2], [0, 2], [12, 12, 9, 6, 8, 2, 2]],\n",
      "    solution=None\n",
      ")\n",
      "Task(\n",
      "    name='bool-identify-geq-k with k=5',\n",
      "    inputs_dict={'x1': [[12, 10], [15, 7, 10, 3, 8], [8, 6, 12, 16, 3, 6, 16], [12, 10, 6, 6, 12], [2, 13], [], [], [13], [2, 15, 10, 15, 0], [3, 3, 12], [4, 8, 10, 0, 15, 8, 4], [2, 0, 6, 1, 11, 0, 12], [2, 5, 4, 2, 12, 2], [7, 10], [1, 1, 7, 1]]},\n",
      "    outputs=[[1, 1], [1, 1, 1, 0, 1], [1, 1, 1, 1, 0, 1, 1], [1, 1, 1, 1, 1], [0, 1], [], [], [1], [0, 1, 1, 1, 0], [0, 0, 1], [0, 1, 1, 0, 1, 1, 0], [0, 0, 1, 0, 1, 0, 1], [0, 1, 0, 0, 1, 0], [1, 1], [0, 0, 1, 0]],\n",
      "    solution=None\n",
      ")\n",
      "Task(\n",
      "    name='bool-identify-is-mod-k with k=2',\n",
      "    inputs_dict={'x1': [[2, 8, 0, 14, 3, 10], [2, 2, 2, 4], [5, 16, 12], [2, 2, 2, 4, 16], [2, 0, 7], [9, 2, 2, 8], [2, 2, 2], [2, 9, 11, 15], [4, 16, 10], [13, 2, 0, 1, 2], [2, 6], [8, 15, 16, 15], [], [0, 13, 2], [12]]},\n",
      "    outputs=[[1, 1, 1, 1, 0, 1], [1, 1, 1, 1], [0, 1, 1], [1, 1, 1, 1, 1], [1, 1, 0], [0, 1, 1, 1], [1, 1, 1], [1, 0, 0, 0], [1, 1, 1], [0, 1, 1, 0, 1], [1, 1], [1, 0, 1, 0], [], [1, 0, 1], [1]],\n",
      "    solution=None\n",
      ")\n",
      "Task(\n",
      "    name='bool-identify-is-mod-k with k=5',\n",
      "    inputs_dict={'x1': [[8, 7, 5, 10], [13, 5, 5, 8], [5, 5, 5], [2, 9, 3, 5, 16, 5], [10], [5], [11, 10, 12, 13, 2], [5, 6, 2, 8, 9, 0, 2], [5], [15, 0, 1, 3, 16, 9], [9, 14, 5], [], [5], [0, 7, 3, 15, 11, 1], [2, 12, 11, 14, 15, 9, 8]]},\n",
      "    outputs=[[0, 0, 1, 1], [0, 1, 1, 0], [1, 1, 1], [0, 0, 0, 1, 0, 1], [1], [1], [0, 1, 0, 0, 0], [1, 0, 0, 0, 0, 1, 0], [1], [1, 1, 0, 0, 0, 0], [0, 0, 1], [], [1], [1, 0, 0, 1, 0, 0], [0, 0, 0, 0, 1, 0, 0]],\n",
      "    solution=None\n",
      ")\n",
      "Task(\n",
      "    name='bool-identify-k with k=5',\n",
      "    inputs_dict={'x1': [[5], [1, 6], [5, 5, 5, 5, 5], [5, 16, 11, 5], [16], [], [8, 14], [4, 12, 3, 15, 5, 5], [8], [0, 1, 2, 14, 3, 9, 12], [5, 5, 2, 5, 5, 5], [11, 12, 7], [14], [5, 0], [9, 1, 16]]},\n",
      "    outputs=[[1], [0, 0], [1, 1, 1, 1, 1], [1, 0, 0, 1], [0], [], [0, 0], [0, 0, 0, 0, 1, 1], [0], [0, 0, 0, 0, 0, 0, 0], [1, 1, 0, 1, 1, 1], [0, 0, 0], [0], [1, 0], [0, 0, 0]],\n",
      "    solution=None\n",
      ")\n",
      "Task(\n",
      "    name='caesar-cipher-k-modulo-n with k=1 and n=4',\n",
      "    inputs_dict={'x1': [[], [0], [2, 3, 2], [1, 2, 1, 3, 1], [2, 2, 0, 1, 2, 1, 1], [2, 1, 2], [0, 2, 1, 2], [], [1, 3, 0], [2, 3, 1], [0, 3, 3], [2, 0, 2, 1, 3, 2], [], [1, 2], [0, 1, 1, 2, 3]]},\n",
      "    outputs=[[], [1], [3, 0, 3], [2, 3, 2, 0, 2], [3, 3, 1, 2, 3, 2, 2], [3, 2, 3], [1, 3, 2, 3], [], [2, 0, 1], [3, 0, 2], [1, 0, 0], [3, 1, 3, 2, 0, 3], [], [2, 3], [1, 2, 2, 3, 0]],\n",
      "    solution=None\n",
      ")\n",
      "Task(\n",
      "    name='caesar-cipher-k-modulo-n with k=2 and n=3',\n",
      "    inputs_dict={'x1': [[2, 2, 2, 1], [1, 1, 2, 1, 2, 2, 2], [1, 0, 0, 2, 0, 1], [], [], [1, 0, 1, 1], [0, 0, 0, 2, 2], [1, 0, 1, 1, 1], [0], [1, 2, 2, 1], [1, 2, 1], [0, 0], [1, 1, 0, 0], [1, 1, 0, 0, 1, 0, 0], [2, 2, 1, 1, 2, 1, 0]]},\n",
      "    outputs=[[1, 1, 1, 0], [0, 0, 1, 0, 1, 1, 1], [0, 2, 2, 1, 2, 0], [], [], [0, 2, 0, 0], [2, 2, 2, 1, 1], [0, 2, 0, 0, 0], [2], [0, 1, 1, 0], [0, 1, 0], [2, 2], [0, 0, 2, 2], [0, 0, 2, 2, 0, 2, 2], [1, 1, 0, 0, 1, 0, 2]],\n",
      "    solution=None\n",
      ")\n",
      "Task(\n",
      "    name='caesar-cipher-k-modulo-n with k=2 and n=4',\n",
      "    inputs_dict={'x1': [[], [0], [2, 3, 2], [1, 2, 1, 3, 1], [2, 2, 0, 1, 2, 1, 1], [2, 1, 2], [0, 2, 1, 2], [], [1, 3, 0], [2, 3, 1], [0, 3, 3], [2, 0, 2, 1, 3, 2], [], [1, 2], [0, 1, 1, 2, 3]]},\n",
      "    outputs=[[], [2], [0, 1, 0], [3, 0, 3, 1, 3], [0, 0, 2, 3, 0, 3, 3], [0, 3, 0], [2, 0, 3, 0], [], [3, 1, 2], [0, 1, 3], [2, 1, 1], [0, 2, 0, 3, 1, 0], [], [3, 0], [2, 3, 3, 0, 1]],\n",
      "    solution=None\n",
      ")\n",
      "Task(\n",
      "    name='caesar-cipher-k-modulo-n with k=2 and n=5',\n",
      "    inputs_dict={'x1': [[4, 3, 2, 3, 3, 1], [1, 0, 2, 2, 2, 0, 2], [1], [2, 1, 2, 4], [4, 3, 2, 4, 2], [4, 2, 2], [], [0, 0, 2, 4, 0, 1, 0], [2, 3, 3], [], [3, 3, 0, 2, 1, 0], [0], [2, 2], [1, 2, 4, 1, 0], []]},\n",
      "    outputs=[[1, 0, 4, 0, 0, 3], [3, 2, 4, 4, 4, 2, 4], [3], [4, 3, 4, 1], [1, 0, 4, 1, 4], [1, 4, 4], [], [2, 2, 4, 1, 2, 3, 2], [4, 0, 0], [], [0, 0, 2, 4, 3, 2], [2], [4, 4], [3, 4, 1, 3, 2], []],\n",
      "    solution=None\n",
      ")\n",
      "Task(\n",
      "    name='caesar-cipher-k-modulo-n with k=3 and n=5',\n",
      "    inputs_dict={'x1': [[3, 1, 1, 4, 1, 2], [2, 1, 0, 3], [0, 1, 3, 2, 4], [1, 1], [4, 0], [], [2], [4, 2, 2, 0, 2], [], [], [2, 0, 1, 2, 4, 3], [1, 2], [1, 2, 2, 4], [3, 0, 3, 4, 3, 3], [1]]},\n",
      "    outputs=[[1, 4, 4, 2, 4, 0], [0, 4, 3, 1], [3, 4, 1, 0, 2], [4, 4], [2, 3], [], [0], [2, 0, 0, 3, 0], [], [], [0, 3, 4, 0, 2, 1], [4, 0], [4, 0, 0, 2], [1, 3, 1, 2, 1, 1], [4]],\n",
      "    solution=None\n",
      ")\n",
      "Task(\n",
      "    name='caesar-cipher-k-modulo-n with k=4 and n=5',\n",
      "    inputs_dict={'x1': [[4, 3, 2, 3, 3, 1], [1, 0, 2, 2, 2, 0, 2], [1], [2, 1, 2, 4], [4, 3, 2, 4, 2], [4, 2, 2], [], [0, 0, 2, 4, 0, 1, 0], [2, 3, 3], [], [3, 3, 0, 2, 1, 0], [0], [2, 2], [1, 2, 4, 1, 0], []]},\n",
      "    outputs=[[3, 2, 1, 2, 2, 0], [0, 4, 1, 1, 1, 4, 1], [0], [1, 0, 1, 3], [3, 2, 1, 3, 1], [3, 1, 1], [], [4, 4, 1, 3, 4, 0, 4], [1, 2, 2], [], [2, 2, 4, 1, 0, 4], [4], [1, 1], [0, 1, 3, 0, 4], []],\n",
      "    solution=None\n",
      ")\n",
      "Task(\n",
      "    name='count-k with k=1',\n",
      "    inputs_dict={'x1': [[1, 2, 9, 16], [5, 8, 4, 13, 12], [15, 16], [1, 1, 1, 1], [], [1], [3, 3, 5, 1, 13], [1, 16, 1], [16, 6, 8, 13, 14], [1, 1, 1, 4, 1, 1], [6, 1, 1, 1], [8, 7], [1, 15], [1, 1, 1], []]},\n",
      "    outputs=[1, 0, 0, 4, 0, 1, 1, 2, 0, 5, 3, 0, 1, 3, 0],\n",
      "    solution=None\n",
      ")\n",
      "Task(\n",
      "    name='count-k with k=2',\n",
      "    inputs_dict={'x1': [[14, 0, 2, 6], [2, 2, 2, 2, 2, 2, 2], [2], [2, 15], [0, 8, 7, 2, 5, 2], [9, 16, 3, 2, 7, 2], [13, 10, 9], [2, 2, 2, 2, 2, 2, 2], [2, 12, 11, 5, 12, 1], [8], [2, 2], [2, 2, 2, 2, 16, 2], [3], [3, 8, 1], [2, 2, 2, 2, 2, 2]]},\n",
      "    outputs=[1, 7, 1, 1, 2, 2, 0, 7, 1, 0, 2, 5, 0, 0, 6],\n",
      "    solution=None\n",
      ")\n",
      "Task(\n",
      "    name='count-k with k=4',\n",
      "    inputs_dict={'x1': [[4, 4, 14, 4, 16], [6, 4, 4, 0], [], [4, 4, 4, 12], [4, 13, 10, 4, 4, 4], [4, 16, 10], [13, 4, 0, 1, 4], [4], [15, 1, 2, 7, 5, 4, 0], [4, 4, 4, 4, 4, 4], [2, 7, 12], [], [2, 7, 3, 3], [4, 4, 4, 4, 4], [6, 4, 2]]},\n",
      "    outputs=[3, 2, 0, 3, 4, 1, 2, 1, 1, 6, 0, 0, 0, 5, 1],\n",
      "    solution=None\n",
      ")\n",
      "Task(\n",
      "    name='dup',\n",
      "    inputs_dict={'x1': [[0], [7, 2, 4], [14, 3, 7, 3, 12, 8], [10, 7], [1], [5], [7, 8, 16], [4, 9, 2], [15], [], [8, 0, 9, 15, 7, 14, 9], [1, 7, 2, 6, 6, 9], [16, 15, 13], [8, 16, 5], [0, 5, 8, 16]]},\n",
      "    outputs=[[0, 0], [7, 7, 2, 2, 4, 4], [14, 14, 3, 3, 7, 7, 3, 3, 12, 12, 8, 8], [10, 10, 7, 7], [1, 1], [5, 5], [7, 7, 8, 8, 16, 16], [4, 4, 9, 9, 2, 2], [15, 15], [], [8, 8, 0, 0, 9, 9, 15, 15, 7, 7, 14, 14, 9, 9], [1, 1, 7, 7, 2, 2, 6, 6, 6, 6, 9, 9], [16, 16, 15, 15, 13, 13], [8, 8, 16, 16, 5, 5], [0, 0, 5, 5, 8, 8, 16, 16]],\n",
      "    solution=None\n",
      ")\n",
      "Task(\n",
      "    name='has-k with k=1',\n",
      "    inputs_dict={'x1': [[6, 0, 3, 16], [0, 0, 5, 3], [16], [14, 8, 1, 1, 1, 1], [6, 14, 4], [11, 1, 7, 8, 4, 5, 6], [1, 1, 1, 7], [1, 1, 1], [1, 1, 1], [2, 4, 6, 9], [16, 10, 7, 12, 13, 3], [8, 8, 7, 1, 1, 2, 3], [1], [15, 7, 6, 15, 7], [1, 1, 1, 1]]},\n",
      "    outputs=[0, 0, 0, 1, 0, 1, 1, 1, 1, 0, 0, 1, 1, 0, 1],\n",
      "    solution=None\n",
      ")\n",
      "Task(\n",
      "    name='has-k with k=2',\n",
      "    inputs_dict={'x1': [[1, 7, 3, 2, 3], [], [12, 4, 7, 15], [2], [9, 6], [2, 3, 6, 6, 7, 7], [2, 2, 2, 2, 2], [12], [0, 2], [2, 2, 2, 2, 2, 2], [11, 9, 16, 9, 7, 2, 6], [9, 15, 4, 7], [1, 2, 9, 16], [5, 8, 4, 13, 12], [15, 16]]},\n",
      "    outputs=[1, 0, 0, 1, 0, 1, 1, 0, 1, 1, 1, 0, 1, 0, 0],\n",
      "    solution=None\n",
      ")\n",
      "Task(\n",
      "    name='has-k with k=4',\n",
      "    inputs_dict={'x1': [[7, 3, 14, 6, 3], [16], [9, 4, 4, 4, 4, 4], [16, 14, 7, 8, 7, 1, 3], [4], [4, 4, 13], [], [4, 4, 13], [4, 4, 9, 16, 4, 4, 4], [15, 14, 11, 7], [4, 4, 4, 4, 4], [9, 4, 3, 4], [7, 11, 13, 15, 16], [11, 11, 4, 14, 6, 14, 0], [3]]},\n",
      "    outputs=[0, 0, 1, 0, 1, 1, 0, 1, 1, 0, 1, 1, 0, 1, 0],\n",
      "    solution=None\n",
      ")\n",
      "Task(\n",
      "    name='is-evens',\n",
      "    inputs_dict={'x1': [[2, 0, 4], [2, 5, 4, 2, 0, 5, 1, 1], [14, 6, 5], [8, 3], [12, 16, 22, 22, 4, 2, 6], [8, 4], [26, 20, 32, 10, 16, 16, 12], [28], [11, 16, 10, 2, 1, 8], [14, 10, 4, 0, 12, 6], [24, 10, 30, 4, 14], [5, 7, 14, 0, 13, 5, 9], [4, 13, 12, 8, 14, 1, 7], [22, 2, 20], [3, 6, 4]]},\n",
      "    outputs=[1, 0, 0, 0, 1, 1, 1, 1, 0, 1, 1, 0, 0, 1, 0],\n",
      "    solution=None\n",
      ")\n",
      "Task(\n",
      "    name='is-mod-k with k=4',\n",
      "    inputs_dict={'x1': [[8], [7, 4, 11], [52, 0, 8], [24], [28, 0, 44], [10, 15, 6, 9, 16, 12], [7, 7, 6], [40, 32, 16, 28], [3, 5, 15, 16, 13], [0, 12, 40, 48, 16, 20], [], [56, 12, 56, 60], [0, 7, 13, 8, 10], [24, 20, 0, 28], [16, 15, 11, 9, 16]]},\n",
      "    outputs=[1, 0, 1, 1, 1, 0, 0, 1, 0, 1, 1, 1, 0, 1, 0],\n",
      "    solution=None\n",
      ")\n",
      "Task(\n",
      "    name='is-mod-k with k=5',\n",
      "    inputs_dict={'x1': [[2, 6, 8], [15, 4, 7, 9], [], [16, 11, 14, 5], [65, 60], [15, 16, 9, 6], [12, 8], [60, 25, 45, 25, 25], [0, 10, 3, 3, 10, 4], [40, 5, 15, 15, 25], [65, 35, 5, 35, 5, 80], [], [12, 10, 16, 6, 8, 13], [3, 12, 12, 15, 2, 4], [4]]},\n",
      "    outputs=[0, 0, 1, 0, 1, 0, 0, 1, 0, 1, 1, 1, 0, 0, 0],\n",
      "    solution=None\n",
      ")\n",
      "Task(\n",
      "    name='keep-mod-head',\n",
      "    inputs_dict={'x1': [[3, 1, 3, 4, 7, 6, 9, 2], [4, 2, 6, 10, 8, 12], [1, 2, 3], [2], [8, 24, 32], [1, 15], [6, 18], [3, 24, 3, 9, 12], [7, 13], [10, 2, 12, 9], [6, 6, 5, 24, 54, 24], [4], [5, 15, 0, 20, 13, 7], [12, 3], [7, 3, 9]]},\n",
      "    outputs=[[3, 6, 9], [8, 12], [2, 3], [], [24, 32], [15], [18], [24, 3, 9, 12], [], [], [6, 24, 54, 24], [], [15, 0, 20], [], []],\n",
      "    solution=None\n",
      ")\n",
      "Task(\n",
      "    name='keep-mod-k with k=2',\n",
      "    inputs_dict={'x1': [[0, 8, 1, 15, 10], [6, 8, 6, 14, 11, 4, 15], [], [2, 1, 10, 8, 4, 6, 2], [4, 9, 4, 4], [1, 10, 11], [], [10, 8, 16, 5, 9], [13, 9, 11, 13], [10, 0, 16], [12], [2, 12, 2], [0, 15, 9, 13, 13, 15, 3], [12, 6, 16], [9, 4, 1, 5, 8]]},\n",
      "    outputs=[[0, 8, 10], [6, 8, 6, 14, 4], [], [2, 10, 8, 4, 6, 2], [4, 4, 4], [10], [], [10, 8, 16], [], [10, 0, 16], [12], [2, 12, 2], [0], [12, 6, 16], [4, 8]],\n",
      "    solution=None\n",
      ")\n",
      "Task(\n",
      "    name='keep-mod-k with k=3',\n",
      "    inputs_dict={'x1': [[5, 16, 12], [0, 0, 15, 4, 16], [], [8, 12, 6, 12], [3, 9, 3, 15, 10], [0, 6, 9, 4, 16], [3, 4, 13, 10, 0], [], [12, 15, 0], [13, 3], [14, 13, 5, 8, 8, 9, 4], [18, 0], [4, 3, 7], [6, 10, 2, 7, 12], []]},\n",
      "    outputs=[[12], [0, 0, 15], [], [12, 6, 12], [3, 9, 3, 15], [0, 6, 9], [3, 0], [], [12, 15, 0], [3], [9], [18, 0], [3], [6, 12], []],\n",
      "    solution=None\n",
      ")\n",
      "Task(\n",
      "    name='keep-mod-k with k=4',\n",
      "    inputs_dict={'x1': [[2, 7, 3, 3], [24, 16, 28, 4, 0], [4, 2], [0], [20, 6, 28, 4, 32], [2, 8, 5, 7], [36, 36, 16], [16], [], [8, 14], [4, 12, 3, 15, 5, 5], [8], [0, 1, 2, 14, 3, 9, 12], [24, 8, 28, 36, 11, 12], [7, 3, 10, 14, 4]]},\n",
      "    outputs=[[], [24, 16, 28, 4, 0], [4], [0], [20, 28, 4, 32], [8], [36, 36, 16], [16], [], [8], [4, 12], [8], [0, 12], [24, 8, 28, 36, 12], [4]],\n",
      "    solution=None\n",
      ")\n",
      "Task(\n",
      "    name='keep-mod-k with k=5',\n",
      "    inputs_dict={'x1': [[0, 25, 6], [], [13, 2], [2, 20], [20], [10, 7, 0], [15, 1, 20, 2, 2], [11, 8, 16, 13], [7, 5], [8, 13, 8, 0, 14, 0], [35, 25], [5, 2, 7, 11, 13], [12, 13, 2, 15, 11], [5, 9], [40]]},\n",
      "    outputs=[[0, 25], [], [], [20], [20], [10, 0], [15, 20], [], [5], [0, 0], [35, 25], [5], [15], [5], [40]],\n",
      "    solution=None\n",
      ")\n",
      "Task(\n",
      "    name='kth-largest with k=2',\n",
      "    inputs_dict={'x1': [[3, 13, 12], [16, 10, 8, 15, 9, 15, 14, 2, 12], [8, 13, 5, 2], [16, 15, 13, 0, 15], [9, 16, 7, 6, 3], [14, 1], [2, 12, 7, 12], [13, 0], [5, 16, 1, 6, 12, 5, 6, 10, 10], [7, 3, 2, 8], [13, 10, 5, 13, 5, 1], [0, 9, 1], [15, 11, 4, 15, 14, 16, 2], [10, 5, 5], [12, 5, 7, 15, 6]]},\n",
      "    outputs=[12, 15, 8, 15, 9, 1, 12, 0, 12, 7, 13, 1, 15, 5, 12],\n",
      "    solution=None\n",
      ")\n",
      "Task(\n",
      "    name='kth-largest with k=4',\n",
      "    inputs_dict={'x1': [[16, 9, 15, 4, 16], [16, 4, 13, 11, 6, 13, 16, 1, 5, 6], [0, 3, 6, 10, 4, 3, 1], [0, 6, 13, 5, 0, 5, 2, 14, 9, 3], [0, 13, 4, 2], [5, 12, 2, 4, 15, 16], [5, 11, 5, 6, 7, 1, 3, 9, 14, 8], [4, 8, 4, 5], [12, 10, 12, 0, 2, 10, 9, 6], [7, 4, 8, 1], [7, 14, 14, 11, 8, 14, 3, 8, 6, 1], [14, 4, 4, 13, 12], [7, 16, 6, 13, 16, 4, 7], [4, 3, 8, 1, 14, 9, 6], [11, 1, 8, 6, 5, 4, 10, 12, 15, 8]]},\n",
      "    outputs=[9, 13, 3, 6, 0, 5, 8, 4, 10, 1, 11, 4, 7, 6, 10],\n",
      "    solution=None\n",
      ")\n",
      "Task(\n",
      "    name='kth-largest with k=5',\n",
      "    inputs_dict={'x1': [[7, 2, 7, 14, 6, 0, 2, 14, 2, 16, 16], [6, 2, 1, 7, 7, 2, 11, 14, 6, 7, 11, 13], [1, 12, 11, 6, 11, 15, 11, 2, 7, 8, 13], [10, 1, 4, 3, 5, 6, 0], [3, 16, 14, 5, 10, 1, 5, 6], [12, 9, 2, 7, 13, 11, 1, 8, 14, 3, 14, 3], [11, 11, 14, 8, 14, 2, 8, 4, 1, 9, 9, 4], [4, 14, 0, 12, 7], [2, 9, 16, 2, 7, 12], [0, 8, 7, 16, 13, 3, 8, 0, 13], [9, 15, 0, 1, 8, 6, 2, 11, 4, 11], [15, 16, 16, 16, 6, 0, 4, 7], [16, 7, 3, 14, 4, 9, 1, 13, 4, 8, 6], [7, 13, 16, 12, 4, 5], [13, 11, 10, 7, 13, 11, 9]]},\n",
      "    outputs=[7, 7, 11, 3, 5, 11, 9, 0, 2, 8, 8, 7, 8, 5, 10],\n",
      "    solution=None\n",
      ")\n",
      "Task(\n",
      "    name='kth-smallest with k=1',\n",
      "    inputs_dict={'x1': [[0, 10, 4, 11, 14], [13], [10], [2, 8, 12], [1], [12, 15, 10, 10, 3, 8, 1], [6, 10, 8, 14, 2, 12], [6, 0], [16], [14], [13, 0, 3, 2, 9, 14], [12, 13], [12, 14, 13], [3, 14], [3, 3, 12]]},\n",
      "    outputs=[0, 13, 10, 2, 1, 1, 2, 0, 16, 14, 0, 12, 12, 3, 3],\n",
      "    solution=None\n",
      ")\n",
      "Task(\n",
      "    name='kth-smallest with k=2',\n",
      "    inputs_dict={'x1': [[1, 1, 6, 8], [15, 3, 10], [9, 5], [0, 9, 6, 7, 15], [3, 11], [13, 3, 7], [2, 2, 13, 0, 13, 5, 2, 6, 2], [12, 5, 0, 10], [7, 4, 0, 1, 11, 0, 11], [2, 16, 6, 4, 4, 1, 5], [10, 5], [13, 4, 8, 10, 3, 2], [9, 0, 0, 5, 14, 10, 5, 2], [10, 1, 9, 16, 8, 11, 16, 13, 1], [7, 2, 5, 9, 11, 13, 2]]},\n",
      "    outputs=[1, 10, 9, 6, 11, 7, 2, 5, 0, 2, 10, 3, 0, 1, 2],\n",
      "    solution=None\n",
      ")\n",
      "Task(\n",
      "    name='max',\n",
      "    inputs_dict={'x1': [[1, 2, 3], [0], [1, 1, 2, 1], [13, 9, 16, 8], [13, 10, 9, 16, 4, 15, 13], [9], [15, 14, 11, 7, 12, 0, 15], [4, 12], [16, 10, 4, 9, 3], [4, 13, 4, 2], [12, 11, 5, 12, 1, 2], [16, 8], [4, 9], [3], [4, 12]]},\n",
      "    outputs=[3, 0, 2, 16, 16, 9, 15, 12, 16, 13, 12, 16, 9, 3, 12],\n",
      "    solution=None\n",
      ")\n",
      "Task(\n",
      "    name='min',\n",
      "    inputs_dict={'x1': [[1, 2, 3], [0], [1, 1, 2, 1], [15, 5, 8, 12], [9, 9, 2, 11], [10, 14, 2], [3, 15, 14, 3, 5, 15], [1], [1, 7, 12, 6, 15, 12, 9], [7, 9, 7, 7, 8, 1], [16, 11, 13], [3, 1, 8, 15, 7], [14, 1, 3], [11, 15, 2, 0], [3, 6, 7, 6, 8]]},\n",
      "    outputs=[1, 0, 1, 5, 2, 2, 3, 1, 1, 1, 11, 1, 1, 0, 3],\n",
      "    solution=None\n",
      ")\n",
      "Task(\n",
      "    name='mult-k with k=4',\n",
      "    inputs_dict={'x1': [[14, 6, 10, 2, 7], [1, 12, 8, 11, 2, 7], [3], [5, 14, 6, 5, 8], [4, 14], [], [1, 6, 12, 1, 7], [11], [3, 5, 7, 4, 4, 6], [2], [3], [0, 11, 4, 11, 1, 6, 12], [15], [13, 15, 13], [9]]},\n",
      "    outputs=[[56, 24, 40, 8, 28], [4, 48, 32, 44, 8, 28], [12], [20, 56, 24, 20, 32], [16, 56], [], [4, 24, 48, 4, 28], [44], [12, 20, 28, 16, 16, 24], [8], [12], [0, 44, 16, 44, 4, 24, 48], [60], [52, 60, 52], [36]],\n",
      "    solution=None\n",
      ")\n",
      "Task(\n",
      "    name='pow-k with k=4',\n",
      "    inputs_dict={'x1': [[0, 9, 12, 7, 0], [1], [12, 15], [9], [0, 2, 5, 4, 11, 7], [5, 11, 4, 14, 13], [14, 14, 16], [], [10], [], [2, 0, 1, 11, 11, 10], [6, 8, 1, 3], [], [9], [1, 7, 11, 13]]},\n",
      "    outputs=[[0, 6561, 20736, 2401, 0], [1], [20736, 50625], [6561], [0, 16, 625, 256, 14641, 2401], [625, 14641, 256, 38416, 28561], [38416, 38416, 65536], [], [10000], [], [16, 0, 1, 14641, 14641, 10000], [1296, 4096, 1, 81], [], [6561], [1, 2401, 14641, 28561]],\n",
      "    solution=None\n",
      ")\n",
      "Task(\n",
      "    name='pow-k with k=5',\n",
      "    inputs_dict={'x1': [[6, 8, 2, 2], [14, 15], [9, 0, 3], [], [12, 4, 8, 11, 0, 8, 11], [14, 13, 8, 15, 8, 10, 0], [10, 8], [12, 11, 8, 8], [4, 4, 12, 7, 13, 9], [], [13, 4, 11, 10], [16, 12], [15, 4, 8, 1, 0, 10], [0, 10, 4, 11], [0, 13, 1, 10, 5, 2, 8]]},\n",
      "    outputs=[[7776, 32768, 32, 32], [537824, 759375], [59049, 0, 243], [], [248832, 1024, 32768, 161051, 0, 32768, 161051], [537824, 371293, 32768, 759375, 32768, 100000, 0], [100000, 32768], [248832, 161051, 32768, 32768], [1024, 1024, 248832, 16807, 371293, 59049], [], [371293, 1024, 161051, 100000], [1048576, 248832], [759375, 1024, 32768, 1, 0, 100000], [0, 100000, 1024, 161051], [0, 371293, 1, 100000, 3125, 32, 32768]],\n",
      "    solution=None\n",
      ")\n",
      "Task(\n",
      "    name='prepend-k with k=4',\n",
      "    inputs_dict={'x1': [[16, 9, 3], [13, 1, 11, 16, 7], [16, 5, 0, 2, 3], [13, 12], [12, 15, 12, 4], [1, 14, 7, 14, 10], [12, 0, 9, 14, 11], [7, 16, 9, 16, 9], [12, 7], [6, 10, 5, 4], [11, 11, 5, 7], [12, 10, 7, 4, 0, 15, 8], [7, 11, 8, 13], [6, 5, 3, 16, 7, 16, 5], [0, 7, 1, 14]]},\n",
      "    outputs=[[4, 16, 9, 3], [4, 13, 1, 11, 16, 7], [4, 16, 5, 0, 2, 3], [4, 13, 12], [4, 12, 15, 12, 4], [4, 1, 14, 7, 14, 10], [4, 12, 0, 9, 14, 11], [4, 7, 16, 9, 16, 9], [4, 12, 7], [4, 6, 10, 5, 4], [4, 11, 11, 5, 7], [4, 12, 10, 7, 4, 0, 15, 8], [4, 7, 11, 8, 13], [4, 6, 5, 3, 16, 7, 16, 5], [4, 0, 7, 1, 14]],\n",
      "    solution=None\n",
      ")\n",
      "Task(\n",
      "    name='prepend-k with k=5',\n",
      "    inputs_dict={'x1': [[], [7, 15, 1, 15, 16, 7, 10], [16], [4, 10, 11, 11, 16, 7, 14], [10, 7, 15, 13, 14, 13, 3], [], [12], [4, 16, 2], [12, 15, 6, 1, 7, 2], [2, 5, 5, 0], [10, 9, 8, 16], [5, 9], [8, 11, 7], [14, 1, 4, 13, 1, 11, 12], [3]]},\n",
      "    outputs=[[5], [5, 7, 15, 1, 15, 16, 7, 10], [5, 16], [5, 4, 10, 11, 11, 16, 7, 14], [5, 10, 7, 15, 13, 14, 13, 3], [5], [5, 12], [5, 4, 16, 2], [5, 12, 15, 6, 1, 7, 2], [5, 2, 5, 5, 0], [5, 10, 9, 8, 16], [5, 5, 9], [5, 8, 11, 7], [5, 14, 1, 4, 13, 1, 11, 12], [5, 3]],\n",
      "    solution=None\n",
      ")\n",
      "Task(\n",
      "    name='range',\n",
      "    inputs_dict={'x1': [0, 1, 2, 3, 7, 5, 3, 6, 2, 3, 5, 2, 1, 3, 5]},\n",
      "    outputs=[[], [0], [0, 1], [0, 1, 2], [0, 1, 2, 3, 4, 5, 6], [0, 1, 2, 3, 4], [0, 1, 2], [0, 1, 2, 3, 4, 5], [0, 1], [0, 1, 2], [0, 1, 2, 3, 4], [0, 1], [0], [0, 1, 2], [0, 1, 2, 3, 4]],\n",
      "    solution=None\n",
      ")\n",
      "Task(\n",
      "    name='remove-index-k with k=3',\n",
      "    inputs_dict={'x1': [[10, 5, 9], [4, 8, 10, 3, 2, 12, 9, 0, 0], [14, 10, 5, 2, 16], [1, 9, 16, 8, 11, 16, 13], [11, 7, 2], [9, 11, 13, 2, 9], [5, 11, 2, 10, 13, 9, 13], [5, 4, 5, 2, 14, 6, 9, 15, 1, 1], [3, 11, 16, 4, 10, 7], [7, 1, 2, 14, 10], [9, 10, 8, 6, 7, 15, 2, 9, 16], [4, 0, 3, 4, 9, 2, 15, 4, 8, 5], [6, 4, 16, 5, 11, 11, 14], [4, 6, 12], [1, 14, 9, 7, 11, 16]]},\n",
      "    outputs=[[10, 5], [4, 8, 3, 2, 12, 9, 0, 0], [14, 10, 2, 16], [1, 9, 8, 11, 16, 13], [11, 7], [9, 11, 2, 9], [5, 11, 10, 13, 9, 13], [5, 4, 2, 14, 6, 9, 15, 1, 1], [3, 11, 4, 10, 7], [7, 1, 14, 10], [9, 10, 6, 7, 15, 2, 9, 16], [4, 0, 4, 9, 2, 15, 4, 8, 5], [6, 4, 5, 11, 11, 14], [4, 6], [1, 14, 7, 11, 16]],\n",
      "    solution=None\n",
      ")\n",
      "Task(\n",
      "    name='remove-index-k with k=5',\n",
      "    inputs_dict={'x1': [[3, 3, 16, 6, 16, 4, 1], [3, 12, 15, 12, 1, 5, 15, 15, 2, 10], [15, 3, 7, 0, 4, 7, 13, 6, 12, 4, 11], [12, 5, 13, 11, 4, 16, 0, 8, 10, 6], [16, 16, 6, 6, 11, 5, 9, 14], [5, 0, 0, 13, 1, 16, 0, 9, 3], [2, 3, 11, 8, 10], [8, 10, 8, 4, 16, 7, 10, 5, 13], [6, 11, 10, 7, 11], [11, 16, 6, 0, 0, 8, 12], [3, 8, 6, 6, 11, 3, 4, 1, 4], [5, 11, 14, 2, 1, 3, 2, 13], [9, 11, 7, 13, 15, 10, 10, 8], [1, 3, 13, 12, 5, 8, 13, 0, 13, 3], [12, 6, 11, 9, 3]]},\n",
      "    outputs=[[3, 3, 16, 6, 4, 1], [3, 12, 15, 12, 5, 15, 15, 2, 10], [15, 3, 7, 0, 7, 13, 6, 12, 4, 11], [12, 5, 13, 11, 16, 0, 8, 10, 6], [16, 16, 6, 6, 5, 9, 14], [5, 0, 0, 13, 16, 0, 9, 3], [2, 3, 11, 8], [8, 10, 8, 4, 7, 10, 5, 13], [6, 11, 10, 7], [11, 16, 6, 0, 8, 12], [3, 8, 6, 6, 3, 4, 1, 4], [5, 11, 14, 2, 3, 2, 13], [9, 11, 7, 13, 10, 10, 8], [1, 3, 13, 12, 8, 13, 0, 13, 3], [12, 6, 11, 9]],\n",
      "    solution=None\n",
      ")\n",
      "Task(\n",
      "    name='remove-mod-head',\n",
      "    inputs_dict={'x1': [[3, 1, 3, 4, 7, 6, 9, 2], [4, 2, 6, 10, 8, 12], [1, 2, 3], [6, 36], [5, 2, 14, 10, 13], [8, 6, 7, 15, 2], [13, 4, 0, 3, 4], [3, 4, 8, 5, 8], [4, 5, 11, 11], [1, 6, 12, 8, 1, 14, 9], [9, 0, 15, 1], [10, 8, 7], [3, 21, 9, 15], [5, 6, 16, 11, 8, 8, 5], [2, 9, 1, 6]]},\n",
      "    outputs=[[1, 4, 7, 2], [2, 6, 10], [], [], [2, 14, 13], [6, 7, 15, 2], [4, 3, 4], [4, 8, 5, 8], [5, 11, 11], [], [15, 1], [8, 7], [], [6, 16, 11, 8, 8], [9, 1]],\n",
      "    solution=None\n",
      ")\n",
      "Task(\n",
      "    name='remove-mod-k with k=4',\n",
      "    inputs_dict={'x1': [[3, 32, 32, 36], [10, 14], [20], [], [10], [20, 11, 0, 20, 24, 10, 24], [0, 24, 16, 24], [28, 6, 20, 16, 5], [11, 7, 16, 14, 13, 12, 3], [12, 9, 4, 16, 6], [], [4, 14, 15, 1], [0, 12], [10, 3, 5, 8, 3, 7], [9, 5, 3, 3, 4, 5]]},\n",
      "    outputs=[[3], [10, 14], [], [], [10], [11, 10], [], [6, 5], [11, 7, 14, 13, 3], [9, 6], [], [14, 15, 1], [], [10, 3, 5, 3, 7], [9, 5, 3, 3, 5]],\n",
      "    solution=None\n",
      ")\n",
      "Task(\n",
      "    name='remove-mod-k with k=5',\n",
      "    inputs_dict={'x1': [[20, 10, 5, 7], [9, 13, 0, 8], [0, 5], [13, 12, 10, 1, 15], [6], [8, 5, 9, 25, 6], [30], [14, 16, 10, 9, 6], [5, 2, 1], [12, 30], [5], [9, 5, 10, 5, 13, 14, 0], [10, 15, 40], [5, 40, 16], [35, 1, 4, 13, 10, 6, 35]]},\n",
      "    outputs=[[7], [9, 13, 8], [], [13, 12, 1], [6], [8, 9, 6], [], [14, 16, 9, 6], [2, 1], [12], [], [9, 13, 14], [], [16], [1, 4, 13, 6]],\n",
      "    solution=None\n",
      ")\n",
      "Task(\n",
      "    name='repeat',\n",
      "    inputs_dict={'x1': [[1, 1], [1, 2], [1, 3], [2, 1], [2, 3], [3, 7], [6, 13], [4, 6], [3, 7], [4, 3], [3, 7], [7, 6], [3, 3], [1, 2], [4, 5]]},\n",
      "    outputs=[[1], [2], [3], [1, 1], [3, 3], [7, 7, 7], [13, 13, 13, 13, 13, 13], [6, 6, 6, 6], [7, 7, 7], [3, 3, 3, 3], [7, 7, 7], [6, 6, 6, 6, 6, 6, 6], [3, 3, 3], [2], [5, 5, 5, 5]],\n",
      "    solution=None\n",
      ")\n",
      "Task(\n",
      "    name='repeat-k with k=3',\n",
      "    inputs_dict={'x1': [[10, 9], [10, 8, 4], [7, 10, 5, 13, 1], [11, 10], [11, 5], [16, 6, 0, 0], [12, 10], [8], [6, 11], [4], [], [8], [11, 14], [1], [2]]},\n",
      "    outputs=[[10, 9, 10, 9, 10, 9], [10, 8, 4, 10, 8, 4, 10, 8, 4], [7, 10, 5, 13, 1, 7, 10, 5, 13, 1, 7, 10, 5, 13, 1], [11, 10, 11, 10, 11, 10], [11, 5, 11, 5, 11, 5], [16, 6, 0, 0, 16, 6, 0, 0, 16, 6, 0, 0], [12, 10, 12, 10, 12, 10], [8, 8, 8], [6, 11, 6, 11, 6, 11], [4, 4, 4], [], [8, 8, 8], [11, 14, 11, 14, 11, 14], [1, 1, 1], [2, 2, 2]],\n",
      "    solution=None\n",
      ")\n",
      "Task(\n",
      "    name='repeat-k with k=4',\n",
      "    inputs_dict={'x1': [[7, 9, 11, 7], [15, 10, 10, 8], [1, 3, 13], [5, 8, 13, 0], [3, 1, 12, 6], [9, 3, 9, 14], [15, 10], [8, 16], [14, 8, 6, 2, 6], [12, 3, 13], [6], [3, 5], [6, 5], [12, 14, 1], [6, 0, 12, 11, 3]]},\n",
      "    outputs=[[7, 9, 11, 7, 7, 9, 11, 7, 7, 9, 11, 7, 7, 9, 11, 7], [15, 10, 10, 8, 15, 10, 10, 8, 15, 10, 10, 8, 15, 10, 10, 8], [1, 3, 13, 1, 3, 13, 1, 3, 13, 1, 3, 13], [5, 8, 13, 0, 5, 8, 13, 0, 5, 8, 13, 0, 5, 8, 13, 0], [3, 1, 12, 6, 3, 1, 12, 6, 3, 1, 12, 6, 3, 1, 12, 6], [9, 3, 9, 14, 9, 3, 9, 14, 9, 3, 9, 14, 9, 3, 9, 14], [15, 10, 15, 10, 15, 10, 15, 10], [8, 16, 8, 16, 8, 16, 8, 16], [14, 8, 6, 2, 6, 14, 8, 6, 2, 6, 14, 8, 6, 2, 6, 14, 8, 6, 2, 6], [12, 3, 13, 12, 3, 13, 12, 3, 13, 12, 3, 13], [6, 6, 6, 6], [3, 5, 3, 5, 3, 5, 3, 5], [6, 5, 6, 5, 6, 5, 6, 5], [12, 14, 1, 12, 14, 1, 12, 14, 1, 12, 14, 1], [6, 0, 12, 11, 3, 6, 0, 12, 11, 3, 6, 0, 12, 11, 3, 6, 0, 12, 11, 3]],\n",
      "    solution=None\n",
      ")\n",
      "Task(\n",
      "    name='repeat-k with k=5',\n",
      "    inputs_dict={'x1': [[14, 13, 13, 4, 9], [7, 6], [4, 8, 16, 4], [15, 5, 8], [7, 9, 9, 2], [6, 10, 14, 2], [3, 15, 14, 3, 5], [0, 1, 15, 1, 7], [6, 15, 12, 9], [7, 9, 7, 7], [1, 6], [11, 13, 11, 3, 1], [15, 7, 7], [1, 3, 9, 11, 15], []]},\n",
      "    outputs=[[14, 13, 13, 4, 9, 14, 13, 13, 4, 9, 14, 13, 13, 4, 9, 14, 13, 13, 4, 9, 14, 13, 13, 4, 9], [7, 6, 7, 6, 7, 6, 7, 6, 7, 6], [4, 8, 16, 4, 4, 8, 16, 4, 4, 8, 16, 4, 4, 8, 16, 4, 4, 8, 16, 4], [15, 5, 8, 15, 5, 8, 15, 5, 8, 15, 5, 8, 15, 5, 8], [7, 9, 9, 2, 7, 9, 9, 2, 7, 9, 9, 2, 7, 9, 9, 2, 7, 9, 9, 2], [6, 10, 14, 2, 6, 10, 14, 2, 6, 10, 14, 2, 6, 10, 14, 2, 6, 10, 14, 2], [3, 15, 14, 3, 5, 3, 15, 14, 3, 5, 3, 15, 14, 3, 5, 3, 15, 14, 3, 5, 3, 15, 14, 3, 5], [0, 1, 15, 1, 7, 0, 1, 15, 1, 7, 0, 1, 15, 1, 7, 0, 1, 15, 1, 7, 0, 1, 15, 1, 7], [6, 15, 12, 9, 6, 15, 12, 9, 6, 15, 12, 9, 6, 15, 12, 9, 6, 15, 12, 9], [7, 9, 7, 7, 7, 9, 7, 7, 7, 9, 7, 7, 7, 9, 7, 7, 7, 9, 7, 7], [1, 6, 1, 6, 1, 6, 1, 6, 1, 6], [11, 13, 11, 3, 1, 11, 13, 11, 3, 1, 11, 13, 11, 3, 1, 11, 13, 11, 3, 1, 11, 13, 11, 3, 1], [15, 7, 7, 15, 7, 7, 15, 7, 7, 15, 7, 7, 15, 7, 7], [1, 3, 9, 11, 15, 1, 3, 9, 11, 15, 1, 3, 9, 11, 15, 1, 3, 9, 11, 15, 1, 3, 9, 11, 15], []],\n",
      "    solution=None\n",
      ")\n",
      "Task(\n",
      "    name='replace-all-with-index-k with k=5',\n",
      "    inputs_dict={'x1': [[8, 7, 16, 9, 3, 15], [9, 13, 7, 14, 0, 3, 12], [10, 16, 9, 13, 14, 13], [4, 16, 8, 9, 13, 8, 12, 11, 4, 5, 2], [4, 10, 1, 16, 2, 11, 10, 12, 4, 10, 8, 6], [2, 4, 9, 8, 7, 9, 16], [9, 8, 15, 3, 4, 13, 9, 3, 3], [15, 5, 16, 14, 4, 6, 15, 12, 9, 13, 15], [16, 5, 7, 1, 5], [0, 5, 7, 11, 11, 0, 12, 3, 1], [9, 12, 12, 15, 13, 16, 5, 13], [12, 3, 6, 14, 5], [13, 1, 15, 8, 5, 3, 10, 11, 6, 8], [13, 5, 3, 0, 9, 15, 1, 1], [12, 13, 9, 8, 3, 4, 5]]},\n",
      "    outputs=[[3, 3, 3, 3, 3, 3], [0, 0, 0, 0, 0, 0, 0], [14, 14, 14, 14, 14, 14], [13, 13, 13, 13, 13, 13, 13, 13, 13, 13, 13], [2, 2, 2, 2, 2, 2, 2, 2, 2, 2, 2, 2], [7, 7, 7, 7, 7, 7, 7], [4, 4, 4, 4, 4, 4, 4, 4, 4], [4, 4, 4, 4, 4, 4, 4, 4, 4, 4, 4], [5, 5, 5, 5, 5], [11, 11, 11, 11, 11, 11, 11, 11, 11], [13, 13, 13, 13, 13, 13, 13, 13], [5, 5, 5, 5, 5], [5, 5, 5, 5, 5, 5, 5, 5, 5, 5], [9, 9, 9, 9, 9, 9, 9, 9], [3, 3, 3, 3, 3, 3, 3]],\n",
      "    solution=None\n",
      ")\n",
      "Task(\n",
      "    name='rotate-k with k=1',\n",
      "    inputs_dict={'x1': [[16, 15, 10, 15, 5, 16, 9, 7, 9, 11, 2, 2], [10, 5, 9, 13, 4, 8, 10, 3, 2, 12, 9, 0], [8, 5, 16, 12, 11], [1, 13, 14, 2, 11, 6, 6, 5, 6, 13, 16, 7, 6, 13], [1, 14, 6, 2, 2, 13, 5, 7, 3, 4, 9, 6, 4, 11], [13, 5, 6, 6, 3, 5, 7, 6, 5, 11], [12, 0, 2, 3, 8, 4, 12, 4, 15, 7, 13, 4, 4, 9, 16, 7], [11, 3, 6, 7, 6, 8, 5, 6, 10, 3, 14, 4, 3, 8], [0, 12], [5, 14, 10, 5, 2, 16, 10, 1, 9, 16], [7, 10, 4, 14, 4, 16, 1, 8, 4, 7, 6, 0, 2, 0, 7, 8], [0, 1, 15, 10, 14, 4, 10, 1, 3, 13], [10, 2, 5, 10, 14, 15, 9, 11, 13, 5, 15, 1, 15, 0, 9, 0, 12], [14, 1], [10, 16, 6, 14, 11, 5, 1, 4, 2, 0, 15, 14, 13, 16, 12, 8, 11]]},\n",
      "    outputs=[[2, 16, 15, 10, 15, 5, 16, 9, 7, 9, 11, 2], [0, 10, 5, 9, 13, 4, 8, 10, 3, 2, 12, 9], [11, 8, 5, 16, 12], [13, 1, 13, 14, 2, 11, 6, 6, 5, 6, 13, 16, 7, 6], [11, 1, 14, 6, 2, 2, 13, 5, 7, 3, 4, 9, 6, 4], [11, 13, 5, 6, 6, 3, 5, 7, 6, 5], [7, 12, 0, 2, 3, 8, 4, 12, 4, 15, 7, 13, 4, 4, 9, 16], [8, 11, 3, 6, 7, 6, 8, 5, 6, 10, 3, 14, 4, 3], [12, 0], [16, 5, 14, 10, 5, 2, 16, 10, 1, 9], [8, 7, 10, 4, 14, 4, 16, 1, 8, 4, 7, 6, 0, 2, 0, 7], [13, 0, 1, 15, 10, 14, 4, 10, 1, 3], [12, 10, 2, 5, 10, 14, 15, 9, 11, 13, 5, 15, 1, 15, 0, 9, 0], [1, 14], [11, 10, 16, 6, 14, 11, 5, 1, 4, 2, 0, 15, 14, 13, 16, 12, 8]],\n",
      "    solution=None\n",
      ")\n",
      "Task(\n",
      "    name='rotate-k with k=2',\n",
      "    inputs_dict={'x1': [[16, 2, 16, 6, 8, 12, 12, 3, 6, 8, 5, 5], [2, 12, 6, 9], [7, 1, 6, 5, 14, 14, 0, 5, 6], [11, 16, 13, 1, 11, 7, 2, 5, 9, 11, 13, 2, 9, 9, 5, 11], [8, 9, 7, 10, 8, 8, 6, 12], [14, 12, 16, 4, 3, 7, 13, 13, 0, 6, 4, 12, 10, 10, 0, 5, 7], [11, 16, 7, 7, 6, 3, 16, 12], [6, 0, 12, 11, 3, 15, 14, 13, 13, 4], [10, 1, 13, 5, 13, 14, 7, 6, 6, 0], [12, 3, 15, 13], [0, 13, 14, 13, 1, 14, 12], [10, 13, 9, 13], [7, 11, 0, 13, 3, 9, 1, 13, 10, 8, 2, 12, 9, 11], [2, 7, 8, 16, 10, 0, 10, 8, 9, 8, 1, 9, 3], [13, 15, 0, 2, 1, 12, 8, 8, 4, 3]]},\n",
      "    outputs=[[5, 5, 16, 2, 16, 6, 8, 12, 12, 3, 6, 8], [6, 9, 2, 12], [5, 6, 7, 1, 6, 5, 14, 14, 0], [5, 11, 11, 16, 13, 1, 11, 7, 2, 5, 9, 11, 13, 2, 9, 9], [6, 12, 8, 9, 7, 10, 8, 8], [5, 7, 14, 12, 16, 4, 3, 7, 13, 13, 0, 6, 4, 12, 10, 10, 0], [16, 12, 11, 16, 7, 7, 6, 3], [13, 4, 6, 0, 12, 11, 3, 15, 14, 13], [6, 0, 10, 1, 13, 5, 13, 14, 7, 6], [15, 13, 12, 3], [14, 12, 0, 13, 14, 13, 1], [9, 13, 10, 13], [9, 11, 7, 11, 0, 13, 3, 9, 1, 13, 10, 8, 2, 12], [9, 3, 2, 7, 8, 16, 10, 0, 10, 8, 9, 8, 1], [4, 3, 13, 15, 0, 2, 1, 12, 8, 8]],\n",
      "    solution=None\n",
      ")\n",
      "Task(\n",
      "    name='rotate-k with k=3',\n",
      "    inputs_dict={'x1': [[13, 6, 15, 16, 4], [6, 7, 6, 12, 4, 8, 16, 4, 8, 15, 5, 8, 12, 7, 9], [15, 9, 4, 8, 5, 5, 11, 4, 5, 11, 4, 11, 13, 15, 14, 8], [8, 13, 9, 6, 8, 6], [4, 3, 12, 6, 2, 11, 16, 10, 9, 10, 13, 6, 3], [5, 4, 5, 2, 14, 6, 9, 15, 1, 1, 7, 3, 11], [0, 6, 9, 4, 16, 10, 12], [12, 16, 4, 8, 4, 0, 0, 16, 14, 7, 13, 4], [6, 0, 10, 14, 5, 13, 11, 2, 7, 7, 12], [2, 11, 6, 10, 14, 2, 14, 3, 15, 14, 3, 5, 15, 0, 1, 15, 1], [13, 12, 0, 3, 11, 2, 9, 13, 0, 10, 2, 5, 7, 6, 4, 13, 1], [0, 5, 4, 2, 14, 6], [2, 6, 1, 11, 4, 8, 15, 15, 16, 13, 3, 11, 8, 14], [4, 10, 7, 5, 7, 1, 2, 14, 10, 13], [4, 13, 10, 0, 1, 2, 6, 4]]},\n",
      "    outputs=[[15, 16, 4, 13, 6], [12, 7, 9, 6, 7, 6, 12, 4, 8, 16, 4, 8, 15, 5, 8], [15, 14, 8, 15, 9, 4, 8, 5, 5, 11, 4, 5, 11, 4, 11, 13], [6, 8, 6, 8, 13, 9], [13, 6, 3, 4, 3, 12, 6, 2, 11, 16, 10, 9, 10], [7, 3, 11, 5, 4, 5, 2, 14, 6, 9, 15, 1, 1], [16, 10, 12, 0, 6, 9, 4], [7, 13, 4, 12, 16, 4, 8, 4, 0, 0, 16, 14], [7, 7, 12, 6, 0, 10, 14, 5, 13, 11, 2], [1, 15, 1, 2, 11, 6, 10, 14, 2, 14, 3, 15, 14, 3, 5, 15, 0], [4, 13, 1, 13, 12, 0, 3, 11, 2, 9, 13, 0, 10, 2, 5, 7, 6], [2, 14, 6, 0, 5, 4], [11, 8, 14, 2, 6, 1, 11, 4, 8, 15, 15, 16, 13, 3], [14, 10, 13, 4, 10, 7, 5, 7, 1, 2], [2, 6, 4, 4, 13, 10, 0, 1]],\n",
      "    solution=None\n",
      ")\n",
      "Task(\n",
      "    name='slice-k-n with k=1 and n=3',\n",
      "    inputs_dict={'x1': [[14, 13, 13, 2, 12, 5, 15, 3], [13, 12, 5, 0, 6, 6, 4, 2, 2, 11], [7, 7, 11, 5, 16], [8, 1, 7, 13, 11, 2, 5, 16, 10, 9], [15, 14, 7, 2, 13, 14, 7], [5, 15, 11, 2, 8, 15, 4, 11, 1, 16, 10, 13], [13, 13, 2, 4, 6, 5, 3], [12, 14, 2, 14, 0, 9, 8], [12, 7, 10, 10, 1, 11, 12, 10, 0, 3, 14], [6, 13, 3, 14, 6, 3, 8, 9, 10, 7, 9, 1], [1, 14, 4, 2, 7, 14], [12, 5, 9, 6, 0, 15, 6, 6, 4, 13, 0, 14], [3, 5, 5, 7, 6, 16, 4, 2, 7], [15, 12, 15, 9, 8, 3, 14, 3, 0, 0, 14], [12, 4, 14, 2, 6, 9, 14]]},\n",
      "    outputs=[[14, 13, 13], [13, 12, 5], [7, 7, 11], [8, 1, 7], [15, 14, 7], [5, 15, 11], [13, 13, 2], [12, 14, 2], [12, 7, 10], [6, 13, 3], [1, 14, 4], [12, 5, 9], [3, 5, 5], [15, 12, 15], [12, 4, 14]],\n",
      "    solution=None\n",
      ")\n",
      "Task(\n",
      "    name='slice-k-n with k=1 and n=5',\n",
      "    inputs_dict={'x1': [[10, 0, 10, 4, 4, 5, 5, 2, 13, 14, 13, 6, 3], [7, 8, 2, 14, 6, 14, 5, 5], [7, 4, 1, 16, 9, 16, 14, 6, 15, 2, 9, 1], [15, 2, 10, 8, 8, 14, 6, 4, 8, 8, 16], [7, 11, 5, 14, 15, 11, 12, 9, 7, 5], [15, 6, 12, 11, 12, 12, 2], [2, 12, 15, 7, 10, 4, 14, 11, 7], [1, 15, 4, 2, 11, 12, 11, 9, 16, 11, 16, 12, 2, 1], [5, 7, 4, 16, 10, 8, 12], [8, 10, 7, 16, 3, 14, 0], [3, 11, 9, 11, 9, 7, 3, 3, 13, 10, 3], [10, 12, 3, 12, 5, 14, 2, 5, 1, 13], [3, 14, 10, 13, 16, 6, 1, 14, 12, 3, 12, 15, 5], [3, 0, 13, 7, 3, 5, 13, 11, 12, 5, 11], [14, 2, 3, 14, 10, 0, 12, 16, 13]]},\n",
      "    outputs=[[10, 0, 10, 4, 4], [7, 8, 2, 14, 6], [7, 4, 1, 16, 9], [15, 2, 10, 8, 8], [7, 11, 5, 14, 15], [15, 6, 12, 11, 12], [2, 12, 15, 7, 10], [1, 15, 4, 2, 11], [5, 7, 4, 16, 10], [8, 10, 7, 16, 3], [3, 11, 9, 11, 9], [10, 12, 3, 12, 5], [3, 14, 10, 13, 16], [3, 0, 13, 7, 3], [14, 2, 3, 14, 10]],\n",
      "    solution=None\n",
      ")\n",
      "Task(\n",
      "    name='slice-k-n with k=2 and n=4',\n",
      "    inputs_dict={'x1': [[9, 13, 11, 2, 6, 14, 11, 6, 8, 2, 7], [7, 6, 9, 1, 2, 13, 16], [14, 1, 5, 0, 2, 11, 8, 11, 1, 1, 0, 3], [10, 15, 5, 5, 0, 16, 12, 12, 8, 5, 4, 16], [16, 1, 13, 11, 14, 9, 8, 12, 8, 5, 8, 3], [15, 16, 14, 9, 16, 13, 10, 3, 13, 9, 11], [7, 7, 8, 3, 4, 0, 14, 4, 10, 7, 15, 6], [6, 10, 16, 7, 14, 1, 5, 11, 15, 11, 13, 6, 14, 14], [0, 9, 8, 11, 6, 7, 6, 4, 4, 7], [15, 10, 7, 11, 7, 4, 6], [12, 0, 15, 7, 3, 16, 15, 16, 12, 13], [0, 16, 7, 11, 3, 14, 9, 16, 8, 12], [16, 6, 12, 6, 8, 11, 7, 2, 11, 2, 4, 1], [13, 13, 4, 12, 3, 6, 5, 7, 13], [11, 0, 1, 12, 11, 4, 8, 0]]},\n",
      "    outputs=[[13, 11, 2, 6], [6, 9, 1, 2], [1, 5, 0, 2], [15, 5, 5, 0], [1, 13, 11, 14], [16, 14, 9, 16], [7, 8, 3, 4], [10, 16, 7, 14], [9, 8, 11, 6], [10, 7, 11, 7], [0, 15, 7, 3], [16, 7, 11, 3], [6, 12, 6, 8], [13, 4, 12, 3], [0, 1, 12, 11]],\n",
      "    solution=None\n",
      ")\n",
      "Task(\n",
      "    name='slice-k-n with k=3 and n=2',\n",
      "    inputs_dict={'x1': [[1, 13, 12, 5, 9, 8, 6, 4, 1, 16, 12, 15, 5], [3, 12, 15, 13, 16, 3, 8, 11, 9, 16, 15, 4], [11, 12, 7, 13, 16, 3, 9, 15, 1, 0, 3], [1, 0, 11, 10, 7, 15, 3], [10, 10, 15, 3, 3, 9, 6, 15], [2, 4, 10, 9, 16, 0, 6], [10, 13, 7, 13, 2, 8], [8, 8, 8, 15, 15, 16], [11, 0, 13, 11, 9, 7, 7, 10, 9, 2], [7, 9, 3, 7, 11, 11], [2, 1, 1, 8, 0, 10], [6, 6, 7, 8, 14, 7, 11, 14, 8, 16, 1, 8], [1, 1, 6, 15, 11, 7, 1, 6, 8, 14], [15, 0, 8, 12, 3, 0, 14, 1], [6, 5, 13, 9, 7, 10, 14, 16, 1, 7, 16, 14, 13]]},\n",
      "    outputs=[[12, 5], [15, 13], [7, 13], [11, 10], [15, 3], [10, 9], [7, 13], [8, 15], [13, 11], [3, 7], [1, 8], [7, 8], [6, 15], [8, 12], [13, 9]],\n",
      "    solution=None\n",
      ")\n",
      "Task(\n",
      "    name='slice-k-n with k=4 and n=2',\n",
      "    inputs_dict={'x1': [[4, 15, 8, 1, 13, 7, 5], [8, 11, 3, 5, 1, 14, 8, 3, 14, 11, 16, 1, 7], [10, 4, 13, 5, 6, 10, 8, 2, 4, 2], [0, 14, 0, 16, 0, 12, 0, 2, 7, 8, 5, 9, 10, 2], [12, 3, 6, 9, 13, 11, 0, 10, 5, 15, 4, 6, 6], [9, 10, 10, 3, 9, 11, 10, 2, 9, 0, 5], [5, 5, 10, 13, 4, 1, 14, 4], [6, 11, 12, 6, 11, 5, 0], [12, 9, 10, 1, 7, 7, 10, 7, 4, 1, 2, 12, 9, 14], [3, 8, 0, 14, 10, 16, 6, 9, 10, 3], [8, 2, 9, 6, 5, 9, 12, 11, 11, 6], [8, 14, 15, 4, 16, 7, 14, 14, 2, 10, 1, 1, 1], [6, 6, 14, 11, 16, 9, 5, 16], [3, 7, 8, 0, 7, 6, 8, 6, 9, 8], [6, 7, 9, 2, 4, 16, 11]]},\n",
      "    outputs=[[1, 13], [5, 1], [5, 6], [16, 0], [9, 13], [3, 9], [13, 4], [6, 11], [1, 7], [14, 10], [6, 5], [4, 16], [11, 16], [0, 7], [2, 4]],\n",
      "    solution=None\n",
      ")\n",
      "Task(\n",
      "    name='slice-k-n with k=4 and n=4',\n",
      "    inputs_dict={'x1': [[6, 2, 5, 14, 9, 7, 6, 8, 5, 6, 9, 3, 10, 3, 0], [6, 4, 5, 10, 15, 4, 6, 16, 15, 15, 12], [12, 0, 1, 11, 12, 9, 15, 10, 1, 5, 11, 16, 9], [6, 7, 15, 4, 8, 9, 13, 1, 7, 6, 1, 2, 7, 10, 14, 8], [7, 9, 7, 10, 16, 2, 12, 11, 15, 1, 7, 2], [12, 1, 5, 12, 7, 10, 5, 16, 10, 9, 3, 8, 15], [15, 5, 1, 4, 11, 7, 8, 15, 3, 1, 7, 1, 3, 8, 4, 14], [4, 7, 13, 4, 7, 13, 5, 10, 8, 8, 11], [12, 8, 6, 4, 5, 10, 8, 11, 9, 9, 16], [14, 14, 1, 1, 9, 14, 13, 2, 11, 3], [2, 0, 10, 7, 5, 12, 15, 2, 11, 11, 7, 3, 8, 2], [6, 12, 7, 10, 16, 3, 4, 7, 4, 9, 4, 2], [4, 0, 15, 15, 10, 0, 11, 14, 4, 15, 10, 5, 7, 10], [14, 9, 3, 15, 10, 9, 5, 12, 14, 4, 7, 13, 15, 2], [16, 1, 15, 3, 4, 4, 7, 8, 16, 3, 3, 9, 14, 6, 5, 7]]},\n",
      "    outputs=[[14, 9, 7, 6], [10, 15, 4, 6], [11, 12, 9, 15], [4, 8, 9, 13], [10, 16, 2, 12], [12, 7, 10, 5], [4, 11, 7, 8], [4, 7, 13, 5], [4, 5, 10, 8], [1, 9, 14, 13], [7, 5, 12, 15], [10, 16, 3, 4], [15, 10, 0, 11], [15, 10, 9, 5], [3, 4, 4, 7]],\n",
      "    solution=None\n",
      ")\n",
      "Task(\n",
      "    name='slice-k-n with k=5 and n=1',\n",
      "    inputs_dict={'x1': [[9, 1, 14, 12, 11, 7, 8], [2, 11, 14, 5, 8, 11, 7], [16, 12, 11, 0, 0, 5, 10, 14], [6, 3, 16, 10, 7, 13, 3, 4], [8, 2, 13, 14, 12, 1, 7, 1, 13, 4, 5], [7, 12, 1, 4, 5, 14, 3], [8, 3, 7, 9, 3, 8, 10, 9], [13, 16, 6, 11, 11, 16, 8, 1, 1, 1, 15, 11], [15, 11, 4, 16, 12, 5, 4, 3, 7, 10, 16, 16, 11, 7], [16, 12, 11, 12, 3, 4, 0, 2, 13, 16, 6, 13, 5], [13, 2, 13, 7, 6, 6, 14, 5, 15, 5, 16], [7, 14, 4, 6, 15, 10, 14, 8], [3, 16, 9, 15, 13, 13, 15, 4, 11, 9, 16], [7, 8, 9, 14, 16, 4, 5, 9, 9, 3, 9, 14, 10, 0], [9, 8, 9, 8, 14, 11, 12, 14, 12, 14, 8]]},\n",
      "    outputs=[[11], [8], [0], [7], [12], [5], [3], [11], [12], [3], [6], [15], [13], [16], [14]],\n",
      "    solution=None\n",
      ")\n",
      "Task(\n",
      "    name='slice-k-n with k=5 and n=3',\n",
      "    inputs_dict={'x1': [[15, 9, 13, 4, 4, 0, 16, 6, 4, 3, 0, 14, 16, 10, 13, 5], [14, 0, 6, 15, 5, 11, 9, 3, 7, 10], [6, 8, 14, 14, 10, 8, 3, 15, 3], [13, 7, 0, 10, 10, 10, 15, 11, 14, 4, 16, 5], [13, 12, 5, 15, 16, 16, 1, 7, 1, 15], [11, 6, 1, 2, 7, 9, 11, 10, 5, 8, 2, 16, 4, 0], [14, 15, 15, 9, 3, 7, 7, 6, 8, 1, 1, 7, 9], [14, 7, 15, 6, 10, 9, 8, 11, 2, 11], [10, 16, 5, 12, 15, 15, 10, 9, 1, 4, 7, 12, 2, 15, 12, 14], [8, 6, 6, 11, 8, 5, 11, 3, 16, 6, 14, 15, 5, 2, 15], [16, 0, 12, 14, 8, 8, 11, 7, 16, 11, 16, 2, 0, 14], [8, 12, 8, 14, 9, 16, 6, 3, 2, 0, 10, 14, 11, 10], [7, 0, 11, 0, 13, 2, 10, 5, 10, 8], [10, 10, 5, 2, 1, 11, 8, 9, 6, 10, 6, 11, 11, 4], [11, 10, 6, 3, 9, 6, 16, 14, 12, 2, 2]]},\n",
      "    outputs=[[4, 0, 16], [5, 11, 9], [10, 8, 3], [10, 10, 15], [16, 16, 1], [7, 9, 11], [3, 7, 7], [10, 9, 8], [15, 15, 10], [8, 5, 11], [8, 8, 11], [9, 16, 6], [13, 2, 10], [1, 11, 8], [9, 6, 16]],\n",
      "    solution=None\n",
      ")\n",
      "Task(\n",
      "    name='slice-k-n with k=5 and n=5',\n",
      "    inputs_dict={'x1': [[11, 6, 2, 10, 12, 4, 9, 5, 7, 10, 5], [12, 15, 3, 13, 4, 13, 4, 11, 8, 1, 3, 9, 13, 13], [4, 4, 13, 12, 10, 10, 3, 2, 10, 4, 10, 1, 0, 4, 4], [14, 2, 11, 14, 15, 6, 12, 8, 12, 4, 3, 2, 3, 1, 1], [13, 11, 2, 2, 14, 5, 13, 9, 10, 2, 11], [12, 15, 0, 13, 13, 9, 2, 11, 6, 7, 3, 3, 12, 10, 2, 10], [8, 0, 5, 2, 1, 6, 13, 16, 14, 6, 13, 16, 6], [5, 0, 6, 7, 6, 2, 8, 6, 13, 3, 6], [10, 3, 11, 16, 10, 4, 8, 12, 0, 15, 9, 4, 4, 8, 11, 11, 9, 1], [12, 0, 10, 14, 10, 8, 12, 8, 7, 16, 0, 8, 5, 3, 10], [10, 9, 6, 15, 6, 12, 6, 7, 5, 9, 6, 5, 13], [0, 13, 5, 7, 16, 11, 12, 2, 0, 3, 9, 14, 6, 2], [13, 5, 3, 2, 12, 3, 9, 10, 9, 16, 15, 6, 9, 0, 7, 16], [4, 5, 3, 2, 6, 16, 16, 15, 11, 11, 16, 3, 16], [4, 13, 3, 15, 11, 5, 0, 16, 4, 9, 8, 7, 16, 4, 9, 6]]},\n",
      "    outputs=[[12, 4, 9, 5, 7], [4, 13, 4, 11, 8], [10, 10, 3, 2, 10], [15, 6, 12, 8, 12], [14, 5, 13, 9, 10], [13, 9, 2, 11, 6], [1, 6, 13, 16, 14], [6, 2, 8, 6, 13], [10, 4, 8, 12, 0], [10, 8, 12, 8, 7], [6, 12, 6, 7, 5], [16, 11, 12, 2, 0], [12, 3, 9, 10, 9], [6, 16, 16, 15, 11], [11, 5, 0, 16, 4]],\n",
      "    solution=None\n",
      ")\n",
      "Task(\n",
      "    name='sum',\n",
      "    inputs_dict={'x1': [[1, 2, 3], [0], [1, 1, 2, 1], [10], [14, 6], [8, 5], [14, 1], [1, 6, 12, 1, 7], [11], [3, 5, 7, 4, 4, 6], [2], [3], [0, 11, 4, 11, 1, 6, 12], [15], [13, 15, 13]]},\n",
      "    outputs=[6, 0, 5, 10, 20, 13, 15, 27, 11, 29, 2, 3, 45, 15, 41],\n",
      "    solution=None\n",
      ")\n",
      "Task(\n",
      "    name='take-k with k=5',\n",
      "    inputs_dict={'x1': [[10, 5, 1, 13, 10, 8, 9, 10, 13, 7, 5], [1, 10, 9, 6, 10, 14, 7, 11, 16, 15], [7, 12, 15, 13, 10, 16, 8, 4, 6, 7], [12, 5, 3, 12, 4, 16, 8, 6, 2, 2], [13, 13, 2, 2, 3, 9, 16, 10, 15], [13, 0, 12, 14, 15, 15], [1, 0, 12, 11, 11, 0, 15, 1, 4, 6, 11], [7, 13, 0, 4, 14, 10, 10], [15, 13, 4, 5, 10, 15, 4, 4, 2, 2], [7, 12, 4, 9, 7, 10, 8, 15, 10, 15, 0, 15], [0, 11, 10, 16, 9, 2, 6], [4, 9, 11, 7, 11, 10, 1, 7, 1, 8, 1, 1], [7, 12, 9, 13, 16, 6, 1, 9, 10, 14, 9], [5, 10, 13, 14, 6, 5, 13], [7, 16, 10, 1, 4, 4, 3, 1, 1, 1]]},\n",
      "    outputs=[[10, 5, 1, 13, 10], [1, 10, 9, 6, 10], [7, 12, 15, 13, 10], [12, 5, 3, 12, 4], [13, 13, 2, 2, 3], [13, 0, 12, 14, 15], [1, 0, 12, 11, 11], [7, 13, 0, 4, 14], [15, 13, 4, 5, 10], [7, 12, 4, 9, 7], [0, 11, 10, 16, 9], [4, 9, 11, 7, 11], [7, 12, 9, 13, 16], [5, 10, 13, 14, 6], [7, 16, 10, 1, 4]],\n",
      "    solution=None\n",
      ")\n",
      "Task(\n",
      "    name='remove empty lists',\n",
      "    inputs_dict={'x1': [[[False, False, False], [False], [True], [True]], [[False, True, False], [], [True, False, False], [True, False]], [[False], [], [True, True, True], [True]], [[], [True, False], [True, False], [True, True, False]], [[False], [], [False, False], [True, True, True]], [[False, True, True], [], [False, True], [True, False]], [[False, False, False], [False, True, True], [False, False, True], [False, True]], [[True, True], [True], [True, True], []], [[], [True, True], [True, False], [False]], [[True], [], [True, True, False], [False, True]], [[True, True, True], [], [True, False], []], [[], [True, True, False], [False], [False, True, False]], [[False], [True, False, True], [False, True, False], [False]], [[False, False], [False], [], [False]], [[False, False, True], [True, True], [True], [False, True, True]]]},\n",
      "    outputs=[[[False, False, False], [False], [True], [True]], [[False, True, False], [True, False, False], [True, False]], [[False], [True, True, True], [True]], [[True, False], [True, False], [True, True, False]], [[False], [False, False], [True, True, True]], [[False, True, True], [False, True], [True, False]], [[False, False, False], [False, True, True], [False, False, True], [False, True]], [[True, True], [True], [True, True]], [[True, True], [True, False], [False]], [[True], [True, True, False], [False, True]], [[True, True, True], [True, False]], [[True, True, False], [False], [False, True, False]], [[False], [True, False, True], [False, True, False], [False]], [[False, False], [False], [False]], [[False, False, True], [True, True], [True], [False, True, True]]],\n",
      "    solution=None\n",
      ")\n",
      "Task(\n",
      "    name='keep eq 0',\n",
      "    inputs_dict={'x1': [[3, 0, 0, 5, 4], [2, 1, 5, 1, 5], [4, 5, 6, 4, 4], [5, 6, 0, 5, 3], [3, 5, 1, 6, 5], [4, 0, 6, 0, 4], [0, 5, 0, 5, 6], [2, 3, 2, 3, 6], [4, 4, 3, 1, 2], [6, 0, 5, 4, 4], [0, 4, 4, 3, 3], [1, 4, 5, 5, 0], [1, 3, 0, 5, 2], [2, 6, 5, 3, 4], [5, 0, 1, 4, 6]]},\n",
      "    outputs=[[0, 0], [], [], [0], [], [0, 0], [0, 0], [], [], [0], [0], [0], [0], [], [0]],\n",
      "    solution=None\n",
      ")\n",
      "Task(\n",
      "    name='keep gt 0',\n",
      "    inputs_dict={'x1': [[1, 5, 3, 5, 1], [6, 0, 5, 6, 3], [1, 6, 6, 3, 0], [5, 3, 4, 5, 2], [1, 0, 5, 4, 2], [3, 5, 4, 1, 0], [6, 5, 6, 1, 0], [4, 5, 6, 0, 1], [0, 6, 1, 6, 4], [5, 1, 5, 0, 0], [0, 2, 0, 1, 0], [5, 0, 6, 2, 1], [1, 3, 1, 5, 6], [6, 6, 1, 5, 1], [4, 3, 4, 0, 2]]},\n",
      "    outputs=[[1, 5, 3, 5, 1], [6, 5, 6, 3], [1, 6, 6, 3], [5, 3, 4, 5, 2], [1, 5, 4, 2], [3, 5, 4, 1], [6, 5, 6, 1], [4, 5, 6, 1], [6, 1, 6, 4], [5, 1, 5], [2, 1], [5, 6, 2, 1], [1, 3, 1, 5, 6], [6, 6, 1, 5, 1], [4, 3, 4, 2]],\n",
      "    solution=None\n",
      ")\n",
      "Task(\n",
      "    name='remove eq 1',\n",
      "    inputs_dict={'x1': [[4, 6, 5, 6, 2], [5, 2, 2, 3, 5], [2, 5, 5, 6, 5], [1, 1, 5, 5, 4], [1, 2, 0, 3, 5], [2, 0, 2, 6, 0], [6, 6, 1, 5, 6], [5, 1, 4, 2, 4], [0, 0, 3, 0, 4], [0, 1, 0, 5, 0], [0, 5, 4, 0, 1], [4, 4, 1, 3, 5], [4, 5, 6, 1, 0], [5, 6, 4, 0, 3], [1, 1, 2, 3, 0]]},\n",
      "    outputs=[[4, 6, 5, 6, 2], [5, 2, 2, 3, 5], [2, 5, 5, 6, 5], [5, 5, 4], [2, 0, 3, 5], [2, 0, 2, 6, 0], [6, 6, 5, 6], [5, 4, 2, 4], [0, 0, 3, 0, 4], [0, 0, 5, 0], [0, 5, 4, 0], [4, 4, 3, 5], [4, 5, 6, 0], [5, 6, 4, 0, 3], [2, 3, 0]],\n",
      "    solution=None\n",
      ")\n",
      "Task(\n",
      "    name='remove gt 1',\n",
      "    inputs_dict={'x1': [[6, 1, 1, 6, 3], [6, 2, 0, 0, 3], [5, 5, 1, 2, 2], [2, 5, 0, 6, 2], [6, 2, 1, 3, 2], [2, 2, 1, 1, 1], [5, 3, 6, 0, 4], [4, 2, 4, 0, 5], [4, 1, 4, 3, 2], [4, 2, 5, 4, 3], [4, 6, 0, 6, 0], [1, 3, 5, 6, 5], [5, 5, 0, 6, 2], [2, 5, 0, 5, 0], [4, 4, 5, 4, 4]]},\n",
      "    outputs=[[1, 1], [0, 0], [1], [0], [1], [1, 1, 1], [0], [0], [1], [], [0, 0], [1], [0], [0, 0], []],\n",
      "    solution=None\n",
      ")\n",
      "Task(\n",
      "    name='keep eq 2',\n",
      "    inputs_dict={'x1': [[4, 1, 0, 5, 3], [1, 3, 5, 6, 3], [5, 1, 5, 5, 2], [6, 1, 6, 6, 0], [2, 3, 5, 6, 1], [1, 4, 0, 0, 1], [0, 5, 2, 5, 0], [2, 4, 5, 1, 3], [1, 1, 0, 4, 6], [6, 6, 6, 4, 0], [2, 0, 3, 1, 6], [3, 5, 0, 6, 0], [2, 5, 4, 4, 4], [1, 2, 1, 0, 0], [5, 4, 1, 5, 5]]},\n",
      "    outputs=[[], [], [2], [], [2], [], [2], [2], [], [], [2], [], [2], [2], []],\n",
      "    solution=None\n",
      ")\n",
      "Task(\n",
      "    name='remove eq 2',\n",
      "    inputs_dict={'x1': [[5, 3, 2, 5, 0], [3, 2, 3, 4, 5], [4, 4, 6, 5, 3], [1, 6, 1, 0, 5], [5, 4, 2, 6, 3], [5, 6, 5, 5, 3], [3, 2, 0, 6, 5], [2, 6, 4, 2, 4], [3, 4, 4, 3, 2], [2, 3, 4, 2, 5], [1, 6, 4, 2, 1], [6, 5, 1, 3, 5], [2, 0, 3, 1, 1], [4, 2, 5, 6, 2], [1, 3, 5, 2, 0]]},\n",
      "    outputs=[[5, 3, 5, 0], [3, 3, 4, 5], [4, 4, 6, 5, 3], [1, 6, 1, 0, 5], [5, 4, 6, 3], [5, 6, 5, 5, 3], [3, 0, 6, 5], [6, 4, 4], [3, 4, 4, 3], [3, 4, 5], [1, 6, 4, 1], [6, 5, 1, 3, 5], [0, 3, 1, 1], [4, 5, 6], [1, 3, 5, 0]],\n",
      "    solution=None\n",
      ")\n",
      "Task(\n",
      "    name='keep gt 2',\n",
      "    inputs_dict={'x1': [[4, 5, 3, 6, 0], [2, 1, 3, 6, 5], [2, 1, 4, 0, 1], [0, 6, 1, 2, 4], [6, 0, 1, 4, 4], [0, 2, 4, 5, 4], [3, 4, 0, 5, 6], [2, 3, 3, 2, 4], [5, 5, 2, 1, 1], [0, 5, 6, 2, 6], [3, 6, 2, 1, 3], [6, 4, 1, 6, 6], [6, 1, 2, 4, 5], [3, 4, 1, 3, 4], [2, 1, 1, 3, 2]]},\n",
      "    outputs=[[4, 5, 3, 6], [3, 6, 5], [4], [6, 4], [6, 4, 4], [4, 5, 4], [3, 4, 5, 6], [3, 3, 4], [5, 5], [5, 6, 6], [3, 6, 3], [6, 4, 6, 6], [6, 4, 5], [3, 4, 3, 4], [3]],\n",
      "    solution=None\n",
      ")\n",
      "Task(\n",
      "    name='keep eq 3',\n",
      "    inputs_dict={'x1': [[5, 1, 6, 1, 3], [2, 2, 4, 2, 2], [5, 2, 3, 4, 5], [0, 2, 4, 4, 4], [2, 6, 2, 4, 5], [4, 5, 4, 1, 6], [0, 6, 0, 1, 2], [3, 5, 5, 4, 5], [0, 3, 4, 1, 0], [2, 5, 0, 5, 5], [4, 1, 1, 6, 0], [0, 6, 6, 2, 5], [0, 2, 1, 1, 0], [6, 1, 1, 3, 3], [0, 5, 6, 3, 1]]},\n",
      "    outputs=[[3], [], [3], [], [], [], [], [3], [3], [], [], [], [], [3, 3], [3]],\n",
      "    solution=None\n",
      ")\n",
      "Task(\n",
      "    name='remove eq 3',\n",
      "    inputs_dict={'x1': [[4, 6, 6, 0, 1], [6, 6, 2, 2, 0], [0, 6, 0, 0, 3], [1, 5, 5, 5, 6], [5, 3, 4, 4, 5], [3, 0, 2, 4, 6], [4, 1, 5, 0, 4], [2, 2, 1, 2, 5], [6, 4, 2, 3, 1], [1, 4, 6, 4, 6], [2, 0, 6, 6, 1], [5, 1, 4, 2, 6], [2, 2, 3, 6, 0], [3, 6, 1, 4, 4], [6, 3, 6, 1, 1]]},\n",
      "    outputs=[[4, 6, 6, 0, 1], [6, 6, 2, 2, 0], [0, 6, 0, 0], [1, 5, 5, 5, 6], [5, 4, 4, 5], [0, 2, 4, 6], [4, 1, 5, 0, 4], [2, 2, 1, 2, 5], [6, 4, 2, 1], [1, 4, 6, 4, 6], [2, 0, 6, 6, 1], [5, 1, 4, 2, 6], [2, 2, 6, 0], [6, 1, 4, 4], [6, 6, 1, 1]],\n",
      "    solution=None\n",
      ")\n",
      "Task(\n",
      "    name='remove gt 3',\n",
      "    inputs_dict={'x1': [[3, 1, 4, 3, 3], [2, 2, 5, 1, 2], [4, 1, 4, 6, 4], [3, 2, 0, 4, 2], [3, 3, 3, 1, 1], [2, 3, 6, 5, 3], [3, 2, 2, 3, 5], [3, 2, 1, 5, 0], [4, 3, 1, 4, 0], [3, 1, 3, 2, 6], [6, 4, 1, 6, 0], [3, 5, 0, 1, 4], [5, 6, 3, 1, 2], [4, 3, 3, 4, 3], [2, 3, 2, 1, 2]]},\n",
      "    outputs=[[3, 1, 3, 3], [2, 2, 1, 2], [1], [3, 2, 0, 2], [3, 3, 3, 1, 1], [2, 3, 3], [3, 2, 2, 3], [3, 2, 1, 0], [3, 1, 0], [3, 1, 3, 2], [1, 0], [3, 0, 1], [3, 1, 2], [3, 3, 3], [2, 3, 2, 1, 2]],\n",
      "    solution=None\n",
      ")\n"
     ]
    }
   ],
   "source": [
    "for task in original_tasks:\n",
    "    print(task)"
   ]
  },
  {
   "cell_type": "code",
   "execution_count": 4,
   "metadata": {},
   "outputs": [],
   "source": [
    "ma_tasks = []\n",
    "for task in original_tasks:\n",
    "    if \"pow\" in task.name or task.name == \"remove empty lists\":\n",
    "        continue\n",
    "    ma_tasks.append(task)"
   ]
  },
  {
   "cell_type": "code",
   "execution_count": 5,
   "metadata": {},
   "outputs": [
    {
     "data": {
      "text/plain": [
       "104"
      ]
     },
     "execution_count": 5,
     "metadata": {},
     "output_type": "execute_result"
    }
   ],
   "source": [
    "len(ma_tasks)"
   ]
  },
  {
   "cell_type": "code",
   "execution_count": 6,
   "metadata": {},
   "outputs": [],
   "source": [
    "import pickle\n",
    "with open(\"/work/ldierkes/repos/new/LambdaBeam/crossbeam/data/dreamcoder_test_tasks.pkl\", 'wb') as file:\n",
    "    pickle.dump(ma_tasks, file)"
   ]
  },
  {
   "cell_type": "code",
   "execution_count": 6,
   "metadata": {},
   "outputs": [
    {
     "ename": "TypeError",
     "evalue": "<lambda>() missing 1 required positional argument: 'y'",
     "output_type": "error",
     "traceback": [
      "\u001b[0;31m---------------------------------------------------------------------------\u001b[0m",
      "\u001b[0;31mTypeError\u001b[0m                                 Traceback (most recent call last)",
      "Cell \u001b[0;32mIn[6], line 6\u001b[0m\n\u001b[1;32m      3\u001b[0m n \u001b[38;5;241m=\u001b[39m \u001b[38;5;241m0\u001b[39m\n\u001b[1;32m      4\u001b[0m f \u001b[38;5;241m=\u001b[39m \u001b[38;5;28;01mlambda\u001b[39;00m x, y: x \u001b[38;5;241m+\u001b[39m y\n\u001b[0;32m----> 6\u001b[0m \u001b[43mreduce\u001b[49m\u001b[43m(\u001b[49m\u001b[38;5;28;43;01mlambda\u001b[39;49;00m\u001b[43m \u001b[49m\u001b[43mx\u001b[49m\u001b[43m,\u001b[49m\u001b[43m \u001b[49m\u001b[43my\u001b[49m\u001b[43m:\u001b[49m\u001b[43m \u001b[49m\u001b[43mf\u001b[49m\u001b[43m(\u001b[49m\u001b[43mx\u001b[49m\u001b[43m)\u001b[49m\u001b[43m(\u001b[49m\u001b[43my\u001b[49m\u001b[43m)\u001b[49m\u001b[43m,\u001b[49m\u001b[43m \u001b[49m\u001b[43mxs\u001b[49m\u001b[43m[\u001b[49m\u001b[43m:\u001b[49m\u001b[43m:\u001b[49m\u001b[38;5;241;43m-\u001b[39;49m\u001b[38;5;241;43m1\u001b[39;49m\u001b[43m]\u001b[49m\u001b[43m,\u001b[49m\u001b[43m \u001b[49m\u001b[43mn\u001b[49m\u001b[43m)\u001b[49m\n",
      "Cell \u001b[0;32mIn[6], line 6\u001b[0m, in \u001b[0;36m<lambda>\u001b[0;34m(x, y)\u001b[0m\n\u001b[1;32m      3\u001b[0m n \u001b[38;5;241m=\u001b[39m \u001b[38;5;241m0\u001b[39m\n\u001b[1;32m      4\u001b[0m f \u001b[38;5;241m=\u001b[39m \u001b[38;5;28;01mlambda\u001b[39;00m x, y: x \u001b[38;5;241m+\u001b[39m y\n\u001b[0;32m----> 6\u001b[0m reduce(\u001b[38;5;28;01mlambda\u001b[39;00m x, y: \u001b[43mf\u001b[49m\u001b[43m(\u001b[49m\u001b[43mx\u001b[49m\u001b[43m)\u001b[49m(y), xs[::\u001b[38;5;241m-\u001b[39m\u001b[38;5;241m1\u001b[39m], n)\n",
      "\u001b[0;31mTypeError\u001b[0m: <lambda>() missing 1 required positional argument: 'y'"
     ]
    }
   ],
   "source": [
    "from functools import reduce\n",
    "xs = [1,2,3,4,5]\n",
    "n = 0\n",
    "f = lambda x, y: x + y\n",
    "\n",
    "reduce(lambda x, y: f(x)(y), xs[::-1], n)"
   ]
  }
 ],
 "metadata": {
  "kernelspec": {
   "display_name": "lambdabeam",
   "language": "python",
   "name": "python3"
  },
  "language_info": {
   "codemirror_mode": {
    "name": "ipython",
    "version": 3
   },
   "file_extension": ".py",
   "mimetype": "text/x-python",
   "name": "python",
   "nbconvert_exporter": "python",
   "pygments_lexer": "ipython3",
   "version": "3.11.5"
  }
 },
 "nbformat": 4,
 "nbformat_minor": 2
}
