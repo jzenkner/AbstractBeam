{
 "cells": [
  {
   "cell_type": "code",
   "execution_count": 1,
   "id": "initial_id",
   "metadata": {
    "collapsed": true,
    "ExecuteTime": {
     "end_time": "2024-04-15T07:58:58.608897Z",
     "start_time": "2024-04-15T07:58:55.286862Z"
    }
   },
   "outputs": [],
   "source": [
    "import torch\n",
    "import os"
   ]
  },
  {
   "cell_type": "code",
   "execution_count": 2,
   "outputs": [
    {
     "data": {
      "text/plain": "'/ceph/jzenkner/Code/AbstractBeam'"
     },
     "execution_count": 2,
     "metadata": {},
     "output_type": "execute_result"
    }
   ],
   "source": [
    "os.getcwd()"
   ],
   "metadata": {
    "collapsed": false,
    "ExecuteTime": {
     "end_time": "2024-04-15T07:58:58.634329Z",
     "start_time": "2024-04-15T07:58:58.617023Z"
    }
   },
   "id": "62d1f53da939e7d9"
  },
  {
   "cell_type": "code",
   "execution_count": 2,
   "outputs": [
    {
     "data": {
      "text/plain": "{'step': 140000,\n 'inventions': [fn_0,\n  fn_2,\n  fn_3,\n  fn_6,\n  fn_9,\n  fn_10,\n  fn_11,\n  fn_12,\n  fn_15,\n  fn_17,\n  fn_18,\n  fn_21,\n  fn_22,\n  fn_23,\n  fn_29,\n  fn_30,\n  fn_32,\n  fn_33,\n  fn_35,\n  fn_38,\n  fn_41,\n  fn_45,\n  fn_52,\n  fn_55,\n  fn_56,\n  fn_57,\n  fn_59,\n  fn_61,\n  fn_63,\n  fn_67,\n  fn_77,\n  fn_79,\n  fn_80,\n  fn_84,\n  fn_89,\n  fn_90,\n  fn_94,\n  fn_98,\n  fn_102,\n  fn_103,\n  fn_104,\n  fn_109,\n  fn_114,\n  fn_115,\n  fn_119,\n  fn_121,\n  fn_134,\n  fn_145],\n 'higher_order_functions': {'Map': [1, 0],\n  'Fold': [2, 0, 0],\n  'fn_2': [1, 0],\n  'fn_10': [1, 0, 0],\n  'fn_11': [2, 0],\n  'fn_17': [1, 0],\n  'fn_21': [0, 2, 0],\n  'fn_23': [2, 0, 2],\n  'fn_29': [1, 0],\n  'fn_33': [0, 1, 0],\n  'fn_38': [0, 2, 0],\n  'fn_55': [1, 0],\n  'fn_59': [0, 1, 1],\n  'fn_63': [0, 1, 0, 0],\n  'fn_90': [0, 1],\n  'fn_94': [2, 0],\n  'fn_98': [2, 0],\n  'fn_102': [1, 0],\n  'fn_103': [0, 1, 0],\n  'fn_114': [0, 1],\n  'fn_115': [1, 0, 0],\n  'fn_119': [1, 0, 1]},\n 'base_function_dict': {'Add': 2,\n  'Subtract': 2,\n  'Multiply': 2,\n  'Greater': 2,\n  'Equal': 2,\n  'If': 3,\n  'Fold': 3,\n  'Map': 2,\n  'IsEmpty': 1,\n  'Cons': 2,\n  'Car': 1,\n  'Cdr': 1,\n  'IsSquare': 1,\n  'IsPrime': 1,\n  'Length': 1,\n  'Index': 2,\n  'Mod': 2,\n  'fn_0': 1,\n  'fn_2': 2,\n  'fn_3': 2,\n  'fn_6': 1,\n  'fn_9': 2,\n  'fn_10': 3,\n  'fn_11': 2,\n  'fn_12': 2,\n  'fn_15': 1,\n  'fn_17': 2,\n  'fn_18': 1,\n  'fn_21': 3,\n  'fn_22': 2,\n  'fn_23': 3,\n  'fn_29': 2,\n  'fn_30': 1,\n  'fn_32': 2,\n  'fn_33': 3,\n  'fn_35': 2,\n  'fn_38': 3,\n  'fn_41': 1,\n  'fn_45': 1,\n  'fn_52': 1,\n  'fn_55': 2,\n  'fn_56': 2,\n  'fn_57': 1,\n  'fn_59': 3,\n  'fn_61': 1,\n  'fn_63': 4,\n  'fn_67': 2,\n  'fn_77': 2,\n  'fn_79': 1,\n  'fn_80': 2,\n  'fn_84': 2,\n  'fn_89': 2,\n  'fn_90': 2,\n  'fn_94': 2,\n  'fn_98': 2,\n  'fn_102': 2,\n  'fn_103': 3,\n  'fn_104': 2,\n  'fn_109': 2,\n  'fn_114': 2,\n  'fn_115': 3,\n  'fn_119': 3,\n  'fn_121': 2,\n  'fn_134': 1,\n  'fn_145': 1},\n 'dc_abstractions': [fn_0(#0) := (Cdr (Cdr #0)),\n  fn_2(#0) := (lam (#0 (Cdr (Cdr $0)))),\n  fn_3(#0) := (Cons (Car #0)),\n  fn_6(#0) := (fn_0 (Cdr #0)),\n  fn_9(#0) := (lam (Map (lam (Mod $0 #0)) $0)),\n  fn_10(#0) := (lam (Cons (Car (#0 $0)))),\n  fn_11(#0) := (lam (Map (lam (#0 1 $0)) $0)),\n  fn_12(#0,#1) := (Cons (Car #1)),\n  fn_15() := (Index (Add 1 1)),\n  fn_17(#0) := (lam (#0 (fn_0 (Cdr $0)))),\n  fn_18() := (Add 1),\n  fn_21(#0,#1) := (lam (fn_9 (Add 1 #1) (fn_11 #0 $0))),\n  fn_22(#0) := (Cons (fn_15 #0)),\n  fn_23(#0,#1) := (lam (#0 $0 (#1 (Cdr $0) (#0 (fn_0 $0) empty)))),\n  fn_29(#0,#1) := (Map (lam (#1 (Cdr #0))) #0),\n  fn_30() := (Subtract 1),\n  fn_32(#0) := (Cons (Car (Cdr #0))),\n  fn_33(#0,#1) := (lam (fn_9 #1 (Map (lam (#0 $0)) $0))),\n  fn_35(#0,#1) := (fn_3 #1 (Cons (Car (Cdr #1)))),\n  fn_38(#0,#1) := (lam (fn_9 #1 (fn_11 #0 $0))),\n  fn_41() := (lam (Cons (Car $0) empty)),\n  fn_45() := (Add 2),\n  fn_52(#0) := (If #0 1 0),\n  fn_55(#0,#1) := (fn_9 3 (fn_11 (lam (lam (#1 $1))) #0)),\n  fn_56(#0,#1) := (fn_32 #1 (fn_22 #1 #0)),\n  fn_57() := (lam (Map (lam 0) $0)),\n  fn_59(#0,#1) := (lam (fn_3 $0 (fn_56 (#1 (#0 $0)) $0))),\n  fn_61(#0) := (Cons (fn_15 (fn_0 #0)) (fn_41 (fn_6 (fn_0 #0)))),\n  fn_63(#0,#1) := (If (Greater (fn_9 2 #0) (#1 #0))),\n  fn_67(#0) := (lam (fn_11 (lam (lam (fn_52 (Greater $1 #0)))) $0)),\n  fn_77(#0) := (lam (fn_67 #0 $0)),\n  fn_79() := (fn_9 3),\n  fn_80(#0) := (lam (fn_9 #0 (Map (lam (fn_18 $0)) $0))),\n  fn_84(#0) := (lam (fn_11 (lam (lam (fn_52 (Equal #0 $1)))) $0)),\n  fn_89(#0) := (lam (fn_79 (fn_11 (lam (lam (Add #0 $1)))))),\n  fn_90(#0,#1) := (Greater (fn_9 2 #0) (#1 #0)),\n  fn_94(#0) := (lam (#0 3 $0)),\n  fn_98(#0) := (lam (#0 4 $0)),\n  fn_102(#0) := (lam (fn_84 0 (#0 $0))),\n  fn_103(#0,#1) := (lam (fn_9 #1 (Map #0 $0))),\n  fn_104(#0,#1) := (Cons (fn_15 #1) (fn_61 #0)),\n  fn_109(#0) := (lam (fn_79 (fn_11 (lam (lam (Subtract $1 #0))) $0))),\n  fn_114(#0) := (lam (If (fn_90 $0 (lam (#0 $1))) 1 0)),\n  fn_115(#0,#1) := (lam (#1 (Map (lam (Add $0 #0)) $0))),\n  fn_119(#0,#1) := (lam (fn_56 (fn_104 (#0 $0) (#1 $0)) (#0 $0))),\n  fn_121(#0,#1) := (fn_56 (fn_104 #0 #1) #0),\n  fn_134() := (fn_84 0),\n  fn_145(#0) := (fn_104 #0 (Cdr #0))],\n 'domain': Domain(name='deepcoder', operations=[Add, Subtract, Multiply, Greater, Mod, Equal, IsEmpty, IsSquare, IsPrime, If, Cdr, Car, Length, Cons, Index, Map, Fold, fn_0, fn_2, fn_3, fn_6, fn_9, fn_10, fn_11, fn_12, fn_15, fn_17, fn_18, fn_21, fn_22, fn_23, fn_29, fn_30, fn_32, fn_33, fn_35, fn_38, fn_41, fn_45, fn_52, fn_55, fn_56, fn_57, fn_59, fn_61, fn_63, fn_67, fn_77, fn_79, fn_80, fn_84, fn_89, fn_90, fn_94, fn_98, fn_102, fn_103, fn_104, fn_109, fn_114, fn_115, fn_119, fn_121, fn_134, fn_145], inventions=[], constants=[0, 1, [], 2, 3, 5, 4], constants_extractor=None, inputs_dict_generator=<function deepcoder_inputs_dict_generator at 0x7f8a9736f1f0>, input_charset=None, input_max_len=None, output_charset=None, output_max_len=None, value_charset=None, value_max_len=None, program_tokens=None, output_type=(<class 'int'>, <class 'list'>), small_value_filter=<function deepcoder_small_value_filter at 0x7f89f9b73430>, checker_function=<function check_solution at 0x7f8a971133a0>),\n 'frontiers': {'drop-k with k=3': [('fn_0(Cdr(x1))', 3), ('fn_0(Cdr(x1))', 3)],\n  'head': [('Car(x1)', 2)],\n  'index-k with k=1': [('Car(x1)', 2)],\n  'index-k with k=3': [('fn_15(x1)', 2), ('Index(1, Cdr(x1))', 4)],\n  'index-k with k=5': [('fn_15(fn_0(x1))', 3), ('fn_15(fn_0(x1))', 3)],\n  'len': [('Length(x1)', 2)],\n  'modulo-k with k=1': [('Map((lambda u1: 0), x1)', 3),\n   ('Map((lambda u1: 0), x1)', 3)],\n  'prepend-index-k with k=2': [('Cons(Car(Cdr(x1)), x1)', 5)],\n  'prepend-k with k=0': [('Cons(0, x1)', 3)],\n  'replace-all-with-index-k with k=1': [('Map((lambda u1: Car(x1)), x1)', 4)],\n  'tail': [('Cdr(x1)', 2)],\n  'add-k with k=1': [('fn_11((lambda u1, u2: ((lambda v1: fn_18(v1)))(u2)), x1)',\n    5),\n   ('fn_80(Multiply(4, 5), x1)', 5)],\n  'caesar-cipher-k-modulo-n with k=1 and n=2': [('Map((lambda u1: ((lambda v1: Subtract(1, v1)))(u1)), x1)',\n    6),\n   ('Map((lambda u1: ((lambda v1: Subtract(1, v1)))(u1)), x1)', 6)],\n  'caesar-cipher-k-modulo-n with k=5 and n=2': [('fn_80(2, x1)', 3),\n   ('fn_11((lambda u1, u2: ((lambda v1: fn_30(v1)))(u2)), x1)', 5)],\n  'drop-k with k=5': [('fn_6(fn_0(x1))', 3), ('fn_6(fn_0(x1))', 3)],\n  'empty': [('If(IsEmpty(x1), 1, 0)', 5)],\n  'last': [('Index(Subtract(0, 1), x1)', 5),\n   ('Index(Length(Cdr(x1)), x1)', 5)],\n  'modulo-k with k=2': [('fn_9(2, x1)', 3), ('fn_9(2, x1)', 3)],\n  'modulo-k with k=3': [('fn_79(x1)', 2), ('fn_79(x1)', 2)],\n  'mult-k with k=0': [('fn_9(1, x1)', 3), ('Map((lambda u1: 0), x1)', 3)],\n  'mult-k with k=2': [('Map((lambda u1: ((lambda v1: Add(v1, v1)))(u1)), x1)',\n    6),\n   ('Map((lambda u1: ((lambda v1: Multiply(v1, 2)))(u1)), x1)', 6)],\n  'prepend-index-k with k=1': [('fn_3(x1, x1)', 3), ('Cons(Car(x1), x1)', 4)],\n  'prepend-index-k with k=4': [('fn_3(fn_0(Cdr(x1)), x1)', 5),\n   ('fn_3(fn_0(Cdr(x1)), x1)', 5)],\n  'remove-index-k with k=2': [('fn_3(x1, fn_0(x1))', 4),\n   ('fn_3(x1, fn_0(x1))', 4)],\n  'repeat-k with k=2': [('Fold((lambda u1, u2: ((lambda v1, v2: Cons(v1, v2)))(u2, u1)), x1, x1)',\n    8)],\n  'replace-all-with-index-k with k=4': [('Map((lambda u1: fn_15(Cdr(x1))), x1)',\n    5),\n   ('Map((lambda u1: fn_15(Cdr(x1))), x1)', 5)],\n  'slice-k-n with k=1 and n=1': [('Cons(Car(x1), [])', 4)],\n  'slice-k-n with k=2 and n=2': [('fn_32(x1, fn_22(x1, []))', 5),\n   ('fn_32(x1, fn_22(x1, []))', 5)],\n  'slice-k-n with k=4 and n=1': [('fn_3(fn_0(Cdr(x1)), [])', 5),\n   ('fn_3(fn_0(Cdr(x1)), [])', 5)],\n  'slice-k-n with k=5 and n=2': [('fn_61(x1)', 2), ('fn_56([], fn_6(x1))', 4)],\n  'take-k with k=1': [('Cons(Car(x1), [])', 4)],\n  'take-k with k=2': [('fn_56([], fn_3(x1, x1))', 5),\n   ('fn_56([], fn_3(x1, x1))', 5)],\n  'bool-identify-geq-k with k=1': [('fn_67(0, x1)', 3), ('fn_67(0, x1)', 3)],\n  'caesar-cipher-k-modulo-n with k=1 and n=3': [('fn_79(fn_11((lambda u1, u2: ((lambda v1: Subtract(v1, 5)))(u2)), x1))',\n    7),\n   ('fn_9(3, Map((lambda u1: ((lambda v1: fn_18(v1)))(u1)), x1))', 7)],\n  'caesar-cipher-k-modulo-n with k=1 and n=5': [('fn_80(5, x1)', 3),\n   ('fn_80(5, x1)', 3)],\n  'caesar-cipher-k-modulo-n with k=3 and n=4': [('fn_9(4, Map((lambda u1: ((lambda v1: Subtract(v1, 5)))(u1)), x1))',\n    8),\n   ('fn_9(4, Map((lambda u1: ((lambda v1: Add(v1, 3)))(u1)), x1))', 8)],\n  'caesar-cipher-k-modulo-n with k=5 and n=3': [('fn_79(fn_11((lambda u1, u2: ((lambda v1: Add(2, v1)))(u2)), x1))',\n    7),\n   ('fn_79(Map((lambda u1: ((lambda v1: Add(v1, 5)))(u1)), x1))', 7)],\n  'has-k with k=0': [('fn_52(fn_90(fn_84(0, x1), (lambda u1: fn_57(x1))))', 7),\n   ('If(fn_90(fn_134(x1), (lambda u1: fn_57(x1))), 1, 0)', 8)],\n  'modulo-k with k=4': [('fn_9(4, x1)', 3), ('fn_9(4, x1)', 3)],\n  'modulo-k with k=5': [('fn_9(5, x1)', 3), ('fn_9(5, x1)', 3)],\n  'mult-k with k=3': [('Map((lambda u1: ((lambda v1: Multiply(v1, 3)))(u1)), x1)',\n    6),\n   ('Map((lambda u1: ((lambda v1: Multiply(3, v1)))(u1)), x1)', 6)],\n  'remove-index-k with k=4': [('fn_3(x1, fn_56(fn_6(Cdr(x1)), x1))', 7),\n   ('fn_3(x1, fn_56(fn_6(Cdr(x1)), x1))', 7)],\n  'slice-k-n with k=2 and n=3': [('fn_56(fn_41(fn_6(x1)), x1)', 5),\n   ('fn_56(fn_41(fn_6(x1)), x1)', 5)],\n  'slice-k-n with k=3 and n=3': [('fn_104(fn_32(x1, x1), x1)', 5),\n   ('fn_104(fn_22(x1, x1), x1)', 5)],\n  'slice-k-n with k=4 and n=3': [('fn_104(x1, Cdr(x1))', 4),\n   ('fn_104(x1, Cdr(x1))', 4)],\n  'take-k with k=3': [('fn_3(x1, fn_56([], x1))', 5),\n   ('fn_3(x1, fn_56([], x1))', 5)],\n  'add-k with k=3': [('Map((lambda u1: ((lambda v1: Add(v1, 3)))(u1)), x1)',\n    6),\n   ('Map((lambda u1: ((lambda v1: Add(3, v1)))(u1)), x1)', 6)],\n  'add-k with k=4': [('Map((lambda u1: ((lambda v1: Add(4, v1)))(u1)), x1)',\n    6),\n   ('Map((lambda u1: ((lambda v1: Add(4, v1)))(u1)), x1)', 6)],\n  'bool-identify-geq-k with k=0': [('fn_67(fn_30(2), x1)', 4),\n   ('fn_77(fn_30(2), x1)', 4)],\n  'bool-identify-is-mod-k with k=3': [('fn_84(0, fn_79(x1))', 4),\n   ('fn_84(0, fn_79(x1))', 4)],\n  'caesar-cipher-k-modulo-n with k=4 and n=3': [('fn_80(3, x1)', 3),\n   ('fn_79(fn_11((lambda u1, u2: ((lambda v1: Subtract(v1, 2)))(u2)), x1))',\n    7)],\n  'caesar-cipher-k-modulo-n with k=5 and n=4': [('fn_80(4, x1)', 3),\n   ('fn_80(4, x1)', 3)],\n  'mult-k with k=5': [('fn_11((lambda u1, u2: ((lambda v1: Multiply(5, v1)))(u2)), x1)',\n    6),\n   ('fn_11((lambda u1, u2: ((lambda v1: Multiply(5, v1)))(u2)), x1)', 6)],\n  'has-k with k=3': [('If(fn_90(x1, (lambda u1: fn_79(x1))), 1, 0)', 7),\n   ('If(fn_90(x1, (lambda u1: fn_79(x1))), 1, 0)', 7)],\n  'take-k with k=4': [('fn_3(x1, fn_56(fn_41(fn_6(x1)), x1))', 7),\n   ('fn_3(x1, fn_56(fn_41(fn_6(x1)), x1))', 7)],\n  'bool-identify-geq-k with k=4': [('fn_67(3, x1)', 3), ('fn_67(3, x1)', 3)],\n  'bool-identify-k with k=3': [('fn_84(3, x1)', 3), ('fn_84(3, x1)', 3)],\n  'is-mod-k with k=2': [('If(fn_90(x1, (lambda u1: fn_57(x1))), 0, 1)', 7),\n   ('If(fn_90(x1, (lambda u1: fn_57(x1))), 0, 1)', 7)],\n  'slice-k-n with k=1 and n=4': [('fn_3(x1, fn_56(fn_41(fn_6(x1)), x1))', 7),\n   ('fn_3(x1, fn_32(x1, fn_56([], Cdr(x1))))', 8)],\n  'has-k with k=5': [('If(fn_90(x1, (lambda u1: fn_80(3, x1))), 1, 0)', 8),\n   ('If(fn_90(x1, (lambda u1: fn_80(3, x1))), 1, 0)', 8)],\n  'slice-k-n with k=2 and n=5': [('fn_56(fn_104(x1, Cdr(x1)), x1)', 6),\n   ('fn_56(fn_32(fn_0(x1), fn_61(x1)), x1)', 7)],\n  'slice-k-n with k=3 and n=4': [('fn_56(fn_61(x1), Cdr(x1))', 5),\n   ('fn_56(fn_61(x1), Cdr(x1))', 5)],\n  'slice-k-n with k=5 and n=4': [('fn_56(fn_61(fn_0(x1)), fn_6(x1))', 6),\n   ('fn_56(fn_61(fn_0(x1)), fn_6(x1))', 6)],\n  'bool-identify-k with k=4': [('fn_84(4, x1)', 3), ('fn_84(4, x1)', 3)],\n  'bool-identify-is-mod-k with k=4': [('fn_84(0, fn_9(4, x1))', 5),\n   ('fn_102((lambda u1: fn_9(4, x1)), x1)', 5)],\n  'is-mod-k with k=3': [('If(Equal(fn_79(x1), fn_57(x1)), 1, 0)', 8),\n   ('If(Equal(fn_57(x1), fn_79(x1)), 1, 0)', 8)],\n  'slice-k-n with k=3 and n=5': [('fn_56(fn_104(Cdr(x1), fn_0(x1)), Cdr(x1))',\n    8),\n   ('fn_121(fn_22(x1, fn_0(x1)), fn_0(x1))', 7)],\n  'slice-k-n with k=4 and n=5': [('fn_56(fn_104(fn_0(x1), fn_6(x1)), fn_0(x1))',\n    8),\n   ('fn_121(fn_32(x1, fn_6(x1)), fn_6(x1))', 7)]}}"
     },
     "execution_count": 2,
     "metadata": {},
     "output_type": "execute_result"
    }
   ],
   "source": [
    "ckpt = torch.load('outputs/abstractbeam/model-best-valid.ckpt')\n",
    "ckpt.pop('model')\n",
    "ckpt.pop('optimizer')\n",
    "ckpt"
   ],
   "metadata": {
    "collapsed": false,
    "ExecuteTime": {
     "end_time": "2024-04-02T08:50:17.461078Z",
     "start_time": "2024-04-02T08:50:07.543755Z"
    }
   },
   "id": "89023036c9384f86"
  },
  {
   "cell_type": "code",
   "execution_count": 26,
   "outputs": [
    {
     "data": {
      "text/plain": "<tensorboard.backend.event_processing.event_accumulator.EventAccumulator at 0x7f7d591279d0>"
     },
     "execution_count": 26,
     "metadata": {},
     "output_type": "execute_result"
    }
   ],
   "source": [
    "from tensorboard.backend.event_processing.event_accumulator import EventAccumulator\n",
    "\n",
    "# Path to your event file or directory\n",
    "event_file_or_dir = './old/neurips/abstractbeam/models2/logs/events.out.tfevents.1713163482.dws-07.4154136.0'\n",
    "\n",
    "# Initialize an event accumulator\n",
    "event_acc = EventAccumulator(event_file_or_dir)\n",
    "event_acc.Reload()\n"
   ],
   "metadata": {
    "collapsed": false,
    "ExecuteTime": {
     "end_time": "2024-04-15T08:02:19.456083Z",
     "start_time": "2024-04-15T08:02:19.451472Z"
    }
   },
   "id": "5cc0d09f11055aac"
  },
  {
   "cell_type": "code",
   "execution_count": 27,
   "outputs": [
    {
     "data": {
      "text/plain": "{'images': [],\n 'audio': [],\n 'histograms': [],\n 'scalars': [],\n 'distributions': [],\n 'tensors': [],\n 'graph': False,\n 'meta_graph': False,\n 'run_metadata': []}"
     },
     "execution_count": 27,
     "metadata": {},
     "output_type": "execute_result"
    }
   ],
   "source": [
    "event_acc.Tags()"
   ],
   "metadata": {
    "collapsed": false,
    "ExecuteTime": {
     "end_time": "2024-04-15T08:02:20.186955Z",
     "start_time": "2024-04-15T08:02:20.183438Z"
    }
   },
   "id": "31cf131a7c8345a6"
  },
  {
   "cell_type": "code",
   "execution_count": 28,
   "outputs": [
    {
     "ename": "KeyError",
     "evalue": "'Key eval/succ was not found in Reservoir'",
     "output_type": "error",
     "traceback": [
      "\u001B[0;31m---------------------------------------------------------------------------\u001B[0m",
      "\u001B[0;31mKeyError\u001B[0m                                  Traceback (most recent call last)",
      "Cell \u001B[0;32mIn[28], line 1\u001B[0m\n\u001B[0;32m----> 1\u001B[0m scalars \u001B[38;5;241m=\u001B[39m \u001B[43mevent_acc\u001B[49m\u001B[38;5;241;43m.\u001B[39;49m\u001B[43mScalars\u001B[49m\u001B[43m(\u001B[49m\u001B[38;5;124;43m'\u001B[39;49m\u001B[38;5;124;43meval/succ\u001B[39;49m\u001B[38;5;124;43m'\u001B[39;49m\u001B[43m)\u001B[49m\n\u001B[1;32m      2\u001B[0m scalars\n",
      "File \u001B[0;32m~/miniconda3/envs/abstractbeam/lib/python3.8/site-packages/tensorboard/backend/event_processing/event_accumulator.py:603\u001B[0m, in \u001B[0;36mEventAccumulator.Scalars\u001B[0;34m(self, tag)\u001B[0m\n\u001B[1;32m    591\u001B[0m \u001B[38;5;28;01mdef\u001B[39;00m \u001B[38;5;21mScalars\u001B[39m(\u001B[38;5;28mself\u001B[39m, tag):\n\u001B[1;32m    592\u001B[0m \u001B[38;5;250m    \u001B[39m\u001B[38;5;124;03m\"\"\"Given a summary tag, return all associated `ScalarEvent`s.\u001B[39;00m\n\u001B[1;32m    593\u001B[0m \n\u001B[1;32m    594\u001B[0m \u001B[38;5;124;03m    Args:\u001B[39;00m\n\u001B[0;32m   (...)\u001B[0m\n\u001B[1;32m    601\u001B[0m \u001B[38;5;124;03m      An array of `ScalarEvent`s.\u001B[39;00m\n\u001B[1;32m    602\u001B[0m \u001B[38;5;124;03m    \"\"\"\u001B[39;00m\n\u001B[0;32m--> 603\u001B[0m     \u001B[38;5;28;01mreturn\u001B[39;00m \u001B[38;5;28;43mself\u001B[39;49m\u001B[38;5;241;43m.\u001B[39;49m\u001B[43mscalars\u001B[49m\u001B[38;5;241;43m.\u001B[39;49m\u001B[43mItems\u001B[49m\u001B[43m(\u001B[49m\u001B[43mtag\u001B[49m\u001B[43m)\u001B[49m\n",
      "File \u001B[0;32m~/miniconda3/envs/abstractbeam/lib/python3.8/site-packages/tensorboard/backend/event_processing/reservoir.py:110\u001B[0m, in \u001B[0;36mReservoir.Items\u001B[0;34m(self, key)\u001B[0m\n\u001B[1;32m    108\u001B[0m \u001B[38;5;28;01mwith\u001B[39;00m \u001B[38;5;28mself\u001B[39m\u001B[38;5;241m.\u001B[39m_mutex:\n\u001B[1;32m    109\u001B[0m     \u001B[38;5;28;01mif\u001B[39;00m key \u001B[38;5;129;01mnot\u001B[39;00m \u001B[38;5;129;01min\u001B[39;00m \u001B[38;5;28mself\u001B[39m\u001B[38;5;241m.\u001B[39m_buckets:\n\u001B[0;32m--> 110\u001B[0m         \u001B[38;5;28;01mraise\u001B[39;00m \u001B[38;5;167;01mKeyError\u001B[39;00m(\u001B[38;5;124m\"\u001B[39m\u001B[38;5;124mKey \u001B[39m\u001B[38;5;132;01m%s\u001B[39;00m\u001B[38;5;124m was not found in Reservoir\u001B[39m\u001B[38;5;124m\"\u001B[39m \u001B[38;5;241m%\u001B[39m key)\n\u001B[1;32m    111\u001B[0m     bucket \u001B[38;5;241m=\u001B[39m \u001B[38;5;28mself\u001B[39m\u001B[38;5;241m.\u001B[39m_buckets[key]\n\u001B[1;32m    112\u001B[0m \u001B[38;5;28;01mreturn\u001B[39;00m bucket\u001B[38;5;241m.\u001B[39mItems()\n",
      "\u001B[0;31mKeyError\u001B[0m: 'Key eval/succ was not found in Reservoir'"
     ]
    }
   ],
   "source": [
    "scalars = event_acc.Scalars('eval/succ')\n",
    "scalars"
   ],
   "metadata": {
    "collapsed": false,
    "ExecuteTime": {
     "end_time": "2024-04-15T08:02:20.889352Z",
     "start_time": "2024-04-15T08:02:20.835141Z"
    }
   },
   "id": "9b4b94c472ff0902"
  },
  {
   "cell_type": "code",
   "execution_count": 9,
   "outputs": [],
   "source": [
    "times = [ele.wall_time for ele in scalars]"
   ],
   "metadata": {
    "collapsed": false,
    "ExecuteTime": {
     "end_time": "2024-04-15T08:00:44.572984Z",
     "start_time": "2024-04-15T08:00:44.566325Z"
    }
   },
   "id": "2010c5c86f64f03c"
  },
  {
   "cell_type": "code",
   "execution_count": 10,
   "outputs": [
    {
     "ename": "IndexError",
     "evalue": "list index out of range",
     "output_type": "error",
     "traceback": [
      "\u001B[0;31m---------------------------------------------------------------------------\u001B[0m",
      "\u001B[0;31mIndexError\u001B[0m                                Traceback (most recent call last)",
      "Cell \u001B[0;32mIn[10], line 1\u001B[0m\n\u001B[0;32m----> 1\u001B[0m (\u001B[43mtimes\u001B[49m\u001B[43m[\u001B[49m\u001B[38;5;241;43m1\u001B[39;49m\u001B[43m]\u001B[49m \u001B[38;5;241m-\u001B[39m times[\u001B[38;5;241m0\u001B[39m]) \u001B[38;5;241m/\u001B[39m \u001B[38;5;241m3600\u001B[39m, (times[\u001B[38;5;241m2\u001B[39m] \u001B[38;5;241m-\u001B[39m times[\u001B[38;5;241m1\u001B[39m]) \u001B[38;5;241m/\u001B[39m \u001B[38;5;241m3600\u001B[39m\n",
      "\u001B[0;31mIndexError\u001B[0m: list index out of range"
     ]
    }
   ],
   "source": [
    "(times[1] - times[0]) / 3600, (times[2] - times[1]) / 3600"
   ],
   "metadata": {
    "collapsed": false,
    "ExecuteTime": {
     "end_time": "2024-04-15T08:00:45.044813Z",
     "start_time": "2024-04-15T08:00:45.022930Z"
    }
   },
   "id": "4b7c45094ad9ca41"
  },
  {
   "cell_type": "code",
   "execution_count": 11,
   "outputs": [
    {
     "ename": "NameError",
     "evalue": "name 'ckpt' is not defined",
     "output_type": "error",
     "traceback": [
      "\u001B[0;31m---------------------------------------------------------------------------\u001B[0m",
      "\u001B[0;31mNameError\u001B[0m                                 Traceback (most recent call last)",
      "Cell \u001B[0;32mIn[11], line 1\u001B[0m\n\u001B[0;32m----> 1\u001B[0m \u001B[43mckpt\u001B[49m[\u001B[38;5;124m'\u001B[39m\u001B[38;5;124minventions\u001B[39m\u001B[38;5;124m'\u001B[39m]\n",
      "\u001B[0;31mNameError\u001B[0m: name 'ckpt' is not defined"
     ]
    }
   ],
   "source": [
    "ckpt['inventions']"
   ],
   "metadata": {
    "collapsed": false,
    "ExecuteTime": {
     "end_time": "2024-04-15T08:00:46.360910Z",
     "start_time": "2024-04-15T08:00:46.358620Z"
    }
   },
   "id": "26bef3c1020e8c29"
  },
  {
   "cell_type": "code",
   "execution_count": null,
   "outputs": [],
   "source": [],
   "metadata": {
    "collapsed": false
   },
   "id": "d486526032761973"
  }
 ],
 "metadata": {
  "kernelspec": {
   "display_name": "Python 3",
   "language": "python",
   "name": "python3"
  },
  "language_info": {
   "codemirror_mode": {
    "name": "ipython",
    "version": 2
   },
   "file_extension": ".py",
   "mimetype": "text/x-python",
   "name": "python",
   "nbconvert_exporter": "python",
   "pygments_lexer": "ipython2",
   "version": "2.7.6"
  }
 },
 "nbformat": 4,
 "nbformat_minor": 5
}
