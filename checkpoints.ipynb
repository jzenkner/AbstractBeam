{
 "cells": [
  {
   "cell_type": "code",
   "execution_count": 2,
   "id": "initial_id",
   "metadata": {
    "collapsed": true,
    "ExecuteTime": {
     "end_time": "2024-03-29T16:05:17.012947Z",
     "start_time": "2024-03-29T16:05:15.054879Z"
    }
   },
   "outputs": [],
   "source": [
    "import torch\n",
    "import os"
   ]
  },
  {
   "cell_type": "code",
   "execution_count": 4,
   "outputs": [
    {
     "ename": "RuntimeError",
     "evalue": "CUDA error: out of memory\nCUDA kernel errors might be asynchronously reported at some other API call, so the stacktrace below might be incorrect.\nFor debugging consider passing CUDA_LAUNCH_BLOCKING=1.\nCompile with `TORCH_USE_CUDA_DSA` to enable device-side assertions.\n",
     "output_type": "error",
     "traceback": [
      "\u001B[0;31m---------------------------------------------------------------------------\u001B[0m",
      "\u001B[0;31mRuntimeError\u001B[0m                              Traceback (most recent call last)",
      "Cell \u001B[0;32mIn[4], line 1\u001B[0m\n\u001B[0;32m----> 1\u001B[0m ckpt \u001B[38;5;241m=\u001B[39m \u001B[43mtorch\u001B[49m\u001B[38;5;241;43m.\u001B[39;49m\u001B[43mload\u001B[49m\u001B[43m(\u001B[49m\u001B[38;5;124;43m'\u001B[39;49m\u001B[38;5;124;43moutputs/abstractbeam/model-best-valid.ckpt\u001B[39;49m\u001B[38;5;124;43m'\u001B[39;49m\u001B[43m)\u001B[49m\n\u001B[1;32m      2\u001B[0m ckpt\u001B[38;5;241m.\u001B[39mpop(\u001B[38;5;124m'\u001B[39m\u001B[38;5;124mmodel\u001B[39m\u001B[38;5;124m'\u001B[39m)\n\u001B[1;32m      3\u001B[0m ckpt\u001B[38;5;241m.\u001B[39mpop(\u001B[38;5;124m'\u001B[39m\u001B[38;5;124moptimizer\u001B[39m\u001B[38;5;124m'\u001B[39m)\n",
      "File \u001B[0;32m~/miniconda3/envs/abstractbeam/lib/python3.8/site-packages/torch/serialization.py:1026\u001B[0m, in \u001B[0;36mload\u001B[0;34m(f, map_location, pickle_module, weights_only, mmap, **pickle_load_args)\u001B[0m\n\u001B[1;32m   1024\u001B[0m             \u001B[38;5;28;01mexcept\u001B[39;00m \u001B[38;5;167;01mRuntimeError\u001B[39;00m \u001B[38;5;28;01mas\u001B[39;00m e:\n\u001B[1;32m   1025\u001B[0m                 \u001B[38;5;28;01mraise\u001B[39;00m pickle\u001B[38;5;241m.\u001B[39mUnpicklingError(UNSAFE_MESSAGE \u001B[38;5;241m+\u001B[39m \u001B[38;5;28mstr\u001B[39m(e)) \u001B[38;5;28;01mfrom\u001B[39;00m \u001B[38;5;28;01mNone\u001B[39;00m\n\u001B[0;32m-> 1026\u001B[0m         \u001B[38;5;28;01mreturn\u001B[39;00m \u001B[43m_load\u001B[49m\u001B[43m(\u001B[49m\u001B[43mopened_zipfile\u001B[49m\u001B[43m,\u001B[49m\n\u001B[1;32m   1027\u001B[0m \u001B[43m                     \u001B[49m\u001B[43mmap_location\u001B[49m\u001B[43m,\u001B[49m\n\u001B[1;32m   1028\u001B[0m \u001B[43m                     \u001B[49m\u001B[43mpickle_module\u001B[49m\u001B[43m,\u001B[49m\n\u001B[1;32m   1029\u001B[0m \u001B[43m                     \u001B[49m\u001B[43moverall_storage\u001B[49m\u001B[38;5;241;43m=\u001B[39;49m\u001B[43moverall_storage\u001B[49m\u001B[43m,\u001B[49m\n\u001B[1;32m   1030\u001B[0m \u001B[43m                     \u001B[49m\u001B[38;5;241;43m*\u001B[39;49m\u001B[38;5;241;43m*\u001B[39;49m\u001B[43mpickle_load_args\u001B[49m\u001B[43m)\u001B[49m\n\u001B[1;32m   1031\u001B[0m \u001B[38;5;28;01mif\u001B[39;00m mmap:\n\u001B[1;32m   1032\u001B[0m     \u001B[38;5;28;01mraise\u001B[39;00m \u001B[38;5;167;01mRuntimeError\u001B[39;00m(\u001B[38;5;124m\"\u001B[39m\u001B[38;5;124mmmap can only be used with files saved with \u001B[39m\u001B[38;5;124m\"\u001B[39m\n\u001B[1;32m   1033\u001B[0m                        \u001B[38;5;124m\"\u001B[39m\u001B[38;5;124m`torch.save(_use_new_zipfile_serialization=True), \u001B[39m\u001B[38;5;124m\"\u001B[39m\n\u001B[1;32m   1034\u001B[0m                        \u001B[38;5;124m\"\u001B[39m\u001B[38;5;124mplease torch.save your checkpoint with this option in order to use mmap.\u001B[39m\u001B[38;5;124m\"\u001B[39m)\n",
      "File \u001B[0;32m~/miniconda3/envs/abstractbeam/lib/python3.8/site-packages/torch/serialization.py:1438\u001B[0m, in \u001B[0;36m_load\u001B[0;34m(zip_file, map_location, pickle_module, pickle_file, overall_storage, **pickle_load_args)\u001B[0m\n\u001B[1;32m   1436\u001B[0m unpickler \u001B[38;5;241m=\u001B[39m UnpicklerWrapper(data_file, \u001B[38;5;241m*\u001B[39m\u001B[38;5;241m*\u001B[39mpickle_load_args)\n\u001B[1;32m   1437\u001B[0m unpickler\u001B[38;5;241m.\u001B[39mpersistent_load \u001B[38;5;241m=\u001B[39m persistent_load\n\u001B[0;32m-> 1438\u001B[0m result \u001B[38;5;241m=\u001B[39m \u001B[43munpickler\u001B[49m\u001B[38;5;241;43m.\u001B[39;49m\u001B[43mload\u001B[49m\u001B[43m(\u001B[49m\u001B[43m)\u001B[49m\n\u001B[1;32m   1440\u001B[0m torch\u001B[38;5;241m.\u001B[39m_utils\u001B[38;5;241m.\u001B[39m_validate_loaded_sparse_tensors()\n\u001B[1;32m   1441\u001B[0m torch\u001B[38;5;241m.\u001B[39m_C\u001B[38;5;241m.\u001B[39m_log_api_usage_metadata(\n\u001B[1;32m   1442\u001B[0m     \u001B[38;5;124m\"\u001B[39m\u001B[38;5;124mtorch.load.metadata\u001B[39m\u001B[38;5;124m\"\u001B[39m, {\u001B[38;5;124m\"\u001B[39m\u001B[38;5;124mserialization_id\u001B[39m\u001B[38;5;124m\"\u001B[39m: zip_file\u001B[38;5;241m.\u001B[39mserialization_id()}\n\u001B[1;32m   1443\u001B[0m )\n",
      "File \u001B[0;32m~/miniconda3/envs/abstractbeam/lib/python3.8/site-packages/torch/serialization.py:1408\u001B[0m, in \u001B[0;36m_load.<locals>.persistent_load\u001B[0;34m(saved_id)\u001B[0m\n\u001B[1;32m   1406\u001B[0m \u001B[38;5;28;01melse\u001B[39;00m:\n\u001B[1;32m   1407\u001B[0m     nbytes \u001B[38;5;241m=\u001B[39m numel \u001B[38;5;241m*\u001B[39m torch\u001B[38;5;241m.\u001B[39m_utils\u001B[38;5;241m.\u001B[39m_element_size(dtype)\n\u001B[0;32m-> 1408\u001B[0m     typed_storage \u001B[38;5;241m=\u001B[39m \u001B[43mload_tensor\u001B[49m\u001B[43m(\u001B[49m\u001B[43mdtype\u001B[49m\u001B[43m,\u001B[49m\u001B[43m \u001B[49m\u001B[43mnbytes\u001B[49m\u001B[43m,\u001B[49m\u001B[43m \u001B[49m\u001B[43mkey\u001B[49m\u001B[43m,\u001B[49m\u001B[43m \u001B[49m\u001B[43m_maybe_decode_ascii\u001B[49m\u001B[43m(\u001B[49m\u001B[43mlocation\u001B[49m\u001B[43m)\u001B[49m\u001B[43m)\u001B[49m\n\u001B[1;32m   1410\u001B[0m \u001B[38;5;28;01mreturn\u001B[39;00m typed_storage\n",
      "File \u001B[0;32m~/miniconda3/envs/abstractbeam/lib/python3.8/site-packages/torch/serialization.py:1382\u001B[0m, in \u001B[0;36m_load.<locals>.load_tensor\u001B[0;34m(dtype, numel, key, location)\u001B[0m\n\u001B[1;32m   1377\u001B[0m         storage\u001B[38;5;241m.\u001B[39mbyteswap(dtype)\n\u001B[1;32m   1379\u001B[0m \u001B[38;5;66;03m# TODO: Once we decide to break serialization FC, we can\u001B[39;00m\n\u001B[1;32m   1380\u001B[0m \u001B[38;5;66;03m# stop wrapping with TypedStorage\u001B[39;00m\n\u001B[1;32m   1381\u001B[0m typed_storage \u001B[38;5;241m=\u001B[39m torch\u001B[38;5;241m.\u001B[39mstorage\u001B[38;5;241m.\u001B[39mTypedStorage(\n\u001B[0;32m-> 1382\u001B[0m     wrap_storage\u001B[38;5;241m=\u001B[39m\u001B[43mrestore_location\u001B[49m\u001B[43m(\u001B[49m\u001B[43mstorage\u001B[49m\u001B[43m,\u001B[49m\u001B[43m \u001B[49m\u001B[43mlocation\u001B[49m\u001B[43m)\u001B[49m,\n\u001B[1;32m   1383\u001B[0m     dtype\u001B[38;5;241m=\u001B[39mdtype,\n\u001B[1;32m   1384\u001B[0m     _internal\u001B[38;5;241m=\u001B[39m\u001B[38;5;28;01mTrue\u001B[39;00m)\n\u001B[1;32m   1386\u001B[0m \u001B[38;5;28;01mif\u001B[39;00m typed_storage\u001B[38;5;241m.\u001B[39m_data_ptr() \u001B[38;5;241m!=\u001B[39m \u001B[38;5;241m0\u001B[39m:\n\u001B[1;32m   1387\u001B[0m     loaded_storages[key] \u001B[38;5;241m=\u001B[39m typed_storage\n",
      "File \u001B[0;32m~/miniconda3/envs/abstractbeam/lib/python3.8/site-packages/torch/serialization.py:391\u001B[0m, in \u001B[0;36mdefault_restore_location\u001B[0;34m(storage, location)\u001B[0m\n\u001B[1;32m    389\u001B[0m \u001B[38;5;28;01mdef\u001B[39;00m \u001B[38;5;21mdefault_restore_location\u001B[39m(storage, location):\n\u001B[1;32m    390\u001B[0m     \u001B[38;5;28;01mfor\u001B[39;00m _, _, fn \u001B[38;5;129;01min\u001B[39;00m _package_registry:\n\u001B[0;32m--> 391\u001B[0m         result \u001B[38;5;241m=\u001B[39m \u001B[43mfn\u001B[49m\u001B[43m(\u001B[49m\u001B[43mstorage\u001B[49m\u001B[43m,\u001B[49m\u001B[43m \u001B[49m\u001B[43mlocation\u001B[49m\u001B[43m)\u001B[49m\n\u001B[1;32m    392\u001B[0m         \u001B[38;5;28;01mif\u001B[39;00m result \u001B[38;5;129;01mis\u001B[39;00m \u001B[38;5;129;01mnot\u001B[39;00m \u001B[38;5;28;01mNone\u001B[39;00m:\n\u001B[1;32m    393\u001B[0m             \u001B[38;5;28;01mreturn\u001B[39;00m result\n",
      "File \u001B[0;32m~/miniconda3/envs/abstractbeam/lib/python3.8/site-packages/torch/serialization.py:271\u001B[0m, in \u001B[0;36m_cuda_deserialize\u001B[0;34m(obj, location)\u001B[0m\n\u001B[1;32m    269\u001B[0m         \u001B[38;5;28;01mreturn\u001B[39;00m torch\u001B[38;5;241m.\u001B[39mUntypedStorage(obj\u001B[38;5;241m.\u001B[39mnbytes(), device\u001B[38;5;241m=\u001B[39mtorch\u001B[38;5;241m.\u001B[39mdevice(location))\n\u001B[1;32m    270\u001B[0m \u001B[38;5;28;01melse\u001B[39;00m:\n\u001B[0;32m--> 271\u001B[0m     \u001B[38;5;28;01mreturn\u001B[39;00m \u001B[43mobj\u001B[49m\u001B[38;5;241;43m.\u001B[39;49m\u001B[43mcuda\u001B[49m\u001B[43m(\u001B[49m\u001B[43mdevice\u001B[49m\u001B[43m)\u001B[49m\n",
      "File \u001B[0;32m~/miniconda3/envs/abstractbeam/lib/python3.8/site-packages/torch/_utils.py:108\u001B[0m, in \u001B[0;36m_cuda\u001B[0;34m(self, device, non_blocking, **kwargs)\u001B[0m\n\u001B[1;32m    106\u001B[0m     \u001B[38;5;28;01mif\u001B[39;00m device \u001B[38;5;129;01mis\u001B[39;00m \u001B[38;5;28;01mNone\u001B[39;00m:\n\u001B[1;32m    107\u001B[0m         device \u001B[38;5;241m=\u001B[39m \u001B[38;5;241m-\u001B[39m\u001B[38;5;241m1\u001B[39m\n\u001B[0;32m--> 108\u001B[0m \u001B[38;5;28;01mwith\u001B[39;00m torch\u001B[38;5;241m.\u001B[39mcuda\u001B[38;5;241m.\u001B[39mdevice(device):\n\u001B[1;32m    109\u001B[0m     \u001B[38;5;28;01mif\u001B[39;00m \u001B[38;5;28mself\u001B[39m\u001B[38;5;241m.\u001B[39mis_sparse:\n\u001B[1;32m    110\u001B[0m         new_type \u001B[38;5;241m=\u001B[39m \u001B[38;5;28mgetattr\u001B[39m(torch\u001B[38;5;241m.\u001B[39mcuda\u001B[38;5;241m.\u001B[39msparse, \u001B[38;5;28mself\u001B[39m\u001B[38;5;241m.\u001B[39m\u001B[38;5;18m__class__\u001B[39m\u001B[38;5;241m.\u001B[39m\u001B[38;5;18m__name__\u001B[39m)\n",
      "File \u001B[0;32m~/miniconda3/envs/abstractbeam/lib/python3.8/site-packages/torch/cuda/__init__.py:374\u001B[0m, in \u001B[0;36mdevice.__enter__\u001B[0;34m(self)\u001B[0m\n\u001B[1;32m    373\u001B[0m \u001B[38;5;28;01mdef\u001B[39;00m \u001B[38;5;21m__enter__\u001B[39m(\u001B[38;5;28mself\u001B[39m):\n\u001B[0;32m--> 374\u001B[0m     \u001B[38;5;28mself\u001B[39m\u001B[38;5;241m.\u001B[39mprev_idx \u001B[38;5;241m=\u001B[39m \u001B[43mtorch\u001B[49m\u001B[38;5;241;43m.\u001B[39;49m\u001B[43mcuda\u001B[49m\u001B[38;5;241;43m.\u001B[39;49m\u001B[43m_exchange_device\u001B[49m\u001B[43m(\u001B[49m\u001B[38;5;28;43mself\u001B[39;49m\u001B[38;5;241;43m.\u001B[39;49m\u001B[43midx\u001B[49m\u001B[43m)\u001B[49m\n",
      "\u001B[0;31mRuntimeError\u001B[0m: CUDA error: out of memory\nCUDA kernel errors might be asynchronously reported at some other API call, so the stacktrace below might be incorrect.\nFor debugging consider passing CUDA_LAUNCH_BLOCKING=1.\nCompile with `TORCH_USE_CUDA_DSA` to enable device-side assertions.\n"
     ]
    }
   ],
   "source": [
    "ckpt = torch.load('outputs/abstractbeam/model-best-valid.ckpt')\n",
    "ckpt.pop('model')\n",
    "ckpt.pop('optimizer')\n",
    "ckpt"
   ],
   "metadata": {
    "collapsed": false,
    "ExecuteTime": {
     "end_time": "2024-03-29T16:05:31.737862Z",
     "start_time": "2024-03-29T16:05:30.853692Z"
    }
   },
   "id": "89023036c9384f86"
  },
  {
   "cell_type": "code",
   "execution_count": 35,
   "outputs": [
    {
     "data": {
      "text/plain": "{'step': 30000,\n 'optimizer': {'state': {},\n  'param_groups': [{'lr': 0.0005,\n    'betas': (0.9, 0.999),\n    'eps': 1e-08,\n    'weight_decay': 0,\n    'amsgrad': False,\n    'maximize': False,\n    'foreach': None,\n    'capturable': False,\n    'differentiable': False,\n    'fused': None,\n    'params': [0,\n     1,\n     2,\n     3,\n     4,\n     5,\n     6,\n     7,\n     8,\n     9,\n     10,\n     11,\n     12,\n     13,\n     14,\n     15,\n     16,\n     17,\n     18,\n     19,\n     20,\n     21,\n     22,\n     23,\n     24,\n     25,\n     26,\n     27,\n     28,\n     29,\n     30,\n     31,\n     32,\n     33,\n     34,\n     35,\n     36,\n     37,\n     38,\n     39,\n     40,\n     41,\n     42,\n     43,\n     44,\n     45,\n     46,\n     47,\n     48,\n     49,\n     50,\n     51,\n     52,\n     53,\n     54,\n     55,\n     56,\n     57,\n     58,\n     59,\n     60,\n     61,\n     62,\n     63,\n     64,\n     65,\n     66,\n     67,\n     68,\n     69,\n     70,\n     71,\n     72,\n     73,\n     74,\n     75,\n     76,\n     77,\n     78,\n     79,\n     80,\n     81,\n     82,\n     83,\n     84,\n     85,\n     86,\n     87,\n     88,\n     89,\n     90,\n     91,\n     92,\n     93,\n     94,\n     95,\n     96,\n     97,\n     98,\n     99,\n     100,\n     101,\n     102,\n     103,\n     104,\n     105,\n     106,\n     107,\n     108,\n     109,\n     110,\n     111,\n     112,\n     113,\n     114,\n     115,\n     116,\n     117,\n     118,\n     119,\n     120,\n     121,\n     122,\n     123,\n     124,\n     125,\n     126,\n     127,\n     128,\n     129,\n     130,\n     131,\n     132,\n     133,\n     134,\n     135,\n     136,\n     137,\n     138,\n     139,\n     140,\n     141,\n     142,\n     143,\n     144,\n     145,\n     146,\n     147,\n     148,\n     149,\n     150,\n     151,\n     152,\n     153,\n     154,\n     155,\n     156,\n     157,\n     158,\n     159,\n     160,\n     161,\n     162,\n     163,\n     164,\n     165,\n     166,\n     167,\n     168,\n     169,\n     170,\n     171,\n     172,\n     173,\n     174,\n     175,\n     176,\n     177,\n     178,\n     179,\n     180,\n     181,\n     182,\n     183,\n     184,\n     185,\n     186,\n     187,\n     188,\n     189,\n     190,\n     191,\n     192,\n     193,\n     194,\n     195,\n     196,\n     197,\n     198,\n     199,\n     200,\n     201,\n     202,\n     203,\n     204,\n     205,\n     206,\n     207,\n     208,\n     209,\n     210,\n     211,\n     212,\n     213,\n     214,\n     215,\n     216,\n     217,\n     218,\n     219,\n     220,\n     221,\n     222,\n     223,\n     224,\n     225,\n     226,\n     227,\n     228,\n     229,\n     230,\n     231,\n     232,\n     233,\n     234,\n     235,\n     236,\n     237,\n     238,\n     239,\n     240,\n     241,\n     242,\n     243,\n     244,\n     245,\n     246,\n     247,\n     248,\n     249,\n     250,\n     251,\n     252,\n     253,\n     254,\n     255,\n     256,\n     257,\n     258,\n     259,\n     260,\n     261,\n     262,\n     263,\n     264,\n     265,\n     266,\n     267,\n     268,\n     269,\n     270,\n     271,\n     272,\n     273,\n     274,\n     275,\n     276,\n     277,\n     278,\n     279,\n     280,\n     281,\n     282,\n     283,\n     284,\n     285,\n     286,\n     287,\n     288,\n     289,\n     290,\n     291,\n     292,\n     293,\n     294,\n     295,\n     296,\n     297,\n     298,\n     299,\n     300,\n     301,\n     302,\n     303,\n     304,\n     305,\n     306,\n     307,\n     308,\n     309,\n     310,\n     311,\n     312,\n     313,\n     314,\n     315,\n     316,\n     317,\n     318,\n     319,\n     320,\n     321,\n     322,\n     323,\n     324,\n     325,\n     326,\n     327,\n     328,\n     329,\n     330,\n     331,\n     332,\n     333,\n     334,\n     335,\n     336,\n     337,\n     338,\n     339,\n     340,\n     341,\n     342,\n     343,\n     344,\n     345,\n     346,\n     347,\n     348,\n     349,\n     350,\n     351,\n     352,\n     353,\n     354,\n     355,\n     356,\n     357,\n     358,\n     359,\n     360,\n     361,\n     362,\n     363,\n     364]}]},\n 'inventions': [],\n 'higher_order_functions': {'Map': [1, 0],\n  'Filter': [1, 0],\n  'Count': [1, 0],\n  'ZipWith': [2, 0, 0],\n  'Scanl1': [2, 0]},\n 'base_function_dict': {'Add': 2,\n  'Subtract': 2,\n  'Multiply': 2,\n  'IntDivide': 2,\n  'Square': 1,\n  'Min': 2,\n  'Max': 2,\n  'Greater': 2,\n  'Less': 2,\n  'Equal': 2,\n  'IsEven': 1,\n  'IsOdd': 1,\n  'If': 3,\n  'Head': 1,\n  'Last': 1,\n  'Take': 2,\n  'Drop': 2,\n  'Access': 2,\n  'Minimum': 1,\n  'Maximum': 1,\n  'Reverse': 1,\n  'Sort': 1,\n  'Sum': 1,\n  'Map': 2,\n  'Filter': 2,\n  'Count': 2,\n  'ZipWith': 3,\n  'Scanl1': 2},\n 'dc_abstractions': [],\n 'domain': Domain(name='deepcoder', operations=[Add, Subtract, Multiply, IntDivide, Square, Min, Max, Greater, Less, Equal, IsEven, IsOdd, If, Head, Last, Take, Drop, Access, Minimum, Maximum, Reverse, Sort, Sum, Map, Filter, Count, ZipWith, Scanl1], inventions=[], constants=[-1, 1], constants_extractor=None, inputs_dict_generator=<function deepcoder_inputs_dict_generator at 0x7f5f18a1c430>, input_charset=None, input_max_len=None, output_charset=None, output_max_len=None, value_charset=None, value_max_len=None, program_tokens=None, output_type=(<class 'int'>, <class 'list'>), small_value_filter=<function deepcoder_small_value_filter at 0x7f5f7a1b2700>, checker_function=<function check_solution at 0x7f5f7a1a88b0>),\n 'frontiers': {}}"
     },
     "execution_count": 35,
     "metadata": {},
     "output_type": "execute_result"
    }
   ],
   "source": [],
   "metadata": {
    "collapsed": false,
    "ExecuteTime": {
     "end_time": "2024-03-29T15:47:53.427359Z",
     "start_time": "2024-03-29T15:47:53.408731Z"
    }
   },
   "id": "c1069a0f76d17885"
  },
  {
   "cell_type": "code",
   "execution_count": 27,
   "outputs": [
    {
     "data": {
      "text/plain": "<tensorboard.backend.event_processing.event_accumulator.EventAccumulator at 0x7f5f73082e20>"
     },
     "execution_count": 27,
     "metadata": {},
     "output_type": "execute_result"
    }
   ],
   "source": [
    "from tensorboard.backend.event_processing.event_accumulator import EventAccumulator\n",
    "\n",
    "# Path to your event file or directory\n",
    "event_file_or_dir = './logs/events.out.tfevents.1711549793.dws-06.4085822.0'\n",
    "\n",
    "# Initialize an event accumulator\n",
    "event_acc = EventAccumulator(event_file_or_dir)\n",
    "event_acc.Reload()\n"
   ],
   "metadata": {
    "collapsed": false,
    "ExecuteTime": {
     "end_time": "2024-03-29T15:45:15.279077Z",
     "start_time": "2024-03-29T15:45:15.145855Z"
    }
   },
   "id": "5cc0d09f11055aac"
  },
  {
   "cell_type": "code",
   "execution_count": 28,
   "outputs": [
    {
     "data": {
      "text/plain": "{'images': [],\n 'audio': [],\n 'histograms': [],\n 'scalars': ['eval/succ'],\n 'distributions': [],\n 'tensors': [],\n 'graph': False,\n 'meta_graph': False,\n 'run_metadata': []}"
     },
     "execution_count": 28,
     "metadata": {},
     "output_type": "execute_result"
    }
   ],
   "source": [
    "event_acc.Tags()"
   ],
   "metadata": {
    "collapsed": false,
    "ExecuteTime": {
     "end_time": "2024-03-29T15:45:15.604543Z",
     "start_time": "2024-03-29T15:45:15.573705Z"
    }
   },
   "id": "31cf131a7c8345a6"
  },
  {
   "cell_type": "code",
   "execution_count": 29,
   "outputs": [
    {
     "data": {
      "text/plain": "[ScalarEvent(wall_time=1711607470.124846, step=10000, value=0.1599999964237213),\n ScalarEvent(wall_time=1711623916.0716305, step=20000, value=0.18000000715255737),\n ScalarEvent(wall_time=1711684592.9286108, step=30000, value=0.2199999988079071)]"
     },
     "execution_count": 29,
     "metadata": {},
     "output_type": "execute_result"
    }
   ],
   "source": [
    "scalars = event_acc.Scalars('eval/succ')\n",
    "scalars"
   ],
   "metadata": {
    "collapsed": false,
    "ExecuteTime": {
     "end_time": "2024-03-29T15:45:16.573127Z",
     "start_time": "2024-03-29T15:45:16.548635Z"
    }
   },
   "id": "9b4b94c472ff0902"
  },
  {
   "cell_type": "code",
   "execution_count": 16,
   "outputs": [],
   "source": [
    "times = [ele.wall_time for ele in scalars]"
   ],
   "metadata": {
    "collapsed": false,
    "ExecuteTime": {
     "end_time": "2024-03-29T15:43:32.697466Z",
     "start_time": "2024-03-29T15:43:32.347459Z"
    }
   },
   "id": "2010c5c86f64f03c"
  },
  {
   "cell_type": "code",
   "execution_count": 23,
   "outputs": [
    {
     "data": {
      "text/plain": "(4.568318551248974, 16.854682494534387)"
     },
     "execution_count": 23,
     "metadata": {},
     "output_type": "execute_result"
    }
   ],
   "source": [
    "(times[1] - times[0]) / 3600, (times[2] - times[1]) / 3600"
   ],
   "metadata": {
    "collapsed": false,
    "ExecuteTime": {
     "end_time": "2024-03-29T15:44:38.862082Z",
     "start_time": "2024-03-29T15:44:38.801845Z"
    }
   },
   "id": "4b7c45094ad9ca41"
  },
  {
   "cell_type": "code",
   "execution_count": null,
   "outputs": [],
   "source": [],
   "metadata": {
    "collapsed": false
   },
   "id": "26bef3c1020e8c29"
  }
 ],
 "metadata": {
  "kernelspec": {
   "display_name": "Python 3",
   "language": "python",
   "name": "python3"
  },
  "language_info": {
   "codemirror_mode": {
    "name": "ipython",
    "version": 2
   },
   "file_extension": ".py",
   "mimetype": "text/x-python",
   "name": "python",
   "nbconvert_exporter": "python",
   "pygments_lexer": "ipython2",
   "version": "2.7.6"
  }
 },
 "nbformat": 4,
 "nbformat_minor": 5
}
