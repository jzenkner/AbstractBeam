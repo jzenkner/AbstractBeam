{
 "cells": [
  {
   "cell_type": "code",
   "execution_count": 1,
   "id": "initial_id",
   "metadata": {
    "collapsed": true,
    "ExecuteTime": {
     "end_time": "2024-04-21T10:05:21.656166Z",
     "start_time": "2024-04-21T10:05:19.964937Z"
    }
   },
   "outputs": [],
   "source": [
    "import torch\n",
    "import os"
   ]
  },
  {
   "cell_type": "code",
   "execution_count": 2,
   "outputs": [
    {
     "data": {
      "text/plain": "'/ceph/jzenkner/Code/AbstractBeam'"
     },
     "execution_count": 2,
     "metadata": {},
     "output_type": "execute_result"
    }
   ],
   "source": [
    "os.getcwd()"
   ],
   "metadata": {
    "collapsed": false,
    "ExecuteTime": {
     "end_time": "2024-04-21T10:05:21.696617Z",
     "start_time": "2024-04-21T10:05:21.686621Z"
    }
   },
   "id": "62d1f53da939e7d9"
  },
  {
   "cell_type": "code",
   "execution_count": 5,
   "outputs": [
    {
     "data": {
      "text/plain": "{'step': 30000,\n 'inventions': [fn_2, fn_5],\n 'higher_order_functions': {'Map': [1, 0],\n  'Filter': [1, 0],\n  'Count': [1, 0],\n  'ZipWith': [2, 0, 0],\n  'Scanl1': [2, 0],\n  'fn_2': [1, 0],\n  'fn_5': [1, 0]},\n 'base_function_dict': {'Add': 2,\n  'Subtract': 2,\n  'Multiply': 2,\n  'IntDivide': 2,\n  'Square': 1,\n  'Min': 2,\n  'Max': 2,\n  'Greater': 2,\n  'Less': 2,\n  'Equal': 2,\n  'IsEven': 1,\n  'IsOdd': 1,\n  'If': 3,\n  'Head': 1,\n  'Last': 1,\n  'Take': 2,\n  'Drop': 2,\n  'Access': 2,\n  'Minimum': 1,\n  'Maximum': 1,\n  'Reverse': 1,\n  'Sort': 1,\n  'Sum': 1,\n  'Map': 2,\n  'Filter': 2,\n  'Count': 2,\n  'ZipWith': 3,\n  'Scanl1': 2,\n  'fn_2': 2,\n  'fn_5': 2},\n 'dc_abstractions': [fn_2(#0) := (lam (#0 (Take -1 $0))),\n  fn_5(#0) := (lam (#0 (Min 0 $0)))],\n 'domain': Domain(name='deepcoder', operations=[Add, Subtract, Multiply, IntDivide, Square, Min, Max, Greater, Less, Equal, IsEven, IsOdd, If, Head, Last, Take, Drop, Access, Minimum, Maximum, Reverse, Sort, Sum, Map, Filter, Count, ZipWith, Scanl1, fn_2, fn_5], inventions=[], constants=[-1, 1, 0], constants_extractor=None, inputs_dict_generator=<function deepcoder_inputs_dict_generator at 0x7f0d5ed53310>, input_charset=None, input_max_len=None, output_charset=None, output_max_len=None, value_charset=None, value_max_len=None, program_tokens=None, output_type=(<class 'int'>, <class 'list'>), small_value_filter=<function deepcoder_small_value_filter at 0x7f0cc015eb80>, checker_function=<function check_solution at 0x7f0d5eaf34c0>),\n 'frontiers': {'map:sort_square': [('Sort(Reverse(Map((lambda u1: ((lambda v1: Square(v1)))(u1)), Sort(x))))',\n    8),\n   ('Sort(Map((lambda u1: ((lambda v1: Square(v1)))(u1)), x))', 6)],\n  'none:next_multiple': [('Multiply(k, IntDivide(Add(x, k), k))', 7),\n   ('Add(k, Multiply(k, IntDivide(x, k)))', 7)],\n  'map:multiply_previous': [('Map((lambda u1: ((lambda v1: Subtract(((lambda v1: Square(v1)))(v1), v1)))(u1)), x)',\n    8),\n   ('ZipWith((lambda u1, u2: ((lambda v1: Multiply(v1, ((lambda v1: Add(v1, -1)))(v1))))(u1)), x, x)',\n    10)],\n  'none:top_k': [('Take(k, Reverse(Sort(x)))', 5)],\n  'none:remove_ends': [('Take(-1, Drop(1, x))', 5),\n   ('Drop(1, Take(-1, x))', 5)],\n  'scanl1:follow_cycle': [('Scanl1((lambda u1, u2: ((lambda v1: Access(v1, x)))(u1)), x)',\n    6)],\n  'filter:sort_even': [('Filter((lambda u1: ((lambda v1: IsEven(v1)))(u1)), Sort(x))',\n    6)],\n  'multi:range_like': [('Scanl1((lambda u1, u2: ((lambda v1: Add(v1, 1)))(u1)), Map((lambda u1: 0), x))',\n    8),\n   ('Scanl1((lambda u1, u2: ((lambda v1: Add(v1, 1)))(u1)), Map((lambda u1: Add(1, -1)), x))',\n    10)],\n  'count:min_costs': [('Take(Count((lambda u1: ((lambda v1: Less(((lambda v1: Subtract(1, v1)))(v1), v1)))(u1)), r), Sort(c))',\n    12),\n   ('Take(Count((lambda u1: ((lambda v1: Greater(v1, 0)))(u1)), r), Sort(c))',\n    9)],\n  'map:max_selected': [('Maximum(Map((lambda u1: ((lambda v1: Access(v1, x)))(u1)), i))',\n    7),\n   ('Maximum(Map((lambda u1: ((lambda v1: Access(v1, x)))(u1)), i))', 7)],\n  'count:rank': [('Count((lambda u1: ((lambda v1: Less(v1, q)))(u1)), x)', 6),\n   ('Count((lambda u1: ((lambda v1: Greater(q, v1)))(u1)), x)', 6)],\n  'none:coins': [('Subtract(Multiply(x, Add(y, -1)), y)', 7)],\n  'count:num_match': [('Count((lambda u1: ((lambda v1: Equal(v1, n)))(u1)), x)',\n    6),\n   ('Count((lambda u1: ((lambda v1: Equal(n, v1)))(u1)), x)', 6)],\n  'count:count_negative': [('Count((lambda u1: ((lambda v1: Greater(((lambda v1: Subtract(v1, v1)))(v1), v1)))(u1)), x)',\n    9),\n   ('Min(Maximum(Drop(Add(1, 1), x)), Count((lambda u1: ((lambda v1: Less(v1, 1)))(u1)), x))',\n    13)],\n  'filter:odd_negative': [('Filter((lambda u1: ((lambda v1: IsOdd(((lambda v1: Min(Add(1, -1), v1)))(v1))))(u1)), Take(-1, x))',\n    12),\n   ('Filter((lambda u1: ((lambda v1: IsOdd(((lambda v1: Min(0, v1)))(v1))))(u1)), Take(-1, x))',\n    10)],\n  'map:replace_negative': [('Map((lambda u1: ((lambda v1: If(((lambda v1: Less(-1, v1)))(v1), v1, y)))(u1)), x)',\n    10)],\n  'count:even_or_positive': [('Count((lambda u1: ((lambda v1: IsEven(((lambda v1: Min(0, v1)))(v1))))(u1)), x)',\n    8)]}}"
     },
     "execution_count": 5,
     "metadata": {},
     "output_type": "execute_result"
    }
   ],
   "source": [
    "ckpt = torch.load('neurips/abstractbeam/models/model-best-valid.ckpt')\n",
    "ckpt.pop('model')\n",
    "ckpt.pop('optimizer')\n",
    "ckpt"
   ],
   "metadata": {
    "collapsed": false,
    "ExecuteTime": {
     "end_time": "2024-04-21T10:05:35.714188Z",
     "start_time": "2024-04-21T10:05:34.557824Z"
    }
   },
   "id": "89023036c9384f86"
  },
  {
   "cell_type": "code",
   "execution_count": 7,
   "outputs": [
    {
     "data": {
      "text/plain": "<tensorboard.backend.event_processing.event_accumulator.EventAccumulator at 0x7f0d5e74fc10>"
     },
     "execution_count": 7,
     "metadata": {},
     "output_type": "execute_result"
    }
   ],
   "source": [
    "from tensorboard.backend.event_processing.event_accumulator import EventAccumulator\n",
    "\n",
    "# Path to your event file or directory\n",
    "event_file_or_dir = './neurips/abstractbeam/models/logs/events.out.tfevents.1713457154.dws-07.1432984.0'\n",
    "\n",
    "# Initialize an event accumulator\n",
    "event_acc = EventAccumulator(event_file_or_dir)\n",
    "event_acc.Reload()\n"
   ],
   "metadata": {
    "collapsed": false,
    "ExecuteTime": {
     "end_time": "2024-04-21T10:06:10.464727Z",
     "start_time": "2024-04-21T10:06:10.443575Z"
    }
   },
   "id": "5cc0d09f11055aac"
  },
  {
   "cell_type": "code",
   "execution_count": 8,
   "outputs": [
    {
     "data": {
      "text/plain": "{'images': [],\n 'audio': [],\n 'histograms': [],\n 'scalars': ['eval/succ'],\n 'distributions': [],\n 'tensors': [],\n 'graph': False,\n 'meta_graph': False,\n 'run_metadata': []}"
     },
     "execution_count": 8,
     "metadata": {},
     "output_type": "execute_result"
    }
   ],
   "source": [
    "event_acc.Tags()"
   ],
   "metadata": {
    "collapsed": false,
    "ExecuteTime": {
     "end_time": "2024-04-21T10:06:11.927470Z",
     "start_time": "2024-04-21T10:06:11.856417Z"
    }
   },
   "id": "31cf131a7c8345a6"
  },
  {
   "cell_type": "code",
   "execution_count": 9,
   "outputs": [
    {
     "data": {
      "text/plain": "[ScalarEvent(wall_time=1713499607.933645, step=10000, value=0.25999999046325684),\n ScalarEvent(wall_time=1713544566.87989, step=20000, value=0.30000001192092896),\n ScalarEvent(wall_time=1713590574.0014794, step=30000, value=0.3199999928474426),\n ScalarEvent(wall_time=1713648396.6599143, step=40000, value=0.30000001192092896)]"
     },
     "execution_count": 9,
     "metadata": {},
     "output_type": "execute_result"
    }
   ],
   "source": [
    "scalars = event_acc.Scalars('eval/succ')\n",
    "scalars"
   ],
   "metadata": {
    "collapsed": false,
    "ExecuteTime": {
     "end_time": "2024-04-21T10:06:13.795445Z",
     "start_time": "2024-04-21T10:06:13.791758Z"
    }
   },
   "id": "9b4b94c472ff0902"
  },
  {
   "cell_type": "code",
   "execution_count": 9,
   "outputs": [],
   "source": [
    "times = [ele.wall_time for ele in scalars]"
   ],
   "metadata": {
    "collapsed": false,
    "ExecuteTime": {
     "end_time": "2024-04-15T08:00:44.572984Z",
     "start_time": "2024-04-15T08:00:44.566325Z"
    }
   },
   "id": "2010c5c86f64f03c"
  },
  {
   "cell_type": "code",
   "execution_count": 10,
   "outputs": [
    {
     "ename": "IndexError",
     "evalue": "list index out of range",
     "output_type": "error",
     "traceback": [
      "\u001B[0;31m---------------------------------------------------------------------------\u001B[0m",
      "\u001B[0;31mIndexError\u001B[0m                                Traceback (most recent call last)",
      "Cell \u001B[0;32mIn[10], line 1\u001B[0m\n\u001B[0;32m----> 1\u001B[0m (\u001B[43mtimes\u001B[49m\u001B[43m[\u001B[49m\u001B[38;5;241;43m1\u001B[39;49m\u001B[43m]\u001B[49m \u001B[38;5;241m-\u001B[39m times[\u001B[38;5;241m0\u001B[39m]) \u001B[38;5;241m/\u001B[39m \u001B[38;5;241m3600\u001B[39m, (times[\u001B[38;5;241m2\u001B[39m] \u001B[38;5;241m-\u001B[39m times[\u001B[38;5;241m1\u001B[39m]) \u001B[38;5;241m/\u001B[39m \u001B[38;5;241m3600\u001B[39m\n",
      "\u001B[0;31mIndexError\u001B[0m: list index out of range"
     ]
    }
   ],
   "source": [
    "(times[1] - times[0]) / 3600, (times[2] - times[1]) / 3600"
   ],
   "metadata": {
    "collapsed": false,
    "ExecuteTime": {
     "end_time": "2024-04-15T08:00:45.044813Z",
     "start_time": "2024-04-15T08:00:45.022930Z"
    }
   },
   "id": "4b7c45094ad9ca41"
  },
  {
   "cell_type": "code",
   "execution_count": 11,
   "outputs": [
    {
     "ename": "NameError",
     "evalue": "name 'ckpt' is not defined",
     "output_type": "error",
     "traceback": [
      "\u001B[0;31m---------------------------------------------------------------------------\u001B[0m",
      "\u001B[0;31mNameError\u001B[0m                                 Traceback (most recent call last)",
      "Cell \u001B[0;32mIn[11], line 1\u001B[0m\n\u001B[0;32m----> 1\u001B[0m \u001B[43mckpt\u001B[49m[\u001B[38;5;124m'\u001B[39m\u001B[38;5;124minventions\u001B[39m\u001B[38;5;124m'\u001B[39m]\n",
      "\u001B[0;31mNameError\u001B[0m: name 'ckpt' is not defined"
     ]
    }
   ],
   "source": [
    "ckpt['inventions']"
   ],
   "metadata": {
    "collapsed": false,
    "ExecuteTime": {
     "end_time": "2024-04-15T08:00:46.360910Z",
     "start_time": "2024-04-15T08:00:46.358620Z"
    }
   },
   "id": "26bef3c1020e8c29"
  },
  {
   "cell_type": "code",
   "execution_count": null,
   "outputs": [],
   "source": [],
   "metadata": {
    "collapsed": false
   },
   "id": "d486526032761973"
  }
 ],
 "metadata": {
  "kernelspec": {
   "display_name": "Python 3",
   "language": "python",
   "name": "python3"
  },
  "language_info": {
   "codemirror_mode": {
    "name": "ipython",
    "version": 2
   },
   "file_extension": ".py",
   "mimetype": "text/x-python",
   "name": "python",
   "nbconvert_exporter": "python",
   "pygments_lexer": "ipython2",
   "version": "2.7.6"
  }
 },
 "nbformat": 4,
 "nbformat_minor": 5
}
