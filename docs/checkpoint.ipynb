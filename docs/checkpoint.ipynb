{
 "cells": [
  {
   "cell_type": "code",
   "execution_count": 1,
   "metadata": {},
   "outputs": [],
   "source": [
    "import torch\n",
    "with open(\"/work/ldierkes/repos/new/LambdaBeam/outputs/abstractbeam/model-best-valid.ckpt\", \"rb\") as f:\n",
    "    ckpt = torch.load(f)"
   ]
  },
  {
   "cell_type": "code",
   "execution_count": 3,
   "metadata": {},
   "outputs": [
    {
     "name": "stdout",
     "output_type": "stream",
     "text": [
      "step\n",
      "model\n",
      "optimizer\n",
      "inventions\n",
      "higher_order_functions\n",
      "base_function_dict\n",
      "dc_abstractions\n",
      "domain\n",
      "frontiers\n"
     ]
    }
   ],
   "source": [
    "for key in ckpt.keys():\n",
    "    print(key)"
   ]
  },
  {
   "cell_type": "code",
   "execution_count": 4,
   "metadata": {},
   "outputs": [],
   "source": [
    "inventions = ckpt[\"inventions\"]\n",
    "for inv in inventions:\n",
    "    print(inv.name, inv.program)"
   ]
  },
  {
   "cell_type": "code",
   "execution_count": 5,
   "metadata": {},
   "outputs": [],
   "source": [
    "constants = ckpt[\"domain\"].constants"
   ]
  }
 ],
 "metadata": {
  "kernelspec": {
   "display_name": "lambdaboom",
   "language": "python",
   "name": "python3"
  },
  "language_info": {
   "codemirror_mode": {
    "name": "ipython",
    "version": 3
   },
   "file_extension": ".py",
   "mimetype": "text/x-python",
   "name": "python",
   "nbconvert_exporter": "python",
   "pygments_lexer": "ipython3",
   "version": "3.11.5"
  }
 },
 "nbformat": 4,
 "nbformat_minor": 2
}
