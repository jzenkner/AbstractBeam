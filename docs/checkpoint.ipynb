{
 "cells": [
  {
   "cell_type": "code",
   "execution_count": 1,
   "metadata": {
    "ExecuteTime": {
     "end_time": "2024-04-22T16:55:05.095545Z",
     "start_time": "2024-04-22T16:55:02.408203Z"
    }
   },
   "outputs": [],
   "source": [
    "import torch\n",
    "import os\n",
    "import json\n",
    "import numpy as np\n",
    "import pickle\n",
    "\n",
    "from tensorboard.backend.event_processing.event_accumulator import EventAccumulator\n",
    "import matplotlib.pyplot as plt "
   ]
  },
  {
   "cell_type": "code",
   "execution_count": 2,
   "outputs": [
    {
     "data": {
      "text/plain": "['model-best-valid.ckpt', 'logs', 'model-latest.ckpt']"
     },
     "execution_count": 2,
     "metadata": {},
     "output_type": "execute_result"
    }
   ],
   "source": [
    "parent_path = \"../neurips/\"\n",
    "approach = \"abstractbeam\"\n",
    "os.getcwd()\n",
    "os.listdir(parent_path + \"abstractbeam/models\")"
   ],
   "metadata": {
    "collapsed": false,
    "ExecuteTime": {
     "end_time": "2024-04-22T16:55:05.145360Z",
     "start_time": "2024-04-22T16:55:05.140307Z"
    }
   }
  },
  {
   "cell_type": "code",
   "execution_count": 13,
   "outputs": [],
   "source": [
    "with open(parent_path + f\"{approach}/models2/model-latest.ckpt\", \"rb\") as f:\n",
    "    ckpt = torch.load(f)  # , map_location=torch.device(\"mps\"))"
   ],
   "metadata": {
    "collapsed": false,
    "ExecuteTime": {
     "end_time": "2024-04-22T17:14:06.782039Z",
     "start_time": "2024-04-22T17:14:06.142727Z"
    }
   }
  },
  {
   "cell_type": "code",
   "execution_count": 14,
   "outputs": [
    {
     "data": {
      "text/plain": "[Add,\n Subtract,\n Multiply,\n IntDivide,\n Square,\n Min,\n Max,\n Greater,\n Less,\n Equal,\n IsEven,\n IsOdd,\n If,\n Head,\n Last,\n Take,\n Drop,\n Access,\n Minimum,\n Maximum,\n Reverse,\n Sort,\n Sum,\n Map,\n Filter,\n Count,\n ZipWith,\n Scanl1,\n fn_1,\n fn_3,\n fn_5]"
     },
     "execution_count": 14,
     "metadata": {},
     "output_type": "execute_result"
    }
   ],
   "source": [
    "ckpt['domain'].operations"
   ],
   "metadata": {
    "collapsed": false,
    "ExecuteTime": {
     "end_time": "2024-04-22T17:14:08.569096Z",
     "start_time": "2024-04-22T17:14:08.506445Z"
    }
   }
  },
  {
   "cell_type": "code",
   "execution_count": 15,
   "outputs": [
    {
     "name": "stdout",
     "output_type": "stream",
     "text": [
      "Found Add\n",
      "Found Subtract\n",
      "Found Multiply\n",
      "Found IntDivide\n",
      "Found Square\n",
      "Found Min\n",
      "Found Max\n",
      "Found Greater\n",
      "Found Less\n",
      "Found Equal\n",
      "Found IsEven\n",
      "Found IsOdd\n",
      "Found If\n",
      "Found Head\n",
      "Found Last\n",
      "Found Take\n",
      "Found Drop\n",
      "Found Access\n",
      "Found Minimum\n",
      "Found Maximum\n",
      "Found Reverse\n",
      "Found Sort\n",
      "Found Sum\n",
      "Found Map\n",
      "Found Filter\n",
      "Found Count\n",
      "Found ZipWith\n",
      "Found Scanl1\n",
      "Not Found: fn_1\n",
      "Not Found: fn_3\n",
      "Not Found: fn_5\n"
     ]
    }
   ],
   "source": [
    "for op in ckpt['domain'].operations:\n",
    "    found = False\n",
    "    for file in os.listdir(parent_path + f\"{approach}/data2/\"):\n",
    "        with open(parent_path + f\"{approach}/data2/\" + file, \"rb\") as f:\n",
    "            train_data = pickle.load(f)\n",
    "            filter = [ele.solution.expression() for ele in train_data if str(op) in ele.solution.expression()]\n",
    "            if len(filter) > 1:\n",
    "                print(f\"Found {op}\")\n",
    "                found = True\n",
    "                break\n",
    "    if not found:\n",
    "        print(f\"Not Found: {op}\")"
   ],
   "metadata": {
    "collapsed": false,
    "ExecuteTime": {
     "end_time": "2024-04-22T17:14:40.687338Z",
     "start_time": "2024-04-22T17:14:16.937557Z"
    }
   }
  },
  {
   "cell_type": "code",
   "execution_count": 6,
   "metadata": {
    "ExecuteTime": {
     "end_time": "2024-04-22T16:55:56.407591Z",
     "start_time": "2024-04-22T16:55:56.400307Z"
    }
   },
   "outputs": [
    {
     "name": "stdout",
     "output_type": "stream",
     "text": [
      "step\n",
      "model\n",
      "optimizer\n",
      "inventions\n",
      "higher_order_functions\n",
      "base_function_dict\n",
      "dc_abstractions\n",
      "domain\n",
      "frontiers\n"
     ]
    }
   ],
   "source": [
    "for key in ckpt.keys():\n",
    "    print(key)"
   ]
  },
  {
   "cell_type": "code",
   "execution_count": 7,
   "outputs": [
    {
     "data": {
      "text/plain": "{'Map': [1, 0],\n 'Filter': [1, 0],\n 'Count': [1, 0],\n 'ZipWith': [2, 0, 0],\n 'Scanl1': [2, 0],\n 'fn_2': [1, 0],\n 'fn_5': [1, 0],\n 'fn_7': [2, 1, 0],\n 'fn_9': [2, 0]}"
     },
     "execution_count": 7,
     "metadata": {},
     "output_type": "execute_result"
    }
   ],
   "source": [
    "ckpt[\"higher_order_functions\"]"
   ],
   "metadata": {
    "collapsed": false,
    "ExecuteTime": {
     "end_time": "2024-04-22T16:55:56.425183Z",
     "start_time": "2024-04-22T16:55:56.401436Z"
    }
   }
  },
  {
   "cell_type": "code",
   "execution_count": 8,
   "metadata": {
    "ExecuteTime": {
     "end_time": "2024-04-22T16:55:56.425591Z",
     "start_time": "2024-04-22T16:55:56.421568Z"
    }
   },
   "outputs": [
    {
     "name": "stdout",
     "output_type": "stream",
     "text": [
      "fn_2 x1(Take(-1, x2))\n",
      "fn_5 x1(Min(0, x2))\n",
      "fn_7 x2((lambda v1: x1(Min(0, v1))), x3)\n",
      "fn_9 Count((lambda v1: x1(v1, 0)), x2)\n"
     ]
    }
   ],
   "source": [
    "inventions = ckpt[\"inventions\"]\n",
    "for inv in inventions:\n",
    "    print(inv.name, inv.program)"
   ]
  },
  {
   "cell_type": "code",
   "execution_count": 9,
   "outputs": [
    {
     "ename": "TypeError",
     "evalue": "<lambda>() got multiple values for argument 'op'",
     "output_type": "error",
     "traceback": [
      "\u001B[0;31m---------------------------------------------------------------------------\u001B[0m",
      "\u001B[0;31mTypeError\u001B[0m                                 Traceback (most recent call last)",
      "Cell \u001B[0;32mIn[9], line 1\u001B[0m\n\u001B[0;32m----> 1\u001B[0m \u001B[43mckpt\u001B[49m\u001B[43m[\u001B[49m\u001B[38;5;124;43m'\u001B[39;49m\u001B[38;5;124;43mdomain\u001B[39;49m\u001B[38;5;124;43m'\u001B[39;49m\u001B[43m]\u001B[49m\u001B[38;5;241;43m.\u001B[39;49m\u001B[43moperations\u001B[49m\u001B[43m[\u001B[49m\u001B[38;5;241;43m-\u001B[39;49m\u001B[38;5;241;43m3\u001B[39;49m\u001B[43m]\u001B[49m\u001B[38;5;241;43m.\u001B[39;49m\u001B[43mapply_single\u001B[49m\u001B[43m(\u001B[49m\u001B[43m[\u001B[49m\u001B[38;5;28;43;01mlambda\u001B[39;49;00m\u001B[43m \u001B[49m\u001B[43mx\u001B[49m\u001B[43m:\u001B[49m\u001B[43m \u001B[49m\u001B[43mx\u001B[49m\u001B[43m \u001B[49m\u001B[38;5;241;43m>\u001B[39;49m\u001B[43m \u001B[49m\u001B[38;5;241;43m1\u001B[39;49m\u001B[43m,\u001B[49m\u001B[43m \u001B[49m\u001B[38;5;241;43m2\u001B[39;49m\u001B[43m]\u001B[49m\u001B[43m)\u001B[49m\n",
      "File \u001B[0;32m/ceph/jzenkner/Code/AbstractBeam/crossbeam/abstraction/dreamcoder2lambdabeam.py:396\u001B[0m, in \u001B[0;36mInvented.apply_single\u001B[0;34m(self, raw_args)\u001B[0m\n\u001B[1;32m    394\u001B[0m     \u001B[38;5;28mself\u001B[39m\u001B[38;5;241m.\u001B[39mdc_prims \u001B[38;5;241m=\u001B[39m \u001B[38;5;28;01mTrue\u001B[39;00m\n\u001B[1;32m    395\u001B[0m \u001B[38;5;28;01mtry\u001B[39;00m:\n\u001B[0;32m--> 396\u001B[0m     output \u001B[38;5;241m=\u001B[39m \u001B[43mrun_program\u001B[49m\u001B[43m(\u001B[49m\u001B[38;5;28;43mself\u001B[39;49m\u001B[38;5;241;43m.\u001B[39;49m\u001B[43mprogram\u001B[49m\u001B[43m,\u001B[49m\u001B[43m \u001B[49m\u001B[43minput_dict\u001B[49m\u001B[43m,\u001B[49m\u001B[43m \u001B[49m\u001B[38;5;28;43mself\u001B[39;49m\u001B[38;5;241;43m.\u001B[39;49m\u001B[43mdc_prims\u001B[49m\u001B[43m,\u001B[49m\u001B[43m \u001B[49m\u001B[38;5;28;43mself\u001B[39;49m\u001B[38;5;241;43m.\u001B[39;49m\u001B[43minventions\u001B[49m\u001B[43m)\u001B[49m[\u001B[38;5;241m0\u001B[39m]\n\u001B[1;32m    397\u001B[0m \u001B[38;5;28;01mexcept\u001B[39;00m \u001B[38;5;167;01mAttributeError\u001B[39;00m \u001B[38;5;28;01mas\u001B[39;00m e:\n\u001B[1;32m    398\u001B[0m     output \u001B[38;5;241m=\u001B[39m run_program(\u001B[38;5;28mself\u001B[39m\u001B[38;5;241m.\u001B[39mprogram, input_dict, \u001B[38;5;28mself\u001B[39m\u001B[38;5;241m.\u001B[39mdc_prims, [])[\u001B[38;5;241m0\u001B[39m]\n",
      "File \u001B[0;32m/ceph/jzenkner/Code/AbstractBeam/crossbeam/dsl/deepcoder_utils.py:40\u001B[0m, in \u001B[0;36mrun_program\u001B[0;34m(program, inputs_dict, dreamcoder_prims, inventions)\u001B[0m\n\u001B[1;32m     38\u001B[0m       namespace \u001B[38;5;241m=\u001B[39m {\u001B[38;5;241m*\u001B[39m\u001B[38;5;241m*\u001B[39mnamespace, \u001B[38;5;241m*\u001B[39m\u001B[38;5;241m*\u001B[39minv_namespace}\n\u001B[1;32m     39\u001B[0m   namespace\u001B[38;5;241m.\u001B[39mupdate({name: value[i] \u001B[38;5;28;01mfor\u001B[39;00m name, value \u001B[38;5;129;01min\u001B[39;00m inputs_dict\u001B[38;5;241m.\u001B[39mitems()})\n\u001B[0;32m---> 40\u001B[0m   outputs\u001B[38;5;241m.\u001B[39mappend(\u001B[38;5;28;43meval\u001B[39;49m\u001B[43m(\u001B[49m\u001B[43mprogram\u001B[49m\u001B[43m,\u001B[49m\u001B[43m \u001B[49m\u001B[43mnamespace\u001B[49m\u001B[43m)\u001B[49m)  \u001B[38;5;66;03m# pylint: disable=eval-used\u001B[39;00m\n\u001B[1;32m     41\u001B[0m \u001B[38;5;28;01mreturn\u001B[39;00m outputs\n",
      "File \u001B[0;32m<string>:1\u001B[0m\n",
      "\u001B[0;31mTypeError\u001B[0m: <lambda>() got multiple values for argument 'op'"
     ]
    }
   ],
   "source": [
    "ckpt['domain'].operations[-3].apply_single([lambda x: x > 1, 2])"
   ],
   "metadata": {
    "collapsed": false,
    "ExecuteTime": {
     "end_time": "2024-04-22T16:55:56.708425Z",
     "start_time": "2024-04-22T16:55:56.422105Z"
    }
   }
  },
  {
   "cell_type": "code",
   "execution_count": 16,
   "metadata": {
    "ExecuteTime": {
     "end_time": "2024-04-22T17:35:44.106509Z",
     "start_time": "2024-04-22T17:35:44.083758Z"
    }
   },
   "outputs": [
    {
     "name": "stdout",
     "output_type": "stream",
     "text": [
      "initial constants: [-1, 1]\n",
      "now: [-1, 1, 0]\n"
     ]
    }
   ],
   "source": [
    "constants = ckpt[\"domain\"].constants\n",
    "print(f\"initial constants: {[-1, 1]}\")\n",
    "print(f\"now: {constants}\")"
   ]
  },
  {
   "cell_type": "code",
   "execution_count": 17,
   "outputs": [
    {
     "data": {
      "text/plain": "(38.0, 36.0)"
     },
     "execution_count": 17,
     "metadata": {},
     "output_type": "execute_result"
    }
   ],
   "source": [
    "with open(parent_path + \"abstractbeam/results/run_1.json\", \"rb\") as json_file:\n",
    "    results = json.load(json_file)\n",
    "solutions = [ele for ele in results[\"results\"] if ele[\"success\"]]\n",
    "len(solutions) / len(results[\"results\"]) * 100, len(ckpt['frontiers']) / len(results[\"results\"]) * 100"
   ],
   "metadata": {
    "collapsed": false,
    "ExecuteTime": {
     "end_time": "2024-04-22T17:35:47.075991Z",
     "start_time": "2024-04-22T17:35:47.027056Z"
    }
   }
  },
  {
   "cell_type": "code",
   "execution_count": 18,
   "outputs": [
    {
     "data": {
      "text/plain": "<matplotlib.legend.Legend at 0x7f334ec9caf0>"
     },
     "execution_count": 18,
     "metadata": {},
     "output_type": "execute_result"
    },
    {
     "data": {
      "text/plain": "<Figure size 640x480 with 1 Axes>",
      "image/png": "[encoded data removed]"
     },
     "metadata": {},
     "output_type": "display_data"
    }
   ],
   "source": [
    "# Path to your event file or directory\n",
    "ab_file = parent_path + 'abstractbeam/models/logs/events.out.tfevents.1713457154.dws-07.1432984.0'\n",
    "lb_file = parent_path + 'lambdabeam/models/logs/events.out.tfevents.1713532162.dws-06.528186.0'\n",
    "\n",
    "# Initialize an event accumulator\n",
    "event_AB = EventAccumulator(ab_file)\n",
    "event_LB = EventAccumulator(lb_file)\n",
    "event_AB.Reload()\n",
    "event_LB.Reload()\n",
    "\n",
    "scalars_AB = event_AB.Scalars('eval/succ')\n",
    "scalars_LB = event_LB.Scalars('eval/succ')\n",
    "\n",
    "plt.plot(np.array([ele.value for ele in scalars_AB]) * 100, label=\"AB\")\n",
    "plt.plot(np.array([ele.value for ele in scalars_LB]) * 100, label=\"LB\")\n",
    "plt.ylabel(\"% Test Solved\")\n",
    "plt.xlabel(\"Iteration\")\n",
    "plt.legend()"
   ],
   "metadata": {
    "collapsed": false,
    "ExecuteTime": {
     "end_time": "2024-04-22T17:35:51.186675Z",
     "start_time": "2024-04-22T17:35:50.717008Z"
    }
   }
  },
  {
   "cell_type": "code",
   "execution_count": null,
   "outputs": [],
   "source": [
    "np.diff([ele.wall_time for ele in scalars_AB]) / 3600, np.diff([ele.wall_time for ele in scalars_LB]) / 3600"
   ],
   "metadata": {
    "collapsed": false,
    "ExecuteTime": {
     "end_time": "2024-04-22T16:55:56.765057Z",
     "start_time": "2024-04-22T16:55:56.750560Z"
    }
   }
  },
  {
   "cell_type": "code",
   "execution_count": null,
   "outputs": [],
   "source": [
    "programs = [ele[\"solution\"] for ele in solutions]\n",
    "for op in ckpt['domain'].operations:\n",
    "    found = False\n",
    "    for p in programs:\n",
    "        if str(op) in p:\n",
    "            print(f\"Found {op}: {p}\")\n",
    "            found = True\n",
    "            break\n",
    "    if not found:\n",
    "        print(f\"Not Found: {op}.\")\n",
    "            "
   ],
   "metadata": {
    "collapsed": false,
    "ExecuteTime": {
     "start_time": "2024-04-22T16:55:56.750631Z"
    }
   }
  },
  {
   "cell_type": "code",
   "execution_count": 19,
   "outputs": [
    {
     "data": {
      "text/plain": "['Sort(Map((lambda u1: ((lambda v1: Square(v1)))(u1)), x))',\n 'Multiply(k, Add(1, IntDivide(x, k)))',\n 'Map((lambda u1: ((lambda v1: Subtract(((lambda v1: Square(v1)))(v1), v1)))(u1)), x)',\n 'Reverse(Drop(Multiply(k, -1), Sort(x)))',\n 'Drop(1, Take(-1, x))',\n 'Scanl1((lambda u1, u2: ((lambda v1: Access(v1, x)))(u1)), x)',\n 'fn_9((lambda u1, u2: ((lambda v1: Greater(0, v1)))(u1)), x)',\n 'Filter((lambda u1: ((lambda v1: IsOdd(((lambda v1: Min(0, v1)))(v1))))(u1)), x)',\n 'Sort(ZipWith((lambda u1, u2: ((lambda v1, v2: IntDivide(v1, v2)))(u1, u2)), m, n))',\n 'Scanl1((lambda u1, u2: ((lambda v1, v2: Max(v1, v2)))(u2, u1)), x)',\n 'Sort(Filter((lambda u1: ((lambda v1: IsEven(v1)))(u1)), x))',\n 'fn_9((lambda u1, u2: ((lambda v1: fn_5((lambda u1: ((lambda v1: IsEven(v1)))(u1)), v1)))(u1)), x)',\n 'Map((lambda u1: ((lambda v1: If(((lambda v1: Less(1, v1)))(v1), v1, y)))(u1)), x)',\n 'Scanl1((lambda u1, u2: ((lambda v1: Add(v1, 1)))(u1)), Map((lambda u1: 0), x))',\n 'Take(Count((lambda u1: ((lambda v1: Greater(v1, 0)))(u1)), r), Sort(c))',\n 'Maximum(ZipWith((lambda u1, u2: ((lambda v1: Access(v1, x)))(u1)), i, x))',\n 'Count((lambda u1: ((lambda v1: Greater(q, v1)))(u1)), x)',\n 'Subtract(Multiply(y, Add(x, -1)), x)',\n 'Count((lambda u1: ((lambda v1: Equal(n, v1)))(u1)), x)']"
     },
     "execution_count": 19,
     "metadata": {},
     "output_type": "execute_result"
    }
   ],
   "source": [
    "[ele[\"solution\"] for ele in solutions] #  if \"fn\" in ele[\"solution\"] or \"0\" in ele[\"solution\"]]"
   ],
   "metadata": {
    "collapsed": false,
    "ExecuteTime": {
     "end_time": "2024-04-22T17:36:03.374592Z",
     "start_time": "2024-04-22T17:36:03.326139Z"
    }
   }
  },
  {
   "cell_type": "code",
   "execution_count": null,
   "outputs": [],
   "source": [
    "categories = {}\n",
    "for result in solutions:\n",
    "    category = result['task'].split(\"name=\")[1].split(\":\")[0]\n",
    "    if category[1:] in categories.keys():\n",
    "        categories[category[1:]] += 1\n",
    "    else:\n",
    "        categories[category[1:]] = 1"
   ],
   "metadata": {
    "collapsed": false,
    "ExecuteTime": {
     "start_time": "2024-04-22T16:55:56.750788Z"
    }
   }
  },
  {
   "cell_type": "code",
   "execution_count": null,
   "outputs": [],
   "source": [
    "categories"
   ],
   "metadata": {
    "collapsed": false,
    "ExecuteTime": {
     "start_time": "2024-04-22T16:55:56.750852Z"
    }
   }
  },
  {
   "cell_type": "code",
   "execution_count": null,
   "outputs": [],
   "source": [
    "t = [ele[0][0] for ele in ckpt['frontiers'].values() if  \" 0\" in ele[0][0] or \" -1\" in ele[0][0] or \" 1\"]"
   ],
   "metadata": {
    "collapsed": false,
    "ExecuteTime": {
     "start_time": "2024-04-22T16:55:56.750927Z"
    }
   }
  },
  {
   "cell_type": "code",
   "execution_count": null,
   "outputs": [],
   "source": [
    "sols = [ele[\"solution\"] for ele in solutions]\n",
    "res = [ele[0][0] for ele in ckpt[\"frontiers\"].values()]\n"
   ],
   "metadata": {
    "collapsed": false,
    "ExecuteTime": {
     "start_time": "2024-04-22T16:55:56.760073Z"
    }
   }
  },
  {
   "cell_type": "code",
   "execution_count": null,
   "outputs": [],
   "source": [
    "solution_programs = [(ele[\"solution\"], ele[\"task_solution\"]) for ele in solutions]"
   ],
   "metadata": {
    "collapsed": false,
    "ExecuteTime": {
     "start_time": "2024-04-22T16:55:56.760151Z"
    }
   }
  },
  {
   "cell_type": "code",
   "execution_count": null,
   "outputs": [],
   "source": [
    "s = [ele[\"task\"].split(\"solution=\")[1][1:-3] for ele in results[\"results\"]]"
   ],
   "metadata": {
    "collapsed": false,
    "ExecuteTime": {
     "start_time": "2024-04-22T16:55:56.760192Z"
    }
   }
  },
  {
   "cell_type": "code",
   "execution_count": null,
   "outputs": [],
   "source": [
    "print(\"Number of programs containing a constant value\")\n",
    "for i in range(-1, 5):\n",
    "    filtered = [ele for ele in s if f\" {i}\" in ele]\n",
    "    print(f\"{i}: {len(filtered)}\")"
   ],
   "metadata": {
    "collapsed": false,
    "ExecuteTime": {
     "start_time": "2024-04-22T16:55:56.760229Z"
    }
   }
  },
  {
   "cell_type": "code",
   "execution_count": null,
   "outputs": [],
   "source": [
    "print(\"Average length of programs containing a constant value\")\n",
    "for i in range(-1, 5):\n",
    "    filtered = [len(ele.split(\" \")) for ele in s if f\" {i}\" in ele]\n",
    "    print(f\"{i}: {np.mean(filtered)}\")"
   ],
   "metadata": {
    "collapsed": false,
    "ExecuteTime": {
     "start_time": "2024-04-22T16:55:56.760261Z"
    }
   }
  },
  {
   "cell_type": "code",
   "execution_count": null,
   "outputs": [],
   "source": [
    "for i in range(-1, 5):\n",
    "    filtered = [ele for ele in s if f\" {i}\" in ele]\n",
    "    print(f\"{i}: {filtered}\")"
   ],
   "metadata": {
    "collapsed": false,
    "ExecuteTime": {
     "start_time": "2024-04-22T16:55:56.760295Z"
    }
   }
  },
  {
   "cell_type": "code",
   "execution_count": null,
   "outputs": [],
   "source": [],
   "metadata": {
    "collapsed": false,
    "ExecuteTime": {
     "start_time": "2024-04-22T16:55:56.760344Z"
    }
   }
  }
 ],
 "metadata": {
  "kernelspec": {
   "display_name": "lambdaboom",
   "language": "python",
   "name": "python3"
  },
  "language_info": {
   "codemirror_mode": {
    "name": "ipython",
    "version": 3
   },
   "file_extension": ".py",
   "mimetype": "text/x-python",
   "name": "python",
   "nbconvert_exporter": "python",
   "pygments_lexer": "ipython3",
   "version": "3.11.5"
  }
 },
 "nbformat": 4,
 "nbformat_minor": 2
}
