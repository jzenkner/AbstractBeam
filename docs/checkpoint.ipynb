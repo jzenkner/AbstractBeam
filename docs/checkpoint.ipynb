{
 "cells": [
  {
   "cell_type": "code",
   "execution_count": 1,
   "metadata": {
    "ExecuteTime": {
     "end_time": "2024-04-18T10:37:55.618052Z",
     "start_time": "2024-04-18T10:37:53.287953Z"
    }
   },
   "outputs": [],
   "source": [
    "import torch\n",
    "import os\n",
    "import json\n",
    "import numpy as np\n",
    "import pickle"
   ]
  },
  {
   "cell_type": "code",
   "execution_count": 13,
   "outputs": [
    {
     "data": {
      "text/plain": "['model-best-valid.ckpt', 'logs', 'model-latest.ckpt']"
     },
     "execution_count": 13,
     "metadata": {},
     "output_type": "execute_result"
    }
   ],
   "source": [
    "parent_path = \"../neurips/\"\n",
    "os.getcwd()\n",
    "os.listdir(parent_path + \"abstractbeam/models\")"
   ],
   "metadata": {
    "collapsed": false,
    "ExecuteTime": {
     "end_time": "2024-04-18T10:48:30.252536Z",
     "start_time": "2024-04-18T10:48:30.232890Z"
    }
   }
  },
  {
   "cell_type": "code",
   "execution_count": 136,
   "outputs": [],
   "source": [
    "for file in os.listdir(parent_path + f\"abstractbeam/data/\"):\n",
    "    with open(parent_path + f\"abstractbeam/data/\" + file, \"rb\") as f:\n",
    "        train_data = pickle.load(f)\n",
    "        filter = [ele.solution.expression() for ele in train_data if \"fn_14\" in ele.solution.expression()]\n",
    "        if len(filter) > 1:\n",
    "            t = 1/0"
   ],
   "metadata": {
    "collapsed": false,
    "ExecuteTime": {
     "end_time": "2024-04-18T14:36:47.548125Z",
     "start_time": "2024-04-18T14:36:29.395430Z"
    }
   }
  },
  {
   "cell_type": "code",
   "execution_count": 61,
   "outputs": [],
   "source": [
    "with open(parent_path + \"abstractbeam/models/model-best-valid.ckpt\", \"rb\") as f:\n",
    "    ckpt = torch.load(f)  # , map_location=torch.device(\"mps\"))"
   ],
   "metadata": {
    "collapsed": false,
    "ExecuteTime": {
     "end_time": "2024-04-18T11:25:14.270199Z",
     "start_time": "2024-04-18T11:25:14.100944Z"
    }
   }
  },
  {
   "cell_type": "code",
   "execution_count": 62,
   "metadata": {
    "ExecuteTime": {
     "end_time": "2024-04-18T11:25:14.881935Z",
     "start_time": "2024-04-18T11:25:14.850645Z"
    }
   },
   "outputs": [
    {
     "name": "stdout",
     "output_type": "stream",
     "text": [
      "step\n",
      "model\n",
      "optimizer\n",
      "inventions\n",
      "higher_order_functions\n",
      "base_function_dict\n",
      "dc_abstractions\n",
      "domain\n",
      "frontiers\n"
     ]
    }
   ],
   "source": [
    "for key in ckpt.keys():\n",
    "    print(key)"
   ]
  },
  {
   "cell_type": "code",
   "execution_count": 73,
   "outputs": [
    {
     "data": {
      "text/plain": "{'Map': [1, 0],\n 'Filter': [1, 0],\n 'Count': [1, 0],\n 'ZipWith': [2, 0, 0],\n 'Scanl1': [2, 0],\n 'fn_14': [2, 0, 0],\n 'fn_23': [1, 0]}"
     },
     "execution_count": 73,
     "metadata": {},
     "output_type": "execute_result"
    }
   ],
   "source": [
    "ckpt[\"higher_order_functions\"]"
   ],
   "metadata": {
    "collapsed": false,
    "ExecuteTime": {
     "end_time": "2024-04-18T11:39:41.763999Z",
     "start_time": "2024-04-18T11:39:41.665333Z"
    }
   }
  },
  {
   "cell_type": "code",
   "execution_count": 139,
   "metadata": {
    "ExecuteTime": {
     "end_time": "2024-04-18T15:37:13.455569Z",
     "start_time": "2024-04-18T15:37:13.086052Z"
    }
   },
   "outputs": [
    {
     "name": "stdout",
     "output_type": "stream",
     "text": [
      "fn_2 Multiply(Subtract(x2, x1), x2) 2\n",
      "fn_4 Filter((lambda v1: IsOdd(v1)), x1) 1\n",
      "fn_5 Take(-1, x1) 1\n",
      "fn_6 Add(1, x1) 1\n",
      "fn_8 Drop(Multiply(x1, -1), x2) 2\n",
      "fn_14 Access(x2(-1, x3), x1) 3\n",
      "fn_22 IsEven(Min(x2, fn_6(x1))) 2\n",
      "fn_23 x1(Filter((lambda v1: IsOdd(v1)), x2)) 2\n",
      "fn_29 Map((lambda v1: fn_2(x1, v1)), x2) 2\n",
      "fn_36 Add(x1, -1) 1\n"
     ]
    }
   ],
   "source": [
    "inventions = ckpt[\"inventions\"]\n",
    "for inv in inventions:\n",
    "    print(inv.name, inv.program, inv.arity)"
   ]
  },
  {
   "cell_type": "code",
   "execution_count": 138,
   "outputs": [
    {
     "data": {
      "text/plain": "crossbeam.abstraction.dreamcoder2lambdabeam.Invented"
     },
     "execution_count": 138,
     "metadata": {},
     "output_type": "execute_result"
    }
   ],
   "source": [
    "inventions[1]"
   ],
   "metadata": {
    "collapsed": false,
    "ExecuteTime": {
     "end_time": "2024-04-18T15:03:38.164508Z",
     "start_time": "2024-04-18T15:03:38.068380Z"
    }
   }
  },
  {
   "cell_type": "code",
   "execution_count": 65,
   "metadata": {
    "ExecuteTime": {
     "end_time": "2024-04-18T11:25:22.841576Z",
     "start_time": "2024-04-18T11:25:22.819700Z"
    }
   },
   "outputs": [
    {
     "name": "stdout",
     "output_type": "stream",
     "text": [
      "initial constants: [-1, 1]\n",
      "now: [-1, 1, 0]\n"
     ]
    }
   ],
   "source": [
    "constants = ckpt[\"domain\"].constants\n",
    "print(f\"initial constants: {[-1, 1]}\")\n",
    "print(f\"now: {constants}\")"
   ]
  },
  {
   "cell_type": "code",
   "execution_count": 66,
   "outputs": [
    {
     "data": {
      "text/plain": "(37.5, 48.75)"
     },
     "execution_count": 66,
     "metadata": {},
     "output_type": "execute_result"
    }
   ],
   "source": [
    "with open(parent_path + \"abstractbeam/results/run_1.json\", \"rb\") as json_file:\n",
    "    results = json.load(json_file)\n",
    "solutions = [ele for ele in results[\"results\"] if ele[\"success\"]]\n",
    "len(solutions) / len(results[\"results\"]) * 100, len(ckpt['frontiers']) / len(results[\"results\"]) * 100"
   ],
   "metadata": {
    "collapsed": false,
    "ExecuteTime": {
     "end_time": "2024-04-18T11:25:24.798991Z",
     "start_time": "2024-04-18T11:25:24.611678Z"
    }
   }
  },
  {
   "cell_type": "code",
   "execution_count": 67,
   "outputs": [
    {
     "data": {
      "text/plain": "[{'elapsed_time': 0.4518822869285941,\n  'num_unique_values': 216,\n  'solution': 'Maximum(Filter((lambda u1: ((lambda v1: IsOdd(v1)))(u1)), x))',\n  'solution_weight': 6,\n  'stats': {'explored_percent_concrete': 49.376114081996434,\n   'explored_percent_lambda': 28.520499108734402,\n   'explored_percent_none': 22.10338680926916,\n   'kept_percent_concrete': 53.55450236966825,\n   'kept_percent_lambda': 46.44549763033175,\n   'num_examples': 5,\n   'num_explored_concrete': 277,\n   'num_explored_lambda': 160,\n   'num_explored_none': 124,\n   'num_inputs': 1,\n   'num_kept_concrete': 113,\n   'num_kept_lambda': 98,\n   'num_values_explored': 561,\n   'num_values_kept': 211,\n   'temperature': 1.0,\n   'total_num_restarts': 1,\n   'total_num_values_explored': 561},\n  'success': True,\n  'task': \"Task(\\n    name='filter:max_odd',\\n    inputs_dict={'x': [[32, 57, 60, 53], [7, 12, 6, 18, 13, 14, 5, 6], [-6, 8, 5, -7, -13, 1, -4, 18, 32], [32, 25, 68, 43, 42, 44, 56, 37, 28, 29], [32, 25, 68, 43, 42, 44, 55, 37, 28, 29]]},\\n    outputs=[57, 13, 5, 43, 55],\\n    solution='Maximum(Filter((lambda u1: IsOdd(u1)), x))'\\n)\",\n  'task_solution': 'Maximum(Filter((lambda u1: IsOdd(u1)), x))',\n  'task_solution_weight': None},\n {'elapsed_time': 0.8968314295634627,\n  'num_unique_values': 400,\n  'solution': 'Map((lambda u1: ((lambda v1: Multiply(v1, ((lambda v1: Square(v1)))(v1))))(u1)), x)',\n  'solution_weight': 8,\n  'stats': {'explored_percent_concrete': 41.55578300921187,\n   'explored_percent_lambda': 43.091095189355165,\n   'explored_percent_none': 15.353121801432959,\n   'kept_percent_concrete': 48.10126582278481,\n   'kept_percent_lambda': 51.89873417721519,\n   'num_examples': 3,\n   'num_explored_concrete': 406,\n   'num_explored_lambda': 421,\n   'num_explored_none': 150,\n   'num_inputs': 1,\n   'num_kept_concrete': 190,\n   'num_kept_lambda': 205,\n   'num_values_explored': 977,\n   'num_values_kept': 395,\n   'temperature': 1.0,\n   'total_num_restarts': 1,\n   'total_num_values_explored': 977},\n  'success': True,\n  'task': \"Task(\\n    name='map:cube',\\n    inputs_dict={'x': [[3], [4, 1, 2], [-1, 5, 0, -4, 2, 3, -2]]},\\n    outputs=[[27], [64, 1, 8], [-1, 125, 0, -64, 8, 27, -8]],\\n    solution='Map((lambda u1: Multiply(u1, Square(u1))), x)'\\n)\",\n  'task_solution': 'Map((lambda u1: Multiply(u1, Square(u1))), x)',\n  'task_solution_weight': None},\n {'elapsed_time': 0.21366130374372005,\n  'num_unique_values': 126,\n  'solution': 'Filter((lambda u1: ((lambda v1: Less(y, v1)))(u1)), x)',\n  'solution_weight': 6,\n  'stats': {'explored_percent_concrete': 52.84552845528455,\n   'explored_percent_lambda': 23.983739837398375,\n   'explored_percent_none': 23.170731707317074,\n   'kept_percent_concrete': 58.333333333333336,\n   'kept_percent_lambda': 41.666666666666664,\n   'num_examples': 3,\n   'num_explored_concrete': 130,\n   'num_explored_lambda': 59,\n   'num_explored_none': 57,\n   'num_inputs': 2,\n   'num_kept_concrete': 70,\n   'num_kept_lambda': 50,\n   'num_values_explored': 246,\n   'num_values_kept': 120,\n   'temperature': 1.0,\n   'total_num_restarts': 1,\n   'total_num_values_explored': 246},\n  'success': True,\n  'task': \"Task(\\n    name='filter:greater',\\n    inputs_dict={'x': [[1, 3, 4, 2], [6, 4, 3, 5, 9, 2], [25, 0, 79, -1, -45, 31, -4, 7, -2, 11]], 'y': [2, 4, -3]},\\n    outputs=[[3, 4], [6, 5, 9], [25, 0, 79, -1, 31, 7, -2, 11]],\\n    solution='Filter((lambda u1: Greater(u1, y)), x)'\\n)\",\n  'task_solution': 'Filter((lambda u1: Greater(u1, y)), x)',\n  'task_solution_weight': None},\n {'elapsed_time': 67.80081186722964,\n  'num_unique_values': 419,\n  'solution': 'Access(Subtract(-1, k), Sort(x))',\n  'solution_weight': 6,\n  'stats': {'explored_percent_concrete': 32.758620689655174,\n   'explored_percent_lambda': 20.613026819923373,\n   'explored_percent_none': 46.628352490421456,\n   'kept_percent_concrete': 68.76513317191284,\n   'kept_percent_lambda': 31.234866828087167,\n   'num_examples': 5,\n   'num_explored_concrete': 855,\n   'num_explored_lambda': 538,\n   'num_explored_none': 1217,\n   'num_inputs': 2,\n   'num_kept_concrete': 284,\n   'num_kept_lambda': 129,\n   'num_values_explored': 2610,\n   'num_values_kept': 413,\n   'temperature': 1.0,\n   'total_num_restarts': 8,\n   'total_num_values_explored': 26498},\n  'success': True,\n  'task': \"Task(\\n    name='none:kth_largest',\\n    inputs_dict={'x': [[5, 9, 4], [7, 8, 6, 2], [18, 38, 24, 74, 37, 87, 64], [-5, 0, -4, 4, 7, -5, 7, -5, 6], [2, -10, 0, -3, -5, 7, 9, -8, 7, 4]], 'k': [0, 2, 4, 3, 7]},\\n    outputs=[9, 6, 37, 4, -5],\\n    solution='Access(k, Reverse(Sort(x)))'\\n)\",\n  'task_solution': 'Access(k, Reverse(Sort(x)))',\n  'task_solution_weight': None},\n {'elapsed_time': 0.47872057277709246,\n  'num_unique_values': 219,\n  'solution': 'Access(1, Sort(x))',\n  'solution_weight': 4,\n  'stats': {'explored_percent_concrete': 42.144177449168204,\n   'explored_percent_lambda': 34.011090573012936,\n   'explored_percent_none': 23.844731977818853,\n   'kept_percent_concrete': 46.26168224299065,\n   'kept_percent_lambda': 53.73831775700935,\n   'num_examples': 5,\n   'num_explored_concrete': 228,\n   'num_explored_lambda': 184,\n   'num_explored_none': 129,\n   'num_inputs': 1,\n   'num_kept_concrete': 99,\n   'num_kept_lambda': 115,\n   'num_values_explored': 541,\n   'num_values_kept': 214,\n   'temperature': 1.0,\n   'total_num_restarts': 1,\n   'total_num_values_explored': 541},\n  'success': True,\n  'task': \"Task(\\n    name='none:triple_median',\\n    inputs_dict={'x': [[9, 7, 4], [23, 54, 38], [-6, 5, -7], [5, 8, 13], [-47, -18, -21]]},\\n    outputs=[7, 38, -6, 8, -21],\\n    solution='Access(1, Sort(x))'\\n)\",\n  'task_solution': 'Access(1, Sort(x))',\n  'task_solution_weight': None},\n {'elapsed_time': 0.2895070808008313,\n  'num_unique_values': 166,\n  'solution': 'Map((lambda u1: ((lambda v1: Access(v1, x)))(u1)), i)',\n  'solution_weight': 6,\n  'stats': {'explored_percent_concrete': 42.672413793103445,\n   'explored_percent_lambda': 48.706896551724135,\n   'explored_percent_none': 8.620689655172415,\n   'kept_percent_concrete': 38.75,\n   'kept_percent_lambda': 61.25,\n   'num_examples': 3,\n   'num_explored_concrete': 99,\n   'num_explored_lambda': 113,\n   'num_explored_none': 20,\n   'num_inputs': 2,\n   'num_kept_concrete': 62,\n   'num_kept_lambda': 98,\n   'num_values_explored': 232,\n   'num_values_kept': 160,\n   'temperature': 1.0,\n   'total_num_restarts': 1,\n   'total_num_values_explored': 232},\n  'success': True,\n  'task': \"Task(\\n    name='map:gather',\\n    inputs_dict={'x': [[4, 2, 6, 8], [11, 3, 20, -5, 7], [3, -6, 4, -5, 3, 9, -2, 0, 1, -4]], 'i': [[0, 2, 1, 3], [1, 4, 2, 1, 3, 1, 4, 1], [2, 0, 2, 8, 4, 2, 3, 5]]},\\n    outputs=[[4, 6, 2, 8], [3, 7, 20, 3, -5, 3, 7, 3], [4, 3, 4, 1, 3, 4, -5, 9]],\\n    solution='Map((lambda u1: Access(u1, x)), i)'\\n)\",\n  'task_solution': 'Map((lambda u1: Access(u1, x)), i)',\n  'task_solution_weight': None},\n {'elapsed_time': 0.4612657781690359,\n  'num_unique_values': 229,\n  'solution': 'Reverse(Sort(Drop(Multiply(n, -1), x)))',\n  'solution_weight': 7,\n  'stats': {'explored_percent_concrete': 57.491289198606275,\n   'explored_percent_lambda': 23.519163763066203,\n   'explored_percent_none': 18.989547038327526,\n   'kept_percent_concrete': 59.64125560538117,\n   'kept_percent_lambda': 40.35874439461883,\n   'num_examples': 3,\n   'num_explored_concrete': 330,\n   'num_explored_lambda': 135,\n   'num_explored_none': 109,\n   'num_inputs': 2,\n   'num_kept_concrete': 133,\n   'num_kept_lambda': 90,\n   'num_values_explored': 574,\n   'num_values_kept': 223,\n   'temperature': 1.0,\n   'total_num_restarts': 1,\n   'total_num_values_explored': 574},\n  'success': True,\n  'task': \"Task(\\n    name='none:decreasing_suffix',\\n    inputs_dict={'x': [[3, 2, 5, 7], [4, 6, 2, 1, 7, 3, 9], [-78, 49, 28, -42, -13, 76, 84, -49, 31, 8]], 'n': [2, 5, 4]},\\n    outputs=[[7, 5], [9, 7, 3, 2, 1], [84, 31, 8, -49]],\\n    solution='Reverse(Sort(Take(n, Reverse(x))))'\\n)\",\n  'task_solution': 'Reverse(Sort(Take(n, Reverse(x))))',\n  'task_solution_weight': None},\n {'elapsed_time': 57.241724498569965,\n  'num_unique_values': 511,\n  'solution': 'Sum(ZipWith((lambda u1, u2: ((lambda v1, v2: Multiply(v1, v2)))(u1, u2)), y, x))',\n  'solution_weight': 9,\n  'stats': {'explored_percent_concrete': 29.048723897911835,\n   'explored_percent_lambda': 21.299303944315547,\n   'explored_percent_none': 49.65197215777262,\n   'kept_percent_concrete': 64.75247524752476,\n   'kept_percent_lambda': 35.24752475247525,\n   'num_examples': 5,\n   'num_explored_concrete': 626,\n   'num_explored_lambda': 459,\n   'num_explored_none': 1070,\n   'num_inputs': 2,\n   'num_kept_concrete': 327,\n   'num_kept_lambda': 178,\n   'num_values_explored': 2155,\n   'num_values_kept': 505,\n   'temperature': 1.0,\n   'total_num_restarts': 7,\n   'total_num_values_explored': 23303},\n  'success': True,\n  'task': \"Task(\\n    name='zipwith:dot',\\n    inputs_dict={'x': [[2, 0], [3, 1, 2], [7, 8, 1, 4], [2, -4, 6, -5, -1, 3, 2], [-4, 0, 4, 6, 2, -3, 1, 5, 6, 5]], 'y': [[10, 5], [8, 2, -5], [1, 0, 4, 2], [3, 8, 4, 4, 2, 0, 5], [2, 1, 0, 2, 0, 6, 2, 1, 3, 2]]},\\n    outputs=[20, 16, 19, -14, 21],\\n    solution='Sum(ZipWith((lambda u1, u2: Multiply(u1, u2)), x, y))'\\n)\",\n  'task_solution': 'Sum(ZipWith((lambda u1, u2: Multiply(u1, u2)), x, y))',\n  'task_solution_weight': None},\n {'elapsed_time': 0.23363650776445866,\n  'num_unique_values': 111,\n  'solution': 'Count((lambda u1: IsOdd(-1)), x)',\n  'solution_weight': 4,\n  'stats': {'explored_percent_concrete': 42.47104247104247,\n   'explored_percent_lambda': 33.59073359073359,\n   'explored_percent_none': 23.93822393822394,\n   'kept_percent_concrete': 39.62264150943396,\n   'kept_percent_lambda': 60.37735849056604,\n   'num_examples': 5,\n   'num_explored_concrete': 110,\n   'num_explored_lambda': 87,\n   'num_explored_none': 62,\n   'num_inputs': 1,\n   'num_kept_concrete': 42,\n   'num_kept_lambda': 64,\n   'num_values_explored': 259,\n   'num_values_kept': 106,\n   'temperature': 1.0,\n   'total_num_restarts': 1,\n   'total_num_values_explored': 259},\n  'success': True,\n  'task': \"Task(\\n    name='map:length',\\n    inputs_dict={'x': [[65, 24], [9, 45, 2, 16, 4, 2, 63], [8, -4, 28, 27, -32, 23, 15, 2, 0], [0], [-1, 3, 1, 2, 4, -2, 6, -4, -8, 3]]},\\n    outputs=[2, 7, 9, 1, 10],\\n    solution='Sum(Map((lambda u1: 1), x))'\\n)\",\n  'task_solution': 'Sum(Map((lambda u1: 1), x))',\n  'task_solution_weight': None},\n {'elapsed_time': 55.749278558418155,\n  'num_unique_values': 221,\n  'solution': 'ZipWith((lambda u1, u2: ((lambda v1: Max(v1, ((lambda v1: IntDivide(v1, -1)))(v1))))(u1)), x, x)',\n  'solution_weight': 10,\n  'stats': {'explored_percent_concrete': 10.553191489361701,\n   'explored_percent_lambda': 53.95744680851064,\n   'explored_percent_none': 35.48936170212766,\n   'kept_percent_concrete': 31.944444444444443,\n   'kept_percent_lambda': 68.05555555555556,\n   'num_examples': 3,\n   'num_explored_concrete': 124,\n   'num_explored_lambda': 634,\n   'num_explored_none': 417,\n   'num_inputs': 1,\n   'num_kept_concrete': 69,\n   'num_kept_lambda': 147,\n   'num_values_explored': 1175,\n   'num_values_kept': 216,\n   'temperature': 1.0,\n   'total_num_restarts': 7,\n   'total_num_values_explored': 18796},\n  'success': True,\n  'task': \"Task(\\n    name='map:absolute_value',\\n    inputs_dict={'x': [[8, -4, 2, -3, -7, 6], [-23, 31, -12, -46, 78, 0, -32, -61, 48], [98, -58, 43, -42, -68, 47, -15, -21, 74, -29]]},\\n    outputs=[[8, 4, 2, 3, 7, 6], [23, 31, 12, 46, 78, 0, 32, 61, 48], [98, 58, 43, 42, 68, 47, 15, 21, 74, 29]],\\n    solution='Map((lambda u1: Max(u1, Subtract(0, u1))), x)'\\n)\",\n  'task_solution': 'Map((lambda u1: Max(u1, Subtract(0, u1))), x)',\n  'task_solution_weight': None},\n {'elapsed_time': 0.28236531279981136,\n  'num_unique_values': 126,\n  'solution': 'Map((lambda u1: Head(x)), x)',\n  'solution_weight': 4,\n  'stats': {'explored_percent_concrete': 28.69198312236287,\n   'explored_percent_lambda': 56.540084388185655,\n   'explored_percent_none': 14.767932489451477,\n   'kept_percent_concrete': 19.00826446280992,\n   'kept_percent_lambda': 80.99173553719008,\n   'num_examples': 3,\n   'num_explored_concrete': 68,\n   'num_explored_lambda': 134,\n   'num_explored_none': 35,\n   'num_inputs': 1,\n   'num_kept_concrete': 23,\n   'num_kept_lambda': 98,\n   'num_values_explored': 237,\n   'num_values_kept': 121,\n   'temperature': 1.0,\n   'total_num_restarts': 1,\n   'total_num_values_explored': 237},\n  'success': True,\n  'task': \"Task(\\n    name='map:fill_first',\\n    inputs_dict={'x': [[3, 6, 1, 4, 7], [-26, 27, 51, -14, 31, -17, -32], [73, 67, 48, 27, 97, 85, 37, 68, 21, 84]]},\\n    outputs=[[3, 3, 3, 3, 3], [-26, -26, -26, -26, -26, -26, -26], [73, 73, 73, 73, 73, 73, 73, 73, 73, 73]],\\n    solution='Map((lambda u1: Head(x)), x)'\\n)\",\n  'task_solution': 'Map((lambda u1: Head(x)), x)',\n  'task_solution_weight': None},\n {'elapsed_time': 0.3913746429607272,\n  'num_unique_values': 216,\n  'solution': 'Take(Subtract(j, i), Drop(i, x))',\n  'solution_weight': 7,\n  'stats': {'explored_percent_concrete': 59.77229601518027,\n   'explored_percent_lambda': 22.011385199240987,\n   'explored_percent_none': 18.216318785578746,\n   'kept_percent_concrete': 67.94258373205741,\n   'kept_percent_lambda': 32.057416267942585,\n   'num_examples': 3,\n   'num_explored_concrete': 315,\n   'num_explored_lambda': 116,\n   'num_explored_none': 96,\n   'num_inputs': 3,\n   'num_kept_concrete': 142,\n   'num_kept_lambda': 67,\n   'num_values_explored': 527,\n   'num_values_kept': 209,\n   'temperature': 1.0,\n   'total_num_restarts': 1,\n   'total_num_values_explored': 527},\n  'success': True,\n  'task': \"Task(\\n    name='none:slice',\\n    inputs_dict={'x': [[6, 7, 2, 8, 1, 3], [24, 63, 74, 12, 33, 42, 19], [-6, 49, -24, 8, 47, 23, 11, -12, -55, 38]], 'i': [3, 2, 5], 'j': [5, 6, 8]},\\n    outputs=[[8, 1], [74, 12, 33, 42], [23, 11, -12]],\\n    solution='Drop(i, Take(j, x))'\\n)\",\n  'task_solution': 'Drop(i, Take(j, x))',\n  'task_solution_weight': None},\n {'elapsed_time': 0.7585543002933264,\n  'num_unique_values': 304,\n  'solution': 'ZipWith((lambda u1, u2: ((lambda v1: Subtract(v1, Minimum(x))))(u1)), x, x)',\n  'solution_weight': 8,\n  'stats': {'explored_percent_concrete': 35.63579277864992,\n   'explored_percent_lambda': 45.05494505494506,\n   'explored_percent_none': 19.309262166405023,\n   'kept_percent_concrete': 37.792642140468224,\n   'kept_percent_lambda': 62.207357859531776,\n   'num_examples': 3,\n   'num_explored_concrete': 227,\n   'num_explored_lambda': 287,\n   'num_explored_none': 123,\n   'num_inputs': 1,\n   'num_kept_concrete': 113,\n   'num_kept_lambda': 186,\n   'num_values_explored': 637,\n   'num_values_kept': 299,\n   'temperature': 1.0,\n   'total_num_restarts': 1,\n   'total_num_values_explored': 637},\n  'success': True,\n  'task': \"Task(\\n    name='map:zero_min',\\n    inputs_dict={'x': [[3, 7, 4, 9], [16, 10, 25, 16, 83], [-4, 3, 1, 0, -5, 5]]},\\n    outputs=[[0, 4, 1, 6], [6, 0, 15, 6, 73], [1, 8, 6, 5, 0, 10]],\\n    solution='Map((lambda u1: Subtract(u1, Minimum(x))), x)'\\n)\",\n  'task_solution': 'Map((lambda u1: Subtract(u1, Minimum(x))), x)',\n  'task_solution_weight': None},\n {'elapsed_time': 0.6187005853280425,\n  'num_unique_values': 301,\n  'solution': 'Sort(fn_29(fn_6(-1), x))',\n  'solution_weight': 5,\n  'stats': {'explored_percent_concrete': 35.628227194492254,\n   'explored_percent_lambda': 42.857142857142854,\n   'explored_percent_none': 21.514629948364888,\n   'kept_percent_concrete': 40.2027027027027,\n   'kept_percent_lambda': 59.7972972972973,\n   'num_examples': 3,\n   'num_explored_concrete': 207,\n   'num_explored_lambda': 249,\n   'num_explored_none': 125,\n   'num_inputs': 1,\n   'num_kept_concrete': 119,\n   'num_kept_lambda': 177,\n   'num_values_explored': 581,\n   'num_values_kept': 296,\n   'temperature': 1.0,\n   'total_num_restarts': 1,\n   'total_num_values_explored': 581},\n  'success': True,\n  'task': \"Task(\\n    name='map:sort_square',\\n    inputs_dict={'x': [[3, 4, 5], [2, 6, -3], [3, 1, -1, 6, 0, 3, 2, 7, -5]]},\\n    outputs=[[9, 16, 25], [4, 9, 36], [0, 1, 1, 4, 9, 9, 25, 36, 49]],\\n    solution='Sort(Map((lambda u1: Square(u1)), x))'\\n)\",\n  'task_solution': 'Sort(Map((lambda u1: Square(u1)), x))',\n  'task_solution_weight': None},\n {'elapsed_time': 0.22910818178206682,\n  'num_unique_values': 87,\n  'solution': 'Multiply(k, fn_6(IntDivide(x, k)))',\n  'solution_weight': 6,\n  'stats': {'explored_percent_concrete': 42.19948849104859,\n   'explored_percent_lambda': 12.020460358056265,\n   'explored_percent_none': 45.78005115089514,\n   'kept_percent_concrete': 69.1358024691358,\n   'kept_percent_lambda': 30.864197530864196,\n   'num_examples': 5,\n   'num_explored_concrete': 165,\n   'num_explored_lambda': 47,\n   'num_explored_none': 179,\n   'num_inputs': 2,\n   'num_kept_concrete': 56,\n   'num_kept_lambda': 25,\n   'num_values_explored': 391,\n   'num_values_kept': 81,\n   'temperature': 1.0,\n   'total_num_restarts': 1,\n   'total_num_values_explored': 391},\n  'success': True,\n  'task': \"Task(\\n    name='none:next_multiple',\\n    inputs_dict={'x': [3, 8, 13, 27, 58], 'k': [5, 7, 4, 9, 14]},\\n    outputs=[5, 14, 16, 36, 70],\\n    solution='Multiply(Add(IntDivide(x, k), 1), k)'\\n)\",\n  'task_solution': 'Multiply(Add(IntDivide(x, k), 1), k)',\n  'task_solution_weight': None},\n {'elapsed_time': 0.39676081482321024,\n  'num_unique_values': 188,\n  'solution': 'fn_29(1, x)',\n  'solution_weight': 3,\n  'stats': {'explored_percent_concrete': 31.215469613259668,\n   'explored_percent_lambda': 44.751381215469614,\n   'explored_percent_none': 24.03314917127072,\n   'kept_percent_concrete': 33.87978142076503,\n   'kept_percent_lambda': 66.12021857923497,\n   'num_examples': 3,\n   'num_explored_concrete': 113,\n   'num_explored_lambda': 162,\n   'num_explored_none': 87,\n   'num_inputs': 1,\n   'num_kept_concrete': 62,\n   'num_kept_lambda': 121,\n   'num_values_explored': 362,\n   'num_values_kept': 183,\n   'temperature': 1.0,\n   'total_num_restarts': 1,\n   'total_num_values_explored': 362},\n  'success': True,\n  'task': \"Task(\\n    name='map:multiply_previous',\\n    inputs_dict={'x': [[6, 3, 4], [-4, 6, 2, -6, 7], [3, -3, -5, 2, 0, 1, -4, 8, -6]]},\\n    outputs=[[30, 6, 12], [20, 30, 2, 42, 42], [6, 12, 30, 2, 0, 0, 20, 56, 42]],\\n    solution='Map((lambda u1: Subtract(Square(u1), u1)), x)'\\n)\",\n  'task_solution': 'Map((lambda u1: Subtract(Square(u1), u1)), x)',\n  'task_solution_weight': None},\n {'elapsed_time': 0.6137427529320121,\n  'num_unique_values': 263,\n  'solution': 'Take(k, Reverse(Sort(x)))',\n  'solution_weight': 5,\n  'stats': {'explored_percent_concrete': 57.254464285714285,\n   'explored_percent_lambda': 20.535714285714285,\n   'explored_percent_none': 22.209821428571427,\n   'kept_percent_concrete': 65.36964980544747,\n   'kept_percent_lambda': 34.63035019455253,\n   'num_examples': 3,\n   'num_explored_concrete': 513,\n   'num_explored_lambda': 184,\n   'num_explored_none': 199,\n   'num_inputs': 2,\n   'num_kept_concrete': 168,\n   'num_kept_lambda': 89,\n   'num_values_explored': 896,\n   'num_values_kept': 257,\n   'temperature': 1.0,\n   'total_num_restarts': 1,\n   'total_num_values_explored': 896},\n  'success': True,\n  'task': \"Task(\\n    name='none:top_k',\\n    inputs_dict={'x': [[4, 1, 2, 6, 3], [8, 9, 3, 5, 2, 7, 8], [12, 63, 21, 59, 32, 55, 68, -99, 48]], 'k': [2, 4, 3]},\\n    outputs=[[6, 4], [9, 8, 8, 7], [68, 63, 59]],\\n    solution='Take(k, Reverse(Sort(x)))'\\n)\",\n  'task_solution': 'Take(k, Reverse(Sort(x)))',\n  'task_solution_weight': None},\n {'elapsed_time': 0.3191446289420128,\n  'num_unique_values': 110,\n  'solution': 'Drop(1, Take(-1, x))',\n  'solution_weight': 5,\n  'stats': {'explored_percent_concrete': 20.858895705521473,\n   'explored_percent_lambda': 69.32515337423312,\n   'explored_percent_none': 9.815950920245399,\n   'kept_percent_concrete': 10.476190476190476,\n   'kept_percent_lambda': 89.52380952380952,\n   'num_examples': 3,\n   'num_explored_concrete': 34,\n   'num_explored_lambda': 113,\n   'num_explored_none': 16,\n   'num_inputs': 1,\n   'num_kept_concrete': 11,\n   'num_kept_lambda': 94,\n   'num_values_explored': 163,\n   'num_values_kept': 105,\n   'temperature': 1.0,\n   'total_num_restarts': 1,\n   'total_num_values_explored': 163},\n  'success': True,\n  'task': \"Task(\\n    name='none:remove_ends',\\n    inputs_dict={'x': [[4, 2, 5, 6], [6, -4, 4, -7, 1, 0, -2], [42, 68, 38, 22, 87, 17, 83, 29]]},\\n    outputs=[[2, 5], [-4, 4, -7, 1, 0], [68, 38, 22, 87, 17, 83]],\\n    solution='Take(-1, Drop(1, x))'\\n)\",\n  'task_solution': 'Take(-1, Drop(1, x))',\n  'task_solution_weight': None},\n {'elapsed_time': 94.71919893380255,\n  'num_unique_values': 263,\n  'solution': 'Scanl1((lambda u1, u2: ((lambda v1: Access(v1, x)))(u1)), x)',\n  'solution_weight': 6,\n  'stats': {'explored_percent_concrete': 20.11904761904762,\n   'explored_percent_lambda': 55.11904761904762,\n   'explored_percent_none': 24.761904761904763,\n   'kept_percent_concrete': 37.2093023255814,\n   'kept_percent_lambda': 62.7906976744186,\n   'num_examples': 3,\n   'num_explored_concrete': 169,\n   'num_explored_lambda': 463,\n   'num_explored_none': 208,\n   'num_inputs': 1,\n   'num_kept_concrete': 96,\n   'num_kept_lambda': 162,\n   'num_values_explored': 840,\n   'num_values_kept': 258,\n   'temperature': 1.0,\n   'total_num_restarts': 11,\n   'total_num_values_explored': 30263},\n  'success': True,\n  'task': \"Task(\\n    name='scanl1:follow_cycle',\\n    inputs_dict={'x': [[4, 0, 2, 3, 1], [3, 5, 0, 1, 6, 4, 2], [8, 4, 7, 5, 6, 0, 9, 1, 3, 2]]},\\n    outputs=[[4, 1, 0, 4, 1], [3, 1, 5, 4, 6, 2, 0], [8, 3, 5, 0, 8, 3, 5, 0, 8, 3]],\\n    solution='Scanl1((lambda u1, u2: Access(u1, x)), x)'\\n)\",\n  'task_solution': 'Scanl1((lambda u1, u2: Access(u1, x)), x)',\n  'task_solution_weight': None},\n {'elapsed_time': 34.290362236090004,\n  'num_unique_values': 219,\n  'solution': 'Count((lambda u1: ((lambda v1: Greater(Add(1, -1), v1)))(u1)), x)',\n  'solution_weight': 8,\n  'stats': {'explored_percent_concrete': 23.575638506876228,\n   'explored_percent_lambda': 39.783889980353635,\n   'explored_percent_none': 36.64047151277014,\n   'kept_percent_concrete': 40.654205607476634,\n   'kept_percent_lambda': 59.345794392523366,\n   'num_examples': 5,\n   'num_explored_concrete': 240,\n   'num_explored_lambda': 405,\n   'num_explored_none': 373,\n   'num_inputs': 1,\n   'num_kept_concrete': 87,\n   'num_kept_lambda': 127,\n   'num_values_explored': 1018,\n   'num_values_kept': 214,\n   'temperature': 1.0,\n   'total_num_restarts': 5,\n   'total_num_values_explored': 13845},\n  'success': True,\n  'task': \"Task(\\n    name='count:count_negative',\\n    inputs_dict={'x': [[6, 7, 0, -4, 1, -5, 2], [11, -4, -1, 19, -5, 18, -8, -13], [25, 16, -15, 18, -3, -12, 1, 29, -21], [-18, 18, 46, -7, -15, -44, -33, 8, -1, 11], [32, 42, -46, -97, 53, 34, 8, -9, 36, 20]]},\\n    outputs=[2, 5, 4, 6, 3],\\n    solution='Count((lambda u1: Less(u1, 0)), x)'\\n)\",\n  'task_solution': 'Count((lambda u1: Less(u1, 0)), x)',\n  'task_solution_weight': None},\n {'elapsed_time': 83.96955216489732,\n  'num_unique_values': 220,\n  'solution': 'Filter((lambda u1: ((lambda v1: IsEven(((lambda v1: Min(-1, ((lambda v1: Subtract(v1, 1)))(v1))))(v1))))(u1)), x)',\n  'solution_weight': 11,\n  'stats': {'explored_percent_concrete': 17.22488038277512,\n   'explored_percent_lambda': 54.30622009569378,\n   'explored_percent_none': 28.4688995215311,\n   'kept_percent_concrete': 35.348837209302324,\n   'kept_percent_lambda': 64.65116279069767,\n   'num_examples': 3,\n   'num_explored_concrete': 144,\n   'num_explored_lambda': 454,\n   'num_explored_none': 238,\n   'num_inputs': 1,\n   'num_kept_concrete': 76,\n   'num_kept_lambda': 139,\n   'num_values_explored': 836,\n   'num_values_kept': 215,\n   'temperature': 1.0,\n   'total_num_restarts': 10,\n   'total_num_values_explored': 28008},\n  'success': True,\n  'task': \"Task(\\n    name='filter:odd_negative',\\n    inputs_dict={'x': [[-11, 7, -3, -8, 2], [2, -5, 3, -4, -7, -1, -2], [-17, 23, -40, -25, -31, 42, 0, -23, -7, -16]]},\\n    outputs=[[-11, -3], [-5, -7, -1], [-17, -25, -31, -23, -7]],\\n    solution='Filter((lambda u1: IsOdd(Min(u1, 0))), x)'\\n)\",\n  'task_solution': 'Filter((lambda u1: IsOdd(Min(u1, 0))), x)',\n  'task_solution_weight': None},\n {'elapsed_time': 0.5744535317644477,\n  'num_unique_values': 257,\n  'solution': 'Sort(Filter((lambda u1: ((lambda v1: IsEven(v1)))(u1)), x))',\n  'solution_weight': 6,\n  'stats': {'explored_percent_concrete': 41.30808950086058,\n   'explored_percent_lambda': 37.8657487091222,\n   'explored_percent_none': 20.826161790017213,\n   'kept_percent_concrete': 37.698412698412696,\n   'kept_percent_lambda': 62.301587301587304,\n   'num_examples': 3,\n   'num_explored_concrete': 240,\n   'num_explored_lambda': 220,\n   'num_explored_none': 121,\n   'num_inputs': 1,\n   'num_kept_concrete': 95,\n   'num_kept_lambda': 157,\n   'num_values_explored': 581,\n   'num_values_kept': 252,\n   'temperature': 1.0,\n   'total_num_restarts': 1,\n   'total_num_values_explored': 581},\n  'success': True,\n  'task': \"Task(\\n    name='filter:sort_even',\\n    inputs_dict={'x': [[7, 6, 2, 5, 8, 0, 5], [52, 35, 68, 37, 41, 22, 64, 57, 26], [16, -24, 28, -29, -12, -17, 23, 58, 21, -14]]},\\n    outputs=[[0, 2, 6, 8], [22, 26, 52, 64, 68], [-24, -14, -12, 16, 28, 58]],\\n    solution='Filter((lambda u1: IsEven(u1)), Sort(x))'\\n)\",\n  'task_solution': 'Filter((lambda u1: IsEven(u1)), Sort(x))',\n  'task_solution_weight': None},\n {'elapsed_time': 19.22923049982637,\n  'num_unique_values': 484,\n  'solution': 'Count((lambda u1: ((lambda v1: IsEven(((lambda v1: Min(v1, fn_6(1))))(v1))))(u1)), x)',\n  'solution_weight': 9,\n  'stats': {'explored_percent_concrete': 34.359692092372285,\n   'explored_percent_lambda': 21.58852344296711,\n   'explored_percent_none': 44.0517844646606,\n   'kept_percent_concrete': 63.46555323590814,\n   'kept_percent_lambda': 36.53444676409186,\n   'num_examples': 5,\n   'num_explored_concrete': 982,\n   'num_explored_lambda': 617,\n   'num_explored_none': 1259,\n   'num_inputs': 1,\n   'num_kept_concrete': 304,\n   'num_kept_lambda': 175,\n   'num_values_explored': 2858,\n   'num_values_kept': 479,\n   'temperature': 1.0,\n   'total_num_restarts': 3,\n   'total_num_values_explored': 8169},\n  'success': True,\n  'task': \"Task(\\n    name='count:even_or_positive',\\n    inputs_dict={'x': [[6, -5, -1, -6, 0, -3, -4], [6, -5, -2, -6, 0, -3, -4], [6, -5, -2, -6, 0, 3, -4], [-9, -3, -7, -8, -11, -53, -32, -5, 23, -11], [-4, -7, -6, 3, 0, -9, -12, 4, 5, -3]]},\\n    outputs=[4, 5, 6, 3, 7],\\n    solution='Count((lambda u1: IsEven(Min(u1, 0))), x)'\\n)\",\n  'task_solution': 'Count((lambda u1: IsEven(Min(u1, 0))), x)',\n  'task_solution_weight': None},\n {'elapsed_time': 0.6943557467311621,\n  'num_unique_values': 340,\n  'solution': 'Scanl1((lambda u1, u2: ((lambda v1: fn_6(v1)))(u1)), Map((lambda u1: fn_6(-1)), x))',\n  'solution_weight': 8,\n  'stats': {'explored_percent_concrete': 39.59938366718028,\n   'explored_percent_lambda': 41.1402157164869,\n   'explored_percent_none': 19.26040061633282,\n   'kept_percent_concrete': 44.776119402985074,\n   'kept_percent_lambda': 55.223880597014926,\n   'num_examples': 3,\n   'num_explored_concrete': 257,\n   'num_explored_lambda': 267,\n   'num_explored_none': 125,\n   'num_inputs': 1,\n   'num_kept_concrete': 150,\n   'num_kept_lambda': 185,\n   'num_values_explored': 649,\n   'num_values_kept': 335,\n   'temperature': 1.0,\n   'total_num_restarts': 1,\n   'total_num_values_explored': 649},\n  'success': True,\n  'task': \"Task(\\n    name='multi:range_like',\\n    inputs_dict={'x': [[3, 6, 2], [-6, -3, 6, 1, 0, 2, -1], [0, 0, 0, 0, 0, 0, 0, 0, 0]]},\\n    outputs=[[0, 1, 2], [0, 1, 2, 3, 4, 5, 6], [0, 1, 2, 3, 4, 5, 6, 7, 8]],\\n    solution='Scanl1((lambda u1, u2: Add(u1, 1)), Map((lambda u1: 0), x))'\\n)\",\n  'task_solution': 'Scanl1((lambda u1, u2: Add(u1, 1)), Map((lambda u1: 0), x))',\n  'task_solution_weight': None},\n {'elapsed_time': 96.99259297922254,\n  'num_unique_values': 448,\n  'solution': 'Take(Count((lambda u1: ((lambda v1: Equal(((lambda v1: Max(1, v1)))(v1), v1)))(u1)), r), Sort(c))',\n  'solution_weight': 12,\n  'stats': {'explored_percent_concrete': 27.54041570438799,\n   'explored_percent_lambda': 34.353348729792145,\n   'explored_percent_none': 38.10623556581986,\n   'kept_percent_concrete': 48.86877828054298,\n   'kept_percent_lambda': 51.13122171945702,\n   'num_examples': 3,\n   'num_explored_concrete': 477,\n   'num_explored_lambda': 595,\n   'num_explored_none': 660,\n   'num_inputs': 2,\n   'num_kept_concrete': 216,\n   'num_kept_lambda': 226,\n   'num_values_explored': 1732,\n   'num_values_kept': 442,\n   'temperature': 1.0,\n   'total_num_restarts': 11,\n   'total_num_values_explored': 31120},\n  'success': True,\n  'task': \"Task(\\n    name='count:min_costs',\\n    inputs_dict={'r': [[4, 0, 7, 3, 0], [-5, 2, -1, 0, 5, 1, 3, -6], [1, 0, 3, 2, 0, 4, 0, 2, 3, 4]], 'c': [[6, 8, 2, 5, 9], [11, 25, 14, 7, 16, 5, 10, 18, 10], [61, 32, 44, 67, 17, 73, 25, 68, 95, 43]]},\\n    outputs=[[2, 5, 6], [5, 7, 10, 10], [17, 25, 32, 43, 44, 61, 67]],\\n    solution='Take(Count((lambda u1: Greater(u1, 0)), r), Sort(c))'\\n)\",\n  'task_solution': 'Take(Count((lambda u1: Greater(u1, 0)), r), Sort(c))',\n  'task_solution_weight': None},\n {'elapsed_time': 28.924205699935555,\n  'num_unique_values': 500,\n  'solution': 'Map((lambda u1: ((lambda v1: If(((lambda v1: Greater(v1, y)))(v1), 1, fn_6(-1))))(u1)), x)',\n  'solution_weight': 11,\n  'stats': {'explored_percent_concrete': 26.881303335919316,\n   'explored_percent_lambda': 31.497284716834756,\n   'explored_percent_none': 41.621411947245925,\n   'kept_percent_concrete': 49.797570850202426,\n   'kept_percent_lambda': 50.202429149797574,\n   'num_examples': 3,\n   'num_explored_concrete': 693,\n   'num_explored_lambda': 812,\n   'num_explored_none': 1073,\n   'num_inputs': 2,\n   'num_kept_concrete': 246,\n   'num_kept_lambda': 248,\n   'num_values_explored': 2578,\n   'num_values_kept': 494,\n   'temperature': 1.0,\n   'total_num_restarts': 4,\n   'total_num_values_explored': 10913},\n  'success': True,\n  'task': \"Task(\\n    name='map:is_greater',\\n    inputs_dict={'x': [[19, 13, 17, 18, 20], [5, 7, 4, 5, 6, 2, 3], [-9, -6, 2, -7, 18, -11, -8, 1, -15, -4]], 'y': [17, 4, -7]},\\n    outputs=[[1, 0, 0, 1, 1], [1, 1, 0, 1, 1, 0, 0], [0, 1, 1, 0, 1, 0, 0, 1, 0, 1]],\\n    solution='Map((lambda u1: If(Greater(u1, y), 1, 0)), x)'\\n)\",\n  'task_solution': 'Map((lambda u1: If(Greater(u1, y), 1, 0)), x)',\n  'task_solution_weight': None},\n {'elapsed_time': 0.6570720067247748,\n  'num_unique_values': 299,\n  'solution': 'Maximum(ZipWith((lambda u1, u2: ((lambda v1: Access(v1, x)))(u1)), i, x))',\n  'solution_weight': 8,\n  'stats': {'explored_percent_concrete': 54.994629430719655,\n   'explored_percent_lambda': 19.656283566058,\n   'explored_percent_none': 25.34908700322234,\n   'kept_percent_concrete': 67.23549488054607,\n   'kept_percent_lambda': 32.76450511945392,\n   'num_examples': 5,\n   'num_explored_concrete': 512,\n   'num_explored_lambda': 183,\n   'num_explored_none': 236,\n   'num_inputs': 2,\n   'num_kept_concrete': 197,\n   'num_kept_lambda': 96,\n   'num_values_explored': 931,\n   'num_values_kept': 293,\n   'temperature': 1.0,\n   'total_num_restarts': 1,\n   'total_num_values_explored': 931},\n  'success': True,\n  'task': \"Task(\\n    name='map:max_selected',\\n    inputs_dict={'x': [[3, 8, 4, 2, 6, 5], [-8, -4, 7, 6, 3, -5, 0, -2, 2, 1], [64, 83, 27, 18, 59, 17, 45, 23, 63], [64, 83, 27, 18, 59, 17, 45, 23, 63], [15, -32, 38, 67, -21, 41, 25, -43, -28, 33]], 'i': [[3, 2, 0, 4], [5, 4, 1], [2, 3, 4, 6, 7], [2, 3, 5, 6, 7], [7, 2, 1, 0, 8, 5, 2, 0, 1, 2]]},\\n    outputs=[6, 3, 59, 45, 41],\\n    solution='Maximum(Map((lambda u1: Access(u1, x)), i))'\\n)\",\n  'task_solution': 'Maximum(Map((lambda u1: Access(u1, x)), i))',\n  'task_solution_weight': None},\n {'elapsed_time': 14.29581437446177,\n  'num_unique_values': 221,\n  'solution': 'Count((lambda u1: ((lambda v1: Greater(q, v1)))(u1)), x)',\n  'solution_weight': 6,\n  'stats': {'explored_percent_concrete': 28.42497670083877,\n   'explored_percent_lambda': 26.74743709226468,\n   'explored_percent_none': 44.827586206896555,\n   'kept_percent_concrete': 61.86046511627907,\n   'kept_percent_lambda': 38.13953488372093,\n   'num_examples': 5,\n   'num_explored_concrete': 305,\n   'num_explored_lambda': 287,\n   'num_explored_none': 481,\n   'num_inputs': 2,\n   'num_kept_concrete': 133,\n   'num_kept_lambda': 82,\n   'num_values_explored': 1073,\n   'num_values_kept': 215,\n   'temperature': 1.0,\n   'total_num_restarts': 3,\n   'total_num_values_explored': 6931},\n  'success': True,\n  'task': \"Task(\\n    name='count:rank',\\n    inputs_dict={'x': [[28, 43, 69, 38, 42], [35, -54, 48, 17, 49, -24, 32], [-7, -4, 8, -5, -4, -3, -8, 4], [2, 6, 0, 3, 1, 4, 2, 3, 5, 0], [2, 6, 0, 5, 1, 4, 2, 3, 5, 0]], 'q': [44, 18, -3, 4, 4]},\\n    outputs=[4, 3, 5, 7, 6],\\n    solution='Count((lambda u1: Less(u1, q)), x)'\\n)\",\n  'task_solution': 'Count((lambda u1: Less(u1, q)), x)',\n  'task_solution_weight': None},\n {'elapsed_time': 0.415045958943665,\n  'num_unique_values': 193,\n  'solution': 'fn_29(Add(-1, -1), x)',\n  'solution_weight': 5,\n  'stats': {'explored_percent_concrete': 31.68044077134986,\n   'explored_percent_lambda': 41.59779614325069,\n   'explored_percent_none': 26.72176308539945,\n   'kept_percent_concrete': 35.638297872340424,\n   'kept_percent_lambda': 64.36170212765957,\n   'num_examples': 3,\n   'num_explored_concrete': 115,\n   'num_explored_lambda': 151,\n   'num_explored_none': 97,\n   'num_inputs': 1,\n   'num_kept_concrete': 67,\n   'num_kept_lambda': 121,\n   'num_values_explored': 363,\n   'num_values_kept': 188,\n   'temperature': 1.0,\n   'total_num_restarts': 1,\n   'total_num_values_explored': 363},\n  'success': True,\n  'task': \"Task(\\n    name='map:quadratic_transform',\\n    inputs_dict={'x': [[3, 5, 1, 6], [7, -1, 4, 0, -2, 3], [5, -3, 9, -10, 11, 2, 7, 10, -8]]},\\n    outputs=[[15, 35, 3, 48], [63, -1, 24, 0, 0, 15], [35, 3, 99, 80, 143, 8, 63, 120, 48]],\\n    solution='Map((lambda u1: Multiply(u1, Add(u1, 2))), x)'\\n)\",\n  'task_solution': 'Map((lambda u1: Multiply(u1, Add(u1, 2))), x)',\n  'task_solution_weight': None},\n {'elapsed_time': 0.24009653087705374,\n  'num_unique_values': 96,\n  'solution': 'Subtract(Multiply(y, Add(x, -1)), x)',\n  'solution_weight': 7,\n  'stats': {'explored_percent_concrete': 40.469973890339425,\n   'explored_percent_lambda': 12.532637075718016,\n   'explored_percent_none': 46.99738903394256,\n   'kept_percent_concrete': 68.88888888888889,\n   'kept_percent_lambda': 31.11111111111111,\n   'num_examples': 5,\n   'num_explored_concrete': 155,\n   'num_explored_lambda': 48,\n   'num_explored_none': 180,\n   'num_inputs': 2,\n   'num_kept_concrete': 62,\n   'num_kept_lambda': 28,\n   'num_values_explored': 383,\n   'num_values_kept': 90,\n   'temperature': 1.0,\n   'total_num_restarts': 1,\n   'total_num_values_explored': 383},\n  'success': True,\n  'task': \"Task(\\n    name='none:coins',\\n    inputs_dict={'x': [3, 8, 5, 11, 14], 'y': [5, 13, 14, 7, 9]},\\n    outputs=[7, 83, 51, 59, 103],\\n    solution='Subtract(Subtract(Multiply(x, y), x), y)'\\n)\",\n  'task_solution': 'Subtract(Subtract(Multiply(x, y), x), y)',\n  'task_solution_weight': None}]"
     },
     "execution_count": 67,
     "metadata": {},
     "output_type": "execute_result"
    }
   ],
   "source": [
    "solutions"
   ],
   "metadata": {
    "collapsed": false,
    "ExecuteTime": {
     "end_time": "2024-04-18T11:25:46.274069Z",
     "start_time": "2024-04-18T11:25:46.241870Z"
    }
   }
  },
  {
   "cell_type": "code",
   "execution_count": 72,
   "outputs": [
    {
     "data": {
      "text/plain": "['Sort(fn_29(fn_6(-1), x))',\n 'Multiply(k, fn_6(IntDivide(x, k)))',\n 'fn_29(1, x)',\n 'Count((lambda u1: ((lambda v1: IsEven(((lambda v1: Min(v1, fn_6(1))))(v1))))(u1)), x)',\n 'Scanl1((lambda u1, u2: ((lambda v1: fn_6(v1)))(u1)), Map((lambda u1: fn_6(-1)), x))',\n 'Map((lambda u1: ((lambda v1: If(((lambda v1: Greater(v1, y)))(v1), 1, fn_6(-1))))(u1)), x)',\n 'fn_29(Add(-1, -1), x)']"
     },
     "execution_count": 72,
     "metadata": {},
     "output_type": "execute_result"
    }
   ],
   "source": [
    "programs = [ele[\"solution\"] for ele in solutions if \"fn\" in ele[\"solution\"]]\n",
    "programs"
   ],
   "metadata": {
    "collapsed": false,
    "ExecuteTime": {
     "end_time": "2024-04-18T11:37:20.669894Z",
     "start_time": "2024-04-18T11:37:20.641655Z"
    }
   }
  },
  {
   "cell_type": "code",
   "execution_count": 89,
   "outputs": [
    {
     "data": {
      "text/plain": "['Count((lambda u1: ((lambda v1: IsEven(((lambda v1: Min(v1, fn_6(1))))(v1))))(u1)), x)']"
     },
     "execution_count": 89,
     "metadata": {},
     "output_type": "execute_result"
    }
   ],
   "source": [
    "[ele[\"solution\"] for ele in solutions if \"fn_6(1)\" in ele[\"solution\"]]"
   ],
   "metadata": {
    "collapsed": false,
    "ExecuteTime": {
     "end_time": "2024-04-18T11:45:38.727822Z",
     "start_time": "2024-04-18T11:45:38.705454Z"
    }
   }
  },
  {
   "cell_type": "code",
   "execution_count": 74,
   "outputs": [],
   "source": [
    "categories = {}\n",
    "for result in solutions:\n",
    "    category = result['task'].split(\"name=\")[1].split(\":\")[0]\n",
    "    if category[1:] in categories.keys():\n",
    "        categories[category[1:]] += 1\n",
    "    else:\n",
    "        categories[category[1:]] = 1"
   ],
   "metadata": {
    "collapsed": false,
    "ExecuteTime": {
     "end_time": "2024-04-18T11:42:07.158763Z",
     "start_time": "2024-04-18T11:42:07.118589Z"
    }
   }
  },
  {
   "cell_type": "code",
   "execution_count": 75,
   "outputs": [
    {
     "data": {
      "text/plain": "{'filter': 4,\n 'map': 11,\n 'none': 8,\n 'zipwith': 1,\n 'scanl1': 1,\n 'count': 4,\n 'multi': 1}"
     },
     "execution_count": 75,
     "metadata": {},
     "output_type": "execute_result"
    }
   ],
   "source": [
    "categories"
   ],
   "metadata": {
    "collapsed": false,
    "ExecuteTime": {
     "end_time": "2024-04-18T11:42:07.857574Z",
     "start_time": "2024-04-18T11:42:07.798244Z"
    }
   }
  },
  {
   "cell_type": "code",
   "execution_count": 76,
   "outputs": [],
   "source": [
    "t = [ele[0][0] for ele in ckpt['frontiers'].values() if  \" 0\" in ele[0][0] or \" -1\" in ele[0][0] or \" 1\"]"
   ],
   "metadata": {
    "collapsed": false,
    "ExecuteTime": {
     "end_time": "2024-04-18T11:42:47.638088Z",
     "start_time": "2024-04-18T11:42:47.607713Z"
    }
   }
  },
  {
   "cell_type": "code",
   "execution_count": 77,
   "outputs": [],
   "source": [
    "sols = [ele[\"solution\"] for ele in solutions]\n",
    "res = [ele[0][0] for ele in ckpt[\"frontiers\"].values()]\n"
   ],
   "metadata": {
    "collapsed": false,
    "ExecuteTime": {
     "end_time": "2024-04-18T11:42:51.092578Z",
     "start_time": "2024-04-18T11:42:51.085347Z"
    }
   }
  },
  {
   "cell_type": "code",
   "execution_count": 78,
   "outputs": [],
   "source": [
    "solution_programs = [(ele[\"solution\"], ele[\"task_solution\"]) for ele in solutions]"
   ],
   "metadata": {
    "collapsed": false,
    "ExecuteTime": {
     "end_time": "2024-04-18T11:42:53.198557Z",
     "start_time": "2024-04-18T11:42:53.187666Z"
    }
   }
  },
  {
   "cell_type": "code",
   "execution_count": 79,
   "outputs": [],
   "source": [
    "s = [ele[\"task\"].split(\"solution=\")[1][1:-3] for ele in results[\"results\"]]"
   ],
   "metadata": {
    "collapsed": false,
    "ExecuteTime": {
     "end_time": "2024-04-18T11:42:54.054931Z",
     "start_time": "2024-04-18T11:42:54.038852Z"
    }
   }
  },
  {
   "cell_type": "code",
   "execution_count": 80,
   "outputs": [
    {
     "name": "stdout",
     "output_type": "stream",
     "text": [
      "Number of programs containing a constant value\n",
      "-1: 2\n",
      "0: 13\n",
      "1: 6\n",
      "2: 7\n",
      "3: 2\n",
      "4: 1\n"
     ]
    }
   ],
   "source": [
    "print(\"Number of programs containing a constant value\")\n",
    "for i in range(-1, 5):\n",
    "    filtered = [ele for ele in s if f\" {i}\" in ele]\n",
    "    print(f\"{i}: {len(filtered)}\")"
   ],
   "metadata": {
    "collapsed": false,
    "ExecuteTime": {
     "end_time": "2024-04-18T11:42:54.323893Z",
     "start_time": "2024-04-18T11:42:54.313940Z"
    }
   }
  },
  {
   "cell_type": "code",
   "execution_count": 64,
   "outputs": [
    {
     "name": "stdout",
     "output_type": "stream",
     "text": [
      "Average length of programs containing a constant value\n",
      "-1: 9.5\n",
      "0: 7.6923076923076925\n",
      "1: 6.333333333333333\n",
      "2: 6.857142857142857\n",
      "3: 7.0\n",
      "4: 6.0\n"
     ]
    }
   ],
   "source": [
    "print(\"Average length of programs containing a constant value\")\n",
    "for i in range(-1, 5):\n",
    "    filtered = [len(ele.split(\" \")) for ele in s if f\" {i}\" in ele]\n",
    "    print(f\"{i}: {np.mean(filtered)}\")"
   ],
   "metadata": {
    "collapsed": false,
    "ExecuteTime": {
     "end_time": "2024-04-17T16:24:13.552429Z",
     "start_time": "2024-04-17T16:24:13.449652Z"
    }
   }
  },
  {
   "cell_type": "code",
   "execution_count": 65,
   "outputs": [
    {
     "name": "stdout",
     "output_type": "stream",
     "text": [
      "-1: ['Filter((lambda u1: Greater(u1, -1)), ZipWith((lambda u1, u2: Subtract(u1, u2)), x, y))', 'Map((lambda u1: Multiply(If(Less(u1, 0), -1, 1), Square(u1))), x)']\n",
      "0: ['Scanl1((lambda u1, u2: If(Greater(Multiply(u1, u2), 0), Subtract(0, u2), u2)), x)', 'Sum(ZipWith((lambda u1, u2: Max(Subtract(u1, u2), 0)), Reverse(s), s))', 'Count((lambda u1: Less(u1, 0)), x)', 'Filter((lambda u1: IsOdd(Min(u1, 0))), x)', 'Add(Count((lambda u1: Equal(u1, 0)), x), Count((lambda u1: Equal(u1, 0)), y))', 'Count((lambda u1: IsEven(Min(u1, 0))), x)', 'Map((lambda u1: If(Less(u1, 0), y, u1)), x)', 'Scanl1((lambda u1, u2: Add(u1, 1)), Map((lambda u1: 0), x))', 'Take(Count((lambda u1: Greater(u1, 0)), r), Sort(c))', 'Map((lambda u1: If(Greater(u1, y), 1, 0)), x)', 'Map((lambda u1: Multiply(If(Less(u1, 0), -1, 1), Square(u1))), x)', 'Scanl1((lambda u1, u2: If(Equal(u2, 0), 0, Add(u1, u2))), x)', 'Count((lambda u1: Greater(u1, 0)), ZipWith((lambda u1, u2: Subtract(u1, u2)), a, b))']\n",
      "1: ['Sum(Map((lambda u1: 1), x))', 'Multiply(Add(IntDivide(x, k), 1), k)', 'Access(IntDivide(Sum(Map((lambda u1: 1), x)), 2), Sort(x))', 'Scanl1((lambda u1, u2: Add(u1, 1)), Map((lambda u1: 0), x))', 'Map((lambda u1: If(Greater(u1, y), 1, 0)), x)', 'Map((lambda u1: Multiply(If(Less(u1, 0), -1, 1), Square(u1))), x)']\n",
      "2: ['ZipWith((lambda u1, u2: IntDivide(Add(u1, u2), 2)), x, y)', 'Map((lambda u1: If(IsEven(u1), IntDivide(u1, 2), u1)), x)', 'Access(IntDivide(Sum(Map((lambda u1: 1), x)), 2), Sort(x))', 'Subtract(Minimum(ZipWith((lambda u1, u2: Add(u1, u2)), t, p)), 2)', 'Scanl1((lambda u1, u2: Add(IntDivide(u1, 2), u2)), x)', 'If(IsEven(x), IntDivide(x, 2), Add(1, Multiply(3, x)))', 'Map((lambda u1: Multiply(u1, Add(u1, 2))), x)']\n",
      "3: ['Map((lambda u1: Subtract(Multiply(u1, 3), 4)), x)', 'Maximum(ZipWith((lambda u1, u2: Add(Multiply(u1, 3), u2)), w, t))']\n",
      "4: ['Map((lambda u1: Subtract(Multiply(u1, 3), 4)), x)']\n"
     ]
    }
   ],
   "source": [
    "for i in range(-1, 5):\n",
    "    filtered = [ele for ele in s if f\" {i}\" in ele]\n",
    "    print(f\"{i}: {filtered}\")"
   ],
   "metadata": {
    "collapsed": false,
    "ExecuteTime": {
     "end_time": "2024-04-17T16:24:13.552634Z",
     "start_time": "2024-04-17T16:24:13.449795Z"
    }
   }
  },
  {
   "cell_type": "code",
   "execution_count": 65,
   "outputs": [],
   "source": [],
   "metadata": {
    "collapsed": false,
    "ExecuteTime": {
     "end_time": "2024-04-17T16:24:13.552876Z",
     "start_time": "2024-04-17T16:24:13.449893Z"
    }
   }
  }
 ],
 "metadata": {
  "kernelspec": {
   "display_name": "lambdaboom",
   "language": "python",
   "name": "python3"
  },
  "language_info": {
   "codemirror_mode": {
    "name": "ipython",
    "version": 3
   },
   "file_extension": ".py",
   "mimetype": "text/x-python",
   "name": "python",
   "nbconvert_exporter": "python",
   "pygments_lexer": "ipython3",
   "version": "3.11.5"
  }
 },
 "nbformat": 4,
 "nbformat_minor": 2
}
