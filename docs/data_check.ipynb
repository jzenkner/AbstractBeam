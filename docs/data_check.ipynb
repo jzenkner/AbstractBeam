{
 "cells": [
  {
   "cell_type": "code",
   "execution_count": 1,
   "metadata": {
    "ExecuteTime": {
     "end_time": "2024-05-08T05:58:00.624553Z",
     "start_time": "2024-05-08T05:57:54.994932Z"
    }
   },
   "outputs": [],
   "source": [
    "import torch\n",
    "import os\n",
    "import json\n",
    "import numpy as np\n",
    "import pickle\n",
    "\n",
    "from tensorboard.backend.event_processing.event_accumulator import EventAccumulator\n",
    "import matplotlib.pyplot as plt "
   ]
  },
  {
   "cell_type": "code",
   "execution_count": 3,
   "outputs": [],
   "source": [
    "parent_path = \"../neurips/\"\n",
    "run = '2'\n",
    "approach = \"abstractbeam\""
   ],
   "metadata": {
    "collapsed": false,
    "ExecuteTime": {
     "end_time": "2024-05-08T05:58:10.520559Z",
     "start_time": "2024-05-08T05:58:10.516817Z"
    }
   }
  },
  {
   "cell_type": "code",
   "execution_count": 4,
   "outputs": [],
   "source": [
    "with open(parent_path + f\"{approach}/models{run}/model-latest.ckpt\", \"rb\") as f:\n",
    "    ckpt = torch.load(f)  # , map_location=torch.device(\"mps\"))"
   ],
   "metadata": {
    "collapsed": false,
    "ExecuteTime": {
     "end_time": "2024-05-08T05:58:11.937712Z",
     "start_time": "2024-05-08T05:58:10.955847Z"
    }
   }
  },
  {
   "cell_type": "code",
   "execution_count": 5,
   "metadata": {
    "ExecuteTime": {
     "end_time": "2024-05-08T05:58:13.098910Z",
     "start_time": "2024-05-08T05:58:12.911937Z"
    }
   },
   "outputs": [],
   "source": [
    "inventions = ckpt[\"inventions\"]\n",
    "inv_dict = {}\n",
    "for inv in inventions:\n",
    "    inv_dict[inv] = inv.program"
   ]
  },
  {
   "cell_type": "code",
   "execution_count": 6,
   "outputs": [],
   "source": [
    "with open(parent_path + f\"{approach}/results{run}/run_1.json\", \"rb\") as json_file:\n",
    "    results = json.load(json_file)\n",
    "solutions = [ele for ele in results[\"results\"] if ele[\"success\"]]"
   ],
   "metadata": {
    "collapsed": false,
    "ExecuteTime": {
     "end_time": "2024-05-08T05:58:13.944396Z",
     "start_time": "2024-05-08T05:58:13.937505Z"
    }
   }
  },
  {
   "cell_type": "code",
   "execution_count": 7,
   "outputs": [
    {
     "name": "stdout",
     "output_type": "stream",
     "text": [
      "Found Add: Scanl1((lambda u1, u2: ((lambda v1, v2: Add(v2, v1)))(u1, u2)), Reverse(x))\n",
      "Found Subtract: Take(Subtract(j, i), Drop(i, x))\n",
      "Found Multiply: fn_1(fn_9(Multiply(-1, Last(x)), x, x))\n",
      "Not Found: IntDivide.\n",
      "Found Square: Map((lambda u1: ((lambda v1: Multiply(v1, ((lambda v1: Square(v1)))(v1))))(u1)), x)\n",
      "Found Min: Map((lambda u1: ((lambda v1: Max(a, ((lambda v1: Min(b, v1)))(v1))))(u1)), x)\n",
      "Found Max: Map((lambda u1: ((lambda v1: Max(a, ((lambda v1: Min(b, v1)))(v1))))(u1)), x)\n",
      "Found Greater: Sum(Filter((lambda u1: ((lambda v1: Greater(v1, -1)))(u1)), x))\n",
      "Found Less: Count((lambda u1: ((lambda v1: Less(v1, Head(x))))(u1)), x)\n",
      "Found Equal: Sort(Filter((lambda u1: ((lambda v1: Equal(v1, ((lambda v1: Access(v1, x)))(v1))))(u1)), x))\n",
      "Not Found: IsEven.\n",
      "Found IsOdd: Head(fn_0(Filter((lambda u1: ((lambda v1: IsOdd(v1)))(u1)), x)))\n",
      "Not Found: If.\n",
      "Found Head: Count((lambda u1: ((lambda v1: Less(v1, Head(x))))(u1)), x)\n",
      "Found Last: fn_1(fn_9(Multiply(-1, Last(x)), x, x))\n",
      "Found Take: Take(Multiply(n, -1), x)\n",
      "Found Drop: fn_0(Reverse(Drop(Multiply(n, -1), x)))\n",
      "Found Access: fn_9(Access(i, x), x, x)\n",
      "Found Minimum: fn_9(Minimum(x), x, x)\n",
      "Not Found: Maximum.\n",
      "Found Reverse: fn_0(Reverse(Drop(Multiply(n, -1), x)))\n",
      "Found Sort: fn_3(Sort(b), k)\n",
      "Found Sum: Sum(Filter((lambda u1: ((lambda v1: Greater(v1, -1)))(u1)), x))\n",
      "Found Map: Map((lambda u1: ((lambda v1: Max(a, ((lambda v1: Min(b, v1)))(v1))))(u1)), x)\n",
      "Found Filter: fn_0(Filter((lambda u1: ((lambda v1: Less(v1, -1)))(u1)), x))\n",
      "Found Count: Count((lambda u1: ((lambda v1: Less(v1, Head(x))))(u1)), x)\n",
      "Found ZipWith: ZipWith((lambda u1, u2: ((lambda v1, v2: Min(v1, v2)))(u1, u2)), a, Reverse(a))\n",
      "Found Scanl1: Scanl1((lambda u1, u2: ((lambda v1, v2: Add(v2, v1)))(u1, u2)), Reverse(x))\n",
      "Found fn_0=Reverse(Sort(x1)): fn_0(Filter((lambda u1: ((lambda v1: Less(v1, -1)))(u1)), x))\n",
      "Found fn_1=Take(-1, x1): fn_11(x, m)\n",
      "Found fn_3=Sum(Take(x2, x1)): fn_3(Sort(b), k)\n",
      "Found fn_9=ZipWith((lambda u1, v1: (Subtract(v1, x1))), x3, x2): fn_1(fn_9(Multiply(-1, Last(x)), x, x))\n",
      "Found fn_10=fn_9(Minimum(x1), x1, x1): Head(fn_10(fn_0(x)))\n",
      "Found fn_11=Sum(ZipWith((lambda u1, v1: (Multiply(v1, u1))), x2, x1)): fn_11(x, m)\n",
      "Not Found: fn_14=Scanl1((lambda u1, v1: (Add(v1, u1))), x1).\n"
     ]
    }
   ],
   "source": [
    "programs = [ele[\"solution\"] for ele in solutions]\n",
    "for op in ckpt['domain'].operations:\n",
    "    found = False\n",
    "    if \"fn_\" in str(op):\n",
    "        op_program = str(op) + f\"={inv_dict[op]}\"\n",
    "    else:\n",
    "        op_program = op\n",
    "    for p in programs:\n",
    "        if str(op) in p:\n",
    "            print(f\"Found {op_program}: {p}\")\n",
    "            found = True\n",
    "            break\n",
    "    if not found:\n",
    "        print(f\"Not Found: {op_program}.\")\n",
    "            "
   ],
   "metadata": {
    "collapsed": false,
    "ExecuteTime": {
     "end_time": "2024-05-08T05:58:16.032487Z",
     "start_time": "2024-05-08T05:58:15.983357Z"
    }
   }
  },
  {
   "cell_type": "code",
   "execution_count": null,
   "outputs": [],
   "source": [
    "[ele[\"solution\"] for ele in solutions] #  if \"fn\" in ele[\"solution\"] or \"0\" in ele[\"solution\"]]"
   ],
   "metadata": {
    "collapsed": false,
    "ExecuteTime": {
     "start_time": "2024-04-23T04:35:12.813002Z"
    }
   }
  },
  {
   "cell_type": "code",
   "execution_count": 14,
   "outputs": [],
   "source": [
    "categories = {}\n",
    "for result in solutions:\n",
    "    category = result['task'].split(\"name=\")[1].split(\":\")[0]\n",
    "    if category[1:] in categories.keys():\n",
    "        categories[category[1:]] += 1\n",
    "    else:\n",
    "        categories[category[1:]] = 1"
   ],
   "metadata": {
    "collapsed": false,
    "ExecuteTime": {
     "end_time": "2024-04-24T05:06:45.979686Z",
     "start_time": "2024-04-24T05:06:45.937336Z"
    }
   }
  },
  {
   "cell_type": "code",
   "execution_count": 15,
   "outputs": [
    {
     "data": {
      "text/plain": "{'count': 1,\n 'zipwith': 3,\n 'filter': 4,\n 'map': 8,\n 'none': 7,\n 'multi': 1,\n 'scanl1': 1}"
     },
     "execution_count": 15,
     "metadata": {},
     "output_type": "execute_result"
    }
   ],
   "source": [
    "categories"
   ],
   "metadata": {
    "collapsed": false,
    "ExecuteTime": {
     "end_time": "2024-04-24T05:06:48.641191Z",
     "start_time": "2024-04-24T05:06:48.553431Z"
    }
   }
  },
  {
   "cell_type": "code",
   "execution_count": null,
   "outputs": [],
   "source": [
    "t = [ele[0][0] for ele in ckpt['frontiers'].values() if  \" 0\" in ele[0][0] or \" -1\" in ele[0][0] or \" 1\"]"
   ],
   "metadata": {
    "collapsed": false,
    "ExecuteTime": {
     "end_time": "2024-04-23T04:35:12.843931Z",
     "start_time": "2024-04-23T04:35:12.835606Z"
    }
   }
  },
  {
   "cell_type": "code",
   "execution_count": null,
   "outputs": [],
   "source": [
    "sols = [ele[\"solution\"] for ele in solutions]\n",
    "res = [ele[0][0] for ele in ckpt[\"frontiers\"].values()]\n"
   ],
   "metadata": {
    "collapsed": false,
    "ExecuteTime": {
     "start_time": "2024-04-23T04:35:12.888790Z"
    }
   }
  },
  {
   "cell_type": "code",
   "execution_count": null,
   "outputs": [],
   "source": [
    "solution_programs = [(ele[\"solution\"], ele[\"task_solution\"]) for ele in solutions]"
   ],
   "metadata": {
    "collapsed": false,
    "ExecuteTime": {
     "start_time": "2024-04-23T04:35:12.888938Z"
    }
   }
  },
  {
   "cell_type": "code",
   "execution_count": null,
   "outputs": [],
   "source": [
    "s = [ele[\"task\"].split(\"solution=\")[1][1:-3] for ele in results[\"results\"]]"
   ],
   "metadata": {
    "collapsed": false,
    "ExecuteTime": {
     "start_time": "2024-04-23T04:35:12.888990Z"
    }
   }
  },
  {
   "cell_type": "code",
   "execution_count": null,
   "outputs": [],
   "source": [
    "print(\"Number of programs containing a constant value\")\n",
    "for i in range(-1, 5):\n",
    "    filtered = [ele for ele in s if f\" {i}\" in ele]\n",
    "    print(f\"{i}: {len(filtered)}\")"
   ],
   "metadata": {
    "collapsed": false,
    "ExecuteTime": {
     "start_time": "2024-04-23T04:35:12.889325Z"
    }
   }
  },
  {
   "cell_type": "code",
   "execution_count": null,
   "outputs": [],
   "source": [
    "print(\"Average length of programs containing a constant value\")\n",
    "for i in range(-1, 5):\n",
    "    filtered = [len(ele.split(\" \")) for ele in s if f\" {i}\" in ele]\n",
    "    print(f\"{i}: {np.mean(filtered)}\")"
   ],
   "metadata": {
    "collapsed": false,
    "ExecuteTime": {
     "start_time": "2024-04-23T04:35:12.889377Z"
    }
   }
  },
  {
   "cell_type": "code",
   "execution_count": null,
   "outputs": [],
   "source": [
    "for i in range(-1, 5):\n",
    "    filtered = [ele for ele in s if f\" {i}\" in ele]\n",
    "    print(f\"{i}: {filtered}\")"
   ],
   "metadata": {
    "collapsed": false,
    "ExecuteTime": {
     "start_time": "2024-04-23T04:35:12.889425Z"
    }
   }
  },
  {
   "cell_type": "code",
   "execution_count": null,
   "outputs": [],
   "source": [],
   "metadata": {
    "collapsed": false,
    "ExecuteTime": {
     "start_time": "2024-04-23T04:35:12.889955Z"
    }
   }
  }
 ],
 "metadata": {
  "kernelspec": {
   "display_name": "lambdaboom",
   "language": "python",
   "name": "python3"
  },
  "language_info": {
   "codemirror_mode": {
    "name": "ipython",
    "version": 3
   },
   "file_extension": ".py",
   "mimetype": "text/x-python",
   "name": "python",
   "nbconvert_exporter": "python",
   "pygments_lexer": "ipython3",
   "version": "3.11.5"
  }
 },
 "nbformat": 4,
 "nbformat_minor": 2
}
