{
 "cells": [
  {
   "cell_type": "code",
   "execution_count": 1,
   "metadata": {
    "ExecuteTime": {
     "end_time": "2024-04-30T11:20:20.065844Z",
     "start_time": "2024-04-30T11:20:00.464815Z"
    }
   },
   "outputs": [],
   "source": [
    "import torch\n",
    "import os\n",
    "import json\n",
    "import numpy as np\n",
    "import pickle\n",
    "\n",
    "from tensorboard.backend.event_processing.event_accumulator import EventAccumulator\n",
    "import matplotlib.pyplot as plt "
   ]
  },
  {
   "cell_type": "code",
   "execution_count": 2,
   "outputs": [],
   "source": [
    "parent_path = \"../neurips/\"\n",
    "run = ''\n",
    "approach = \"abstractbeam\""
   ],
   "metadata": {
    "collapsed": false,
    "ExecuteTime": {
     "end_time": "2024-04-30T11:20:35.065427Z",
     "start_time": "2024-04-30T11:20:35.021953Z"
    }
   }
  },
  {
   "cell_type": "code",
   "execution_count": 3,
   "outputs": [],
   "source": [
    "with open(parent_path + f\"{approach}/models{run}/model-latest.ckpt\", \"rb\") as f:\n",
    "    ckpt = torch.load(f)  # , map_location=torch.device(\"mps\"))"
   ],
   "metadata": {
    "collapsed": false,
    "ExecuteTime": {
     "end_time": "2024-04-30T11:20:37.778499Z",
     "start_time": "2024-04-30T11:20:36.170293Z"
    }
   }
  },
  {
   "cell_type": "code",
   "execution_count": 4,
   "metadata": {
    "ExecuteTime": {
     "end_time": "2024-04-30T11:21:56.196649Z",
     "start_time": "2024-04-30T11:21:56.029990Z"
    }
   },
   "outputs": [],
   "source": [
    "inventions = ckpt[\"inventions\"]\n",
    "inv_dict = {}\n",
    "for inv in inventions:\n",
    "    inv_dict[inv] = inv.program"
   ]
  },
  {
   "cell_type": "code",
   "execution_count": 5,
   "outputs": [],
   "source": [
    "with open(parent_path + f\"{approach}/results{run}/run_1.json\", \"rb\") as json_file:\n",
    "    results = json.load(json_file)\n",
    "solutions = [ele for ele in results[\"results\"] if ele[\"success\"]]"
   ],
   "metadata": {
    "collapsed": false,
    "ExecuteTime": {
     "end_time": "2024-04-30T11:21:57.956121Z",
     "start_time": "2024-04-30T11:21:57.915257Z"
    }
   }
  },
  {
   "cell_type": "code",
   "execution_count": 8,
   "outputs": [
    {
     "name": "stdout",
     "output_type": "stream",
     "text": [
      "Found Add: Multiply(k, Add(1, IntDivide(x, k)))\n",
      "Found Subtract: Map((lambda u1: ((lambda v1: fn_3(((lambda v1: Square(((lambda v1: Subtract(v1, -1)))(v1))))(v1))))(u1)), x)\n",
      "Found Multiply: Multiply(k, Add(1, IntDivide(x, k)))\n",
      "Found IntDivide: Multiply(k, Add(1, IntDivide(x, k)))\n",
      "Found Square: Sort(Map((lambda u1: ((lambda v1: Square(v1)))(u1)), x))\n",
      "Found Min: Filter((lambda u1: ((lambda v1: IsOdd(((lambda v1: Min(0, v1)))(v1))))(u1)), x)\n",
      "Found Max: Maximum(ZipWith((lambda u1, u2: ((lambda v1: Access(v1, x)))(u1)), i, x))\n",
      "Found Greater: Take(Count((lambda u1: ((lambda v1: Greater(v1, 0)))(u1)), r), Sort(c))\n",
      "Found Less: Map((lambda u1: ((lambda v1: If(((lambda v1: Less(y, v1)))(v1), 1, 0)))(u1)), x)\n",
      "Not Found: Equal.\n",
      "Found IsEven: Filter((lambda u1: ((lambda v1: IsEven(v1)))(u1)), Sort(x))\n",
      "Found IsOdd: Filter((lambda u1: ((lambda v1: IsOdd(((lambda v1: Min(0, v1)))(v1))))(u1)), x)\n",
      "Found If: Map((lambda u1: ((lambda v1: If(((lambda v1: Less(y, v1)))(v1), 1, 0)))(u1)), x)\n",
      "Not Found: Head.\n",
      "Not Found: Last.\n",
      "Found Take: Drop(1, Take(-1, x))\n",
      "Found Drop: Reverse(Drop(Multiply(k, -1), Sort(x)))\n",
      "Found Access: fn_5(Access(i, x), x)\n",
      "Not Found: Minimum.\n",
      "Found Maximum: Maximum(ZipWith((lambda u1, u2: ((lambda v1: Access(v1, x)))(u1)), i, x))\n",
      "Found Reverse: Reverse(Drop(Multiply(k, -1), Sort(x)))\n",
      "Found Sort: Sort(Map((lambda u1: ((lambda v1: Square(v1)))(u1)), x))\n",
      "Not Found: Sum.\n",
      "Found Map: Sort(Map((lambda u1: ((lambda v1: Square(v1)))(u1)), x))\n",
      "Found Filter: Filter((lambda u1: ((lambda v1: IsOdd(((lambda v1: Min(0, v1)))(v1))))(u1)), x)\n",
      "Found Count: Take(Count((lambda u1: ((lambda v1: Greater(v1, 0)))(u1)), r), Sort(c))\n",
      "Found ZipWith: Sort(ZipWith((lambda u1, u2: ((lambda v1, v2: IntDivide(v1, v2)))(u1, u2)), m, n))\n",
      "Found Scanl1: Scanl1((lambda u1, u2: ((lambda v1: Add(v1, 1)))(u1)), Map((lambda u1: 0), x))\n",
      "Found fn_0=Count((lambda v1: Less(v1, x1)), x2): fn_0(0, x)\n",
      "Not Found: fn_1=x1(Min(Add(1, 1), x2)).\n",
      "Found fn_3=Add(-1, x1): Map((lambda u1: ((lambda v1: fn_3(((lambda v1: Square(((lambda v1: Subtract(v1, -1)))(v1))))(v1))))(u1)), x)\n",
      "Found fn_5=Count((lambda v1: Equal(v1, x1)), x2): fn_5(Access(i, x), x)\n",
      "Not Found: fn_6=x1(Min(fn_3(1), x2)).\n",
      "Not Found: fn_8=x1(Min(0, x2)).\n"
     ]
    }
   ],
   "source": [
    "programs = [ele[\"solution\"] for ele in solutions]\n",
    "for op in ckpt['domain'].operations:\n",
    "    found = False\n",
    "    if \"fn_\" in str(op):\n",
    "        op_program = str(op) + f\"={inv_dict[op]}\"\n",
    "    else:\n",
    "        op_program = op\n",
    "    for p in programs:\n",
    "        if str(op) in p:\n",
    "            print(f\"Found {op_program}: {p}\")\n",
    "            found = True\n",
    "            break\n",
    "    if not found:\n",
    "        print(f\"Not Found: {op_program}.\")\n",
    "            "
   ],
   "metadata": {
    "collapsed": false,
    "ExecuteTime": {
     "end_time": "2024-04-30T11:23:52.914751Z",
     "start_time": "2024-04-30T11:23:52.811883Z"
    }
   }
  },
  {
   "cell_type": "code",
   "execution_count": null,
   "outputs": [],
   "source": [
    "[ele[\"solution\"] for ele in solutions] #  if \"fn\" in ele[\"solution\"] or \"0\" in ele[\"solution\"]]"
   ],
   "metadata": {
    "collapsed": false,
    "ExecuteTime": {
     "start_time": "2024-04-23T04:35:12.813002Z"
    }
   }
  },
  {
   "cell_type": "code",
   "execution_count": 14,
   "outputs": [],
   "source": [
    "categories = {}\n",
    "for result in solutions:\n",
    "    category = result['task'].split(\"name=\")[1].split(\":\")[0]\n",
    "    if category[1:] in categories.keys():\n",
    "        categories[category[1:]] += 1\n",
    "    else:\n",
    "        categories[category[1:]] = 1"
   ],
   "metadata": {
    "collapsed": false,
    "ExecuteTime": {
     "end_time": "2024-04-24T05:06:45.979686Z",
     "start_time": "2024-04-24T05:06:45.937336Z"
    }
   }
  },
  {
   "cell_type": "code",
   "execution_count": 15,
   "outputs": [
    {
     "data": {
      "text/plain": "{'count': 1,\n 'zipwith': 3,\n 'filter': 4,\n 'map': 8,\n 'none': 7,\n 'multi': 1,\n 'scanl1': 1}"
     },
     "execution_count": 15,
     "metadata": {},
     "output_type": "execute_result"
    }
   ],
   "source": [
    "categories"
   ],
   "metadata": {
    "collapsed": false,
    "ExecuteTime": {
     "end_time": "2024-04-24T05:06:48.641191Z",
     "start_time": "2024-04-24T05:06:48.553431Z"
    }
   }
  },
  {
   "cell_type": "code",
   "execution_count": null,
   "outputs": [],
   "source": [
    "t = [ele[0][0] for ele in ckpt['frontiers'].values() if  \" 0\" in ele[0][0] or \" -1\" in ele[0][0] or \" 1\"]"
   ],
   "metadata": {
    "collapsed": false,
    "ExecuteTime": {
     "end_time": "2024-04-23T04:35:12.843931Z",
     "start_time": "2024-04-23T04:35:12.835606Z"
    }
   }
  },
  {
   "cell_type": "code",
   "execution_count": null,
   "outputs": [],
   "source": [
    "sols = [ele[\"solution\"] for ele in solutions]\n",
    "res = [ele[0][0] for ele in ckpt[\"frontiers\"].values()]\n"
   ],
   "metadata": {
    "collapsed": false,
    "ExecuteTime": {
     "start_time": "2024-04-23T04:35:12.888790Z"
    }
   }
  },
  {
   "cell_type": "code",
   "execution_count": null,
   "outputs": [],
   "source": [
    "solution_programs = [(ele[\"solution\"], ele[\"task_solution\"]) for ele in solutions]"
   ],
   "metadata": {
    "collapsed": false,
    "ExecuteTime": {
     "start_time": "2024-04-23T04:35:12.888938Z"
    }
   }
  },
  {
   "cell_type": "code",
   "execution_count": null,
   "outputs": [],
   "source": [
    "s = [ele[\"task\"].split(\"solution=\")[1][1:-3] for ele in results[\"results\"]]"
   ],
   "metadata": {
    "collapsed": false,
    "ExecuteTime": {
     "start_time": "2024-04-23T04:35:12.888990Z"
    }
   }
  },
  {
   "cell_type": "code",
   "execution_count": null,
   "outputs": [],
   "source": [
    "print(\"Number of programs containing a constant value\")\n",
    "for i in range(-1, 5):\n",
    "    filtered = [ele for ele in s if f\" {i}\" in ele]\n",
    "    print(f\"{i}: {len(filtered)}\")"
   ],
   "metadata": {
    "collapsed": false,
    "ExecuteTime": {
     "start_time": "2024-04-23T04:35:12.889325Z"
    }
   }
  },
  {
   "cell_type": "code",
   "execution_count": null,
   "outputs": [],
   "source": [
    "print(\"Average length of programs containing a constant value\")\n",
    "for i in range(-1, 5):\n",
    "    filtered = [len(ele.split(\" \")) for ele in s if f\" {i}\" in ele]\n",
    "    print(f\"{i}: {np.mean(filtered)}\")"
   ],
   "metadata": {
    "collapsed": false,
    "ExecuteTime": {
     "start_time": "2024-04-23T04:35:12.889377Z"
    }
   }
  },
  {
   "cell_type": "code",
   "execution_count": null,
   "outputs": [],
   "source": [
    "for i in range(-1, 5):\n",
    "    filtered = [ele for ele in s if f\" {i}\" in ele]\n",
    "    print(f\"{i}: {filtered}\")"
   ],
   "metadata": {
    "collapsed": false,
    "ExecuteTime": {
     "start_time": "2024-04-23T04:35:12.889425Z"
    }
   }
  },
  {
   "cell_type": "code",
   "execution_count": null,
   "outputs": [],
   "source": [],
   "metadata": {
    "collapsed": false,
    "ExecuteTime": {
     "start_time": "2024-04-23T04:35:12.889955Z"
    }
   }
  }
 ],
 "metadata": {
  "kernelspec": {
   "display_name": "lambdaboom",
   "language": "python",
   "name": "python3"
  },
  "language_info": {
   "codemirror_mode": {
    "name": "ipython",
    "version": 3
   },
   "file_extension": ".py",
   "mimetype": "text/x-python",
   "name": "python",
   "nbconvert_exporter": "python",
   "pygments_lexer": "ipython3",
   "version": "3.11.5"
  }
 },
 "nbformat": 4,
 "nbformat_minor": 2
}
