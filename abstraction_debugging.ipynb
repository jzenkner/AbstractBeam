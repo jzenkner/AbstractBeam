{
 "cells": [
  {
   "cell_type": "code",
   "execution_count": 33,
   "id": "initial_id",
   "metadata": {
    "collapsed": true,
    "ExecuteTime": {
     "end_time": "2024-04-01T08:08:59.258203Z",
     "start_time": "2024-04-01T08:08:59.239094Z"
    }
   },
   "outputs": [],
   "source": [
    "from crossbeam.abstraction.dreamcoder2lambdabeam import parse_abstraction\n",
    "from crossbeam.abstraction.lambdabeam2dreamcoder import convert\n",
    "from crossbeam.abstraction.utils import get_lambdabeam_function_dict\n",
    "from crossbeam.dsl.deepcoder_operations import Add"
   ]
  },
  {
   "cell_type": "code",
   "execution_count": 31,
   "outputs": [],
   "source": [
    "base_func_dic = get_lambdabeam_function_dict()"
   ],
   "metadata": {
    "collapsed": false,
    "ExecuteTime": {
     "end_time": "2024-04-01T08:08:34.175141Z",
     "start_time": "2024-04-01T08:08:34.162038Z"
    }
   },
   "id": "1ece85bcb2e8e99b"
  },
  {
   "cell_type": "code",
   "execution_count": 37,
   "outputs": [],
   "source": [
    "program_lb = \"Add(x, 1)\"\n",
    "program_dc = convert(program_lb, base_func_dic, {\"Map\": [1,0], \"Fold\": [2,0,0]})"
   ],
   "metadata": {
    "collapsed": false,
    "ExecuteTime": {
     "end_time": "2024-04-01T08:10:27.047424Z",
     "start_time": "2024-04-01T08:10:27.039032Z"
    }
   },
   "id": "64c88c48904829fa"
  },
  {
   "cell_type": "code",
   "execution_count": 38,
   "outputs": [
    {
     "name": "stdout",
     "output_type": "stream",
     "text": [
      "Unexpected exception formatting exception. Falling back to standard exception\n"
     ]
    },
    {
     "name": "stderr",
     "output_type": "stream",
     "text": [
      "Traceback (most recent call last):\n",
      "  File \"/home/jzenkner/miniconda3/envs/abstractbeam/lib/python3.8/site-packages/IPython/core/interactiveshell.py\", line 3508, in run_code\n",
      "    exec(code_obj, self.user_global_ns, self.user_ns)\n",
      "  File \"/tmp/ipykernel_3375295/2551002348.py\", line 1, in <module>\n",
      "    parse_abstraction(program_dc, base_func_dic, higher_order_functions = {\"Map\": [1,0], \"Fold\": [2,0,0]})\n",
      "  File \"/ceph/jzenkner/Code/AbstractBeam/crossbeam/abstraction/dreamcoder2lambdabeam.py\", line 362, in parse_abstraction\n",
      "  File \"/ceph/jzenkner/Code/AbstractBeam/crossbeam/abstraction/dreamcoder2lambdabeam.py\", line 225, in check_variable_ordering\n",
      "    max_var = max([int(var[1]) for var in variabeles])\n",
      "ValueError: max() arg is an empty sequence\n",
      "\n",
      "During handling of the above exception, another exception occurred:\n",
      "\n",
      "Traceback (most recent call last):\n",
      "  File \"/home/jzenkner/miniconda3/envs/abstractbeam/lib/python3.8/site-packages/IPython/core/interactiveshell.py\", line 2105, in showtraceback\n",
      "    stb = self.InteractiveTB.structured_traceback(\n",
      "  File \"/home/jzenkner/miniconda3/envs/abstractbeam/lib/python3.8/site-packages/IPython/core/ultratb.py\", line 1396, in structured_traceback\n",
      "    return FormattedTB.structured_traceback(\n",
      "  File \"/home/jzenkner/miniconda3/envs/abstractbeam/lib/python3.8/site-packages/IPython/core/ultratb.py\", line 1287, in structured_traceback\n",
      "    return VerboseTB.structured_traceback(\n",
      "  File \"/home/jzenkner/miniconda3/envs/abstractbeam/lib/python3.8/site-packages/IPython/core/ultratb.py\", line 1140, in structured_traceback\n",
      "    formatted_exception = self.format_exception_as_a_whole(etype, evalue, etb, number_of_lines_of_context,\n",
      "  File \"/home/jzenkner/miniconda3/envs/abstractbeam/lib/python3.8/site-packages/IPython/core/ultratb.py\", line 1055, in format_exception_as_a_whole\n",
      "    frames.append(self.format_record(record))\n",
      "  File \"/home/jzenkner/miniconda3/envs/abstractbeam/lib/python3.8/site-packages/IPython/core/ultratb.py\", line 955, in format_record\n",
      "    frame_info.lines, Colors, self.has_colors, lvals\n",
      "  File \"/home/jzenkner/miniconda3/envs/abstractbeam/lib/python3.8/site-packages/IPython/core/ultratb.py\", line 778, in lines\n",
      "    return self._sd.lines\n",
      "  File \"/home/jzenkner/miniconda3/envs/abstractbeam/lib/python3.8/site-packages/stack_data/utils.py\", line 145, in cached_property_wrapper\n",
      "    value = obj.__dict__[self.func.__name__] = self.func(obj)\n",
      "  File \"/home/jzenkner/miniconda3/envs/abstractbeam/lib/python3.8/site-packages/stack_data/core.py\", line 734, in lines\n",
      "    pieces = self.included_pieces\n",
      "  File \"/home/jzenkner/miniconda3/envs/abstractbeam/lib/python3.8/site-packages/stack_data/utils.py\", line 145, in cached_property_wrapper\n",
      "    value = obj.__dict__[self.func.__name__] = self.func(obj)\n",
      "  File \"/home/jzenkner/miniconda3/envs/abstractbeam/lib/python3.8/site-packages/stack_data/core.py\", line 681, in included_pieces\n",
      "    pos = scope_pieces.index(self.executing_piece)\n",
      "  File \"/home/jzenkner/miniconda3/envs/abstractbeam/lib/python3.8/site-packages/stack_data/utils.py\", line 145, in cached_property_wrapper\n",
      "    value = obj.__dict__[self.func.__name__] = self.func(obj)\n",
      "  File \"/home/jzenkner/miniconda3/envs/abstractbeam/lib/python3.8/site-packages/stack_data/core.py\", line 660, in executing_piece\n",
      "    return only(\n",
      "  File \"/home/jzenkner/miniconda3/envs/abstractbeam/lib/python3.8/site-packages/executing/executing.py\", line 116, in only\n",
      "    raise NotOneValueFound('Expected one value, found 0')\n",
      "executing.executing.NotOneValueFound: Expected one value, found 0\n"
     ]
    }
   ],
   "source": [
    "parse_abstraction(program_dc, base_func_dic, higher_order_functions = {\"Map\": [1,0], \"Fold\": [2,0,0]})"
   ],
   "metadata": {
    "collapsed": false,
    "ExecuteTime": {
     "end_time": "2024-04-01T08:10:28.238598Z",
     "start_time": "2024-04-01T08:10:28.203892Z"
    }
   },
   "id": "28fd5d20b9718d89"
  },
  {
   "cell_type": "code",
   "execution_count": 27,
   "outputs": [],
   "source": [],
   "metadata": {
    "collapsed": false,
    "ExecuteTime": {
     "end_time": "2024-04-01T08:06:52.160407Z",
     "start_time": "2024-04-01T08:06:51.806308Z"
    }
   },
   "id": "fc680d63e882c353"
  },
  {
   "cell_type": "code",
   "execution_count": null,
   "outputs": [],
   "source": [],
   "metadata": {
    "collapsed": false
   },
   "id": "5d96ab3327ad0917"
  }
 ],
 "metadata": {
  "kernelspec": {
   "display_name": "Python 3",
   "language": "python",
   "name": "python3"
  },
  "language_info": {
   "codemirror_mode": {
    "name": "ipython",
    "version": 2
   },
   "file_extension": ".py",
   "mimetype": "text/x-python",
   "name": "python",
   "nbconvert_exporter": "python",
   "pygments_lexer": "ipython2",
   "version": "2.7.6"
  }
 },
 "nbformat": 4,
 "nbformat_minor": 5
}
